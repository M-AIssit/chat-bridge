{
 "cells": [
  {
   "cell_type": "code",
   "execution_count": 2,
   "id": "8150f124",
   "metadata": {},
   "outputs": [
    {
     "ename": "NameError",
     "evalue": "name '__file__' is not defined",
     "output_type": "error",
     "traceback": [
      "\u001b[0;31m---------------------------------------------------------------------------\u001b[0m",
      "\u001b[0;31mNameError\u001b[0m                                 Traceback (most recent call last)",
      "Cell \u001b[0;32mIn[2], line 5\u001b[0m\n\u001b[1;32m      3\u001b[0m \u001b[38;5;28;01mimport\u001b[39;00m \u001b[38;5;21;01msys\u001b[39;00m\n\u001b[1;32m      4\u001b[0m \u001b[38;5;28;01mimport\u001b[39;00m \u001b[38;5;21;01mos\u001b[39;00m\n\u001b[0;32m----> 5\u001b[0m sys\u001b[38;5;241m.\u001b[39mpath\u001b[38;5;241m.\u001b[39mappend(os\u001b[38;5;241m.\u001b[39mpath\u001b[38;5;241m.\u001b[39mabspath(os\u001b[38;5;241m.\u001b[39mpath\u001b[38;5;241m.\u001b[39mjoin(os\u001b[38;5;241m.\u001b[39mpath\u001b[38;5;241m.\u001b[39mdirname(\u001b[38;5;18;43m__file__\u001b[39;49m), \u001b[38;5;124m'\u001b[39m\u001b[38;5;124m../\u001b[39m\u001b[38;5;124m'\u001b[39m)))\n\u001b[1;32m      6\u001b[0m \u001b[38;5;28;01mfrom\u001b[39;00m \u001b[38;5;21;01mmodules\u001b[39;00m\u001b[38;5;21;01m.\u001b[39;00m\u001b[38;5;21;01mtranslation\u001b[39;00m\u001b[38;5;21;01m.\u001b[39;00m\u001b[38;5;21;01mapi\u001b[39;00m \u001b[38;5;28;01mimport\u001b[39;00m translate_text, translate_text_gemini\n\u001b[1;32m      8\u001b[0m \u001b[38;5;28;01mdef\u001b[39;00m \u001b[38;5;21mmeasure_translation_times\u001b[39m(text, source_lang, target_lang, source_lang_code, target_lang_code):\n\u001b[1;32m      9\u001b[0m     \u001b[38;5;66;03m# Medir tiempo para Hugging Face\u001b[39;00m\n",
      "\u001b[0;31mNameError\u001b[0m: name '__file__' is not defined"
     ]
    }
   ],
   "source": [
    "import time\n",
    "import json\n",
    "import sys\n",
    "import os\n",
    "\n",
    "sys.path.append(os.path.abspath(os.path.join(os.path.dirname(__file__), '../')))\n",
    "\n",
    "from ..modules.translation.api import translate_text, translate_text_gemini\n",
    "\n",
    "def measure_translation_times(text, source_lang, target_lang, source_lang_code, target_lang_code):\n",
    "    # Medir tiempo para Hugging Face\n",
    "    start_time_hf = time.time()\n",
    "    hf_translation = translate_text(text, source_lang, target_lang, source_lang_code, target_lang_code)\n",
    "    end_time_hf = time.time()\n",
    "    hf_duration = end_time_hf - start_time_hf\n",
    "\n",
    "    # Medir tiempo para Gemini\n",
    "    start_time_gemini = time.time()\n",
    "    gemini_translation = translate_text_gemini(text, source_lang, target_lang)\n",
    "    end_time_gemini = time.time()\n",
    "    gemini_duration = end_time_gemini - start_time_gemini\n",
    "\n",
    "    hf_result = json.loads(hf_translation)\n",
    "    gemini_result = json.loads(gemini_translation)\n",
    "\n",
    "    return hf_duration, gemini_duration, hf_result, gemini_result"
   ]
  },
  {
   "cell_type": "code",
   "execution_count": null,
   "id": "6015b233",
   "metadata": {},
   "outputs": [],
   "source": []
  }
 ],
 "metadata": {
  "kernelspec": {
   "display_name": "Python 3 (ipykernel)",
   "language": "python",
   "name": "python3"
  },
  "language_info": {
   "codemirror_mode": {
    "name": "ipython",
    "version": 3
   },
   "file_extension": ".py",
   "mimetype": "text/x-python",
   "name": "python",
   "nbconvert_exporter": "python",
   "pygments_lexer": "ipython3",
   "version": "3.11.3"
  }
 },
 "nbformat": 4,
 "nbformat_minor": 5
}
