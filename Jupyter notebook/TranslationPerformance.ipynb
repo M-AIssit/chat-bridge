{
 "cells": [
  {
   "cell_type": "code",
   "execution_count": 38,
   "id": "8150f124",
   "metadata": {},
   "outputs": [],
   "source": [
    "import sys\n",
    "import os\n",
    "import time\n",
    "import pandas as pd\n",
    "from datetime import datetime\n",
    "import json\n",
    "\n",
    "# Use the current working directory instead of __file__ for Jupyter notebooks\n",
    "notebook_dir = os.getcwd()\n",
    "sys.path.append(os.path.abspath(os.path.join(notebook_dir, '../')))\n",
    "\n",
    "# Now you can import your functions\n",
    "from modules.translation.api import translate_text, translate_text_gemini"
   ]
  },
  {
   "cell_type": "code",
   "execution_count": 39,
   "id": "6015b233",
   "metadata": {},
   "outputs": [],
   "source": [
    "# Define the languages and ISO codes you want to test\n",
    "languages = [\n",
    "    ('English', 'en'),\n",
    "    ('Spanish', 'es'),\n",
    "    ('Chinese', 'zh'),\n",
    "    ('Arabic', 'ar'),\n",
    "    ('Russian', 'ru'),\n",
    "    ('German', 'de'),\n",
    "    ('French', 'fr')\n",
    "]\n",
    "\n",
    "# Define different types of text to test\n",
    "text_samples = {\n",
    "    'word': 'Hello',  # A single word\n",
    "    'sentence': 'This is a test sentence.',  # A simple sentence\n",
    "    'paragraph': 'This is a test paragraph with multiple sentences. It should help us understand how translation times vary with text length.'  # A paragraph\n",
    "}"
   ]
  },
  {
   "cell_type": "code",
   "execution_count": 57,
   "id": "ca5dfefd",
   "metadata": {},
   "outputs": [],
   "source": [
    "def extract_gemini_output(gemini_translation):\n",
    "    try:\n",
    "        gemini_json = json.loads(gemini_translation)\n",
    "        return gemini_json.get('output', '')\n",
    "    except json.JSONDecodeError:\n",
    "        return ''"
   ]
  },
  {
   "cell_type": "code",
   "execution_count": 58,
   "id": "cd8b4738",
   "metadata": {},
   "outputs": [],
   "source": [
    "def measure_translation_times(text, source_lang, target_lang, source_lang_code, target_lang_code):\n",
    "    # Measure time and capture translation for Hugging Face\n",
    "    start_time = time.time()\n",
    "    hf_translation = translate_text(text, source_lang, target_lang, source_lang_code, target_lang_code)\n",
    "    hf_time = time.time() - start_time\n",
    "    \n",
    "    hf_translated_text = json.loads(hf_translation).get('translated_text', '')\n",
    "\n",
    "    # Measure time and capture translation for Gemini\n",
    "    start_time = time.time()\n",
    "    gemini_translation = translate_text_gemini(text, source_lang, target_lang)\n",
    "    gemini_time = time.time() - start_time\n",
    "    \n",
    "    gemini_translated_text = extract_gemini_output(gemini_translation)\n",
    "\n",
    "    return hf_time, gemini_time, hf_translated_text, gemini_translated_text"
   ]
  },
  {
   "cell_type": "code",
   "execution_count": 59,
   "id": "47859d2c",
   "metadata": {},
   "outputs": [
    {
     "name": "stdout",
     "output_type": "stream",
     "text": [
      "Using Hugging Face for translation.\n",
      "Using Hugging Face for translation.\n",
      "Using Hugging Face for translation.\n",
      "Using Hugging Face for translation.\n",
      "Using Hugging Face for translation.\n",
      "Using Hugging Face for translation.\n",
      "Using Hugging Face for translation.\n",
      "Using Hugging Face for translation.\n",
      "Using Hugging Face for translation.\n",
      "Using Hugging Face for translation.\n",
      "Using Hugging Face for translation.\n",
      "Using Hugging Face for translation.\n",
      "Using Hugging Face for translation.\n",
      "Using Hugging Face for translation.\n",
      "Using Hugging Face for translation.\n",
      "Using Hugging Face for translation.\n",
      "Using Hugging Face for translation.\n",
      "Using Hugging Face for translation.\n",
      "Using Hugging Face for translation.\n",
      "Using Hugging Face for translation.\n",
      "Using Hugging Face for translation.\n",
      "Failed to load model Helsinki-NLP/opus-mt-es-zh: Helsinki-NLP/opus-mt-es-zh is not a local folder and is not a valid model identifier listed on 'https://huggingface.co/models'\n",
      "If this is a private repository, make sure to pass a token having permission to this repo either by logging in with `huggingface-cli login` or by passing `token=<your_token>`\n",
      "Falling back to Gemini API for translation.\n",
      "Using Gemini API for translation.\n",
      "Failed to load model Helsinki-NLP/opus-mt-es-zh: Helsinki-NLP/opus-mt-es-zh is not a local folder and is not a valid model identifier listed on 'https://huggingface.co/models'\n",
      "If this is a private repository, make sure to pass a token having permission to this repo either by logging in with `huggingface-cli login` or by passing `token=<your_token>`\n",
      "Falling back to Gemini API for translation.\n",
      "Using Gemini API for translation.\n",
      "Failed to load model Helsinki-NLP/opus-mt-es-zh: Helsinki-NLP/opus-mt-es-zh is not a local folder and is not a valid model identifier listed on 'https://huggingface.co/models'\n",
      "If this is a private repository, make sure to pass a token having permission to this repo either by logging in with `huggingface-cli login` or by passing `token=<your_token>`\n",
      "Falling back to Gemini API for translation.\n",
      "Using Gemini API for translation.\n",
      "Using Hugging Face for translation.\n",
      "Using Hugging Face for translation.\n",
      "Using Hugging Face for translation.\n",
      "Using Hugging Face for translation.\n",
      "Using Hugging Face for translation.\n",
      "Using Hugging Face for translation.\n",
      "Using Hugging Face for translation.\n",
      "Using Hugging Face for translation.\n",
      "Using Hugging Face for translation.\n",
      "Using Hugging Face for translation.\n",
      "Using Hugging Face for translation.\n",
      "Using Hugging Face for translation.\n",
      "Using Hugging Face for translation.\n",
      "Using Hugging Face for translation.\n",
      "Using Hugging Face for translation.\n",
      "Failed to load model Helsinki-NLP/opus-mt-zh-es: Helsinki-NLP/opus-mt-zh-es is not a local folder and is not a valid model identifier listed on 'https://huggingface.co/models'\n",
      "If this is a private repository, make sure to pass a token having permission to this repo either by logging in with `huggingface-cli login` or by passing `token=<your_token>`\n",
      "Falling back to Gemini API for translation.\n",
      "Using Gemini API for translation.\n",
      "Failed to load model Helsinki-NLP/opus-mt-zh-es: Helsinki-NLP/opus-mt-zh-es is not a local folder and is not a valid model identifier listed on 'https://huggingface.co/models'\n",
      "If this is a private repository, make sure to pass a token having permission to this repo either by logging in with `huggingface-cli login` or by passing `token=<your_token>`\n",
      "Falling back to Gemini API for translation.\n",
      "Using Gemini API for translation.\n",
      "Failed to load model Helsinki-NLP/opus-mt-zh-es: Helsinki-NLP/opus-mt-zh-es is not a local folder and is not a valid model identifier listed on 'https://huggingface.co/models'\n",
      "If this is a private repository, make sure to pass a token having permission to this repo either by logging in with `huggingface-cli login` or by passing `token=<your_token>`\n",
      "Falling back to Gemini API for translation.\n",
      "Using Gemini API for translation.\n",
      "Failed to load model Helsinki-NLP/opus-mt-zh-ar: Helsinki-NLP/opus-mt-zh-ar is not a local folder and is not a valid model identifier listed on 'https://huggingface.co/models'\n",
      "If this is a private repository, make sure to pass a token having permission to this repo either by logging in with `huggingface-cli login` or by passing `token=<your_token>`\n",
      "Falling back to Gemini API for translation.\n",
      "Using Gemini API for translation.\n",
      "Failed to load model Helsinki-NLP/opus-mt-zh-ar: Helsinki-NLP/opus-mt-zh-ar is not a local folder and is not a valid model identifier listed on 'https://huggingface.co/models'\n",
      "If this is a private repository, make sure to pass a token having permission to this repo either by logging in with `huggingface-cli login` or by passing `token=<your_token>`\n",
      "Falling back to Gemini API for translation.\n",
      "Using Gemini API for translation.\n",
      "Failed to load model Helsinki-NLP/opus-mt-zh-ar: Helsinki-NLP/opus-mt-zh-ar is not a local folder and is not a valid model identifier listed on 'https://huggingface.co/models'\n",
      "If this is a private repository, make sure to pass a token having permission to this repo either by logging in with `huggingface-cli login` or by passing `token=<your_token>`\n",
      "Falling back to Gemini API for translation.\n",
      "Using Gemini API for translation.\n",
      "Failed to load model Helsinki-NLP/opus-mt-zh-ru: Helsinki-NLP/opus-mt-zh-ru is not a local folder and is not a valid model identifier listed on 'https://huggingface.co/models'\n",
      "If this is a private repository, make sure to pass a token having permission to this repo either by logging in with `huggingface-cli login` or by passing `token=<your_token>`\n",
      "Falling back to Gemini API for translation.\n",
      "Using Gemini API for translation.\n",
      "Failed to load model Helsinki-NLP/opus-mt-zh-ru: Helsinki-NLP/opus-mt-zh-ru is not a local folder and is not a valid model identifier listed on 'https://huggingface.co/models'\n",
      "If this is a private repository, make sure to pass a token having permission to this repo either by logging in with `huggingface-cli login` or by passing `token=<your_token>`\n",
      "Falling back to Gemini API for translation.\n",
      "Using Gemini API for translation.\n",
      "Failed to load model Helsinki-NLP/opus-mt-zh-ru: Helsinki-NLP/opus-mt-zh-ru is not a local folder and is not a valid model identifier listed on 'https://huggingface.co/models'\n",
      "If this is a private repository, make sure to pass a token having permission to this repo either by logging in with `huggingface-cli login` or by passing `token=<your_token>`\n",
      "Falling back to Gemini API for translation.\n",
      "Using Gemini API for translation.\n",
      "Using Hugging Face for translation.\n",
      "Using Hugging Face for translation.\n",
      "Using Hugging Face for translation.\n",
      "Failed to load model Helsinki-NLP/opus-mt-zh-fr: Helsinki-NLP/opus-mt-zh-fr is not a local folder and is not a valid model identifier listed on 'https://huggingface.co/models'\n",
      "If this is a private repository, make sure to pass a token having permission to this repo either by logging in with `huggingface-cli login` or by passing `token=<your_token>`\n",
      "Falling back to Gemini API for translation.\n",
      "Using Gemini API for translation.\n",
      "Failed to load model Helsinki-NLP/opus-mt-zh-fr: Helsinki-NLP/opus-mt-zh-fr is not a local folder and is not a valid model identifier listed on 'https://huggingface.co/models'\n",
      "If this is a private repository, make sure to pass a token having permission to this repo either by logging in with `huggingface-cli login` or by passing `token=<your_token>`\n",
      "Falling back to Gemini API for translation.\n",
      "Using Gemini API for translation.\n",
      "Failed to load model Helsinki-NLP/opus-mt-zh-fr: Helsinki-NLP/opus-mt-zh-fr is not a local folder and is not a valid model identifier listed on 'https://huggingface.co/models'\n",
      "If this is a private repository, make sure to pass a token having permission to this repo either by logging in with `huggingface-cli login` or by passing `token=<your_token>`\n",
      "Falling back to Gemini API for translation.\n",
      "Using Gemini API for translation.\n",
      "Using Hugging Face for translation.\n",
      "Using Hugging Face for translation.\n",
      "Using Hugging Face for translation.\n",
      "Using Hugging Face for translation.\n",
      "Using Hugging Face for translation.\n",
      "Using Hugging Face for translation.\n",
      "Failed to load model Helsinki-NLP/opus-mt-ar-zh: Helsinki-NLP/opus-mt-ar-zh is not a local folder and is not a valid model identifier listed on 'https://huggingface.co/models'\n",
      "If this is a private repository, make sure to pass a token having permission to this repo either by logging in with `huggingface-cli login` or by passing `token=<your_token>`\n",
      "Falling back to Gemini API for translation.\n"
     ]
    },
    {
     "name": "stdout",
     "output_type": "stream",
     "text": [
      "Using Gemini API for translation.\n",
      "Failed to load model Helsinki-NLP/opus-mt-ar-zh: Helsinki-NLP/opus-mt-ar-zh is not a local folder and is not a valid model identifier listed on 'https://huggingface.co/models'\n",
      "If this is a private repository, make sure to pass a token having permission to this repo either by logging in with `huggingface-cli login` or by passing `token=<your_token>`\n",
      "Falling back to Gemini API for translation.\n",
      "Using Gemini API for translation.\n",
      "Failed to load model Helsinki-NLP/opus-mt-ar-zh: Helsinki-NLP/opus-mt-ar-zh is not a local folder and is not a valid model identifier listed on 'https://huggingface.co/models'\n",
      "If this is a private repository, make sure to pass a token having permission to this repo either by logging in with `huggingface-cli login` or by passing `token=<your_token>`\n",
      "Falling back to Gemini API for translation.\n",
      "Using Gemini API for translation.\n",
      "Using Hugging Face for translation.\n",
      "Using Hugging Face for translation.\n",
      "Using Hugging Face for translation.\n",
      "Using Hugging Face for translation.\n",
      "Using Hugging Face for translation.\n",
      "Using Hugging Face for translation.\n",
      "Using Hugging Face for translation.\n",
      "Using Hugging Face for translation.\n",
      "Using Hugging Face for translation.\n",
      "Using Hugging Face for translation.\n",
      "Using Hugging Face for translation.\n",
      "Using Hugging Face for translation.\n",
      "Using Hugging Face for translation.\n",
      "Using Hugging Face for translation.\n",
      "Using Hugging Face for translation.\n",
      "Failed to load model Helsinki-NLP/opus-mt-ru-zh: Helsinki-NLP/opus-mt-ru-zh is not a local folder and is not a valid model identifier listed on 'https://huggingface.co/models'\n",
      "If this is a private repository, make sure to pass a token having permission to this repo either by logging in with `huggingface-cli login` or by passing `token=<your_token>`\n",
      "Falling back to Gemini API for translation.\n",
      "Using Gemini API for translation.\n",
      "Failed to load model Helsinki-NLP/opus-mt-ru-zh: Helsinki-NLP/opus-mt-ru-zh is not a local folder and is not a valid model identifier listed on 'https://huggingface.co/models'\n",
      "If this is a private repository, make sure to pass a token having permission to this repo either by logging in with `huggingface-cli login` or by passing `token=<your_token>`\n",
      "Falling back to Gemini API for translation.\n",
      "Using Gemini API for translation.\n",
      "Failed to load model Helsinki-NLP/opus-mt-ru-zh: Helsinki-NLP/opus-mt-ru-zh is not a local folder and is not a valid model identifier listed on 'https://huggingface.co/models'\n",
      "If this is a private repository, make sure to pass a token having permission to this repo either by logging in with `huggingface-cli login` or by passing `token=<your_token>`\n",
      "Falling back to Gemini API for translation.\n",
      "Using Gemini API for translation.\n",
      "Using Hugging Face for translation.\n",
      "Using Hugging Face for translation.\n",
      "Using Hugging Face for translation.\n",
      "Failed to load model Helsinki-NLP/opus-mt-ru-de: Helsinki-NLP/opus-mt-ru-de is not a local folder and is not a valid model identifier listed on 'https://huggingface.co/models'\n",
      "If this is a private repository, make sure to pass a token having permission to this repo either by logging in with `huggingface-cli login` or by passing `token=<your_token>`\n",
      "Falling back to Gemini API for translation.\n",
      "Using Gemini API for translation.\n",
      "Failed to load model Helsinki-NLP/opus-mt-ru-de: Helsinki-NLP/opus-mt-ru-de is not a local folder and is not a valid model identifier listed on 'https://huggingface.co/models'\n",
      "If this is a private repository, make sure to pass a token having permission to this repo either by logging in with `huggingface-cli login` or by passing `token=<your_token>`\n",
      "Falling back to Gemini API for translation.\n",
      "Using Gemini API for translation.\n",
      "Failed to load model Helsinki-NLP/opus-mt-ru-de: Helsinki-NLP/opus-mt-ru-de is not a local folder and is not a valid model identifier listed on 'https://huggingface.co/models'\n",
      "If this is a private repository, make sure to pass a token having permission to this repo either by logging in with `huggingface-cli login` or by passing `token=<your_token>`\n",
      "Falling back to Gemini API for translation.\n",
      "Using Gemini API for translation.\n",
      "Using Hugging Face for translation.\n",
      "Using Hugging Face for translation.\n",
      "Using Hugging Face for translation.\n",
      "Using Hugging Face for translation.\n",
      "Using Hugging Face for translation.\n",
      "Using Hugging Face for translation.\n",
      "Using Hugging Face for translation.\n",
      "Using Hugging Face for translation.\n",
      "Using Hugging Face for translation.\n",
      "Using Hugging Face for translation.\n",
      "Using Hugging Face for translation.\n",
      "Using Hugging Face for translation.\n",
      "Using Hugging Face for translation.\n",
      "Using Hugging Face for translation.\n",
      "Using Hugging Face for translation.\n",
      "Failed to load model Helsinki-NLP/opus-mt-de-ru: Helsinki-NLP/opus-mt-de-ru is not a local folder and is not a valid model identifier listed on 'https://huggingface.co/models'\n",
      "If this is a private repository, make sure to pass a token having permission to this repo either by logging in with `huggingface-cli login` or by passing `token=<your_token>`\n",
      "Falling back to Gemini API for translation.\n",
      "Using Gemini API for translation.\n",
      "Failed to load model Helsinki-NLP/opus-mt-de-ru: Helsinki-NLP/opus-mt-de-ru is not a local folder and is not a valid model identifier listed on 'https://huggingface.co/models'\n",
      "If this is a private repository, make sure to pass a token having permission to this repo either by logging in with `huggingface-cli login` or by passing `token=<your_token>`\n",
      "Falling back to Gemini API for translation.\n",
      "Using Gemini API for translation.\n",
      "Failed to load model Helsinki-NLP/opus-mt-de-ru: Helsinki-NLP/opus-mt-de-ru is not a local folder and is not a valid model identifier listed on 'https://huggingface.co/models'\n",
      "If this is a private repository, make sure to pass a token having permission to this repo either by logging in with `huggingface-cli login` or by passing `token=<your_token>`\n",
      "Falling back to Gemini API for translation.\n",
      "Using Gemini API for translation.\n",
      "Using Hugging Face for translation.\n",
      "Using Hugging Face for translation.\n",
      "Using Hugging Face for translation.\n",
      "Using Hugging Face for translation.\n",
      "Using Hugging Face for translation.\n",
      "Using Hugging Face for translation.\n",
      "Using Hugging Face for translation.\n",
      "Using Hugging Face for translation.\n",
      "Using Hugging Face for translation.\n",
      "Failed to load model Helsinki-NLP/opus-mt-fr-zh: Helsinki-NLP/opus-mt-fr-zh is not a local folder and is not a valid model identifier listed on 'https://huggingface.co/models'\n",
      "If this is a private repository, make sure to pass a token having permission to this repo either by logging in with `huggingface-cli login` or by passing `token=<your_token>`\n",
      "Falling back to Gemini API for translation.\n",
      "Using Gemini API for translation.\n",
      "Failed to load model Helsinki-NLP/opus-mt-fr-zh: Helsinki-NLP/opus-mt-fr-zh is not a local folder and is not a valid model identifier listed on 'https://huggingface.co/models'\n",
      "If this is a private repository, make sure to pass a token having permission to this repo either by logging in with `huggingface-cli login` or by passing `token=<your_token>`\n",
      "Falling back to Gemini API for translation.\n",
      "Using Gemini API for translation.\n",
      "Failed to load model Helsinki-NLP/opus-mt-fr-zh: Helsinki-NLP/opus-mt-fr-zh is not a local folder and is not a valid model identifier listed on 'https://huggingface.co/models'\n",
      "If this is a private repository, make sure to pass a token having permission to this repo either by logging in with `huggingface-cli login` or by passing `token=<your_token>`\n",
      "Falling back to Gemini API for translation.\n",
      "Using Gemini API for translation.\n",
      "Using Hugging Face for translation.\n",
      "Using Hugging Face for translation.\n",
      "Using Hugging Face for translation.\n",
      "Using Hugging Face for translation.\n",
      "Using Hugging Face for translation.\n",
      "Using Hugging Face for translation.\n",
      "Using Hugging Face for translation.\n",
      "Using Hugging Face for translation.\n",
      "Using Hugging Face for translation.\n"
     ]
    }
   ],
   "source": [
    "results = []\n",
    "\n",
    "for source_lang, source_code in languages:\n",
    "    for target_lang, target_code in languages:\n",
    "        if source_code != target_code:  # Skip translation to the same language\n",
    "            for sample_type, sample_text in text_samples.items():\n",
    "                hf_time, gemini_time, hf_translated_text, gemini_translated_text = measure_translation_times(\n",
    "                    sample_text, source_lang, target_lang, source_code, target_code\n",
    "                )\n",
    "                results.append({\n",
    "                    'Source Language': source_lang,\n",
    "                    'Source ISO Code': source_code,\n",
    "                    'Target Language': target_lang,\n",
    "                    'Target ISO Code': target_code,\n",
    "                    'Text Type': sample_type,\n",
    "                    'Original Text': sample_text,\n",
    "                    'HF Translated Text': hf_translated_text,\n",
    "                    'HF Translation Time (s)': hf_time,\n",
    "                    'Gemini Translated Text': gemini_translated_text,\n",
    "                    'Gemini Translation Time (s)': gemini_time\n",
    "                })\n",
    "\n",
    "# Convert results to DataFrame for analysis\n",
    "df = pd.DataFrame(results)"
   ]
  },
  {
   "cell_type": "code",
   "execution_count": 60,
   "id": "76e6d4a5",
   "metadata": {},
   "outputs": [
    {
     "data": {
      "text/html": [
       "<div>\n",
       "<style scoped>\n",
       "    .dataframe tbody tr th:only-of-type {\n",
       "        vertical-align: middle;\n",
       "    }\n",
       "\n",
       "    .dataframe tbody tr th {\n",
       "        vertical-align: top;\n",
       "    }\n",
       "\n",
       "    .dataframe thead th {\n",
       "        text-align: right;\n",
       "    }\n",
       "</style>\n",
       "<table border=\"1\" class=\"dataframe\">\n",
       "  <thead>\n",
       "    <tr style=\"text-align: right;\">\n",
       "      <th></th>\n",
       "      <th>Source Language</th>\n",
       "      <th>Source ISO Code</th>\n",
       "      <th>Target Language</th>\n",
       "      <th>Target ISO Code</th>\n",
       "      <th>Text Type</th>\n",
       "      <th>Original Text</th>\n",
       "      <th>HF Translated Text</th>\n",
       "      <th>HF Translation Time (s)</th>\n",
       "      <th>Gemini Translated Text</th>\n",
       "      <th>Gemini Translation Time (s)</th>\n",
       "    </tr>\n",
       "  </thead>\n",
       "  <tbody>\n",
       "    <tr>\n",
       "      <th>0</th>\n",
       "      <td>English</td>\n",
       "      <td>en</td>\n",
       "      <td>Spanish</td>\n",
       "      <td>es</td>\n",
       "      <td>word</td>\n",
       "      <td>Hello</td>\n",
       "      <td>Hola.</td>\n",
       "      <td>1.358536</td>\n",
       "      <td></td>\n",
       "      <td>1.237987</td>\n",
       "    </tr>\n",
       "    <tr>\n",
       "      <th>1</th>\n",
       "      <td>English</td>\n",
       "      <td>en</td>\n",
       "      <td>Spanish</td>\n",
       "      <td>es</td>\n",
       "      <td>sentence</td>\n",
       "      <td>This is a test sentence.</td>\n",
       "      <td>Esta es una frase de prueba.</td>\n",
       "      <td>0.286579</td>\n",
       "      <td></td>\n",
       "      <td>0.898474</td>\n",
       "    </tr>\n",
       "    <tr>\n",
       "      <th>2</th>\n",
       "      <td>English</td>\n",
       "      <td>en</td>\n",
       "      <td>Spanish</td>\n",
       "      <td>es</td>\n",
       "      <td>paragraph</td>\n",
       "      <td>This is a test paragraph with multiple sentenc...</td>\n",
       "      <td>Este es un párrafo de prueba con múltiples ora...</td>\n",
       "      <td>0.803361</td>\n",
       "      <td></td>\n",
       "      <td>1.082571</td>\n",
       "    </tr>\n",
       "    <tr>\n",
       "      <th>3</th>\n",
       "      <td>English</td>\n",
       "      <td>en</td>\n",
       "      <td>Chinese</td>\n",
       "      <td>zh</td>\n",
       "      <td>word</td>\n",
       "      <td>Hello</td>\n",
       "      <td>你好 你好 你好 你好 你好 你好 你好 你好 你好</td>\n",
       "      <td>13.740644</td>\n",
       "      <td></td>\n",
       "      <td>1.316380</td>\n",
       "    </tr>\n",
       "    <tr>\n",
       "      <th>4</th>\n",
       "      <td>English</td>\n",
       "      <td>en</td>\n",
       "      <td>Chinese</td>\n",
       "      <td>zh</td>\n",
       "      <td>sentence</td>\n",
       "      <td>This is a test sentence.</td>\n",
       "      <td>这是一个试验判决。</td>\n",
       "      <td>0.228767</td>\n",
       "      <td></td>\n",
       "      <td>1.308424</td>\n",
       "    </tr>\n",
       "    <tr>\n",
       "      <th>...</th>\n",
       "      <td>...</td>\n",
       "      <td>...</td>\n",
       "      <td>...</td>\n",
       "      <td>...</td>\n",
       "      <td>...</td>\n",
       "      <td>...</td>\n",
       "      <td>...</td>\n",
       "      <td>...</td>\n",
       "      <td>...</td>\n",
       "      <td>...</td>\n",
       "    </tr>\n",
       "    <tr>\n",
       "      <th>121</th>\n",
       "      <td>French</td>\n",
       "      <td>fr</td>\n",
       "      <td>Russian</td>\n",
       "      <td>ru</td>\n",
       "      <td>sentence</td>\n",
       "      <td>This is a test sentence.</td>\n",
       "      <td>This is a test sentence.</td>\n",
       "      <td>0.408469</td>\n",
       "      <td></td>\n",
       "      <td>1.093402</td>\n",
       "    </tr>\n",
       "    <tr>\n",
       "      <th>122</th>\n",
       "      <td>French</td>\n",
       "      <td>fr</td>\n",
       "      <td>Russian</td>\n",
       "      <td>ru</td>\n",
       "      <td>paragraph</td>\n",
       "      <td>This is a test paragraph with multiple sentenc...</td>\n",
       "      <td>This is a test paragraph with multiple sentenc...</td>\n",
       "      <td>1.301146</td>\n",
       "      <td></td>\n",
       "      <td>1.175362</td>\n",
       "    </tr>\n",
       "    <tr>\n",
       "      <th>123</th>\n",
       "      <td>French</td>\n",
       "      <td>fr</td>\n",
       "      <td>German</td>\n",
       "      <td>de</td>\n",
       "      <td>word</td>\n",
       "      <td>Hello</td>\n",
       "      <td>Hallo</td>\n",
       "      <td>1.445488</td>\n",
       "      <td></td>\n",
       "      <td>1.187081</td>\n",
       "    </tr>\n",
       "    <tr>\n",
       "      <th>124</th>\n",
       "      <td>French</td>\n",
       "      <td>fr</td>\n",
       "      <td>German</td>\n",
       "      <td>de</td>\n",
       "      <td>sentence</td>\n",
       "      <td>This is a test sentence.</td>\n",
       "      <td>This is a Test Urteil.</td>\n",
       "      <td>0.418718</td>\n",
       "      <td></td>\n",
       "      <td>1.343587</td>\n",
       "    </tr>\n",
       "    <tr>\n",
       "      <th>125</th>\n",
       "      <td>French</td>\n",
       "      <td>fr</td>\n",
       "      <td>German</td>\n",
       "      <td>de</td>\n",
       "      <td>paragraph</td>\n",
       "      <td>This is a test paragraph with multiple sentenc...</td>\n",
       "      <td>This is a test paragraph with multiple points....</td>\n",
       "      <td>1.278739</td>\n",
       "      <td></td>\n",
       "      <td>1.588917</td>\n",
       "    </tr>\n",
       "  </tbody>\n",
       "</table>\n",
       "<p>126 rows × 10 columns</p>\n",
       "</div>"
      ],
      "text/plain": [
       "    Source Language Source ISO Code Target Language Target ISO Code  \\\n",
       "0           English              en         Spanish              es   \n",
       "1           English              en         Spanish              es   \n",
       "2           English              en         Spanish              es   \n",
       "3           English              en         Chinese              zh   \n",
       "4           English              en         Chinese              zh   \n",
       "..              ...             ...             ...             ...   \n",
       "121          French              fr         Russian              ru   \n",
       "122          French              fr         Russian              ru   \n",
       "123          French              fr          German              de   \n",
       "124          French              fr          German              de   \n",
       "125          French              fr          German              de   \n",
       "\n",
       "     Text Type                                      Original Text  \\\n",
       "0         word                                              Hello   \n",
       "1     sentence                           This is a test sentence.   \n",
       "2    paragraph  This is a test paragraph with multiple sentenc...   \n",
       "3         word                                              Hello   \n",
       "4     sentence                           This is a test sentence.   \n",
       "..         ...                                                ...   \n",
       "121   sentence                           This is a test sentence.   \n",
       "122  paragraph  This is a test paragraph with multiple sentenc...   \n",
       "123       word                                              Hello   \n",
       "124   sentence                           This is a test sentence.   \n",
       "125  paragraph  This is a test paragraph with multiple sentenc...   \n",
       "\n",
       "                                    HF Translated Text  \\\n",
       "0                                                Hola.   \n",
       "1                         Esta es una frase de prueba.   \n",
       "2    Este es un párrafo de prueba con múltiples ora...   \n",
       "3                           你好 你好 你好 你好 你好 你好 你好 你好 你好   \n",
       "4                                            这是一个试验判决。   \n",
       "..                                                 ...   \n",
       "121                           This is a test sentence.   \n",
       "122  This is a test paragraph with multiple sentenc...   \n",
       "123                                              Hallo   \n",
       "124                             This is a Test Urteil.   \n",
       "125  This is a test paragraph with multiple points....   \n",
       "\n",
       "     HF Translation Time (s) Gemini Translated Text  \\\n",
       "0                   1.358536                          \n",
       "1                   0.286579                          \n",
       "2                   0.803361                          \n",
       "3                  13.740644                          \n",
       "4                   0.228767                          \n",
       "..                       ...                    ...   \n",
       "121                 0.408469                          \n",
       "122                 1.301146                          \n",
       "123                 1.445488                          \n",
       "124                 0.418718                          \n",
       "125                 1.278739                          \n",
       "\n",
       "     Gemini Translation Time (s)  \n",
       "0                       1.237987  \n",
       "1                       0.898474  \n",
       "2                       1.082571  \n",
       "3                       1.316380  \n",
       "4                       1.308424  \n",
       "..                           ...  \n",
       "121                     1.093402  \n",
       "122                     1.175362  \n",
       "123                     1.187081  \n",
       "124                     1.343587  \n",
       "125                     1.588917  \n",
       "\n",
       "[126 rows x 10 columns]"
      ]
     },
     "execution_count": 60,
     "metadata": {},
     "output_type": "execute_result"
    }
   ],
   "source": [
    "# Save to CSV\n",
    "csv_filename = f\"translation_results_{datetime.now().strftime('%Y%m%d_%H%M%S')}.csv\"\n",
    "df.to_csv(csv_filename, index=False)\n",
    "\n",
    "# Display the DataFrame as a table in Jupyter\n",
    "df"
   ]
  },
  {
   "cell_type": "code",
   "execution_count": 61,
   "id": "23d21189",
   "metadata": {},
   "outputs": [
    {
     "data": {
      "application/vnd.plotly.v1+json": {
       "config": {
        "plotlyServerURL": "https://plot.ly"
       },
       "data": [
        {
         "alignmentgroup": "True",
         "hovertemplate": "Target Language=Spanish<br>Text Type=%{x}<br>Translation Time (s)=%{y}<extra></extra>",
         "legendgroup": "Spanish",
         "marker": {
          "color": "#636efa",
          "pattern": {
           "shape": ""
          }
         },
         "name": "Spanish",
         "offsetgroup": "Spanish",
         "orientation": "v",
         "showlegend": true,
         "textposition": "auto",
         "type": "bar",
         "x": [
          "word",
          "sentence",
          "paragraph",
          "word",
          "sentence",
          "paragraph",
          "word",
          "sentence",
          "paragraph",
          "word",
          "sentence",
          "paragraph",
          "word",
          "sentence",
          "paragraph",
          "word",
          "sentence",
          "paragraph"
         ],
         "xaxis": "x",
         "y": [
          1.3585360050201416,
          0.2865791320800781,
          0.803361177444458,
          2.1974589824676514,
          1.0220363140106201,
          1.2419509887695312,
          1.2219188213348389,
          0.45336389541625977,
          1.7078211307525635,
          1.7802999019622803,
          0.5595557689666748,
          1.2246110439300537,
          1.4145750999450684,
          0.33475208282470703,
          1.4780189990997314,
          1.610727310180664,
          0.8951599597930908,
          1.6162447929382324
         ],
         "yaxis": "y"
        },
        {
         "alignmentgroup": "True",
         "hovertemplate": "Target Language=Chinese<br>Text Type=%{x}<br>Translation Time (s)=%{y}<extra></extra>",
         "legendgroup": "Chinese",
         "marker": {
          "color": "#EF553B",
          "pattern": {
           "shape": ""
          }
         },
         "name": "Chinese",
         "offsetgroup": "Chinese",
         "orientation": "v",
         "showlegend": true,
         "textposition": "auto",
         "type": "bar",
         "x": [
          "word",
          "sentence",
          "paragraph",
          "word",
          "sentence",
          "paragraph",
          "word",
          "sentence",
          "paragraph",
          "word",
          "sentence",
          "paragraph",
          "word",
          "sentence",
          "paragraph",
          "word",
          "sentence",
          "paragraph"
         ],
         "xaxis": "x",
         "y": [
          13.740643978118896,
          0.22876715660095215,
          0.6843557357788086,
          2.630890130996704,
          2.0359020233154297,
          1.2370860576629639,
          1.468353033065796,
          1.3538780212402344,
          2.8444862365722656,
          1.0505709648132324,
          1.3514549732208252,
          1.5411877632141113,
          1.491034746170044,
          0.18531394004821777,
          1.4340059757232666,
          1.3388068675994873,
          0.9294121265411377,
          1.9492690563201904
         ],
         "yaxis": "y"
        },
        {
         "alignmentgroup": "True",
         "hovertemplate": "Target Language=Arabic<br>Text Type=%{x}<br>Translation Time (s)=%{y}<extra></extra>",
         "legendgroup": "Arabic",
         "marker": {
          "color": "#00cc96",
          "pattern": {
           "shape": ""
          }
         },
         "name": "Arabic",
         "offsetgroup": "Arabic",
         "orientation": "v",
         "showlegend": true,
         "textposition": "auto",
         "type": "bar",
         "x": [
          "word",
          "sentence",
          "paragraph",
          "word",
          "sentence",
          "paragraph",
          "word",
          "sentence",
          "paragraph",
          "word",
          "sentence",
          "paragraph",
          "word",
          "sentence",
          "paragraph",
          "word",
          "sentence",
          "paragraph"
         ],
         "xaxis": "x",
         "y": [
          1.1046462059020996,
          0.2668418884277344,
          0.9934122562408447,
          2.0991649627685547,
          2.5022132396698,
          3.2258729934692383,
          2.402592182159424,
          2.0003702640533447,
          1.6693220138549805,
          3.4366421699523926,
          0.5098698139190674,
          2.07962703704834,
          1.1225769519805908,
          4.330995321273804,
          4.725088119506836,
          3.5965938568115234,
          0.28314971923828125,
          2.0985288619995117
         ],
         "yaxis": "y"
        },
        {
         "alignmentgroup": "True",
         "hovertemplate": "Target Language=Russian<br>Text Type=%{x}<br>Translation Time (s)=%{y}<extra></extra>",
         "legendgroup": "Russian",
         "marker": {
          "color": "#ab63fa",
          "pattern": {
           "shape": ""
          }
         },
         "name": "Russian",
         "offsetgroup": "Russian",
         "orientation": "v",
         "showlegend": true,
         "textposition": "auto",
         "type": "bar",
         "x": [
          "word",
          "sentence",
          "paragraph",
          "word",
          "sentence",
          "paragraph",
          "word",
          "sentence",
          "paragraph",
          "word",
          "sentence",
          "paragraph",
          "word",
          "sentence",
          "paragraph",
          "word",
          "sentence",
          "paragraph"
         ],
         "xaxis": "x",
         "y": [
          1.2646098136901855,
          0.21195077896118164,
          0.7129669189453125,
          1.322613000869751,
          0.3540501594543457,
          1.077500820159912,
          3.315403938293457,
          0.9264540672302246,
          3.25339412689209,
          1.1260268688201904,
          1.0349700450897217,
          1.7733790874481201,
          1.3700709342956543,
          1.2256288528442383,
          1.8978078365325928,
          1.6343181133270264,
          0.40846896171569824,
          1.3011457920074463
         ],
         "yaxis": "y"
        },
        {
         "alignmentgroup": "True",
         "hovertemplate": "Target Language=German<br>Text Type=%{x}<br>Translation Time (s)=%{y}<extra></extra>",
         "legendgroup": "German",
         "marker": {
          "color": "#FFA15A",
          "pattern": {
           "shape": ""
          }
         },
         "name": "German",
         "offsetgroup": "German",
         "orientation": "v",
         "showlegend": true,
         "textposition": "auto",
         "type": "bar",
         "x": [
          "word",
          "sentence",
          "paragraph",
          "word",
          "sentence",
          "paragraph",
          "word",
          "sentence",
          "paragraph",
          "word",
          "sentence",
          "paragraph",
          "word",
          "sentence",
          "paragraph",
          "word",
          "sentence",
          "paragraph"
         ],
         "xaxis": "x",
         "y": [
          1.4940011501312256,
          0.2397630214691162,
          1.4659051895141602,
          1.374389886856079,
          0.31681108474731445,
          1.204503059387207,
          1.2411401271820068,
          0.248138427734375,
          0.5382981300354004,
          1.2564501762390137,
          0.3743317127227783,
          0.7584409713745117,
          0.8088362216949463,
          1.1121149063110352,
          1.4001829624176025,
          1.4454882144927979,
          0.4187180995941162,
          1.2787389755249023
         ],
         "yaxis": "y"
        },
        {
         "alignmentgroup": "True",
         "hovertemplate": "Target Language=French<br>Text Type=%{x}<br>Translation Time (s)=%{y}<extra></extra>",
         "legendgroup": "French",
         "marker": {
          "color": "#19d3f3",
          "pattern": {
           "shape": ""
          }
         },
         "name": "French",
         "offsetgroup": "French",
         "orientation": "v",
         "showlegend": true,
         "textposition": "auto",
         "type": "bar",
         "x": [
          "word",
          "sentence",
          "paragraph",
          "word",
          "sentence",
          "paragraph",
          "word",
          "sentence",
          "paragraph",
          "word",
          "sentence",
          "paragraph",
          "word",
          "sentence",
          "paragraph",
          "word",
          "sentence",
          "paragraph"
         ],
         "xaxis": "x",
         "y": [
          1.139242172241211,
          0.29642319679260254,
          1.1287760734558105,
          1.6086070537567139,
          0.2710847854614258,
          1.1909446716308594,
          2.498991012573242,
          1.3942170143127441,
          1.6685988903045654,
          1.299926996231079,
          0.2761862277984619,
          1.1362709999084473,
          1.2476017475128174,
          0.4336278438568115,
          0.9930951595306396,
          1.6978182792663574,
          0.38873910903930664,
          1.1848080158233643
         ],
         "yaxis": "y"
        },
        {
         "alignmentgroup": "True",
         "hovertemplate": "Target Language=English<br>Text Type=%{x}<br>Translation Time (s)=%{y}<extra></extra>",
         "legendgroup": "English",
         "marker": {
          "color": "#FF6692",
          "pattern": {
           "shape": ""
          }
         },
         "name": "English",
         "offsetgroup": "English",
         "orientation": "v",
         "showlegend": true,
         "textposition": "auto",
         "type": "bar",
         "x": [
          "word",
          "sentence",
          "paragraph",
          "word",
          "sentence",
          "paragraph",
          "word",
          "sentence",
          "paragraph",
          "word",
          "sentence",
          "paragraph",
          "word",
          "sentence",
          "paragraph",
          "word",
          "sentence",
          "paragraph"
         ],
         "xaxis": "x",
         "y": [
          1.2553839683532715,
          0.24301600456237793,
          0.7793700695037842,
          1.3883557319641113,
          0.3995399475097656,
          0.6267950534820557,
          1.3208303451538086,
          0.23713397979736328,
          0.6541798114776611,
          1.6997742652893066,
          0.3680441379547119,
          1.9286088943481445,
          1.3644249439239502,
          0.3016219139099121,
          1.2487561702728271,
          1.1506881713867188,
          0.33710265159606934,
          0.7789719104766846
         ],
         "yaxis": "y"
        }
       ],
       "layout": {
        "barmode": "group",
        "legend": {
         "title": {
          "text": "Target Language"
         },
         "tracegroupgap": 0
        },
        "template": {
         "data": {
          "bar": [
           {
            "error_x": {
             "color": "#2a3f5f"
            },
            "error_y": {
             "color": "#2a3f5f"
            },
            "marker": {
             "line": {
              "color": "#E5ECF6",
              "width": 0.5
             },
             "pattern": {
              "fillmode": "overlay",
              "size": 10,
              "solidity": 0.2
             }
            },
            "type": "bar"
           }
          ],
          "barpolar": [
           {
            "marker": {
             "line": {
              "color": "#E5ECF6",
              "width": 0.5
             },
             "pattern": {
              "fillmode": "overlay",
              "size": 10,
              "solidity": 0.2
             }
            },
            "type": "barpolar"
           }
          ],
          "carpet": [
           {
            "aaxis": {
             "endlinecolor": "#2a3f5f",
             "gridcolor": "white",
             "linecolor": "white",
             "minorgridcolor": "white",
             "startlinecolor": "#2a3f5f"
            },
            "baxis": {
             "endlinecolor": "#2a3f5f",
             "gridcolor": "white",
             "linecolor": "white",
             "minorgridcolor": "white",
             "startlinecolor": "#2a3f5f"
            },
            "type": "carpet"
           }
          ],
          "choropleth": [
           {
            "colorbar": {
             "outlinewidth": 0,
             "ticks": ""
            },
            "type": "choropleth"
           }
          ],
          "contour": [
           {
            "colorbar": {
             "outlinewidth": 0,
             "ticks": ""
            },
            "colorscale": [
             [
              0,
              "#0d0887"
             ],
             [
              0.1111111111111111,
              "#46039f"
             ],
             [
              0.2222222222222222,
              "#7201a8"
             ],
             [
              0.3333333333333333,
              "#9c179e"
             ],
             [
              0.4444444444444444,
              "#bd3786"
             ],
             [
              0.5555555555555556,
              "#d8576b"
             ],
             [
              0.6666666666666666,
              "#ed7953"
             ],
             [
              0.7777777777777778,
              "#fb9f3a"
             ],
             [
              0.8888888888888888,
              "#fdca26"
             ],
             [
              1,
              "#f0f921"
             ]
            ],
            "type": "contour"
           }
          ],
          "contourcarpet": [
           {
            "colorbar": {
             "outlinewidth": 0,
             "ticks": ""
            },
            "type": "contourcarpet"
           }
          ],
          "heatmap": [
           {
            "colorbar": {
             "outlinewidth": 0,
             "ticks": ""
            },
            "colorscale": [
             [
              0,
              "#0d0887"
             ],
             [
              0.1111111111111111,
              "#46039f"
             ],
             [
              0.2222222222222222,
              "#7201a8"
             ],
             [
              0.3333333333333333,
              "#9c179e"
             ],
             [
              0.4444444444444444,
              "#bd3786"
             ],
             [
              0.5555555555555556,
              "#d8576b"
             ],
             [
              0.6666666666666666,
              "#ed7953"
             ],
             [
              0.7777777777777778,
              "#fb9f3a"
             ],
             [
              0.8888888888888888,
              "#fdca26"
             ],
             [
              1,
              "#f0f921"
             ]
            ],
            "type": "heatmap"
           }
          ],
          "heatmapgl": [
           {
            "colorbar": {
             "outlinewidth": 0,
             "ticks": ""
            },
            "colorscale": [
             [
              0,
              "#0d0887"
             ],
             [
              0.1111111111111111,
              "#46039f"
             ],
             [
              0.2222222222222222,
              "#7201a8"
             ],
             [
              0.3333333333333333,
              "#9c179e"
             ],
             [
              0.4444444444444444,
              "#bd3786"
             ],
             [
              0.5555555555555556,
              "#d8576b"
             ],
             [
              0.6666666666666666,
              "#ed7953"
             ],
             [
              0.7777777777777778,
              "#fb9f3a"
             ],
             [
              0.8888888888888888,
              "#fdca26"
             ],
             [
              1,
              "#f0f921"
             ]
            ],
            "type": "heatmapgl"
           }
          ],
          "histogram": [
           {
            "marker": {
             "pattern": {
              "fillmode": "overlay",
              "size": 10,
              "solidity": 0.2
             }
            },
            "type": "histogram"
           }
          ],
          "histogram2d": [
           {
            "colorbar": {
             "outlinewidth": 0,
             "ticks": ""
            },
            "colorscale": [
             [
              0,
              "#0d0887"
             ],
             [
              0.1111111111111111,
              "#46039f"
             ],
             [
              0.2222222222222222,
              "#7201a8"
             ],
             [
              0.3333333333333333,
              "#9c179e"
             ],
             [
              0.4444444444444444,
              "#bd3786"
             ],
             [
              0.5555555555555556,
              "#d8576b"
             ],
             [
              0.6666666666666666,
              "#ed7953"
             ],
             [
              0.7777777777777778,
              "#fb9f3a"
             ],
             [
              0.8888888888888888,
              "#fdca26"
             ],
             [
              1,
              "#f0f921"
             ]
            ],
            "type": "histogram2d"
           }
          ],
          "histogram2dcontour": [
           {
            "colorbar": {
             "outlinewidth": 0,
             "ticks": ""
            },
            "colorscale": [
             [
              0,
              "#0d0887"
             ],
             [
              0.1111111111111111,
              "#46039f"
             ],
             [
              0.2222222222222222,
              "#7201a8"
             ],
             [
              0.3333333333333333,
              "#9c179e"
             ],
             [
              0.4444444444444444,
              "#bd3786"
             ],
             [
              0.5555555555555556,
              "#d8576b"
             ],
             [
              0.6666666666666666,
              "#ed7953"
             ],
             [
              0.7777777777777778,
              "#fb9f3a"
             ],
             [
              0.8888888888888888,
              "#fdca26"
             ],
             [
              1,
              "#f0f921"
             ]
            ],
            "type": "histogram2dcontour"
           }
          ],
          "mesh3d": [
           {
            "colorbar": {
             "outlinewidth": 0,
             "ticks": ""
            },
            "type": "mesh3d"
           }
          ],
          "parcoords": [
           {
            "line": {
             "colorbar": {
              "outlinewidth": 0,
              "ticks": ""
             }
            },
            "type": "parcoords"
           }
          ],
          "pie": [
           {
            "automargin": true,
            "type": "pie"
           }
          ],
          "scatter": [
           {
            "fillpattern": {
             "fillmode": "overlay",
             "size": 10,
             "solidity": 0.2
            },
            "type": "scatter"
           }
          ],
          "scatter3d": [
           {
            "line": {
             "colorbar": {
              "outlinewidth": 0,
              "ticks": ""
             }
            },
            "marker": {
             "colorbar": {
              "outlinewidth": 0,
              "ticks": ""
             }
            },
            "type": "scatter3d"
           }
          ],
          "scattercarpet": [
           {
            "marker": {
             "colorbar": {
              "outlinewidth": 0,
              "ticks": ""
             }
            },
            "type": "scattercarpet"
           }
          ],
          "scattergeo": [
           {
            "marker": {
             "colorbar": {
              "outlinewidth": 0,
              "ticks": ""
             }
            },
            "type": "scattergeo"
           }
          ],
          "scattergl": [
           {
            "marker": {
             "colorbar": {
              "outlinewidth": 0,
              "ticks": ""
             }
            },
            "type": "scattergl"
           }
          ],
          "scattermapbox": [
           {
            "marker": {
             "colorbar": {
              "outlinewidth": 0,
              "ticks": ""
             }
            },
            "type": "scattermapbox"
           }
          ],
          "scatterpolar": [
           {
            "marker": {
             "colorbar": {
              "outlinewidth": 0,
              "ticks": ""
             }
            },
            "type": "scatterpolar"
           }
          ],
          "scatterpolargl": [
           {
            "marker": {
             "colorbar": {
              "outlinewidth": 0,
              "ticks": ""
             }
            },
            "type": "scatterpolargl"
           }
          ],
          "scatterternary": [
           {
            "marker": {
             "colorbar": {
              "outlinewidth": 0,
              "ticks": ""
             }
            },
            "type": "scatterternary"
           }
          ],
          "surface": [
           {
            "colorbar": {
             "outlinewidth": 0,
             "ticks": ""
            },
            "colorscale": [
             [
              0,
              "#0d0887"
             ],
             [
              0.1111111111111111,
              "#46039f"
             ],
             [
              0.2222222222222222,
              "#7201a8"
             ],
             [
              0.3333333333333333,
              "#9c179e"
             ],
             [
              0.4444444444444444,
              "#bd3786"
             ],
             [
              0.5555555555555556,
              "#d8576b"
             ],
             [
              0.6666666666666666,
              "#ed7953"
             ],
             [
              0.7777777777777778,
              "#fb9f3a"
             ],
             [
              0.8888888888888888,
              "#fdca26"
             ],
             [
              1,
              "#f0f921"
             ]
            ],
            "type": "surface"
           }
          ],
          "table": [
           {
            "cells": {
             "fill": {
              "color": "#EBF0F8"
             },
             "line": {
              "color": "white"
             }
            },
            "header": {
             "fill": {
              "color": "#C8D4E3"
             },
             "line": {
              "color": "white"
             }
            },
            "type": "table"
           }
          ]
         },
         "layout": {
          "annotationdefaults": {
           "arrowcolor": "#2a3f5f",
           "arrowhead": 0,
           "arrowwidth": 1
          },
          "autotypenumbers": "strict",
          "coloraxis": {
           "colorbar": {
            "outlinewidth": 0,
            "ticks": ""
           }
          },
          "colorscale": {
           "diverging": [
            [
             0,
             "#8e0152"
            ],
            [
             0.1,
             "#c51b7d"
            ],
            [
             0.2,
             "#de77ae"
            ],
            [
             0.3,
             "#f1b6da"
            ],
            [
             0.4,
             "#fde0ef"
            ],
            [
             0.5,
             "#f7f7f7"
            ],
            [
             0.6,
             "#e6f5d0"
            ],
            [
             0.7,
             "#b8e186"
            ],
            [
             0.8,
             "#7fbc41"
            ],
            [
             0.9,
             "#4d9221"
            ],
            [
             1,
             "#276419"
            ]
           ],
           "sequential": [
            [
             0,
             "#0d0887"
            ],
            [
             0.1111111111111111,
             "#46039f"
            ],
            [
             0.2222222222222222,
             "#7201a8"
            ],
            [
             0.3333333333333333,
             "#9c179e"
            ],
            [
             0.4444444444444444,
             "#bd3786"
            ],
            [
             0.5555555555555556,
             "#d8576b"
            ],
            [
             0.6666666666666666,
             "#ed7953"
            ],
            [
             0.7777777777777778,
             "#fb9f3a"
            ],
            [
             0.8888888888888888,
             "#fdca26"
            ],
            [
             1,
             "#f0f921"
            ]
           ],
           "sequentialminus": [
            [
             0,
             "#0d0887"
            ],
            [
             0.1111111111111111,
             "#46039f"
            ],
            [
             0.2222222222222222,
             "#7201a8"
            ],
            [
             0.3333333333333333,
             "#9c179e"
            ],
            [
             0.4444444444444444,
             "#bd3786"
            ],
            [
             0.5555555555555556,
             "#d8576b"
            ],
            [
             0.6666666666666666,
             "#ed7953"
            ],
            [
             0.7777777777777778,
             "#fb9f3a"
            ],
            [
             0.8888888888888888,
             "#fdca26"
            ],
            [
             1,
             "#f0f921"
            ]
           ]
          },
          "colorway": [
           "#636efa",
           "#EF553B",
           "#00cc96",
           "#ab63fa",
           "#FFA15A",
           "#19d3f3",
           "#FF6692",
           "#B6E880",
           "#FF97FF",
           "#FECB52"
          ],
          "font": {
           "color": "#2a3f5f"
          },
          "geo": {
           "bgcolor": "white",
           "lakecolor": "white",
           "landcolor": "#E5ECF6",
           "showlakes": true,
           "showland": true,
           "subunitcolor": "white"
          },
          "hoverlabel": {
           "align": "left"
          },
          "hovermode": "closest",
          "mapbox": {
           "style": "light"
          },
          "paper_bgcolor": "white",
          "plot_bgcolor": "#E5ECF6",
          "polar": {
           "angularaxis": {
            "gridcolor": "white",
            "linecolor": "white",
            "ticks": ""
           },
           "bgcolor": "#E5ECF6",
           "radialaxis": {
            "gridcolor": "white",
            "linecolor": "white",
            "ticks": ""
           }
          },
          "scene": {
           "xaxis": {
            "backgroundcolor": "#E5ECF6",
            "gridcolor": "white",
            "gridwidth": 2,
            "linecolor": "white",
            "showbackground": true,
            "ticks": "",
            "zerolinecolor": "white"
           },
           "yaxis": {
            "backgroundcolor": "#E5ECF6",
            "gridcolor": "white",
            "gridwidth": 2,
            "linecolor": "white",
            "showbackground": true,
            "ticks": "",
            "zerolinecolor": "white"
           },
           "zaxis": {
            "backgroundcolor": "#E5ECF6",
            "gridcolor": "white",
            "gridwidth": 2,
            "linecolor": "white",
            "showbackground": true,
            "ticks": "",
            "zerolinecolor": "white"
           }
          },
          "shapedefaults": {
           "line": {
            "color": "#2a3f5f"
           }
          },
          "ternary": {
           "aaxis": {
            "gridcolor": "white",
            "linecolor": "white",
            "ticks": ""
           },
           "baxis": {
            "gridcolor": "white",
            "linecolor": "white",
            "ticks": ""
           },
           "bgcolor": "#E5ECF6",
           "caxis": {
            "gridcolor": "white",
            "linecolor": "white",
            "ticks": ""
           }
          },
          "title": {
           "x": 0.05
          },
          "xaxis": {
           "automargin": true,
           "gridcolor": "white",
           "linecolor": "white",
           "ticks": "",
           "title": {
            "standoff": 15
           },
           "zerolinecolor": "white",
           "zerolinewidth": 2
          },
          "yaxis": {
           "automargin": true,
           "gridcolor": "white",
           "linecolor": "white",
           "ticks": "",
           "title": {
            "standoff": 15
           },
           "zerolinecolor": "white",
           "zerolinewidth": 2
          }
         }
        },
        "title": {
         "text": "Hugging Face Translation Times by Text Type and Target Language"
        },
        "xaxis": {
         "anchor": "y",
         "domain": [
          0,
          1
         ],
         "title": {
          "text": "Text Type"
         }
        },
        "yaxis": {
         "anchor": "x",
         "domain": [
          0,
          1
         ],
         "title": {
          "text": "Translation Time (s)"
         }
        }
       }
      },
      "text/html": [
       "<div>                            <div id=\"27cfa2fc-f8d4-4da9-aa92-7fb9c2d15d36\" class=\"plotly-graph-div\" style=\"height:525px; width:100%;\"></div>            <script type=\"text/javascript\">                require([\"plotly\"], function(Plotly) {                    window.PLOTLYENV=window.PLOTLYENV || {};                                    if (document.getElementById(\"27cfa2fc-f8d4-4da9-aa92-7fb9c2d15d36\")) {                    Plotly.newPlot(                        \"27cfa2fc-f8d4-4da9-aa92-7fb9c2d15d36\",                        [{\"alignmentgroup\":\"True\",\"hovertemplate\":\"Target Language=Spanish\\u003cbr\\u003eText Type=%{x}\\u003cbr\\u003eTranslation Time (s)=%{y}\\u003cextra\\u003e\\u003c\\u002fextra\\u003e\",\"legendgroup\":\"Spanish\",\"marker\":{\"color\":\"#636efa\",\"pattern\":{\"shape\":\"\"}},\"name\":\"Spanish\",\"offsetgroup\":\"Spanish\",\"orientation\":\"v\",\"showlegend\":true,\"textposition\":\"auto\",\"x\":[\"word\",\"sentence\",\"paragraph\",\"word\",\"sentence\",\"paragraph\",\"word\",\"sentence\",\"paragraph\",\"word\",\"sentence\",\"paragraph\",\"word\",\"sentence\",\"paragraph\",\"word\",\"sentence\",\"paragraph\"],\"xaxis\":\"x\",\"y\":[1.3585360050201416,0.2865791320800781,0.803361177444458,2.1974589824676514,1.0220363140106201,1.2419509887695312,1.2219188213348389,0.45336389541625977,1.7078211307525635,1.7802999019622803,0.5595557689666748,1.2246110439300537,1.4145750999450684,0.33475208282470703,1.4780189990997314,1.610727310180664,0.8951599597930908,1.6162447929382324],\"yaxis\":\"y\",\"type\":\"bar\"},{\"alignmentgroup\":\"True\",\"hovertemplate\":\"Target Language=Chinese\\u003cbr\\u003eText Type=%{x}\\u003cbr\\u003eTranslation Time (s)=%{y}\\u003cextra\\u003e\\u003c\\u002fextra\\u003e\",\"legendgroup\":\"Chinese\",\"marker\":{\"color\":\"#EF553B\",\"pattern\":{\"shape\":\"\"}},\"name\":\"Chinese\",\"offsetgroup\":\"Chinese\",\"orientation\":\"v\",\"showlegend\":true,\"textposition\":\"auto\",\"x\":[\"word\",\"sentence\",\"paragraph\",\"word\",\"sentence\",\"paragraph\",\"word\",\"sentence\",\"paragraph\",\"word\",\"sentence\",\"paragraph\",\"word\",\"sentence\",\"paragraph\",\"word\",\"sentence\",\"paragraph\"],\"xaxis\":\"x\",\"y\":[13.740643978118896,0.22876715660095215,0.6843557357788086,2.630890130996704,2.0359020233154297,1.2370860576629639,1.468353033065796,1.3538780212402344,2.8444862365722656,1.0505709648132324,1.3514549732208252,1.5411877632141113,1.491034746170044,0.18531394004821777,1.4340059757232666,1.3388068675994873,0.9294121265411377,1.9492690563201904],\"yaxis\":\"y\",\"type\":\"bar\"},{\"alignmentgroup\":\"True\",\"hovertemplate\":\"Target Language=Arabic\\u003cbr\\u003eText Type=%{x}\\u003cbr\\u003eTranslation Time (s)=%{y}\\u003cextra\\u003e\\u003c\\u002fextra\\u003e\",\"legendgroup\":\"Arabic\",\"marker\":{\"color\":\"#00cc96\",\"pattern\":{\"shape\":\"\"}},\"name\":\"Arabic\",\"offsetgroup\":\"Arabic\",\"orientation\":\"v\",\"showlegend\":true,\"textposition\":\"auto\",\"x\":[\"word\",\"sentence\",\"paragraph\",\"word\",\"sentence\",\"paragraph\",\"word\",\"sentence\",\"paragraph\",\"word\",\"sentence\",\"paragraph\",\"word\",\"sentence\",\"paragraph\",\"word\",\"sentence\",\"paragraph\"],\"xaxis\":\"x\",\"y\":[1.1046462059020996,0.2668418884277344,0.9934122562408447,2.0991649627685547,2.5022132396698,3.2258729934692383,2.402592182159424,2.0003702640533447,1.6693220138549805,3.4366421699523926,0.5098698139190674,2.07962703704834,1.1225769519805908,4.330995321273804,4.725088119506836,3.5965938568115234,0.28314971923828125,2.0985288619995117],\"yaxis\":\"y\",\"type\":\"bar\"},{\"alignmentgroup\":\"True\",\"hovertemplate\":\"Target Language=Russian\\u003cbr\\u003eText Type=%{x}\\u003cbr\\u003eTranslation Time (s)=%{y}\\u003cextra\\u003e\\u003c\\u002fextra\\u003e\",\"legendgroup\":\"Russian\",\"marker\":{\"color\":\"#ab63fa\",\"pattern\":{\"shape\":\"\"}},\"name\":\"Russian\",\"offsetgroup\":\"Russian\",\"orientation\":\"v\",\"showlegend\":true,\"textposition\":\"auto\",\"x\":[\"word\",\"sentence\",\"paragraph\",\"word\",\"sentence\",\"paragraph\",\"word\",\"sentence\",\"paragraph\",\"word\",\"sentence\",\"paragraph\",\"word\",\"sentence\",\"paragraph\",\"word\",\"sentence\",\"paragraph\"],\"xaxis\":\"x\",\"y\":[1.2646098136901855,0.21195077896118164,0.7129669189453125,1.322613000869751,0.3540501594543457,1.077500820159912,3.315403938293457,0.9264540672302246,3.25339412689209,1.1260268688201904,1.0349700450897217,1.7733790874481201,1.3700709342956543,1.2256288528442383,1.8978078365325928,1.6343181133270264,0.40846896171569824,1.3011457920074463],\"yaxis\":\"y\",\"type\":\"bar\"},{\"alignmentgroup\":\"True\",\"hovertemplate\":\"Target Language=German\\u003cbr\\u003eText Type=%{x}\\u003cbr\\u003eTranslation Time (s)=%{y}\\u003cextra\\u003e\\u003c\\u002fextra\\u003e\",\"legendgroup\":\"German\",\"marker\":{\"color\":\"#FFA15A\",\"pattern\":{\"shape\":\"\"}},\"name\":\"German\",\"offsetgroup\":\"German\",\"orientation\":\"v\",\"showlegend\":true,\"textposition\":\"auto\",\"x\":[\"word\",\"sentence\",\"paragraph\",\"word\",\"sentence\",\"paragraph\",\"word\",\"sentence\",\"paragraph\",\"word\",\"sentence\",\"paragraph\",\"word\",\"sentence\",\"paragraph\",\"word\",\"sentence\",\"paragraph\"],\"xaxis\":\"x\",\"y\":[1.4940011501312256,0.2397630214691162,1.4659051895141602,1.374389886856079,0.31681108474731445,1.204503059387207,1.2411401271820068,0.248138427734375,0.5382981300354004,1.2564501762390137,0.3743317127227783,0.7584409713745117,0.8088362216949463,1.1121149063110352,1.4001829624176025,1.4454882144927979,0.4187180995941162,1.2787389755249023],\"yaxis\":\"y\",\"type\":\"bar\"},{\"alignmentgroup\":\"True\",\"hovertemplate\":\"Target Language=French\\u003cbr\\u003eText Type=%{x}\\u003cbr\\u003eTranslation Time (s)=%{y}\\u003cextra\\u003e\\u003c\\u002fextra\\u003e\",\"legendgroup\":\"French\",\"marker\":{\"color\":\"#19d3f3\",\"pattern\":{\"shape\":\"\"}},\"name\":\"French\",\"offsetgroup\":\"French\",\"orientation\":\"v\",\"showlegend\":true,\"textposition\":\"auto\",\"x\":[\"word\",\"sentence\",\"paragraph\",\"word\",\"sentence\",\"paragraph\",\"word\",\"sentence\",\"paragraph\",\"word\",\"sentence\",\"paragraph\",\"word\",\"sentence\",\"paragraph\",\"word\",\"sentence\",\"paragraph\"],\"xaxis\":\"x\",\"y\":[1.139242172241211,0.29642319679260254,1.1287760734558105,1.6086070537567139,0.2710847854614258,1.1909446716308594,2.498991012573242,1.3942170143127441,1.6685988903045654,1.299926996231079,0.2761862277984619,1.1362709999084473,1.2476017475128174,0.4336278438568115,0.9930951595306396,1.6978182792663574,0.38873910903930664,1.1848080158233643],\"yaxis\":\"y\",\"type\":\"bar\"},{\"alignmentgroup\":\"True\",\"hovertemplate\":\"Target Language=English\\u003cbr\\u003eText Type=%{x}\\u003cbr\\u003eTranslation Time (s)=%{y}\\u003cextra\\u003e\\u003c\\u002fextra\\u003e\",\"legendgroup\":\"English\",\"marker\":{\"color\":\"#FF6692\",\"pattern\":{\"shape\":\"\"}},\"name\":\"English\",\"offsetgroup\":\"English\",\"orientation\":\"v\",\"showlegend\":true,\"textposition\":\"auto\",\"x\":[\"word\",\"sentence\",\"paragraph\",\"word\",\"sentence\",\"paragraph\",\"word\",\"sentence\",\"paragraph\",\"word\",\"sentence\",\"paragraph\",\"word\",\"sentence\",\"paragraph\",\"word\",\"sentence\",\"paragraph\"],\"xaxis\":\"x\",\"y\":[1.2553839683532715,0.24301600456237793,0.7793700695037842,1.3883557319641113,0.3995399475097656,0.6267950534820557,1.3208303451538086,0.23713397979736328,0.6541798114776611,1.6997742652893066,0.3680441379547119,1.9286088943481445,1.3644249439239502,0.3016219139099121,1.2487561702728271,1.1506881713867188,0.33710265159606934,0.7789719104766846],\"yaxis\":\"y\",\"type\":\"bar\"}],                        {\"template\":{\"data\":{\"histogram2dcontour\":[{\"type\":\"histogram2dcontour\",\"colorbar\":{\"outlinewidth\":0,\"ticks\":\"\"},\"colorscale\":[[0.0,\"#0d0887\"],[0.1111111111111111,\"#46039f\"],[0.2222222222222222,\"#7201a8\"],[0.3333333333333333,\"#9c179e\"],[0.4444444444444444,\"#bd3786\"],[0.5555555555555556,\"#d8576b\"],[0.6666666666666666,\"#ed7953\"],[0.7777777777777778,\"#fb9f3a\"],[0.8888888888888888,\"#fdca26\"],[1.0,\"#f0f921\"]]}],\"choropleth\":[{\"type\":\"choropleth\",\"colorbar\":{\"outlinewidth\":0,\"ticks\":\"\"}}],\"histogram2d\":[{\"type\":\"histogram2d\",\"colorbar\":{\"outlinewidth\":0,\"ticks\":\"\"},\"colorscale\":[[0.0,\"#0d0887\"],[0.1111111111111111,\"#46039f\"],[0.2222222222222222,\"#7201a8\"],[0.3333333333333333,\"#9c179e\"],[0.4444444444444444,\"#bd3786\"],[0.5555555555555556,\"#d8576b\"],[0.6666666666666666,\"#ed7953\"],[0.7777777777777778,\"#fb9f3a\"],[0.8888888888888888,\"#fdca26\"],[1.0,\"#f0f921\"]]}],\"heatmap\":[{\"type\":\"heatmap\",\"colorbar\":{\"outlinewidth\":0,\"ticks\":\"\"},\"colorscale\":[[0.0,\"#0d0887\"],[0.1111111111111111,\"#46039f\"],[0.2222222222222222,\"#7201a8\"],[0.3333333333333333,\"#9c179e\"],[0.4444444444444444,\"#bd3786\"],[0.5555555555555556,\"#d8576b\"],[0.6666666666666666,\"#ed7953\"],[0.7777777777777778,\"#fb9f3a\"],[0.8888888888888888,\"#fdca26\"],[1.0,\"#f0f921\"]]}],\"heatmapgl\":[{\"type\":\"heatmapgl\",\"colorbar\":{\"outlinewidth\":0,\"ticks\":\"\"},\"colorscale\":[[0.0,\"#0d0887\"],[0.1111111111111111,\"#46039f\"],[0.2222222222222222,\"#7201a8\"],[0.3333333333333333,\"#9c179e\"],[0.4444444444444444,\"#bd3786\"],[0.5555555555555556,\"#d8576b\"],[0.6666666666666666,\"#ed7953\"],[0.7777777777777778,\"#fb9f3a\"],[0.8888888888888888,\"#fdca26\"],[1.0,\"#f0f921\"]]}],\"contourcarpet\":[{\"type\":\"contourcarpet\",\"colorbar\":{\"outlinewidth\":0,\"ticks\":\"\"}}],\"contour\":[{\"type\":\"contour\",\"colorbar\":{\"outlinewidth\":0,\"ticks\":\"\"},\"colorscale\":[[0.0,\"#0d0887\"],[0.1111111111111111,\"#46039f\"],[0.2222222222222222,\"#7201a8\"],[0.3333333333333333,\"#9c179e\"],[0.4444444444444444,\"#bd3786\"],[0.5555555555555556,\"#d8576b\"],[0.6666666666666666,\"#ed7953\"],[0.7777777777777778,\"#fb9f3a\"],[0.8888888888888888,\"#fdca26\"],[1.0,\"#f0f921\"]]}],\"surface\":[{\"type\":\"surface\",\"colorbar\":{\"outlinewidth\":0,\"ticks\":\"\"},\"colorscale\":[[0.0,\"#0d0887\"],[0.1111111111111111,\"#46039f\"],[0.2222222222222222,\"#7201a8\"],[0.3333333333333333,\"#9c179e\"],[0.4444444444444444,\"#bd3786\"],[0.5555555555555556,\"#d8576b\"],[0.6666666666666666,\"#ed7953\"],[0.7777777777777778,\"#fb9f3a\"],[0.8888888888888888,\"#fdca26\"],[1.0,\"#f0f921\"]]}],\"mesh3d\":[{\"type\":\"mesh3d\",\"colorbar\":{\"outlinewidth\":0,\"ticks\":\"\"}}],\"scatter\":[{\"fillpattern\":{\"fillmode\":\"overlay\",\"size\":10,\"solidity\":0.2},\"type\":\"scatter\"}],\"parcoords\":[{\"type\":\"parcoords\",\"line\":{\"colorbar\":{\"outlinewidth\":0,\"ticks\":\"\"}}}],\"scatterpolargl\":[{\"type\":\"scatterpolargl\",\"marker\":{\"colorbar\":{\"outlinewidth\":0,\"ticks\":\"\"}}}],\"bar\":[{\"error_x\":{\"color\":\"#2a3f5f\"},\"error_y\":{\"color\":\"#2a3f5f\"},\"marker\":{\"line\":{\"color\":\"#E5ECF6\",\"width\":0.5},\"pattern\":{\"fillmode\":\"overlay\",\"size\":10,\"solidity\":0.2}},\"type\":\"bar\"}],\"scattergeo\":[{\"type\":\"scattergeo\",\"marker\":{\"colorbar\":{\"outlinewidth\":0,\"ticks\":\"\"}}}],\"scatterpolar\":[{\"type\":\"scatterpolar\",\"marker\":{\"colorbar\":{\"outlinewidth\":0,\"ticks\":\"\"}}}],\"histogram\":[{\"marker\":{\"pattern\":{\"fillmode\":\"overlay\",\"size\":10,\"solidity\":0.2}},\"type\":\"histogram\"}],\"scattergl\":[{\"type\":\"scattergl\",\"marker\":{\"colorbar\":{\"outlinewidth\":0,\"ticks\":\"\"}}}],\"scatter3d\":[{\"type\":\"scatter3d\",\"line\":{\"colorbar\":{\"outlinewidth\":0,\"ticks\":\"\"}},\"marker\":{\"colorbar\":{\"outlinewidth\":0,\"ticks\":\"\"}}}],\"scattermapbox\":[{\"type\":\"scattermapbox\",\"marker\":{\"colorbar\":{\"outlinewidth\":0,\"ticks\":\"\"}}}],\"scatterternary\":[{\"type\":\"scatterternary\",\"marker\":{\"colorbar\":{\"outlinewidth\":0,\"ticks\":\"\"}}}],\"scattercarpet\":[{\"type\":\"scattercarpet\",\"marker\":{\"colorbar\":{\"outlinewidth\":0,\"ticks\":\"\"}}}],\"carpet\":[{\"aaxis\":{\"endlinecolor\":\"#2a3f5f\",\"gridcolor\":\"white\",\"linecolor\":\"white\",\"minorgridcolor\":\"white\",\"startlinecolor\":\"#2a3f5f\"},\"baxis\":{\"endlinecolor\":\"#2a3f5f\",\"gridcolor\":\"white\",\"linecolor\":\"white\",\"minorgridcolor\":\"white\",\"startlinecolor\":\"#2a3f5f\"},\"type\":\"carpet\"}],\"table\":[{\"cells\":{\"fill\":{\"color\":\"#EBF0F8\"},\"line\":{\"color\":\"white\"}},\"header\":{\"fill\":{\"color\":\"#C8D4E3\"},\"line\":{\"color\":\"white\"}},\"type\":\"table\"}],\"barpolar\":[{\"marker\":{\"line\":{\"color\":\"#E5ECF6\",\"width\":0.5},\"pattern\":{\"fillmode\":\"overlay\",\"size\":10,\"solidity\":0.2}},\"type\":\"barpolar\"}],\"pie\":[{\"automargin\":true,\"type\":\"pie\"}]},\"layout\":{\"autotypenumbers\":\"strict\",\"colorway\":[\"#636efa\",\"#EF553B\",\"#00cc96\",\"#ab63fa\",\"#FFA15A\",\"#19d3f3\",\"#FF6692\",\"#B6E880\",\"#FF97FF\",\"#FECB52\"],\"font\":{\"color\":\"#2a3f5f\"},\"hovermode\":\"closest\",\"hoverlabel\":{\"align\":\"left\"},\"paper_bgcolor\":\"white\",\"plot_bgcolor\":\"#E5ECF6\",\"polar\":{\"bgcolor\":\"#E5ECF6\",\"angularaxis\":{\"gridcolor\":\"white\",\"linecolor\":\"white\",\"ticks\":\"\"},\"radialaxis\":{\"gridcolor\":\"white\",\"linecolor\":\"white\",\"ticks\":\"\"}},\"ternary\":{\"bgcolor\":\"#E5ECF6\",\"aaxis\":{\"gridcolor\":\"white\",\"linecolor\":\"white\",\"ticks\":\"\"},\"baxis\":{\"gridcolor\":\"white\",\"linecolor\":\"white\",\"ticks\":\"\"},\"caxis\":{\"gridcolor\":\"white\",\"linecolor\":\"white\",\"ticks\":\"\"}},\"coloraxis\":{\"colorbar\":{\"outlinewidth\":0,\"ticks\":\"\"}},\"colorscale\":{\"sequential\":[[0.0,\"#0d0887\"],[0.1111111111111111,\"#46039f\"],[0.2222222222222222,\"#7201a8\"],[0.3333333333333333,\"#9c179e\"],[0.4444444444444444,\"#bd3786\"],[0.5555555555555556,\"#d8576b\"],[0.6666666666666666,\"#ed7953\"],[0.7777777777777778,\"#fb9f3a\"],[0.8888888888888888,\"#fdca26\"],[1.0,\"#f0f921\"]],\"sequentialminus\":[[0.0,\"#0d0887\"],[0.1111111111111111,\"#46039f\"],[0.2222222222222222,\"#7201a8\"],[0.3333333333333333,\"#9c179e\"],[0.4444444444444444,\"#bd3786\"],[0.5555555555555556,\"#d8576b\"],[0.6666666666666666,\"#ed7953\"],[0.7777777777777778,\"#fb9f3a\"],[0.8888888888888888,\"#fdca26\"],[1.0,\"#f0f921\"]],\"diverging\":[[0,\"#8e0152\"],[0.1,\"#c51b7d\"],[0.2,\"#de77ae\"],[0.3,\"#f1b6da\"],[0.4,\"#fde0ef\"],[0.5,\"#f7f7f7\"],[0.6,\"#e6f5d0\"],[0.7,\"#b8e186\"],[0.8,\"#7fbc41\"],[0.9,\"#4d9221\"],[1,\"#276419\"]]},\"xaxis\":{\"gridcolor\":\"white\",\"linecolor\":\"white\",\"ticks\":\"\",\"title\":{\"standoff\":15},\"zerolinecolor\":\"white\",\"automargin\":true,\"zerolinewidth\":2},\"yaxis\":{\"gridcolor\":\"white\",\"linecolor\":\"white\",\"ticks\":\"\",\"title\":{\"standoff\":15},\"zerolinecolor\":\"white\",\"automargin\":true,\"zerolinewidth\":2},\"scene\":{\"xaxis\":{\"backgroundcolor\":\"#E5ECF6\",\"gridcolor\":\"white\",\"linecolor\":\"white\",\"showbackground\":true,\"ticks\":\"\",\"zerolinecolor\":\"white\",\"gridwidth\":2},\"yaxis\":{\"backgroundcolor\":\"#E5ECF6\",\"gridcolor\":\"white\",\"linecolor\":\"white\",\"showbackground\":true,\"ticks\":\"\",\"zerolinecolor\":\"white\",\"gridwidth\":2},\"zaxis\":{\"backgroundcolor\":\"#E5ECF6\",\"gridcolor\":\"white\",\"linecolor\":\"white\",\"showbackground\":true,\"ticks\":\"\",\"zerolinecolor\":\"white\",\"gridwidth\":2}},\"shapedefaults\":{\"line\":{\"color\":\"#2a3f5f\"}},\"annotationdefaults\":{\"arrowcolor\":\"#2a3f5f\",\"arrowhead\":0,\"arrowwidth\":1},\"geo\":{\"bgcolor\":\"white\",\"landcolor\":\"#E5ECF6\",\"subunitcolor\":\"white\",\"showland\":true,\"showlakes\":true,\"lakecolor\":\"white\"},\"title\":{\"x\":0.05},\"mapbox\":{\"style\":\"light\"}}},\"xaxis\":{\"anchor\":\"y\",\"domain\":[0.0,1.0],\"title\":{\"text\":\"Text Type\"}},\"yaxis\":{\"anchor\":\"x\",\"domain\":[0.0,1.0],\"title\":{\"text\":\"Translation Time (s)\"}},\"legend\":{\"title\":{\"text\":\"Target Language\"},\"tracegroupgap\":0},\"title\":{\"text\":\"Hugging Face Translation Times by Text Type and Target Language\"},\"barmode\":\"group\"},                        {\"responsive\": true}                    ).then(function(){\n",
       "                            \n",
       "var gd = document.getElementById('27cfa2fc-f8d4-4da9-aa92-7fb9c2d15d36');\n",
       "var x = new MutationObserver(function (mutations, observer) {{\n",
       "        var display = window.getComputedStyle(gd).display;\n",
       "        if (!display || display === 'none') {{\n",
       "            console.log([gd, 'removed!']);\n",
       "            Plotly.purge(gd);\n",
       "            observer.disconnect();\n",
       "        }}\n",
       "}});\n",
       "\n",
       "// Listen for the removal of the full notebook cells\n",
       "var notebookContainer = gd.closest('#notebook-container');\n",
       "if (notebookContainer) {{\n",
       "    x.observe(notebookContainer, {childList: true});\n",
       "}}\n",
       "\n",
       "// Listen for the clearing of the current output cell\n",
       "var outputEl = gd.closest('.output');\n",
       "if (outputEl) {{\n",
       "    x.observe(outputEl, {childList: true});\n",
       "}}\n",
       "\n",
       "                        })                };                });            </script>        </div>"
      ]
     },
     "metadata": {},
     "output_type": "display_data"
    },
    {
     "data": {
      "application/vnd.plotly.v1+json": {
       "config": {
        "plotlyServerURL": "https://plot.ly"
       },
       "data": [
        {
         "alignmentgroup": "True",
         "hovertemplate": "Target Language=Spanish<br>Text Type=%{x}<br>Translation Time (s)=%{y}<extra></extra>",
         "legendgroup": "Spanish",
         "marker": {
          "color": "#636efa",
          "pattern": {
           "shape": ""
          }
         },
         "name": "Spanish",
         "offsetgroup": "Spanish",
         "orientation": "v",
         "showlegend": true,
         "textposition": "auto",
         "type": "bar",
         "x": [
          "word",
          "sentence",
          "paragraph",
          "word",
          "sentence",
          "paragraph",
          "word",
          "sentence",
          "paragraph",
          "word",
          "sentence",
          "paragraph",
          "word",
          "sentence",
          "paragraph",
          "word",
          "sentence",
          "paragraph"
         ],
         "xaxis": "x",
         "y": [
          1.2379870414733887,
          0.8984739780426025,
          1.082571029663086,
          1.4913959503173828,
          1.4996600151062012,
          2.0946249961853027,
          1.3310701847076416,
          2.6365370750427246,
          2.2919490337371826,
          1.0132710933685303,
          1.1546642780303955,
          1.4424922466278076,
          0.8293249607086182,
          1.099822759628296,
          1.4125230312347412,
          1.3490979671478271,
          1.3144659996032715,
          0.9638171195983887
         ],
         "yaxis": "y"
        },
        {
         "alignmentgroup": "True",
         "hovertemplate": "Target Language=Chinese<br>Text Type=%{x}<br>Translation Time (s)=%{y}<extra></extra>",
         "legendgroup": "Chinese",
         "marker": {
          "color": "#EF553B",
          "pattern": {
           "shape": ""
          }
         },
         "name": "Chinese",
         "offsetgroup": "Chinese",
         "orientation": "v",
         "showlegend": true,
         "textposition": "auto",
         "type": "bar",
         "x": [
          "word",
          "sentence",
          "paragraph",
          "word",
          "sentence",
          "paragraph",
          "word",
          "sentence",
          "paragraph",
          "word",
          "sentence",
          "paragraph",
          "word",
          "sentence",
          "paragraph",
          "word",
          "sentence",
          "paragraph"
         ],
         "xaxis": "x",
         "y": [
          1.316380262374878,
          1.3084239959716797,
          2.2611677646636963,
          1.3782050609588623,
          1.5183520317077637,
          1.5052931308746338,
          1.4510631561279297,
          1.4402518272399902,
          1.6835520267486572,
          1.1377952098846436,
          0.7927978038787842,
          1.34322190284729,
          1.055283784866333,
          1.0637290477752686,
          1.6429612636566162,
          1.3789091110229492,
          0.8887500762939453,
          2.072402000427246
         ],
         "yaxis": "y"
        },
        {
         "alignmentgroup": "True",
         "hovertemplate": "Target Language=Arabic<br>Text Type=%{x}<br>Translation Time (s)=%{y}<extra></extra>",
         "legendgroup": "Arabic",
         "marker": {
          "color": "#00cc96",
          "pattern": {
           "shape": ""
          }
         },
         "name": "Arabic",
         "offsetgroup": "Arabic",
         "orientation": "v",
         "showlegend": true,
         "textposition": "auto",
         "type": "bar",
         "x": [
          "word",
          "sentence",
          "paragraph",
          "word",
          "sentence",
          "paragraph",
          "word",
          "sentence",
          "paragraph",
          "word",
          "sentence",
          "paragraph",
          "word",
          "sentence",
          "paragraph",
          "word",
          "sentence",
          "paragraph"
         ],
         "xaxis": "x",
         "y": [
          2.0283420085906982,
          1.1488580703735352,
          3.7522997856140137,
          1.3806681632995605,
          0.9719321727752686,
          1.3251457214355469,
          1.000349998474121,
          1.4192140102386475,
          1.7023723125457764,
          0.8027439117431641,
          1.0881547927856445,
          1.5502395629882812,
          0.8219468593597412,
          1.4813592433929443,
          1.605109691619873,
          0.9875130653381348,
          1.392383337020874,
          1.1951820850372314
         ],
         "yaxis": "y"
        },
        {
         "alignmentgroup": "True",
         "hovertemplate": "Target Language=Russian<br>Text Type=%{x}<br>Translation Time (s)=%{y}<extra></extra>",
         "legendgroup": "Russian",
         "marker": {
          "color": "#ab63fa",
          "pattern": {
           "shape": ""
          }
         },
         "name": "Russian",
         "offsetgroup": "Russian",
         "orientation": "v",
         "showlegend": true,
         "textposition": "auto",
         "type": "bar",
         "x": [
          "word",
          "sentence",
          "paragraph",
          "word",
          "sentence",
          "paragraph",
          "word",
          "sentence",
          "paragraph",
          "word",
          "sentence",
          "paragraph",
          "word",
          "sentence",
          "paragraph",
          "word",
          "sentence",
          "paragraph"
         ],
         "xaxis": "x",
         "y": [
          0.7441580295562744,
          1.430616855621338,
          1.8011870384216309,
          1.3301572799682617,
          1.3655321598052979,
          1.9576070308685303,
          1.7514681816101074,
          1.2350690364837646,
          2.876293182373047,
          3.1867992877960205,
          2.5184152126312256,
          1.7189140319824219,
          1.2132079601287842,
          0.8602187633514404,
          1.2338168621063232,
          1.623656988143921,
          1.0934021472930908,
          1.1753621101379395
         ],
         "yaxis": "y"
        },
        {
         "alignmentgroup": "True",
         "hovertemplate": "Target Language=German<br>Text Type=%{x}<br>Translation Time (s)=%{y}<extra></extra>",
         "legendgroup": "German",
         "marker": {
          "color": "#FFA15A",
          "pattern": {
           "shape": ""
          }
         },
         "name": "German",
         "offsetgroup": "German",
         "orientation": "v",
         "showlegend": true,
         "textposition": "auto",
         "type": "bar",
         "x": [
          "word",
          "sentence",
          "paragraph",
          "word",
          "sentence",
          "paragraph",
          "word",
          "sentence",
          "paragraph",
          "word",
          "sentence",
          "paragraph",
          "word",
          "sentence",
          "paragraph",
          "word",
          "sentence",
          "paragraph"
         ],
         "xaxis": "x",
         "y": [
          1.2444560527801514,
          1.6936511993408203,
          1.6602411270141602,
          2.9502298831939697,
          2.7571301460266113,
          1.8921692371368408,
          1.4466350078582764,
          1.0810019969940186,
          1.3290190696716309,
          0.7432858943939209,
          1.2003870010375977,
          2.685771942138672,
          1.1905317306518555,
          0.9343860149383545,
          1.3677849769592285,
          1.1870810985565186,
          1.3435871601104736,
          1.5889167785644531
         ],
         "yaxis": "y"
        },
        {
         "alignmentgroup": "True",
         "hovertemplate": "Target Language=French<br>Text Type=%{x}<br>Translation Time (s)=%{y}<extra></extra>",
         "legendgroup": "French",
         "marker": {
          "color": "#19d3f3",
          "pattern": {
           "shape": ""
          }
         },
         "name": "French",
         "offsetgroup": "French",
         "orientation": "v",
         "showlegend": true,
         "textposition": "auto",
         "type": "bar",
         "x": [
          "word",
          "sentence",
          "paragraph",
          "word",
          "sentence",
          "paragraph",
          "word",
          "sentence",
          "paragraph",
          "word",
          "sentence",
          "paragraph",
          "word",
          "sentence",
          "paragraph",
          "word",
          "sentence",
          "paragraph"
         ],
         "xaxis": "x",
         "y": [
          1.5942959785461426,
          2.8664419651031494,
          1.0392749309539795,
          1.335433006286621,
          1.120973825454712,
          1.4141581058502197,
          0.6518137454986572,
          1.6593141555786133,
          0.9705426692962646,
          1.3885347843170166,
          1.0483617782592773,
          1.1813201904296875,
          1.1755709648132324,
          1.238081932067871,
          1.5620880126953125,
          1.4774141311645508,
          0.8149418830871582,
          1.7072482109069824
         ],
         "yaxis": "y"
        },
        {
         "alignmentgroup": "True",
         "hovertemplate": "Target Language=English<br>Text Type=%{x}<br>Translation Time (s)=%{y}<extra></extra>",
         "legendgroup": "English",
         "marker": {
          "color": "#FF6692",
          "pattern": {
           "shape": ""
          }
         },
         "name": "English",
         "offsetgroup": "English",
         "orientation": "v",
         "showlegend": true,
         "textposition": "auto",
         "type": "bar",
         "x": [
          "word",
          "sentence",
          "paragraph",
          "word",
          "sentence",
          "paragraph",
          "word",
          "sentence",
          "paragraph",
          "word",
          "sentence",
          "paragraph",
          "word",
          "sentence",
          "paragraph",
          "word",
          "sentence",
          "paragraph"
         ],
         "xaxis": "x",
         "y": [
          0.7225539684295654,
          0.7194807529449463,
          1.5199573040008545,
          1.2443571090698242,
          1.629969835281372,
          1.5506830215454102,
          1.269300937652588,
          1.3741400241851807,
          1.7403578758239746,
          0.8337538242340088,
          0.6703588962554932,
          1.7258391380310059,
          1.2019259929656982,
          1.240849256515503,
          0.888477087020874,
          0.6419088840484619,
          1.552243947982788,
          1.6627709865570068
         ],
         "yaxis": "y"
        }
       ],
       "layout": {
        "barmode": "group",
        "legend": {
         "title": {
          "text": "Target Language"
         },
         "tracegroupgap": 0
        },
        "template": {
         "data": {
          "bar": [
           {
            "error_x": {
             "color": "#2a3f5f"
            },
            "error_y": {
             "color": "#2a3f5f"
            },
            "marker": {
             "line": {
              "color": "#E5ECF6",
              "width": 0.5
             },
             "pattern": {
              "fillmode": "overlay",
              "size": 10,
              "solidity": 0.2
             }
            },
            "type": "bar"
           }
          ],
          "barpolar": [
           {
            "marker": {
             "line": {
              "color": "#E5ECF6",
              "width": 0.5
             },
             "pattern": {
              "fillmode": "overlay",
              "size": 10,
              "solidity": 0.2
             }
            },
            "type": "barpolar"
           }
          ],
          "carpet": [
           {
            "aaxis": {
             "endlinecolor": "#2a3f5f",
             "gridcolor": "white",
             "linecolor": "white",
             "minorgridcolor": "white",
             "startlinecolor": "#2a3f5f"
            },
            "baxis": {
             "endlinecolor": "#2a3f5f",
             "gridcolor": "white",
             "linecolor": "white",
             "minorgridcolor": "white",
             "startlinecolor": "#2a3f5f"
            },
            "type": "carpet"
           }
          ],
          "choropleth": [
           {
            "colorbar": {
             "outlinewidth": 0,
             "ticks": ""
            },
            "type": "choropleth"
           }
          ],
          "contour": [
           {
            "colorbar": {
             "outlinewidth": 0,
             "ticks": ""
            },
            "colorscale": [
             [
              0,
              "#0d0887"
             ],
             [
              0.1111111111111111,
              "#46039f"
             ],
             [
              0.2222222222222222,
              "#7201a8"
             ],
             [
              0.3333333333333333,
              "#9c179e"
             ],
             [
              0.4444444444444444,
              "#bd3786"
             ],
             [
              0.5555555555555556,
              "#d8576b"
             ],
             [
              0.6666666666666666,
              "#ed7953"
             ],
             [
              0.7777777777777778,
              "#fb9f3a"
             ],
             [
              0.8888888888888888,
              "#fdca26"
             ],
             [
              1,
              "#f0f921"
             ]
            ],
            "type": "contour"
           }
          ],
          "contourcarpet": [
           {
            "colorbar": {
             "outlinewidth": 0,
             "ticks": ""
            },
            "type": "contourcarpet"
           }
          ],
          "heatmap": [
           {
            "colorbar": {
             "outlinewidth": 0,
             "ticks": ""
            },
            "colorscale": [
             [
              0,
              "#0d0887"
             ],
             [
              0.1111111111111111,
              "#46039f"
             ],
             [
              0.2222222222222222,
              "#7201a8"
             ],
             [
              0.3333333333333333,
              "#9c179e"
             ],
             [
              0.4444444444444444,
              "#bd3786"
             ],
             [
              0.5555555555555556,
              "#d8576b"
             ],
             [
              0.6666666666666666,
              "#ed7953"
             ],
             [
              0.7777777777777778,
              "#fb9f3a"
             ],
             [
              0.8888888888888888,
              "#fdca26"
             ],
             [
              1,
              "#f0f921"
             ]
            ],
            "type": "heatmap"
           }
          ],
          "heatmapgl": [
           {
            "colorbar": {
             "outlinewidth": 0,
             "ticks": ""
            },
            "colorscale": [
             [
              0,
              "#0d0887"
             ],
             [
              0.1111111111111111,
              "#46039f"
             ],
             [
              0.2222222222222222,
              "#7201a8"
             ],
             [
              0.3333333333333333,
              "#9c179e"
             ],
             [
              0.4444444444444444,
              "#bd3786"
             ],
             [
              0.5555555555555556,
              "#d8576b"
             ],
             [
              0.6666666666666666,
              "#ed7953"
             ],
             [
              0.7777777777777778,
              "#fb9f3a"
             ],
             [
              0.8888888888888888,
              "#fdca26"
             ],
             [
              1,
              "#f0f921"
             ]
            ],
            "type": "heatmapgl"
           }
          ],
          "histogram": [
           {
            "marker": {
             "pattern": {
              "fillmode": "overlay",
              "size": 10,
              "solidity": 0.2
             }
            },
            "type": "histogram"
           }
          ],
          "histogram2d": [
           {
            "colorbar": {
             "outlinewidth": 0,
             "ticks": ""
            },
            "colorscale": [
             [
              0,
              "#0d0887"
             ],
             [
              0.1111111111111111,
              "#46039f"
             ],
             [
              0.2222222222222222,
              "#7201a8"
             ],
             [
              0.3333333333333333,
              "#9c179e"
             ],
             [
              0.4444444444444444,
              "#bd3786"
             ],
             [
              0.5555555555555556,
              "#d8576b"
             ],
             [
              0.6666666666666666,
              "#ed7953"
             ],
             [
              0.7777777777777778,
              "#fb9f3a"
             ],
             [
              0.8888888888888888,
              "#fdca26"
             ],
             [
              1,
              "#f0f921"
             ]
            ],
            "type": "histogram2d"
           }
          ],
          "histogram2dcontour": [
           {
            "colorbar": {
             "outlinewidth": 0,
             "ticks": ""
            },
            "colorscale": [
             [
              0,
              "#0d0887"
             ],
             [
              0.1111111111111111,
              "#46039f"
             ],
             [
              0.2222222222222222,
              "#7201a8"
             ],
             [
              0.3333333333333333,
              "#9c179e"
             ],
             [
              0.4444444444444444,
              "#bd3786"
             ],
             [
              0.5555555555555556,
              "#d8576b"
             ],
             [
              0.6666666666666666,
              "#ed7953"
             ],
             [
              0.7777777777777778,
              "#fb9f3a"
             ],
             [
              0.8888888888888888,
              "#fdca26"
             ],
             [
              1,
              "#f0f921"
             ]
            ],
            "type": "histogram2dcontour"
           }
          ],
          "mesh3d": [
           {
            "colorbar": {
             "outlinewidth": 0,
             "ticks": ""
            },
            "type": "mesh3d"
           }
          ],
          "parcoords": [
           {
            "line": {
             "colorbar": {
              "outlinewidth": 0,
              "ticks": ""
             }
            },
            "type": "parcoords"
           }
          ],
          "pie": [
           {
            "automargin": true,
            "type": "pie"
           }
          ],
          "scatter": [
           {
            "fillpattern": {
             "fillmode": "overlay",
             "size": 10,
             "solidity": 0.2
            },
            "type": "scatter"
           }
          ],
          "scatter3d": [
           {
            "line": {
             "colorbar": {
              "outlinewidth": 0,
              "ticks": ""
             }
            },
            "marker": {
             "colorbar": {
              "outlinewidth": 0,
              "ticks": ""
             }
            },
            "type": "scatter3d"
           }
          ],
          "scattercarpet": [
           {
            "marker": {
             "colorbar": {
              "outlinewidth": 0,
              "ticks": ""
             }
            },
            "type": "scattercarpet"
           }
          ],
          "scattergeo": [
           {
            "marker": {
             "colorbar": {
              "outlinewidth": 0,
              "ticks": ""
             }
            },
            "type": "scattergeo"
           }
          ],
          "scattergl": [
           {
            "marker": {
             "colorbar": {
              "outlinewidth": 0,
              "ticks": ""
             }
            },
            "type": "scattergl"
           }
          ],
          "scattermapbox": [
           {
            "marker": {
             "colorbar": {
              "outlinewidth": 0,
              "ticks": ""
             }
            },
            "type": "scattermapbox"
           }
          ],
          "scatterpolar": [
           {
            "marker": {
             "colorbar": {
              "outlinewidth": 0,
              "ticks": ""
             }
            },
            "type": "scatterpolar"
           }
          ],
          "scatterpolargl": [
           {
            "marker": {
             "colorbar": {
              "outlinewidth": 0,
              "ticks": ""
             }
            },
            "type": "scatterpolargl"
           }
          ],
          "scatterternary": [
           {
            "marker": {
             "colorbar": {
              "outlinewidth": 0,
              "ticks": ""
             }
            },
            "type": "scatterternary"
           }
          ],
          "surface": [
           {
            "colorbar": {
             "outlinewidth": 0,
             "ticks": ""
            },
            "colorscale": [
             [
              0,
              "#0d0887"
             ],
             [
              0.1111111111111111,
              "#46039f"
             ],
             [
              0.2222222222222222,
              "#7201a8"
             ],
             [
              0.3333333333333333,
              "#9c179e"
             ],
             [
              0.4444444444444444,
              "#bd3786"
             ],
             [
              0.5555555555555556,
              "#d8576b"
             ],
             [
              0.6666666666666666,
              "#ed7953"
             ],
             [
              0.7777777777777778,
              "#fb9f3a"
             ],
             [
              0.8888888888888888,
              "#fdca26"
             ],
             [
              1,
              "#f0f921"
             ]
            ],
            "type": "surface"
           }
          ],
          "table": [
           {
            "cells": {
             "fill": {
              "color": "#EBF0F8"
             },
             "line": {
              "color": "white"
             }
            },
            "header": {
             "fill": {
              "color": "#C8D4E3"
             },
             "line": {
              "color": "white"
             }
            },
            "type": "table"
           }
          ]
         },
         "layout": {
          "annotationdefaults": {
           "arrowcolor": "#2a3f5f",
           "arrowhead": 0,
           "arrowwidth": 1
          },
          "autotypenumbers": "strict",
          "coloraxis": {
           "colorbar": {
            "outlinewidth": 0,
            "ticks": ""
           }
          },
          "colorscale": {
           "diverging": [
            [
             0,
             "#8e0152"
            ],
            [
             0.1,
             "#c51b7d"
            ],
            [
             0.2,
             "#de77ae"
            ],
            [
             0.3,
             "#f1b6da"
            ],
            [
             0.4,
             "#fde0ef"
            ],
            [
             0.5,
             "#f7f7f7"
            ],
            [
             0.6,
             "#e6f5d0"
            ],
            [
             0.7,
             "#b8e186"
            ],
            [
             0.8,
             "#7fbc41"
            ],
            [
             0.9,
             "#4d9221"
            ],
            [
             1,
             "#276419"
            ]
           ],
           "sequential": [
            [
             0,
             "#0d0887"
            ],
            [
             0.1111111111111111,
             "#46039f"
            ],
            [
             0.2222222222222222,
             "#7201a8"
            ],
            [
             0.3333333333333333,
             "#9c179e"
            ],
            [
             0.4444444444444444,
             "#bd3786"
            ],
            [
             0.5555555555555556,
             "#d8576b"
            ],
            [
             0.6666666666666666,
             "#ed7953"
            ],
            [
             0.7777777777777778,
             "#fb9f3a"
            ],
            [
             0.8888888888888888,
             "#fdca26"
            ],
            [
             1,
             "#f0f921"
            ]
           ],
           "sequentialminus": [
            [
             0,
             "#0d0887"
            ],
            [
             0.1111111111111111,
             "#46039f"
            ],
            [
             0.2222222222222222,
             "#7201a8"
            ],
            [
             0.3333333333333333,
             "#9c179e"
            ],
            [
             0.4444444444444444,
             "#bd3786"
            ],
            [
             0.5555555555555556,
             "#d8576b"
            ],
            [
             0.6666666666666666,
             "#ed7953"
            ],
            [
             0.7777777777777778,
             "#fb9f3a"
            ],
            [
             0.8888888888888888,
             "#fdca26"
            ],
            [
             1,
             "#f0f921"
            ]
           ]
          },
          "colorway": [
           "#636efa",
           "#EF553B",
           "#00cc96",
           "#ab63fa",
           "#FFA15A",
           "#19d3f3",
           "#FF6692",
           "#B6E880",
           "#FF97FF",
           "#FECB52"
          ],
          "font": {
           "color": "#2a3f5f"
          },
          "geo": {
           "bgcolor": "white",
           "lakecolor": "white",
           "landcolor": "#E5ECF6",
           "showlakes": true,
           "showland": true,
           "subunitcolor": "white"
          },
          "hoverlabel": {
           "align": "left"
          },
          "hovermode": "closest",
          "mapbox": {
           "style": "light"
          },
          "paper_bgcolor": "white",
          "plot_bgcolor": "#E5ECF6",
          "polar": {
           "angularaxis": {
            "gridcolor": "white",
            "linecolor": "white",
            "ticks": ""
           },
           "bgcolor": "#E5ECF6",
           "radialaxis": {
            "gridcolor": "white",
            "linecolor": "white",
            "ticks": ""
           }
          },
          "scene": {
           "xaxis": {
            "backgroundcolor": "#E5ECF6",
            "gridcolor": "white",
            "gridwidth": 2,
            "linecolor": "white",
            "showbackground": true,
            "ticks": "",
            "zerolinecolor": "white"
           },
           "yaxis": {
            "backgroundcolor": "#E5ECF6",
            "gridcolor": "white",
            "gridwidth": 2,
            "linecolor": "white",
            "showbackground": true,
            "ticks": "",
            "zerolinecolor": "white"
           },
           "zaxis": {
            "backgroundcolor": "#E5ECF6",
            "gridcolor": "white",
            "gridwidth": 2,
            "linecolor": "white",
            "showbackground": true,
            "ticks": "",
            "zerolinecolor": "white"
           }
          },
          "shapedefaults": {
           "line": {
            "color": "#2a3f5f"
           }
          },
          "ternary": {
           "aaxis": {
            "gridcolor": "white",
            "linecolor": "white",
            "ticks": ""
           },
           "baxis": {
            "gridcolor": "white",
            "linecolor": "white",
            "ticks": ""
           },
           "bgcolor": "#E5ECF6",
           "caxis": {
            "gridcolor": "white",
            "linecolor": "white",
            "ticks": ""
           }
          },
          "title": {
           "x": 0.05
          },
          "xaxis": {
           "automargin": true,
           "gridcolor": "white",
           "linecolor": "white",
           "ticks": "",
           "title": {
            "standoff": 15
           },
           "zerolinecolor": "white",
           "zerolinewidth": 2
          },
          "yaxis": {
           "automargin": true,
           "gridcolor": "white",
           "linecolor": "white",
           "ticks": "",
           "title": {
            "standoff": 15
           },
           "zerolinecolor": "white",
           "zerolinewidth": 2
          }
         }
        },
        "title": {
         "text": "Gemini Translation Times by Text Type and Target Language"
        },
        "xaxis": {
         "anchor": "y",
         "domain": [
          0,
          1
         ],
         "title": {
          "text": "Text Type"
         }
        },
        "yaxis": {
         "anchor": "x",
         "domain": [
          0,
          1
         ],
         "title": {
          "text": "Translation Time (s)"
         }
        }
       }
      },
      "text/html": [
       "<div>                            <div id=\"284544a5-1d5c-4c1d-99f9-0bef4aef20b0\" class=\"plotly-graph-div\" style=\"height:525px; width:100%;\"></div>            <script type=\"text/javascript\">                require([\"plotly\"], function(Plotly) {                    window.PLOTLYENV=window.PLOTLYENV || {};                                    if (document.getElementById(\"284544a5-1d5c-4c1d-99f9-0bef4aef20b0\")) {                    Plotly.newPlot(                        \"284544a5-1d5c-4c1d-99f9-0bef4aef20b0\",                        [{\"alignmentgroup\":\"True\",\"hovertemplate\":\"Target Language=Spanish\\u003cbr\\u003eText Type=%{x}\\u003cbr\\u003eTranslation Time (s)=%{y}\\u003cextra\\u003e\\u003c\\u002fextra\\u003e\",\"legendgroup\":\"Spanish\",\"marker\":{\"color\":\"#636efa\",\"pattern\":{\"shape\":\"\"}},\"name\":\"Spanish\",\"offsetgroup\":\"Spanish\",\"orientation\":\"v\",\"showlegend\":true,\"textposition\":\"auto\",\"x\":[\"word\",\"sentence\",\"paragraph\",\"word\",\"sentence\",\"paragraph\",\"word\",\"sentence\",\"paragraph\",\"word\",\"sentence\",\"paragraph\",\"word\",\"sentence\",\"paragraph\",\"word\",\"sentence\",\"paragraph\"],\"xaxis\":\"x\",\"y\":[1.2379870414733887,0.8984739780426025,1.082571029663086,1.4913959503173828,1.4996600151062012,2.0946249961853027,1.3310701847076416,2.6365370750427246,2.2919490337371826,1.0132710933685303,1.1546642780303955,1.4424922466278076,0.8293249607086182,1.099822759628296,1.4125230312347412,1.3490979671478271,1.3144659996032715,0.9638171195983887],\"yaxis\":\"y\",\"type\":\"bar\"},{\"alignmentgroup\":\"True\",\"hovertemplate\":\"Target Language=Chinese\\u003cbr\\u003eText Type=%{x}\\u003cbr\\u003eTranslation Time (s)=%{y}\\u003cextra\\u003e\\u003c\\u002fextra\\u003e\",\"legendgroup\":\"Chinese\",\"marker\":{\"color\":\"#EF553B\",\"pattern\":{\"shape\":\"\"}},\"name\":\"Chinese\",\"offsetgroup\":\"Chinese\",\"orientation\":\"v\",\"showlegend\":true,\"textposition\":\"auto\",\"x\":[\"word\",\"sentence\",\"paragraph\",\"word\",\"sentence\",\"paragraph\",\"word\",\"sentence\",\"paragraph\",\"word\",\"sentence\",\"paragraph\",\"word\",\"sentence\",\"paragraph\",\"word\",\"sentence\",\"paragraph\"],\"xaxis\":\"x\",\"y\":[1.316380262374878,1.3084239959716797,2.2611677646636963,1.3782050609588623,1.5183520317077637,1.5052931308746338,1.4510631561279297,1.4402518272399902,1.6835520267486572,1.1377952098846436,0.7927978038787842,1.34322190284729,1.055283784866333,1.0637290477752686,1.6429612636566162,1.3789091110229492,0.8887500762939453,2.072402000427246],\"yaxis\":\"y\",\"type\":\"bar\"},{\"alignmentgroup\":\"True\",\"hovertemplate\":\"Target Language=Arabic\\u003cbr\\u003eText Type=%{x}\\u003cbr\\u003eTranslation Time (s)=%{y}\\u003cextra\\u003e\\u003c\\u002fextra\\u003e\",\"legendgroup\":\"Arabic\",\"marker\":{\"color\":\"#00cc96\",\"pattern\":{\"shape\":\"\"}},\"name\":\"Arabic\",\"offsetgroup\":\"Arabic\",\"orientation\":\"v\",\"showlegend\":true,\"textposition\":\"auto\",\"x\":[\"word\",\"sentence\",\"paragraph\",\"word\",\"sentence\",\"paragraph\",\"word\",\"sentence\",\"paragraph\",\"word\",\"sentence\",\"paragraph\",\"word\",\"sentence\",\"paragraph\",\"word\",\"sentence\",\"paragraph\"],\"xaxis\":\"x\",\"y\":[2.0283420085906982,1.1488580703735352,3.7522997856140137,1.3806681632995605,0.9719321727752686,1.3251457214355469,1.000349998474121,1.4192140102386475,1.7023723125457764,0.8027439117431641,1.0881547927856445,1.5502395629882812,0.8219468593597412,1.4813592433929443,1.605109691619873,0.9875130653381348,1.392383337020874,1.1951820850372314],\"yaxis\":\"y\",\"type\":\"bar\"},{\"alignmentgroup\":\"True\",\"hovertemplate\":\"Target Language=Russian\\u003cbr\\u003eText Type=%{x}\\u003cbr\\u003eTranslation Time (s)=%{y}\\u003cextra\\u003e\\u003c\\u002fextra\\u003e\",\"legendgroup\":\"Russian\",\"marker\":{\"color\":\"#ab63fa\",\"pattern\":{\"shape\":\"\"}},\"name\":\"Russian\",\"offsetgroup\":\"Russian\",\"orientation\":\"v\",\"showlegend\":true,\"textposition\":\"auto\",\"x\":[\"word\",\"sentence\",\"paragraph\",\"word\",\"sentence\",\"paragraph\",\"word\",\"sentence\",\"paragraph\",\"word\",\"sentence\",\"paragraph\",\"word\",\"sentence\",\"paragraph\",\"word\",\"sentence\",\"paragraph\"],\"xaxis\":\"x\",\"y\":[0.7441580295562744,1.430616855621338,1.8011870384216309,1.3301572799682617,1.3655321598052979,1.9576070308685303,1.7514681816101074,1.2350690364837646,2.876293182373047,3.1867992877960205,2.5184152126312256,1.7189140319824219,1.2132079601287842,0.8602187633514404,1.2338168621063232,1.623656988143921,1.0934021472930908,1.1753621101379395],\"yaxis\":\"y\",\"type\":\"bar\"},{\"alignmentgroup\":\"True\",\"hovertemplate\":\"Target Language=German\\u003cbr\\u003eText Type=%{x}\\u003cbr\\u003eTranslation Time (s)=%{y}\\u003cextra\\u003e\\u003c\\u002fextra\\u003e\",\"legendgroup\":\"German\",\"marker\":{\"color\":\"#FFA15A\",\"pattern\":{\"shape\":\"\"}},\"name\":\"German\",\"offsetgroup\":\"German\",\"orientation\":\"v\",\"showlegend\":true,\"textposition\":\"auto\",\"x\":[\"word\",\"sentence\",\"paragraph\",\"word\",\"sentence\",\"paragraph\",\"word\",\"sentence\",\"paragraph\",\"word\",\"sentence\",\"paragraph\",\"word\",\"sentence\",\"paragraph\",\"word\",\"sentence\",\"paragraph\"],\"xaxis\":\"x\",\"y\":[1.2444560527801514,1.6936511993408203,1.6602411270141602,2.9502298831939697,2.7571301460266113,1.8921692371368408,1.4466350078582764,1.0810019969940186,1.3290190696716309,0.7432858943939209,1.2003870010375977,2.685771942138672,1.1905317306518555,0.9343860149383545,1.3677849769592285,1.1870810985565186,1.3435871601104736,1.5889167785644531],\"yaxis\":\"y\",\"type\":\"bar\"},{\"alignmentgroup\":\"True\",\"hovertemplate\":\"Target Language=French\\u003cbr\\u003eText Type=%{x}\\u003cbr\\u003eTranslation Time (s)=%{y}\\u003cextra\\u003e\\u003c\\u002fextra\\u003e\",\"legendgroup\":\"French\",\"marker\":{\"color\":\"#19d3f3\",\"pattern\":{\"shape\":\"\"}},\"name\":\"French\",\"offsetgroup\":\"French\",\"orientation\":\"v\",\"showlegend\":true,\"textposition\":\"auto\",\"x\":[\"word\",\"sentence\",\"paragraph\",\"word\",\"sentence\",\"paragraph\",\"word\",\"sentence\",\"paragraph\",\"word\",\"sentence\",\"paragraph\",\"word\",\"sentence\",\"paragraph\",\"word\",\"sentence\",\"paragraph\"],\"xaxis\":\"x\",\"y\":[1.5942959785461426,2.8664419651031494,1.0392749309539795,1.335433006286621,1.120973825454712,1.4141581058502197,0.6518137454986572,1.6593141555786133,0.9705426692962646,1.3885347843170166,1.0483617782592773,1.1813201904296875,1.1755709648132324,1.238081932067871,1.5620880126953125,1.4774141311645508,0.8149418830871582,1.7072482109069824],\"yaxis\":\"y\",\"type\":\"bar\"},{\"alignmentgroup\":\"True\",\"hovertemplate\":\"Target Language=English\\u003cbr\\u003eText Type=%{x}\\u003cbr\\u003eTranslation Time (s)=%{y}\\u003cextra\\u003e\\u003c\\u002fextra\\u003e\",\"legendgroup\":\"English\",\"marker\":{\"color\":\"#FF6692\",\"pattern\":{\"shape\":\"\"}},\"name\":\"English\",\"offsetgroup\":\"English\",\"orientation\":\"v\",\"showlegend\":true,\"textposition\":\"auto\",\"x\":[\"word\",\"sentence\",\"paragraph\",\"word\",\"sentence\",\"paragraph\",\"word\",\"sentence\",\"paragraph\",\"word\",\"sentence\",\"paragraph\",\"word\",\"sentence\",\"paragraph\",\"word\",\"sentence\",\"paragraph\"],\"xaxis\":\"x\",\"y\":[0.7225539684295654,0.7194807529449463,1.5199573040008545,1.2443571090698242,1.629969835281372,1.5506830215454102,1.269300937652588,1.3741400241851807,1.7403578758239746,0.8337538242340088,0.6703588962554932,1.7258391380310059,1.2019259929656982,1.240849256515503,0.888477087020874,0.6419088840484619,1.552243947982788,1.6627709865570068],\"yaxis\":\"y\",\"type\":\"bar\"}],                        {\"template\":{\"data\":{\"histogram2dcontour\":[{\"type\":\"histogram2dcontour\",\"colorbar\":{\"outlinewidth\":0,\"ticks\":\"\"},\"colorscale\":[[0.0,\"#0d0887\"],[0.1111111111111111,\"#46039f\"],[0.2222222222222222,\"#7201a8\"],[0.3333333333333333,\"#9c179e\"],[0.4444444444444444,\"#bd3786\"],[0.5555555555555556,\"#d8576b\"],[0.6666666666666666,\"#ed7953\"],[0.7777777777777778,\"#fb9f3a\"],[0.8888888888888888,\"#fdca26\"],[1.0,\"#f0f921\"]]}],\"choropleth\":[{\"type\":\"choropleth\",\"colorbar\":{\"outlinewidth\":0,\"ticks\":\"\"}}],\"histogram2d\":[{\"type\":\"histogram2d\",\"colorbar\":{\"outlinewidth\":0,\"ticks\":\"\"},\"colorscale\":[[0.0,\"#0d0887\"],[0.1111111111111111,\"#46039f\"],[0.2222222222222222,\"#7201a8\"],[0.3333333333333333,\"#9c179e\"],[0.4444444444444444,\"#bd3786\"],[0.5555555555555556,\"#d8576b\"],[0.6666666666666666,\"#ed7953\"],[0.7777777777777778,\"#fb9f3a\"],[0.8888888888888888,\"#fdca26\"],[1.0,\"#f0f921\"]]}],\"heatmap\":[{\"type\":\"heatmap\",\"colorbar\":{\"outlinewidth\":0,\"ticks\":\"\"},\"colorscale\":[[0.0,\"#0d0887\"],[0.1111111111111111,\"#46039f\"],[0.2222222222222222,\"#7201a8\"],[0.3333333333333333,\"#9c179e\"],[0.4444444444444444,\"#bd3786\"],[0.5555555555555556,\"#d8576b\"],[0.6666666666666666,\"#ed7953\"],[0.7777777777777778,\"#fb9f3a\"],[0.8888888888888888,\"#fdca26\"],[1.0,\"#f0f921\"]]}],\"heatmapgl\":[{\"type\":\"heatmapgl\",\"colorbar\":{\"outlinewidth\":0,\"ticks\":\"\"},\"colorscale\":[[0.0,\"#0d0887\"],[0.1111111111111111,\"#46039f\"],[0.2222222222222222,\"#7201a8\"],[0.3333333333333333,\"#9c179e\"],[0.4444444444444444,\"#bd3786\"],[0.5555555555555556,\"#d8576b\"],[0.6666666666666666,\"#ed7953\"],[0.7777777777777778,\"#fb9f3a\"],[0.8888888888888888,\"#fdca26\"],[1.0,\"#f0f921\"]]}],\"contourcarpet\":[{\"type\":\"contourcarpet\",\"colorbar\":{\"outlinewidth\":0,\"ticks\":\"\"}}],\"contour\":[{\"type\":\"contour\",\"colorbar\":{\"outlinewidth\":0,\"ticks\":\"\"},\"colorscale\":[[0.0,\"#0d0887\"],[0.1111111111111111,\"#46039f\"],[0.2222222222222222,\"#7201a8\"],[0.3333333333333333,\"#9c179e\"],[0.4444444444444444,\"#bd3786\"],[0.5555555555555556,\"#d8576b\"],[0.6666666666666666,\"#ed7953\"],[0.7777777777777778,\"#fb9f3a\"],[0.8888888888888888,\"#fdca26\"],[1.0,\"#f0f921\"]]}],\"surface\":[{\"type\":\"surface\",\"colorbar\":{\"outlinewidth\":0,\"ticks\":\"\"},\"colorscale\":[[0.0,\"#0d0887\"],[0.1111111111111111,\"#46039f\"],[0.2222222222222222,\"#7201a8\"],[0.3333333333333333,\"#9c179e\"],[0.4444444444444444,\"#bd3786\"],[0.5555555555555556,\"#d8576b\"],[0.6666666666666666,\"#ed7953\"],[0.7777777777777778,\"#fb9f3a\"],[0.8888888888888888,\"#fdca26\"],[1.0,\"#f0f921\"]]}],\"mesh3d\":[{\"type\":\"mesh3d\",\"colorbar\":{\"outlinewidth\":0,\"ticks\":\"\"}}],\"scatter\":[{\"fillpattern\":{\"fillmode\":\"overlay\",\"size\":10,\"solidity\":0.2},\"type\":\"scatter\"}],\"parcoords\":[{\"type\":\"parcoords\",\"line\":{\"colorbar\":{\"outlinewidth\":0,\"ticks\":\"\"}}}],\"scatterpolargl\":[{\"type\":\"scatterpolargl\",\"marker\":{\"colorbar\":{\"outlinewidth\":0,\"ticks\":\"\"}}}],\"bar\":[{\"error_x\":{\"color\":\"#2a3f5f\"},\"error_y\":{\"color\":\"#2a3f5f\"},\"marker\":{\"line\":{\"color\":\"#E5ECF6\",\"width\":0.5},\"pattern\":{\"fillmode\":\"overlay\",\"size\":10,\"solidity\":0.2}},\"type\":\"bar\"}],\"scattergeo\":[{\"type\":\"scattergeo\",\"marker\":{\"colorbar\":{\"outlinewidth\":0,\"ticks\":\"\"}}}],\"scatterpolar\":[{\"type\":\"scatterpolar\",\"marker\":{\"colorbar\":{\"outlinewidth\":0,\"ticks\":\"\"}}}],\"histogram\":[{\"marker\":{\"pattern\":{\"fillmode\":\"overlay\",\"size\":10,\"solidity\":0.2}},\"type\":\"histogram\"}],\"scattergl\":[{\"type\":\"scattergl\",\"marker\":{\"colorbar\":{\"outlinewidth\":0,\"ticks\":\"\"}}}],\"scatter3d\":[{\"type\":\"scatter3d\",\"line\":{\"colorbar\":{\"outlinewidth\":0,\"ticks\":\"\"}},\"marker\":{\"colorbar\":{\"outlinewidth\":0,\"ticks\":\"\"}}}],\"scattermapbox\":[{\"type\":\"scattermapbox\",\"marker\":{\"colorbar\":{\"outlinewidth\":0,\"ticks\":\"\"}}}],\"scatterternary\":[{\"type\":\"scatterternary\",\"marker\":{\"colorbar\":{\"outlinewidth\":0,\"ticks\":\"\"}}}],\"scattercarpet\":[{\"type\":\"scattercarpet\",\"marker\":{\"colorbar\":{\"outlinewidth\":0,\"ticks\":\"\"}}}],\"carpet\":[{\"aaxis\":{\"endlinecolor\":\"#2a3f5f\",\"gridcolor\":\"white\",\"linecolor\":\"white\",\"minorgridcolor\":\"white\",\"startlinecolor\":\"#2a3f5f\"},\"baxis\":{\"endlinecolor\":\"#2a3f5f\",\"gridcolor\":\"white\",\"linecolor\":\"white\",\"minorgridcolor\":\"white\",\"startlinecolor\":\"#2a3f5f\"},\"type\":\"carpet\"}],\"table\":[{\"cells\":{\"fill\":{\"color\":\"#EBF0F8\"},\"line\":{\"color\":\"white\"}},\"header\":{\"fill\":{\"color\":\"#C8D4E3\"},\"line\":{\"color\":\"white\"}},\"type\":\"table\"}],\"barpolar\":[{\"marker\":{\"line\":{\"color\":\"#E5ECF6\",\"width\":0.5},\"pattern\":{\"fillmode\":\"overlay\",\"size\":10,\"solidity\":0.2}},\"type\":\"barpolar\"}],\"pie\":[{\"automargin\":true,\"type\":\"pie\"}]},\"layout\":{\"autotypenumbers\":\"strict\",\"colorway\":[\"#636efa\",\"#EF553B\",\"#00cc96\",\"#ab63fa\",\"#FFA15A\",\"#19d3f3\",\"#FF6692\",\"#B6E880\",\"#FF97FF\",\"#FECB52\"],\"font\":{\"color\":\"#2a3f5f\"},\"hovermode\":\"closest\",\"hoverlabel\":{\"align\":\"left\"},\"paper_bgcolor\":\"white\",\"plot_bgcolor\":\"#E5ECF6\",\"polar\":{\"bgcolor\":\"#E5ECF6\",\"angularaxis\":{\"gridcolor\":\"white\",\"linecolor\":\"white\",\"ticks\":\"\"},\"radialaxis\":{\"gridcolor\":\"white\",\"linecolor\":\"white\",\"ticks\":\"\"}},\"ternary\":{\"bgcolor\":\"#E5ECF6\",\"aaxis\":{\"gridcolor\":\"white\",\"linecolor\":\"white\",\"ticks\":\"\"},\"baxis\":{\"gridcolor\":\"white\",\"linecolor\":\"white\",\"ticks\":\"\"},\"caxis\":{\"gridcolor\":\"white\",\"linecolor\":\"white\",\"ticks\":\"\"}},\"coloraxis\":{\"colorbar\":{\"outlinewidth\":0,\"ticks\":\"\"}},\"colorscale\":{\"sequential\":[[0.0,\"#0d0887\"],[0.1111111111111111,\"#46039f\"],[0.2222222222222222,\"#7201a8\"],[0.3333333333333333,\"#9c179e\"],[0.4444444444444444,\"#bd3786\"],[0.5555555555555556,\"#d8576b\"],[0.6666666666666666,\"#ed7953\"],[0.7777777777777778,\"#fb9f3a\"],[0.8888888888888888,\"#fdca26\"],[1.0,\"#f0f921\"]],\"sequentialminus\":[[0.0,\"#0d0887\"],[0.1111111111111111,\"#46039f\"],[0.2222222222222222,\"#7201a8\"],[0.3333333333333333,\"#9c179e\"],[0.4444444444444444,\"#bd3786\"],[0.5555555555555556,\"#d8576b\"],[0.6666666666666666,\"#ed7953\"],[0.7777777777777778,\"#fb9f3a\"],[0.8888888888888888,\"#fdca26\"],[1.0,\"#f0f921\"]],\"diverging\":[[0,\"#8e0152\"],[0.1,\"#c51b7d\"],[0.2,\"#de77ae\"],[0.3,\"#f1b6da\"],[0.4,\"#fde0ef\"],[0.5,\"#f7f7f7\"],[0.6,\"#e6f5d0\"],[0.7,\"#b8e186\"],[0.8,\"#7fbc41\"],[0.9,\"#4d9221\"],[1,\"#276419\"]]},\"xaxis\":{\"gridcolor\":\"white\",\"linecolor\":\"white\",\"ticks\":\"\",\"title\":{\"standoff\":15},\"zerolinecolor\":\"white\",\"automargin\":true,\"zerolinewidth\":2},\"yaxis\":{\"gridcolor\":\"white\",\"linecolor\":\"white\",\"ticks\":\"\",\"title\":{\"standoff\":15},\"zerolinecolor\":\"white\",\"automargin\":true,\"zerolinewidth\":2},\"scene\":{\"xaxis\":{\"backgroundcolor\":\"#E5ECF6\",\"gridcolor\":\"white\",\"linecolor\":\"white\",\"showbackground\":true,\"ticks\":\"\",\"zerolinecolor\":\"white\",\"gridwidth\":2},\"yaxis\":{\"backgroundcolor\":\"#E5ECF6\",\"gridcolor\":\"white\",\"linecolor\":\"white\",\"showbackground\":true,\"ticks\":\"\",\"zerolinecolor\":\"white\",\"gridwidth\":2},\"zaxis\":{\"backgroundcolor\":\"#E5ECF6\",\"gridcolor\":\"white\",\"linecolor\":\"white\",\"showbackground\":true,\"ticks\":\"\",\"zerolinecolor\":\"white\",\"gridwidth\":2}},\"shapedefaults\":{\"line\":{\"color\":\"#2a3f5f\"}},\"annotationdefaults\":{\"arrowcolor\":\"#2a3f5f\",\"arrowhead\":0,\"arrowwidth\":1},\"geo\":{\"bgcolor\":\"white\",\"landcolor\":\"#E5ECF6\",\"subunitcolor\":\"white\",\"showland\":true,\"showlakes\":true,\"lakecolor\":\"white\"},\"title\":{\"x\":0.05},\"mapbox\":{\"style\":\"light\"}}},\"xaxis\":{\"anchor\":\"y\",\"domain\":[0.0,1.0],\"title\":{\"text\":\"Text Type\"}},\"yaxis\":{\"anchor\":\"x\",\"domain\":[0.0,1.0],\"title\":{\"text\":\"Translation Time (s)\"}},\"legend\":{\"title\":{\"text\":\"Target Language\"},\"tracegroupgap\":0},\"title\":{\"text\":\"Gemini Translation Times by Text Type and Target Language\"},\"barmode\":\"group\"},                        {\"responsive\": true}                    ).then(function(){\n",
       "                            \n",
       "var gd = document.getElementById('284544a5-1d5c-4c1d-99f9-0bef4aef20b0');\n",
       "var x = new MutationObserver(function (mutations, observer) {{\n",
       "        var display = window.getComputedStyle(gd).display;\n",
       "        if (!display || display === 'none') {{\n",
       "            console.log([gd, 'removed!']);\n",
       "            Plotly.purge(gd);\n",
       "            observer.disconnect();\n",
       "        }}\n",
       "}});\n",
       "\n",
       "// Listen for the removal of the full notebook cells\n",
       "var notebookContainer = gd.closest('#notebook-container');\n",
       "if (notebookContainer) {{\n",
       "    x.observe(notebookContainer, {childList: true});\n",
       "}}\n",
       "\n",
       "// Listen for the clearing of the current output cell\n",
       "var outputEl = gd.closest('.output');\n",
       "if (outputEl) {{\n",
       "    x.observe(outputEl, {childList: true});\n",
       "}}\n",
       "\n",
       "                        })                };                });            </script>        </div>"
      ]
     },
     "metadata": {},
     "output_type": "display_data"
    },
    {
     "data": {
      "application/vnd.plotly.v1+json": {
       "config": {
        "plotlyServerURL": "https://plot.ly"
       },
       "data": [
        {
         "alignmentgroup": "True",
         "hovertemplate": "Model=HF Translation Time (s)<br>Text Type=%{x}<br>Translation Time (s)=%{y}<extra></extra>",
         "legendgroup": "HF Translation Time (s)",
         "marker": {
          "color": "#636efa",
          "pattern": {
           "shape": ""
          }
         },
         "name": "HF Translation Time (s)",
         "offsetgroup": "HF Translation Time (s)",
         "orientation": "v",
         "showlegend": true,
         "textposition": "auto",
         "type": "bar",
         "x": [
          "word",
          "sentence",
          "paragraph",
          "word",
          "sentence",
          "paragraph",
          "word",
          "sentence",
          "paragraph",
          "word",
          "sentence",
          "paragraph",
          "word",
          "sentence",
          "paragraph",
          "word",
          "sentence",
          "paragraph",
          "word",
          "sentence",
          "paragraph",
          "word",
          "sentence",
          "paragraph",
          "word",
          "sentence",
          "paragraph",
          "word",
          "sentence",
          "paragraph",
          "word",
          "sentence",
          "paragraph",
          "word",
          "sentence",
          "paragraph",
          "word",
          "sentence",
          "paragraph",
          "word",
          "sentence",
          "paragraph",
          "word",
          "sentence",
          "paragraph",
          "word",
          "sentence",
          "paragraph",
          "word",
          "sentence",
          "paragraph",
          "word",
          "sentence",
          "paragraph",
          "word",
          "sentence",
          "paragraph",
          "word",
          "sentence",
          "paragraph",
          "word",
          "sentence",
          "paragraph",
          "word",
          "sentence",
          "paragraph",
          "word",
          "sentence",
          "paragraph",
          "word",
          "sentence",
          "paragraph",
          "word",
          "sentence",
          "paragraph",
          "word",
          "sentence",
          "paragraph",
          "word",
          "sentence",
          "paragraph",
          "word",
          "sentence",
          "paragraph",
          "word",
          "sentence",
          "paragraph",
          "word",
          "sentence",
          "paragraph",
          "word",
          "sentence",
          "paragraph",
          "word",
          "sentence",
          "paragraph",
          "word",
          "sentence",
          "paragraph",
          "word",
          "sentence",
          "paragraph",
          "word",
          "sentence",
          "paragraph",
          "word",
          "sentence",
          "paragraph",
          "word",
          "sentence",
          "paragraph",
          "word",
          "sentence",
          "paragraph",
          "word",
          "sentence",
          "paragraph",
          "word",
          "sentence",
          "paragraph",
          "word",
          "sentence",
          "paragraph",
          "word",
          "sentence",
          "paragraph"
         ],
         "xaxis": "x",
         "y": [
          1.3585360050201416,
          0.2865791320800781,
          0.803361177444458,
          13.740643978118896,
          0.22876715660095215,
          0.6843557357788086,
          1.1046462059020996,
          0.2668418884277344,
          0.9934122562408447,
          1.2646098136901855,
          0.21195077896118164,
          0.7129669189453125,
          1.4940011501312256,
          0.2397630214691162,
          1.4659051895141602,
          1.139242172241211,
          0.29642319679260254,
          1.1287760734558105,
          1.2553839683532715,
          0.24301600456237793,
          0.7793700695037842,
          2.630890130996704,
          2.0359020233154297,
          1.2370860576629639,
          2.0991649627685547,
          2.5022132396698,
          3.2258729934692383,
          1.322613000869751,
          0.3540501594543457,
          1.077500820159912,
          1.374389886856079,
          0.31681108474731445,
          1.204503059387207,
          1.6086070537567139,
          0.2710847854614258,
          1.1909446716308594,
          1.3883557319641113,
          0.3995399475097656,
          0.6267950534820557,
          2.1974589824676514,
          1.0220363140106201,
          1.2419509887695312,
          2.402592182159424,
          2.0003702640533447,
          1.6693220138549805,
          3.315403938293457,
          0.9264540672302246,
          3.25339412689209,
          1.2411401271820068,
          0.248138427734375,
          0.5382981300354004,
          2.498991012573242,
          1.3942170143127441,
          1.6685988903045654,
          1.3208303451538086,
          0.23713397979736328,
          0.6541798114776611,
          1.2219188213348389,
          0.45336389541625977,
          1.7078211307525635,
          1.468353033065796,
          1.3538780212402344,
          2.8444862365722656,
          1.1260268688201904,
          1.0349700450897217,
          1.7733790874481201,
          1.2564501762390137,
          0.3743317127227783,
          0.7584409713745117,
          1.299926996231079,
          0.2761862277984619,
          1.1362709999084473,
          1.6997742652893066,
          0.3680441379547119,
          1.9286088943481445,
          1.7802999019622803,
          0.5595557689666748,
          1.2246110439300537,
          1.0505709648132324,
          1.3514549732208252,
          1.5411877632141113,
          3.4366421699523926,
          0.5098698139190674,
          2.07962703704834,
          0.8088362216949463,
          1.1121149063110352,
          1.4001829624176025,
          1.2476017475128174,
          0.4336278438568115,
          0.9930951595306396,
          1.3644249439239502,
          0.3016219139099121,
          1.2487561702728271,
          1.4145750999450684,
          0.33475208282470703,
          1.4780189990997314,
          1.491034746170044,
          0.18531394004821777,
          1.4340059757232666,
          1.1225769519805908,
          4.330995321273804,
          4.725088119506836,
          1.3700709342956543,
          1.2256288528442383,
          1.8978078365325928,
          1.6978182792663574,
          0.38873910903930664,
          1.1848080158233643,
          1.1506881713867188,
          0.33710265159606934,
          0.7789719104766846,
          1.610727310180664,
          0.8951599597930908,
          1.6162447929382324,
          1.3388068675994873,
          0.9294121265411377,
          1.9492690563201904,
          3.5965938568115234,
          0.28314971923828125,
          2.0985288619995117,
          1.6343181133270264,
          0.40846896171569824,
          1.3011457920074463,
          1.4454882144927979,
          0.4187180995941162,
          1.2787389755249023
         ],
         "yaxis": "y"
        },
        {
         "alignmentgroup": "True",
         "hovertemplate": "Model=Gemini Translation Time (s)<br>Text Type=%{x}<br>Translation Time (s)=%{y}<extra></extra>",
         "legendgroup": "Gemini Translation Time (s)",
         "marker": {
          "color": "#EF553B",
          "pattern": {
           "shape": ""
          }
         },
         "name": "Gemini Translation Time (s)",
         "offsetgroup": "Gemini Translation Time (s)",
         "orientation": "v",
         "showlegend": true,
         "textposition": "auto",
         "type": "bar",
         "x": [
          "word",
          "sentence",
          "paragraph",
          "word",
          "sentence",
          "paragraph",
          "word",
          "sentence",
          "paragraph",
          "word",
          "sentence",
          "paragraph",
          "word",
          "sentence",
          "paragraph",
          "word",
          "sentence",
          "paragraph",
          "word",
          "sentence",
          "paragraph",
          "word",
          "sentence",
          "paragraph",
          "word",
          "sentence",
          "paragraph",
          "word",
          "sentence",
          "paragraph",
          "word",
          "sentence",
          "paragraph",
          "word",
          "sentence",
          "paragraph",
          "word",
          "sentence",
          "paragraph",
          "word",
          "sentence",
          "paragraph",
          "word",
          "sentence",
          "paragraph",
          "word",
          "sentence",
          "paragraph",
          "word",
          "sentence",
          "paragraph",
          "word",
          "sentence",
          "paragraph",
          "word",
          "sentence",
          "paragraph",
          "word",
          "sentence",
          "paragraph",
          "word",
          "sentence",
          "paragraph",
          "word",
          "sentence",
          "paragraph",
          "word",
          "sentence",
          "paragraph",
          "word",
          "sentence",
          "paragraph",
          "word",
          "sentence",
          "paragraph",
          "word",
          "sentence",
          "paragraph",
          "word",
          "sentence",
          "paragraph",
          "word",
          "sentence",
          "paragraph",
          "word",
          "sentence",
          "paragraph",
          "word",
          "sentence",
          "paragraph",
          "word",
          "sentence",
          "paragraph",
          "word",
          "sentence",
          "paragraph",
          "word",
          "sentence",
          "paragraph",
          "word",
          "sentence",
          "paragraph",
          "word",
          "sentence",
          "paragraph",
          "word",
          "sentence",
          "paragraph",
          "word",
          "sentence",
          "paragraph",
          "word",
          "sentence",
          "paragraph",
          "word",
          "sentence",
          "paragraph",
          "word",
          "sentence",
          "paragraph",
          "word",
          "sentence",
          "paragraph",
          "word",
          "sentence",
          "paragraph"
         ],
         "xaxis": "x",
         "y": [
          1.2379870414733887,
          0.8984739780426025,
          1.082571029663086,
          1.316380262374878,
          1.3084239959716797,
          2.2611677646636963,
          2.0283420085906982,
          1.1488580703735352,
          3.7522997856140137,
          0.7441580295562744,
          1.430616855621338,
          1.8011870384216309,
          1.2444560527801514,
          1.6936511993408203,
          1.6602411270141602,
          1.5942959785461426,
          2.8664419651031494,
          1.0392749309539795,
          0.7225539684295654,
          0.7194807529449463,
          1.5199573040008545,
          1.3782050609588623,
          1.5183520317077637,
          1.5052931308746338,
          1.3806681632995605,
          0.9719321727752686,
          1.3251457214355469,
          1.3301572799682617,
          1.3655321598052979,
          1.9576070308685303,
          2.9502298831939697,
          2.7571301460266113,
          1.8921692371368408,
          1.335433006286621,
          1.120973825454712,
          1.4141581058502197,
          1.2443571090698242,
          1.629969835281372,
          1.5506830215454102,
          1.4913959503173828,
          1.4996600151062012,
          2.0946249961853027,
          1.000349998474121,
          1.4192140102386475,
          1.7023723125457764,
          1.7514681816101074,
          1.2350690364837646,
          2.876293182373047,
          1.4466350078582764,
          1.0810019969940186,
          1.3290190696716309,
          0.6518137454986572,
          1.6593141555786133,
          0.9705426692962646,
          1.269300937652588,
          1.3741400241851807,
          1.7403578758239746,
          1.3310701847076416,
          2.6365370750427246,
          2.2919490337371826,
          1.4510631561279297,
          1.4402518272399902,
          1.6835520267486572,
          3.1867992877960205,
          2.5184152126312256,
          1.7189140319824219,
          0.7432858943939209,
          1.2003870010375977,
          2.685771942138672,
          1.3885347843170166,
          1.0483617782592773,
          1.1813201904296875,
          0.8337538242340088,
          0.6703588962554932,
          1.7258391380310059,
          1.0132710933685303,
          1.1546642780303955,
          1.4424922466278076,
          1.1377952098846436,
          0.7927978038787842,
          1.34322190284729,
          0.8027439117431641,
          1.0881547927856445,
          1.5502395629882812,
          1.1905317306518555,
          0.9343860149383545,
          1.3677849769592285,
          1.1755709648132324,
          1.238081932067871,
          1.5620880126953125,
          1.2019259929656982,
          1.240849256515503,
          0.888477087020874,
          0.8293249607086182,
          1.099822759628296,
          1.4125230312347412,
          1.055283784866333,
          1.0637290477752686,
          1.6429612636566162,
          0.8219468593597412,
          1.4813592433929443,
          1.605109691619873,
          1.2132079601287842,
          0.8602187633514404,
          1.2338168621063232,
          1.4774141311645508,
          0.8149418830871582,
          1.7072482109069824,
          0.6419088840484619,
          1.552243947982788,
          1.6627709865570068,
          1.3490979671478271,
          1.3144659996032715,
          0.9638171195983887,
          1.3789091110229492,
          0.8887500762939453,
          2.072402000427246,
          0.9875130653381348,
          1.392383337020874,
          1.1951820850372314,
          1.623656988143921,
          1.0934021472930908,
          1.1753621101379395,
          1.1870810985565186,
          1.3435871601104736,
          1.5889167785644531
         ],
         "yaxis": "y"
        }
       ],
       "layout": {
        "barmode": "group",
        "legend": {
         "title": {
          "text": "Model"
         },
         "tracegroupgap": 0
        },
        "template": {
         "data": {
          "bar": [
           {
            "error_x": {
             "color": "#2a3f5f"
            },
            "error_y": {
             "color": "#2a3f5f"
            },
            "marker": {
             "line": {
              "color": "#E5ECF6",
              "width": 0.5
             },
             "pattern": {
              "fillmode": "overlay",
              "size": 10,
              "solidity": 0.2
             }
            },
            "type": "bar"
           }
          ],
          "barpolar": [
           {
            "marker": {
             "line": {
              "color": "#E5ECF6",
              "width": 0.5
             },
             "pattern": {
              "fillmode": "overlay",
              "size": 10,
              "solidity": 0.2
             }
            },
            "type": "barpolar"
           }
          ],
          "carpet": [
           {
            "aaxis": {
             "endlinecolor": "#2a3f5f",
             "gridcolor": "white",
             "linecolor": "white",
             "minorgridcolor": "white",
             "startlinecolor": "#2a3f5f"
            },
            "baxis": {
             "endlinecolor": "#2a3f5f",
             "gridcolor": "white",
             "linecolor": "white",
             "minorgridcolor": "white",
             "startlinecolor": "#2a3f5f"
            },
            "type": "carpet"
           }
          ],
          "choropleth": [
           {
            "colorbar": {
             "outlinewidth": 0,
             "ticks": ""
            },
            "type": "choropleth"
           }
          ],
          "contour": [
           {
            "colorbar": {
             "outlinewidth": 0,
             "ticks": ""
            },
            "colorscale": [
             [
              0,
              "#0d0887"
             ],
             [
              0.1111111111111111,
              "#46039f"
             ],
             [
              0.2222222222222222,
              "#7201a8"
             ],
             [
              0.3333333333333333,
              "#9c179e"
             ],
             [
              0.4444444444444444,
              "#bd3786"
             ],
             [
              0.5555555555555556,
              "#d8576b"
             ],
             [
              0.6666666666666666,
              "#ed7953"
             ],
             [
              0.7777777777777778,
              "#fb9f3a"
             ],
             [
              0.8888888888888888,
              "#fdca26"
             ],
             [
              1,
              "#f0f921"
             ]
            ],
            "type": "contour"
           }
          ],
          "contourcarpet": [
           {
            "colorbar": {
             "outlinewidth": 0,
             "ticks": ""
            },
            "type": "contourcarpet"
           }
          ],
          "heatmap": [
           {
            "colorbar": {
             "outlinewidth": 0,
             "ticks": ""
            },
            "colorscale": [
             [
              0,
              "#0d0887"
             ],
             [
              0.1111111111111111,
              "#46039f"
             ],
             [
              0.2222222222222222,
              "#7201a8"
             ],
             [
              0.3333333333333333,
              "#9c179e"
             ],
             [
              0.4444444444444444,
              "#bd3786"
             ],
             [
              0.5555555555555556,
              "#d8576b"
             ],
             [
              0.6666666666666666,
              "#ed7953"
             ],
             [
              0.7777777777777778,
              "#fb9f3a"
             ],
             [
              0.8888888888888888,
              "#fdca26"
             ],
             [
              1,
              "#f0f921"
             ]
            ],
            "type": "heatmap"
           }
          ],
          "heatmapgl": [
           {
            "colorbar": {
             "outlinewidth": 0,
             "ticks": ""
            },
            "colorscale": [
             [
              0,
              "#0d0887"
             ],
             [
              0.1111111111111111,
              "#46039f"
             ],
             [
              0.2222222222222222,
              "#7201a8"
             ],
             [
              0.3333333333333333,
              "#9c179e"
             ],
             [
              0.4444444444444444,
              "#bd3786"
             ],
             [
              0.5555555555555556,
              "#d8576b"
             ],
             [
              0.6666666666666666,
              "#ed7953"
             ],
             [
              0.7777777777777778,
              "#fb9f3a"
             ],
             [
              0.8888888888888888,
              "#fdca26"
             ],
             [
              1,
              "#f0f921"
             ]
            ],
            "type": "heatmapgl"
           }
          ],
          "histogram": [
           {
            "marker": {
             "pattern": {
              "fillmode": "overlay",
              "size": 10,
              "solidity": 0.2
             }
            },
            "type": "histogram"
           }
          ],
          "histogram2d": [
           {
            "colorbar": {
             "outlinewidth": 0,
             "ticks": ""
            },
            "colorscale": [
             [
              0,
              "#0d0887"
             ],
             [
              0.1111111111111111,
              "#46039f"
             ],
             [
              0.2222222222222222,
              "#7201a8"
             ],
             [
              0.3333333333333333,
              "#9c179e"
             ],
             [
              0.4444444444444444,
              "#bd3786"
             ],
             [
              0.5555555555555556,
              "#d8576b"
             ],
             [
              0.6666666666666666,
              "#ed7953"
             ],
             [
              0.7777777777777778,
              "#fb9f3a"
             ],
             [
              0.8888888888888888,
              "#fdca26"
             ],
             [
              1,
              "#f0f921"
             ]
            ],
            "type": "histogram2d"
           }
          ],
          "histogram2dcontour": [
           {
            "colorbar": {
             "outlinewidth": 0,
             "ticks": ""
            },
            "colorscale": [
             [
              0,
              "#0d0887"
             ],
             [
              0.1111111111111111,
              "#46039f"
             ],
             [
              0.2222222222222222,
              "#7201a8"
             ],
             [
              0.3333333333333333,
              "#9c179e"
             ],
             [
              0.4444444444444444,
              "#bd3786"
             ],
             [
              0.5555555555555556,
              "#d8576b"
             ],
             [
              0.6666666666666666,
              "#ed7953"
             ],
             [
              0.7777777777777778,
              "#fb9f3a"
             ],
             [
              0.8888888888888888,
              "#fdca26"
             ],
             [
              1,
              "#f0f921"
             ]
            ],
            "type": "histogram2dcontour"
           }
          ],
          "mesh3d": [
           {
            "colorbar": {
             "outlinewidth": 0,
             "ticks": ""
            },
            "type": "mesh3d"
           }
          ],
          "parcoords": [
           {
            "line": {
             "colorbar": {
              "outlinewidth": 0,
              "ticks": ""
             }
            },
            "type": "parcoords"
           }
          ],
          "pie": [
           {
            "automargin": true,
            "type": "pie"
           }
          ],
          "scatter": [
           {
            "fillpattern": {
             "fillmode": "overlay",
             "size": 10,
             "solidity": 0.2
            },
            "type": "scatter"
           }
          ],
          "scatter3d": [
           {
            "line": {
             "colorbar": {
              "outlinewidth": 0,
              "ticks": ""
             }
            },
            "marker": {
             "colorbar": {
              "outlinewidth": 0,
              "ticks": ""
             }
            },
            "type": "scatter3d"
           }
          ],
          "scattercarpet": [
           {
            "marker": {
             "colorbar": {
              "outlinewidth": 0,
              "ticks": ""
             }
            },
            "type": "scattercarpet"
           }
          ],
          "scattergeo": [
           {
            "marker": {
             "colorbar": {
              "outlinewidth": 0,
              "ticks": ""
             }
            },
            "type": "scattergeo"
           }
          ],
          "scattergl": [
           {
            "marker": {
             "colorbar": {
              "outlinewidth": 0,
              "ticks": ""
             }
            },
            "type": "scattergl"
           }
          ],
          "scattermapbox": [
           {
            "marker": {
             "colorbar": {
              "outlinewidth": 0,
              "ticks": ""
             }
            },
            "type": "scattermapbox"
           }
          ],
          "scatterpolar": [
           {
            "marker": {
             "colorbar": {
              "outlinewidth": 0,
              "ticks": ""
             }
            },
            "type": "scatterpolar"
           }
          ],
          "scatterpolargl": [
           {
            "marker": {
             "colorbar": {
              "outlinewidth": 0,
              "ticks": ""
             }
            },
            "type": "scatterpolargl"
           }
          ],
          "scatterternary": [
           {
            "marker": {
             "colorbar": {
              "outlinewidth": 0,
              "ticks": ""
             }
            },
            "type": "scatterternary"
           }
          ],
          "surface": [
           {
            "colorbar": {
             "outlinewidth": 0,
             "ticks": ""
            },
            "colorscale": [
             [
              0,
              "#0d0887"
             ],
             [
              0.1111111111111111,
              "#46039f"
             ],
             [
              0.2222222222222222,
              "#7201a8"
             ],
             [
              0.3333333333333333,
              "#9c179e"
             ],
             [
              0.4444444444444444,
              "#bd3786"
             ],
             [
              0.5555555555555556,
              "#d8576b"
             ],
             [
              0.6666666666666666,
              "#ed7953"
             ],
             [
              0.7777777777777778,
              "#fb9f3a"
             ],
             [
              0.8888888888888888,
              "#fdca26"
             ],
             [
              1,
              "#f0f921"
             ]
            ],
            "type": "surface"
           }
          ],
          "table": [
           {
            "cells": {
             "fill": {
              "color": "#EBF0F8"
             },
             "line": {
              "color": "white"
             }
            },
            "header": {
             "fill": {
              "color": "#C8D4E3"
             },
             "line": {
              "color": "white"
             }
            },
            "type": "table"
           }
          ]
         },
         "layout": {
          "annotationdefaults": {
           "arrowcolor": "#2a3f5f",
           "arrowhead": 0,
           "arrowwidth": 1
          },
          "autotypenumbers": "strict",
          "coloraxis": {
           "colorbar": {
            "outlinewidth": 0,
            "ticks": ""
           }
          },
          "colorscale": {
           "diverging": [
            [
             0,
             "#8e0152"
            ],
            [
             0.1,
             "#c51b7d"
            ],
            [
             0.2,
             "#de77ae"
            ],
            [
             0.3,
             "#f1b6da"
            ],
            [
             0.4,
             "#fde0ef"
            ],
            [
             0.5,
             "#f7f7f7"
            ],
            [
             0.6,
             "#e6f5d0"
            ],
            [
             0.7,
             "#b8e186"
            ],
            [
             0.8,
             "#7fbc41"
            ],
            [
             0.9,
             "#4d9221"
            ],
            [
             1,
             "#276419"
            ]
           ],
           "sequential": [
            [
             0,
             "#0d0887"
            ],
            [
             0.1111111111111111,
             "#46039f"
            ],
            [
             0.2222222222222222,
             "#7201a8"
            ],
            [
             0.3333333333333333,
             "#9c179e"
            ],
            [
             0.4444444444444444,
             "#bd3786"
            ],
            [
             0.5555555555555556,
             "#d8576b"
            ],
            [
             0.6666666666666666,
             "#ed7953"
            ],
            [
             0.7777777777777778,
             "#fb9f3a"
            ],
            [
             0.8888888888888888,
             "#fdca26"
            ],
            [
             1,
             "#f0f921"
            ]
           ],
           "sequentialminus": [
            [
             0,
             "#0d0887"
            ],
            [
             0.1111111111111111,
             "#46039f"
            ],
            [
             0.2222222222222222,
             "#7201a8"
            ],
            [
             0.3333333333333333,
             "#9c179e"
            ],
            [
             0.4444444444444444,
             "#bd3786"
            ],
            [
             0.5555555555555556,
             "#d8576b"
            ],
            [
             0.6666666666666666,
             "#ed7953"
            ],
            [
             0.7777777777777778,
             "#fb9f3a"
            ],
            [
             0.8888888888888888,
             "#fdca26"
            ],
            [
             1,
             "#f0f921"
            ]
           ]
          },
          "colorway": [
           "#636efa",
           "#EF553B",
           "#00cc96",
           "#ab63fa",
           "#FFA15A",
           "#19d3f3",
           "#FF6692",
           "#B6E880",
           "#FF97FF",
           "#FECB52"
          ],
          "font": {
           "color": "#2a3f5f"
          },
          "geo": {
           "bgcolor": "white",
           "lakecolor": "white",
           "landcolor": "#E5ECF6",
           "showlakes": true,
           "showland": true,
           "subunitcolor": "white"
          },
          "hoverlabel": {
           "align": "left"
          },
          "hovermode": "closest",
          "mapbox": {
           "style": "light"
          },
          "paper_bgcolor": "white",
          "plot_bgcolor": "#E5ECF6",
          "polar": {
           "angularaxis": {
            "gridcolor": "white",
            "linecolor": "white",
            "ticks": ""
           },
           "bgcolor": "#E5ECF6",
           "radialaxis": {
            "gridcolor": "white",
            "linecolor": "white",
            "ticks": ""
           }
          },
          "scene": {
           "xaxis": {
            "backgroundcolor": "#E5ECF6",
            "gridcolor": "white",
            "gridwidth": 2,
            "linecolor": "white",
            "showbackground": true,
            "ticks": "",
            "zerolinecolor": "white"
           },
           "yaxis": {
            "backgroundcolor": "#E5ECF6",
            "gridcolor": "white",
            "gridwidth": 2,
            "linecolor": "white",
            "showbackground": true,
            "ticks": "",
            "zerolinecolor": "white"
           },
           "zaxis": {
            "backgroundcolor": "#E5ECF6",
            "gridcolor": "white",
            "gridwidth": 2,
            "linecolor": "white",
            "showbackground": true,
            "ticks": "",
            "zerolinecolor": "white"
           }
          },
          "shapedefaults": {
           "line": {
            "color": "#2a3f5f"
           }
          },
          "ternary": {
           "aaxis": {
            "gridcolor": "white",
            "linecolor": "white",
            "ticks": ""
           },
           "baxis": {
            "gridcolor": "white",
            "linecolor": "white",
            "ticks": ""
           },
           "bgcolor": "#E5ECF6",
           "caxis": {
            "gridcolor": "white",
            "linecolor": "white",
            "ticks": ""
           }
          },
          "title": {
           "x": 0.05
          },
          "xaxis": {
           "automargin": true,
           "gridcolor": "white",
           "linecolor": "white",
           "ticks": "",
           "title": {
            "standoff": 15
           },
           "zerolinecolor": "white",
           "zerolinewidth": 2
          },
          "yaxis": {
           "automargin": true,
           "gridcolor": "white",
           "linecolor": "white",
           "ticks": "",
           "title": {
            "standoff": 15
           },
           "zerolinecolor": "white",
           "zerolinewidth": 2
          }
         }
        },
        "title": {
         "text": "Comparison of Hugging Face and Gemini Translation Times"
        },
        "xaxis": {
         "anchor": "y",
         "domain": [
          0,
          1
         ],
         "title": {
          "text": "Text Type"
         }
        },
        "yaxis": {
         "anchor": "x",
         "domain": [
          0,
          1
         ],
         "title": {
          "text": "Translation Time (s)"
         }
        }
       }
      },
      "text/html": [
       "<div>                            <div id=\"f62d2fa8-e490-4e72-af90-73434c0820b4\" class=\"plotly-graph-div\" style=\"height:525px; width:100%;\"></div>            <script type=\"text/javascript\">                require([\"plotly\"], function(Plotly) {                    window.PLOTLYENV=window.PLOTLYENV || {};                                    if (document.getElementById(\"f62d2fa8-e490-4e72-af90-73434c0820b4\")) {                    Plotly.newPlot(                        \"f62d2fa8-e490-4e72-af90-73434c0820b4\",                        [{\"alignmentgroup\":\"True\",\"hovertemplate\":\"Model=HF Translation Time (s)\\u003cbr\\u003eText Type=%{x}\\u003cbr\\u003eTranslation Time (s)=%{y}\\u003cextra\\u003e\\u003c\\u002fextra\\u003e\",\"legendgroup\":\"HF Translation Time (s)\",\"marker\":{\"color\":\"#636efa\",\"pattern\":{\"shape\":\"\"}},\"name\":\"HF Translation Time (s)\",\"offsetgroup\":\"HF Translation Time (s)\",\"orientation\":\"v\",\"showlegend\":true,\"textposition\":\"auto\",\"x\":[\"word\",\"sentence\",\"paragraph\",\"word\",\"sentence\",\"paragraph\",\"word\",\"sentence\",\"paragraph\",\"word\",\"sentence\",\"paragraph\",\"word\",\"sentence\",\"paragraph\",\"word\",\"sentence\",\"paragraph\",\"word\",\"sentence\",\"paragraph\",\"word\",\"sentence\",\"paragraph\",\"word\",\"sentence\",\"paragraph\",\"word\",\"sentence\",\"paragraph\",\"word\",\"sentence\",\"paragraph\",\"word\",\"sentence\",\"paragraph\",\"word\",\"sentence\",\"paragraph\",\"word\",\"sentence\",\"paragraph\",\"word\",\"sentence\",\"paragraph\",\"word\",\"sentence\",\"paragraph\",\"word\",\"sentence\",\"paragraph\",\"word\",\"sentence\",\"paragraph\",\"word\",\"sentence\",\"paragraph\",\"word\",\"sentence\",\"paragraph\",\"word\",\"sentence\",\"paragraph\",\"word\",\"sentence\",\"paragraph\",\"word\",\"sentence\",\"paragraph\",\"word\",\"sentence\",\"paragraph\",\"word\",\"sentence\",\"paragraph\",\"word\",\"sentence\",\"paragraph\",\"word\",\"sentence\",\"paragraph\",\"word\",\"sentence\",\"paragraph\",\"word\",\"sentence\",\"paragraph\",\"word\",\"sentence\",\"paragraph\",\"word\",\"sentence\",\"paragraph\",\"word\",\"sentence\",\"paragraph\",\"word\",\"sentence\",\"paragraph\",\"word\",\"sentence\",\"paragraph\",\"word\",\"sentence\",\"paragraph\",\"word\",\"sentence\",\"paragraph\",\"word\",\"sentence\",\"paragraph\",\"word\",\"sentence\",\"paragraph\",\"word\",\"sentence\",\"paragraph\",\"word\",\"sentence\",\"paragraph\",\"word\",\"sentence\",\"paragraph\",\"word\",\"sentence\",\"paragraph\"],\"xaxis\":\"x\",\"y\":[1.3585360050201416,0.2865791320800781,0.803361177444458,13.740643978118896,0.22876715660095215,0.6843557357788086,1.1046462059020996,0.2668418884277344,0.9934122562408447,1.2646098136901855,0.21195077896118164,0.7129669189453125,1.4940011501312256,0.2397630214691162,1.4659051895141602,1.139242172241211,0.29642319679260254,1.1287760734558105,1.2553839683532715,0.24301600456237793,0.7793700695037842,2.630890130996704,2.0359020233154297,1.2370860576629639,2.0991649627685547,2.5022132396698,3.2258729934692383,1.322613000869751,0.3540501594543457,1.077500820159912,1.374389886856079,0.31681108474731445,1.204503059387207,1.6086070537567139,0.2710847854614258,1.1909446716308594,1.3883557319641113,0.3995399475097656,0.6267950534820557,2.1974589824676514,1.0220363140106201,1.2419509887695312,2.402592182159424,2.0003702640533447,1.6693220138549805,3.315403938293457,0.9264540672302246,3.25339412689209,1.2411401271820068,0.248138427734375,0.5382981300354004,2.498991012573242,1.3942170143127441,1.6685988903045654,1.3208303451538086,0.23713397979736328,0.6541798114776611,1.2219188213348389,0.45336389541625977,1.7078211307525635,1.468353033065796,1.3538780212402344,2.8444862365722656,1.1260268688201904,1.0349700450897217,1.7733790874481201,1.2564501762390137,0.3743317127227783,0.7584409713745117,1.299926996231079,0.2761862277984619,1.1362709999084473,1.6997742652893066,0.3680441379547119,1.9286088943481445,1.7802999019622803,0.5595557689666748,1.2246110439300537,1.0505709648132324,1.3514549732208252,1.5411877632141113,3.4366421699523926,0.5098698139190674,2.07962703704834,0.8088362216949463,1.1121149063110352,1.4001829624176025,1.2476017475128174,0.4336278438568115,0.9930951595306396,1.3644249439239502,0.3016219139099121,1.2487561702728271,1.4145750999450684,0.33475208282470703,1.4780189990997314,1.491034746170044,0.18531394004821777,1.4340059757232666,1.1225769519805908,4.330995321273804,4.725088119506836,1.3700709342956543,1.2256288528442383,1.8978078365325928,1.6978182792663574,0.38873910903930664,1.1848080158233643,1.1506881713867188,0.33710265159606934,0.7789719104766846,1.610727310180664,0.8951599597930908,1.6162447929382324,1.3388068675994873,0.9294121265411377,1.9492690563201904,3.5965938568115234,0.28314971923828125,2.0985288619995117,1.6343181133270264,0.40846896171569824,1.3011457920074463,1.4454882144927979,0.4187180995941162,1.2787389755249023],\"yaxis\":\"y\",\"type\":\"bar\"},{\"alignmentgroup\":\"True\",\"hovertemplate\":\"Model=Gemini Translation Time (s)\\u003cbr\\u003eText Type=%{x}\\u003cbr\\u003eTranslation Time (s)=%{y}\\u003cextra\\u003e\\u003c\\u002fextra\\u003e\",\"legendgroup\":\"Gemini Translation Time (s)\",\"marker\":{\"color\":\"#EF553B\",\"pattern\":{\"shape\":\"\"}},\"name\":\"Gemini Translation Time (s)\",\"offsetgroup\":\"Gemini Translation Time (s)\",\"orientation\":\"v\",\"showlegend\":true,\"textposition\":\"auto\",\"x\":[\"word\",\"sentence\",\"paragraph\",\"word\",\"sentence\",\"paragraph\",\"word\",\"sentence\",\"paragraph\",\"word\",\"sentence\",\"paragraph\",\"word\",\"sentence\",\"paragraph\",\"word\",\"sentence\",\"paragraph\",\"word\",\"sentence\",\"paragraph\",\"word\",\"sentence\",\"paragraph\",\"word\",\"sentence\",\"paragraph\",\"word\",\"sentence\",\"paragraph\",\"word\",\"sentence\",\"paragraph\",\"word\",\"sentence\",\"paragraph\",\"word\",\"sentence\",\"paragraph\",\"word\",\"sentence\",\"paragraph\",\"word\",\"sentence\",\"paragraph\",\"word\",\"sentence\",\"paragraph\",\"word\",\"sentence\",\"paragraph\",\"word\",\"sentence\",\"paragraph\",\"word\",\"sentence\",\"paragraph\",\"word\",\"sentence\",\"paragraph\",\"word\",\"sentence\",\"paragraph\",\"word\",\"sentence\",\"paragraph\",\"word\",\"sentence\",\"paragraph\",\"word\",\"sentence\",\"paragraph\",\"word\",\"sentence\",\"paragraph\",\"word\",\"sentence\",\"paragraph\",\"word\",\"sentence\",\"paragraph\",\"word\",\"sentence\",\"paragraph\",\"word\",\"sentence\",\"paragraph\",\"word\",\"sentence\",\"paragraph\",\"word\",\"sentence\",\"paragraph\",\"word\",\"sentence\",\"paragraph\",\"word\",\"sentence\",\"paragraph\",\"word\",\"sentence\",\"paragraph\",\"word\",\"sentence\",\"paragraph\",\"word\",\"sentence\",\"paragraph\",\"word\",\"sentence\",\"paragraph\",\"word\",\"sentence\",\"paragraph\",\"word\",\"sentence\",\"paragraph\",\"word\",\"sentence\",\"paragraph\",\"word\",\"sentence\",\"paragraph\",\"word\",\"sentence\",\"paragraph\"],\"xaxis\":\"x\",\"y\":[1.2379870414733887,0.8984739780426025,1.082571029663086,1.316380262374878,1.3084239959716797,2.2611677646636963,2.0283420085906982,1.1488580703735352,3.7522997856140137,0.7441580295562744,1.430616855621338,1.8011870384216309,1.2444560527801514,1.6936511993408203,1.6602411270141602,1.5942959785461426,2.8664419651031494,1.0392749309539795,0.7225539684295654,0.7194807529449463,1.5199573040008545,1.3782050609588623,1.5183520317077637,1.5052931308746338,1.3806681632995605,0.9719321727752686,1.3251457214355469,1.3301572799682617,1.3655321598052979,1.9576070308685303,2.9502298831939697,2.7571301460266113,1.8921692371368408,1.335433006286621,1.120973825454712,1.4141581058502197,1.2443571090698242,1.629969835281372,1.5506830215454102,1.4913959503173828,1.4996600151062012,2.0946249961853027,1.000349998474121,1.4192140102386475,1.7023723125457764,1.7514681816101074,1.2350690364837646,2.876293182373047,1.4466350078582764,1.0810019969940186,1.3290190696716309,0.6518137454986572,1.6593141555786133,0.9705426692962646,1.269300937652588,1.3741400241851807,1.7403578758239746,1.3310701847076416,2.6365370750427246,2.2919490337371826,1.4510631561279297,1.4402518272399902,1.6835520267486572,3.1867992877960205,2.5184152126312256,1.7189140319824219,0.7432858943939209,1.2003870010375977,2.685771942138672,1.3885347843170166,1.0483617782592773,1.1813201904296875,0.8337538242340088,0.6703588962554932,1.7258391380310059,1.0132710933685303,1.1546642780303955,1.4424922466278076,1.1377952098846436,0.7927978038787842,1.34322190284729,0.8027439117431641,1.0881547927856445,1.5502395629882812,1.1905317306518555,0.9343860149383545,1.3677849769592285,1.1755709648132324,1.238081932067871,1.5620880126953125,1.2019259929656982,1.240849256515503,0.888477087020874,0.8293249607086182,1.099822759628296,1.4125230312347412,1.055283784866333,1.0637290477752686,1.6429612636566162,0.8219468593597412,1.4813592433929443,1.605109691619873,1.2132079601287842,0.8602187633514404,1.2338168621063232,1.4774141311645508,0.8149418830871582,1.7072482109069824,0.6419088840484619,1.552243947982788,1.6627709865570068,1.3490979671478271,1.3144659996032715,0.9638171195983887,1.3789091110229492,0.8887500762939453,2.072402000427246,0.9875130653381348,1.392383337020874,1.1951820850372314,1.623656988143921,1.0934021472930908,1.1753621101379395,1.1870810985565186,1.3435871601104736,1.5889167785644531],\"yaxis\":\"y\",\"type\":\"bar\"}],                        {\"template\":{\"data\":{\"histogram2dcontour\":[{\"type\":\"histogram2dcontour\",\"colorbar\":{\"outlinewidth\":0,\"ticks\":\"\"},\"colorscale\":[[0.0,\"#0d0887\"],[0.1111111111111111,\"#46039f\"],[0.2222222222222222,\"#7201a8\"],[0.3333333333333333,\"#9c179e\"],[0.4444444444444444,\"#bd3786\"],[0.5555555555555556,\"#d8576b\"],[0.6666666666666666,\"#ed7953\"],[0.7777777777777778,\"#fb9f3a\"],[0.8888888888888888,\"#fdca26\"],[1.0,\"#f0f921\"]]}],\"choropleth\":[{\"type\":\"choropleth\",\"colorbar\":{\"outlinewidth\":0,\"ticks\":\"\"}}],\"histogram2d\":[{\"type\":\"histogram2d\",\"colorbar\":{\"outlinewidth\":0,\"ticks\":\"\"},\"colorscale\":[[0.0,\"#0d0887\"],[0.1111111111111111,\"#46039f\"],[0.2222222222222222,\"#7201a8\"],[0.3333333333333333,\"#9c179e\"],[0.4444444444444444,\"#bd3786\"],[0.5555555555555556,\"#d8576b\"],[0.6666666666666666,\"#ed7953\"],[0.7777777777777778,\"#fb9f3a\"],[0.8888888888888888,\"#fdca26\"],[1.0,\"#f0f921\"]]}],\"heatmap\":[{\"type\":\"heatmap\",\"colorbar\":{\"outlinewidth\":0,\"ticks\":\"\"},\"colorscale\":[[0.0,\"#0d0887\"],[0.1111111111111111,\"#46039f\"],[0.2222222222222222,\"#7201a8\"],[0.3333333333333333,\"#9c179e\"],[0.4444444444444444,\"#bd3786\"],[0.5555555555555556,\"#d8576b\"],[0.6666666666666666,\"#ed7953\"],[0.7777777777777778,\"#fb9f3a\"],[0.8888888888888888,\"#fdca26\"],[1.0,\"#f0f921\"]]}],\"heatmapgl\":[{\"type\":\"heatmapgl\",\"colorbar\":{\"outlinewidth\":0,\"ticks\":\"\"},\"colorscale\":[[0.0,\"#0d0887\"],[0.1111111111111111,\"#46039f\"],[0.2222222222222222,\"#7201a8\"],[0.3333333333333333,\"#9c179e\"],[0.4444444444444444,\"#bd3786\"],[0.5555555555555556,\"#d8576b\"],[0.6666666666666666,\"#ed7953\"],[0.7777777777777778,\"#fb9f3a\"],[0.8888888888888888,\"#fdca26\"],[1.0,\"#f0f921\"]]}],\"contourcarpet\":[{\"type\":\"contourcarpet\",\"colorbar\":{\"outlinewidth\":0,\"ticks\":\"\"}}],\"contour\":[{\"type\":\"contour\",\"colorbar\":{\"outlinewidth\":0,\"ticks\":\"\"},\"colorscale\":[[0.0,\"#0d0887\"],[0.1111111111111111,\"#46039f\"],[0.2222222222222222,\"#7201a8\"],[0.3333333333333333,\"#9c179e\"],[0.4444444444444444,\"#bd3786\"],[0.5555555555555556,\"#d8576b\"],[0.6666666666666666,\"#ed7953\"],[0.7777777777777778,\"#fb9f3a\"],[0.8888888888888888,\"#fdca26\"],[1.0,\"#f0f921\"]]}],\"surface\":[{\"type\":\"surface\",\"colorbar\":{\"outlinewidth\":0,\"ticks\":\"\"},\"colorscale\":[[0.0,\"#0d0887\"],[0.1111111111111111,\"#46039f\"],[0.2222222222222222,\"#7201a8\"],[0.3333333333333333,\"#9c179e\"],[0.4444444444444444,\"#bd3786\"],[0.5555555555555556,\"#d8576b\"],[0.6666666666666666,\"#ed7953\"],[0.7777777777777778,\"#fb9f3a\"],[0.8888888888888888,\"#fdca26\"],[1.0,\"#f0f921\"]]}],\"mesh3d\":[{\"type\":\"mesh3d\",\"colorbar\":{\"outlinewidth\":0,\"ticks\":\"\"}}],\"scatter\":[{\"fillpattern\":{\"fillmode\":\"overlay\",\"size\":10,\"solidity\":0.2},\"type\":\"scatter\"}],\"parcoords\":[{\"type\":\"parcoords\",\"line\":{\"colorbar\":{\"outlinewidth\":0,\"ticks\":\"\"}}}],\"scatterpolargl\":[{\"type\":\"scatterpolargl\",\"marker\":{\"colorbar\":{\"outlinewidth\":0,\"ticks\":\"\"}}}],\"bar\":[{\"error_x\":{\"color\":\"#2a3f5f\"},\"error_y\":{\"color\":\"#2a3f5f\"},\"marker\":{\"line\":{\"color\":\"#E5ECF6\",\"width\":0.5},\"pattern\":{\"fillmode\":\"overlay\",\"size\":10,\"solidity\":0.2}},\"type\":\"bar\"}],\"scattergeo\":[{\"type\":\"scattergeo\",\"marker\":{\"colorbar\":{\"outlinewidth\":0,\"ticks\":\"\"}}}],\"scatterpolar\":[{\"type\":\"scatterpolar\",\"marker\":{\"colorbar\":{\"outlinewidth\":0,\"ticks\":\"\"}}}],\"histogram\":[{\"marker\":{\"pattern\":{\"fillmode\":\"overlay\",\"size\":10,\"solidity\":0.2}},\"type\":\"histogram\"}],\"scattergl\":[{\"type\":\"scattergl\",\"marker\":{\"colorbar\":{\"outlinewidth\":0,\"ticks\":\"\"}}}],\"scatter3d\":[{\"type\":\"scatter3d\",\"line\":{\"colorbar\":{\"outlinewidth\":0,\"ticks\":\"\"}},\"marker\":{\"colorbar\":{\"outlinewidth\":0,\"ticks\":\"\"}}}],\"scattermapbox\":[{\"type\":\"scattermapbox\",\"marker\":{\"colorbar\":{\"outlinewidth\":0,\"ticks\":\"\"}}}],\"scatterternary\":[{\"type\":\"scatterternary\",\"marker\":{\"colorbar\":{\"outlinewidth\":0,\"ticks\":\"\"}}}],\"scattercarpet\":[{\"type\":\"scattercarpet\",\"marker\":{\"colorbar\":{\"outlinewidth\":0,\"ticks\":\"\"}}}],\"carpet\":[{\"aaxis\":{\"endlinecolor\":\"#2a3f5f\",\"gridcolor\":\"white\",\"linecolor\":\"white\",\"minorgridcolor\":\"white\",\"startlinecolor\":\"#2a3f5f\"},\"baxis\":{\"endlinecolor\":\"#2a3f5f\",\"gridcolor\":\"white\",\"linecolor\":\"white\",\"minorgridcolor\":\"white\",\"startlinecolor\":\"#2a3f5f\"},\"type\":\"carpet\"}],\"table\":[{\"cells\":{\"fill\":{\"color\":\"#EBF0F8\"},\"line\":{\"color\":\"white\"}},\"header\":{\"fill\":{\"color\":\"#C8D4E3\"},\"line\":{\"color\":\"white\"}},\"type\":\"table\"}],\"barpolar\":[{\"marker\":{\"line\":{\"color\":\"#E5ECF6\",\"width\":0.5},\"pattern\":{\"fillmode\":\"overlay\",\"size\":10,\"solidity\":0.2}},\"type\":\"barpolar\"}],\"pie\":[{\"automargin\":true,\"type\":\"pie\"}]},\"layout\":{\"autotypenumbers\":\"strict\",\"colorway\":[\"#636efa\",\"#EF553B\",\"#00cc96\",\"#ab63fa\",\"#FFA15A\",\"#19d3f3\",\"#FF6692\",\"#B6E880\",\"#FF97FF\",\"#FECB52\"],\"font\":{\"color\":\"#2a3f5f\"},\"hovermode\":\"closest\",\"hoverlabel\":{\"align\":\"left\"},\"paper_bgcolor\":\"white\",\"plot_bgcolor\":\"#E5ECF6\",\"polar\":{\"bgcolor\":\"#E5ECF6\",\"angularaxis\":{\"gridcolor\":\"white\",\"linecolor\":\"white\",\"ticks\":\"\"},\"radialaxis\":{\"gridcolor\":\"white\",\"linecolor\":\"white\",\"ticks\":\"\"}},\"ternary\":{\"bgcolor\":\"#E5ECF6\",\"aaxis\":{\"gridcolor\":\"white\",\"linecolor\":\"white\",\"ticks\":\"\"},\"baxis\":{\"gridcolor\":\"white\",\"linecolor\":\"white\",\"ticks\":\"\"},\"caxis\":{\"gridcolor\":\"white\",\"linecolor\":\"white\",\"ticks\":\"\"}},\"coloraxis\":{\"colorbar\":{\"outlinewidth\":0,\"ticks\":\"\"}},\"colorscale\":{\"sequential\":[[0.0,\"#0d0887\"],[0.1111111111111111,\"#46039f\"],[0.2222222222222222,\"#7201a8\"],[0.3333333333333333,\"#9c179e\"],[0.4444444444444444,\"#bd3786\"],[0.5555555555555556,\"#d8576b\"],[0.6666666666666666,\"#ed7953\"],[0.7777777777777778,\"#fb9f3a\"],[0.8888888888888888,\"#fdca26\"],[1.0,\"#f0f921\"]],\"sequentialminus\":[[0.0,\"#0d0887\"],[0.1111111111111111,\"#46039f\"],[0.2222222222222222,\"#7201a8\"],[0.3333333333333333,\"#9c179e\"],[0.4444444444444444,\"#bd3786\"],[0.5555555555555556,\"#d8576b\"],[0.6666666666666666,\"#ed7953\"],[0.7777777777777778,\"#fb9f3a\"],[0.8888888888888888,\"#fdca26\"],[1.0,\"#f0f921\"]],\"diverging\":[[0,\"#8e0152\"],[0.1,\"#c51b7d\"],[0.2,\"#de77ae\"],[0.3,\"#f1b6da\"],[0.4,\"#fde0ef\"],[0.5,\"#f7f7f7\"],[0.6,\"#e6f5d0\"],[0.7,\"#b8e186\"],[0.8,\"#7fbc41\"],[0.9,\"#4d9221\"],[1,\"#276419\"]]},\"xaxis\":{\"gridcolor\":\"white\",\"linecolor\":\"white\",\"ticks\":\"\",\"title\":{\"standoff\":15},\"zerolinecolor\":\"white\",\"automargin\":true,\"zerolinewidth\":2},\"yaxis\":{\"gridcolor\":\"white\",\"linecolor\":\"white\",\"ticks\":\"\",\"title\":{\"standoff\":15},\"zerolinecolor\":\"white\",\"automargin\":true,\"zerolinewidth\":2},\"scene\":{\"xaxis\":{\"backgroundcolor\":\"#E5ECF6\",\"gridcolor\":\"white\",\"linecolor\":\"white\",\"showbackground\":true,\"ticks\":\"\",\"zerolinecolor\":\"white\",\"gridwidth\":2},\"yaxis\":{\"backgroundcolor\":\"#E5ECF6\",\"gridcolor\":\"white\",\"linecolor\":\"white\",\"showbackground\":true,\"ticks\":\"\",\"zerolinecolor\":\"white\",\"gridwidth\":2},\"zaxis\":{\"backgroundcolor\":\"#E5ECF6\",\"gridcolor\":\"white\",\"linecolor\":\"white\",\"showbackground\":true,\"ticks\":\"\",\"zerolinecolor\":\"white\",\"gridwidth\":2}},\"shapedefaults\":{\"line\":{\"color\":\"#2a3f5f\"}},\"annotationdefaults\":{\"arrowcolor\":\"#2a3f5f\",\"arrowhead\":0,\"arrowwidth\":1},\"geo\":{\"bgcolor\":\"white\",\"landcolor\":\"#E5ECF6\",\"subunitcolor\":\"white\",\"showland\":true,\"showlakes\":true,\"lakecolor\":\"white\"},\"title\":{\"x\":0.05},\"mapbox\":{\"style\":\"light\"}}},\"xaxis\":{\"anchor\":\"y\",\"domain\":[0.0,1.0],\"title\":{\"text\":\"Text Type\"}},\"yaxis\":{\"anchor\":\"x\",\"domain\":[0.0,1.0],\"title\":{\"text\":\"Translation Time (s)\"}},\"legend\":{\"title\":{\"text\":\"Model\"},\"tracegroupgap\":0},\"title\":{\"text\":\"Comparison of Hugging Face and Gemini Translation Times\"},\"barmode\":\"group\"},                        {\"responsive\": true}                    ).then(function(){\n",
       "                            \n",
       "var gd = document.getElementById('f62d2fa8-e490-4e72-af90-73434c0820b4');\n",
       "var x = new MutationObserver(function (mutations, observer) {{\n",
       "        var display = window.getComputedStyle(gd).display;\n",
       "        if (!display || display === 'none') {{\n",
       "            console.log([gd, 'removed!']);\n",
       "            Plotly.purge(gd);\n",
       "            observer.disconnect();\n",
       "        }}\n",
       "}});\n",
       "\n",
       "// Listen for the removal of the full notebook cells\n",
       "var notebookContainer = gd.closest('#notebook-container');\n",
       "if (notebookContainer) {{\n",
       "    x.observe(notebookContainer, {childList: true});\n",
       "}}\n",
       "\n",
       "// Listen for the clearing of the current output cell\n",
       "var outputEl = gd.closest('.output');\n",
       "if (outputEl) {{\n",
       "    x.observe(outputEl, {childList: true});\n",
       "}}\n",
       "\n",
       "                        })                };                });            </script>        </div>"
      ]
     },
     "metadata": {},
     "output_type": "display_data"
    }
   ],
   "source": [
    "import plotly.express as px\n",
    "\n",
    "# Gráfico 1: Comparación de los tiempos de traducción de Hugging Face por tipo de texto y lenguaje objetivo\n",
    "fig1 = px.bar(df, \n",
    "              x='Text Type', \n",
    "              y='HF Translation Time (s)', \n",
    "              color='Target Language', \n",
    "              barmode='group',\n",
    "              title='Hugging Face Translation Times by Text Type and Target Language',\n",
    "              labels={'HF Translation Time (s)': 'Translation Time (s)', 'Text Type': 'Text Type'})\n",
    "fig1.show()\n",
    "\n",
    "# Gráfico 2: Comparación de los tiempos de traducción de Gemini por tipo de texto y lenguaje objetivo\n",
    "fig2 = px.bar(df, \n",
    "              x='Text Type', \n",
    "              y='Gemini Translation Time (s)', \n",
    "              color='Target Language', \n",
    "              barmode='group',\n",
    "              title='Gemini Translation Times by Text Type and Target Language',\n",
    "              labels={'Gemini Translation Time (s)': 'Translation Time (s)', 'Text Type': 'Text Type'})\n",
    "fig2.show()\n",
    "\n",
    "# Gráfico 3: Comparación entre los tiempos de traducción de Hugging Face y Gemini\n",
    "df_melted = pd.melt(df, \n",
    "                    id_vars=['Source Language', 'Target Language', 'Text Type'], \n",
    "                    value_vars=['HF Translation Time (s)', 'Gemini Translation Time (s)'], \n",
    "                    var_name='Model', \n",
    "                    value_name='Translation Time (s)')\n",
    "\n",
    "fig3 = px.bar(df_melted, \n",
    "              x='Text Type', \n",
    "              y='Translation Time (s)', \n",
    "              color='Model', \n",
    "              barmode='group',\n",
    "              title='Comparison of Hugging Face and Gemini Translation Times',\n",
    "              labels={'Translation Time (s)': 'Translation Time (s)', 'Text Type': 'Text Type'})\n",
    "fig3.show()"
   ]
  },
  {
   "cell_type": "code",
   "execution_count": 62,
   "id": "8cab1661",
   "metadata": {},
   "outputs": [
    {
     "data": {
      "application/vnd.plotly.v1+json": {
       "config": {
        "plotlyServerURL": "https://plot.ly"
       },
       "data": [
        {
         "alignmentgroup": "True",
         "hovertemplate": "Target Language=Spanish<br>Source Language=%{x}<br>Translation Time (s)=%{y}<extra></extra>",
         "legendgroup": "Spanish",
         "marker": {
          "color": "#636efa",
          "pattern": {
           "shape": ""
          }
         },
         "name": "Spanish",
         "offsetgroup": "Spanish",
         "orientation": "v",
         "showlegend": true,
         "textposition": "auto",
         "type": "bar",
         "x": [
          "English",
          "English",
          "English",
          "Chinese",
          "Chinese",
          "Chinese",
          "Arabic",
          "Arabic",
          "Arabic",
          "Russian",
          "Russian",
          "Russian",
          "German",
          "German",
          "German",
          "French",
          "French",
          "French"
         ],
         "xaxis": "x",
         "y": [
          1.3585360050201416,
          0.2865791320800781,
          0.803361177444458,
          2.1974589824676514,
          1.0220363140106201,
          1.2419509887695312,
          1.2219188213348389,
          0.45336389541625977,
          1.7078211307525635,
          1.7802999019622803,
          0.5595557689666748,
          1.2246110439300537,
          1.4145750999450684,
          0.33475208282470703,
          1.4780189990997314,
          1.610727310180664,
          0.8951599597930908,
          1.6162447929382324
         ],
         "yaxis": "y"
        },
        {
         "alignmentgroup": "True",
         "hovertemplate": "Target Language=Chinese<br>Source Language=%{x}<br>Translation Time (s)=%{y}<extra></extra>",
         "legendgroup": "Chinese",
         "marker": {
          "color": "#EF553B",
          "pattern": {
           "shape": ""
          }
         },
         "name": "Chinese",
         "offsetgroup": "Chinese",
         "orientation": "v",
         "showlegend": true,
         "textposition": "auto",
         "type": "bar",
         "x": [
          "English",
          "English",
          "English",
          "Spanish",
          "Spanish",
          "Spanish",
          "Arabic",
          "Arabic",
          "Arabic",
          "Russian",
          "Russian",
          "Russian",
          "German",
          "German",
          "German",
          "French",
          "French",
          "French"
         ],
         "xaxis": "x",
         "y": [
          13.740643978118896,
          0.22876715660095215,
          0.6843557357788086,
          2.630890130996704,
          2.0359020233154297,
          1.2370860576629639,
          1.468353033065796,
          1.3538780212402344,
          2.8444862365722656,
          1.0505709648132324,
          1.3514549732208252,
          1.5411877632141113,
          1.491034746170044,
          0.18531394004821777,
          1.4340059757232666,
          1.3388068675994873,
          0.9294121265411377,
          1.9492690563201904
         ],
         "yaxis": "y"
        },
        {
         "alignmentgroup": "True",
         "hovertemplate": "Target Language=Arabic<br>Source Language=%{x}<br>Translation Time (s)=%{y}<extra></extra>",
         "legendgroup": "Arabic",
         "marker": {
          "color": "#00cc96",
          "pattern": {
           "shape": ""
          }
         },
         "name": "Arabic",
         "offsetgroup": "Arabic",
         "orientation": "v",
         "showlegend": true,
         "textposition": "auto",
         "type": "bar",
         "x": [
          "English",
          "English",
          "English",
          "Spanish",
          "Spanish",
          "Spanish",
          "Chinese",
          "Chinese",
          "Chinese",
          "Russian",
          "Russian",
          "Russian",
          "German",
          "German",
          "German",
          "French",
          "French",
          "French"
         ],
         "xaxis": "x",
         "y": [
          1.1046462059020996,
          0.2668418884277344,
          0.9934122562408447,
          2.0991649627685547,
          2.5022132396698,
          3.2258729934692383,
          2.402592182159424,
          2.0003702640533447,
          1.6693220138549805,
          3.4366421699523926,
          0.5098698139190674,
          2.07962703704834,
          1.1225769519805908,
          4.330995321273804,
          4.725088119506836,
          3.5965938568115234,
          0.28314971923828125,
          2.0985288619995117
         ],
         "yaxis": "y"
        },
        {
         "alignmentgroup": "True",
         "hovertemplate": "Target Language=Russian<br>Source Language=%{x}<br>Translation Time (s)=%{y}<extra></extra>",
         "legendgroup": "Russian",
         "marker": {
          "color": "#ab63fa",
          "pattern": {
           "shape": ""
          }
         },
         "name": "Russian",
         "offsetgroup": "Russian",
         "orientation": "v",
         "showlegend": true,
         "textposition": "auto",
         "type": "bar",
         "x": [
          "English",
          "English",
          "English",
          "Spanish",
          "Spanish",
          "Spanish",
          "Chinese",
          "Chinese",
          "Chinese",
          "Arabic",
          "Arabic",
          "Arabic",
          "German",
          "German",
          "German",
          "French",
          "French",
          "French"
         ],
         "xaxis": "x",
         "y": [
          1.2646098136901855,
          0.21195077896118164,
          0.7129669189453125,
          1.322613000869751,
          0.3540501594543457,
          1.077500820159912,
          3.315403938293457,
          0.9264540672302246,
          3.25339412689209,
          1.1260268688201904,
          1.0349700450897217,
          1.7733790874481201,
          1.3700709342956543,
          1.2256288528442383,
          1.8978078365325928,
          1.6343181133270264,
          0.40846896171569824,
          1.3011457920074463
         ],
         "yaxis": "y"
        },
        {
         "alignmentgroup": "True",
         "hovertemplate": "Target Language=German<br>Source Language=%{x}<br>Translation Time (s)=%{y}<extra></extra>",
         "legendgroup": "German",
         "marker": {
          "color": "#FFA15A",
          "pattern": {
           "shape": ""
          }
         },
         "name": "German",
         "offsetgroup": "German",
         "orientation": "v",
         "showlegend": true,
         "textposition": "auto",
         "type": "bar",
         "x": [
          "English",
          "English",
          "English",
          "Spanish",
          "Spanish",
          "Spanish",
          "Chinese",
          "Chinese",
          "Chinese",
          "Arabic",
          "Arabic",
          "Arabic",
          "Russian",
          "Russian",
          "Russian",
          "French",
          "French",
          "French"
         ],
         "xaxis": "x",
         "y": [
          1.4940011501312256,
          0.2397630214691162,
          1.4659051895141602,
          1.374389886856079,
          0.31681108474731445,
          1.204503059387207,
          1.2411401271820068,
          0.248138427734375,
          0.5382981300354004,
          1.2564501762390137,
          0.3743317127227783,
          0.7584409713745117,
          0.8088362216949463,
          1.1121149063110352,
          1.4001829624176025,
          1.4454882144927979,
          0.4187180995941162,
          1.2787389755249023
         ],
         "yaxis": "y"
        },
        {
         "alignmentgroup": "True",
         "hovertemplate": "Target Language=French<br>Source Language=%{x}<br>Translation Time (s)=%{y}<extra></extra>",
         "legendgroup": "French",
         "marker": {
          "color": "#19d3f3",
          "pattern": {
           "shape": ""
          }
         },
         "name": "French",
         "offsetgroup": "French",
         "orientation": "v",
         "showlegend": true,
         "textposition": "auto",
         "type": "bar",
         "x": [
          "English",
          "English",
          "English",
          "Spanish",
          "Spanish",
          "Spanish",
          "Chinese",
          "Chinese",
          "Chinese",
          "Arabic",
          "Arabic",
          "Arabic",
          "Russian",
          "Russian",
          "Russian",
          "German",
          "German",
          "German"
         ],
         "xaxis": "x",
         "y": [
          1.139242172241211,
          0.29642319679260254,
          1.1287760734558105,
          1.6086070537567139,
          0.2710847854614258,
          1.1909446716308594,
          2.498991012573242,
          1.3942170143127441,
          1.6685988903045654,
          1.299926996231079,
          0.2761862277984619,
          1.1362709999084473,
          1.2476017475128174,
          0.4336278438568115,
          0.9930951595306396,
          1.6978182792663574,
          0.38873910903930664,
          1.1848080158233643
         ],
         "yaxis": "y"
        },
        {
         "alignmentgroup": "True",
         "hovertemplate": "Target Language=English<br>Source Language=%{x}<br>Translation Time (s)=%{y}<extra></extra>",
         "legendgroup": "English",
         "marker": {
          "color": "#FF6692",
          "pattern": {
           "shape": ""
          }
         },
         "name": "English",
         "offsetgroup": "English",
         "orientation": "v",
         "showlegend": true,
         "textposition": "auto",
         "type": "bar",
         "x": [
          "Spanish",
          "Spanish",
          "Spanish",
          "Chinese",
          "Chinese",
          "Chinese",
          "Arabic",
          "Arabic",
          "Arabic",
          "Russian",
          "Russian",
          "Russian",
          "German",
          "German",
          "German",
          "French",
          "French",
          "French"
         ],
         "xaxis": "x",
         "y": [
          1.2553839683532715,
          0.24301600456237793,
          0.7793700695037842,
          1.3883557319641113,
          0.3995399475097656,
          0.6267950534820557,
          1.3208303451538086,
          0.23713397979736328,
          0.6541798114776611,
          1.6997742652893066,
          0.3680441379547119,
          1.9286088943481445,
          1.3644249439239502,
          0.3016219139099121,
          1.2487561702728271,
          1.1506881713867188,
          0.33710265159606934,
          0.7789719104766846
         ],
         "yaxis": "y"
        }
       ],
       "layout": {
        "barmode": "group",
        "legend": {
         "title": {
          "text": "Target Language"
         },
         "tracegroupgap": 0
        },
        "template": {
         "data": {
          "bar": [
           {
            "error_x": {
             "color": "#2a3f5f"
            },
            "error_y": {
             "color": "#2a3f5f"
            },
            "marker": {
             "line": {
              "color": "#E5ECF6",
              "width": 0.5
             },
             "pattern": {
              "fillmode": "overlay",
              "size": 10,
              "solidity": 0.2
             }
            },
            "type": "bar"
           }
          ],
          "barpolar": [
           {
            "marker": {
             "line": {
              "color": "#E5ECF6",
              "width": 0.5
             },
             "pattern": {
              "fillmode": "overlay",
              "size": 10,
              "solidity": 0.2
             }
            },
            "type": "barpolar"
           }
          ],
          "carpet": [
           {
            "aaxis": {
             "endlinecolor": "#2a3f5f",
             "gridcolor": "white",
             "linecolor": "white",
             "minorgridcolor": "white",
             "startlinecolor": "#2a3f5f"
            },
            "baxis": {
             "endlinecolor": "#2a3f5f",
             "gridcolor": "white",
             "linecolor": "white",
             "minorgridcolor": "white",
             "startlinecolor": "#2a3f5f"
            },
            "type": "carpet"
           }
          ],
          "choropleth": [
           {
            "colorbar": {
             "outlinewidth": 0,
             "ticks": ""
            },
            "type": "choropleth"
           }
          ],
          "contour": [
           {
            "colorbar": {
             "outlinewidth": 0,
             "ticks": ""
            },
            "colorscale": [
             [
              0,
              "#0d0887"
             ],
             [
              0.1111111111111111,
              "#46039f"
             ],
             [
              0.2222222222222222,
              "#7201a8"
             ],
             [
              0.3333333333333333,
              "#9c179e"
             ],
             [
              0.4444444444444444,
              "#bd3786"
             ],
             [
              0.5555555555555556,
              "#d8576b"
             ],
             [
              0.6666666666666666,
              "#ed7953"
             ],
             [
              0.7777777777777778,
              "#fb9f3a"
             ],
             [
              0.8888888888888888,
              "#fdca26"
             ],
             [
              1,
              "#f0f921"
             ]
            ],
            "type": "contour"
           }
          ],
          "contourcarpet": [
           {
            "colorbar": {
             "outlinewidth": 0,
             "ticks": ""
            },
            "type": "contourcarpet"
           }
          ],
          "heatmap": [
           {
            "colorbar": {
             "outlinewidth": 0,
             "ticks": ""
            },
            "colorscale": [
             [
              0,
              "#0d0887"
             ],
             [
              0.1111111111111111,
              "#46039f"
             ],
             [
              0.2222222222222222,
              "#7201a8"
             ],
             [
              0.3333333333333333,
              "#9c179e"
             ],
             [
              0.4444444444444444,
              "#bd3786"
             ],
             [
              0.5555555555555556,
              "#d8576b"
             ],
             [
              0.6666666666666666,
              "#ed7953"
             ],
             [
              0.7777777777777778,
              "#fb9f3a"
             ],
             [
              0.8888888888888888,
              "#fdca26"
             ],
             [
              1,
              "#f0f921"
             ]
            ],
            "type": "heatmap"
           }
          ],
          "heatmapgl": [
           {
            "colorbar": {
             "outlinewidth": 0,
             "ticks": ""
            },
            "colorscale": [
             [
              0,
              "#0d0887"
             ],
             [
              0.1111111111111111,
              "#46039f"
             ],
             [
              0.2222222222222222,
              "#7201a8"
             ],
             [
              0.3333333333333333,
              "#9c179e"
             ],
             [
              0.4444444444444444,
              "#bd3786"
             ],
             [
              0.5555555555555556,
              "#d8576b"
             ],
             [
              0.6666666666666666,
              "#ed7953"
             ],
             [
              0.7777777777777778,
              "#fb9f3a"
             ],
             [
              0.8888888888888888,
              "#fdca26"
             ],
             [
              1,
              "#f0f921"
             ]
            ],
            "type": "heatmapgl"
           }
          ],
          "histogram": [
           {
            "marker": {
             "pattern": {
              "fillmode": "overlay",
              "size": 10,
              "solidity": 0.2
             }
            },
            "type": "histogram"
           }
          ],
          "histogram2d": [
           {
            "colorbar": {
             "outlinewidth": 0,
             "ticks": ""
            },
            "colorscale": [
             [
              0,
              "#0d0887"
             ],
             [
              0.1111111111111111,
              "#46039f"
             ],
             [
              0.2222222222222222,
              "#7201a8"
             ],
             [
              0.3333333333333333,
              "#9c179e"
             ],
             [
              0.4444444444444444,
              "#bd3786"
             ],
             [
              0.5555555555555556,
              "#d8576b"
             ],
             [
              0.6666666666666666,
              "#ed7953"
             ],
             [
              0.7777777777777778,
              "#fb9f3a"
             ],
             [
              0.8888888888888888,
              "#fdca26"
             ],
             [
              1,
              "#f0f921"
             ]
            ],
            "type": "histogram2d"
           }
          ],
          "histogram2dcontour": [
           {
            "colorbar": {
             "outlinewidth": 0,
             "ticks": ""
            },
            "colorscale": [
             [
              0,
              "#0d0887"
             ],
             [
              0.1111111111111111,
              "#46039f"
             ],
             [
              0.2222222222222222,
              "#7201a8"
             ],
             [
              0.3333333333333333,
              "#9c179e"
             ],
             [
              0.4444444444444444,
              "#bd3786"
             ],
             [
              0.5555555555555556,
              "#d8576b"
             ],
             [
              0.6666666666666666,
              "#ed7953"
             ],
             [
              0.7777777777777778,
              "#fb9f3a"
             ],
             [
              0.8888888888888888,
              "#fdca26"
             ],
             [
              1,
              "#f0f921"
             ]
            ],
            "type": "histogram2dcontour"
           }
          ],
          "mesh3d": [
           {
            "colorbar": {
             "outlinewidth": 0,
             "ticks": ""
            },
            "type": "mesh3d"
           }
          ],
          "parcoords": [
           {
            "line": {
             "colorbar": {
              "outlinewidth": 0,
              "ticks": ""
             }
            },
            "type": "parcoords"
           }
          ],
          "pie": [
           {
            "automargin": true,
            "type": "pie"
           }
          ],
          "scatter": [
           {
            "fillpattern": {
             "fillmode": "overlay",
             "size": 10,
             "solidity": 0.2
            },
            "type": "scatter"
           }
          ],
          "scatter3d": [
           {
            "line": {
             "colorbar": {
              "outlinewidth": 0,
              "ticks": ""
             }
            },
            "marker": {
             "colorbar": {
              "outlinewidth": 0,
              "ticks": ""
             }
            },
            "type": "scatter3d"
           }
          ],
          "scattercarpet": [
           {
            "marker": {
             "colorbar": {
              "outlinewidth": 0,
              "ticks": ""
             }
            },
            "type": "scattercarpet"
           }
          ],
          "scattergeo": [
           {
            "marker": {
             "colorbar": {
              "outlinewidth": 0,
              "ticks": ""
             }
            },
            "type": "scattergeo"
           }
          ],
          "scattergl": [
           {
            "marker": {
             "colorbar": {
              "outlinewidth": 0,
              "ticks": ""
             }
            },
            "type": "scattergl"
           }
          ],
          "scattermapbox": [
           {
            "marker": {
             "colorbar": {
              "outlinewidth": 0,
              "ticks": ""
             }
            },
            "type": "scattermapbox"
           }
          ],
          "scatterpolar": [
           {
            "marker": {
             "colorbar": {
              "outlinewidth": 0,
              "ticks": ""
             }
            },
            "type": "scatterpolar"
           }
          ],
          "scatterpolargl": [
           {
            "marker": {
             "colorbar": {
              "outlinewidth": 0,
              "ticks": ""
             }
            },
            "type": "scatterpolargl"
           }
          ],
          "scatterternary": [
           {
            "marker": {
             "colorbar": {
              "outlinewidth": 0,
              "ticks": ""
             }
            },
            "type": "scatterternary"
           }
          ],
          "surface": [
           {
            "colorbar": {
             "outlinewidth": 0,
             "ticks": ""
            },
            "colorscale": [
             [
              0,
              "#0d0887"
             ],
             [
              0.1111111111111111,
              "#46039f"
             ],
             [
              0.2222222222222222,
              "#7201a8"
             ],
             [
              0.3333333333333333,
              "#9c179e"
             ],
             [
              0.4444444444444444,
              "#bd3786"
             ],
             [
              0.5555555555555556,
              "#d8576b"
             ],
             [
              0.6666666666666666,
              "#ed7953"
             ],
             [
              0.7777777777777778,
              "#fb9f3a"
             ],
             [
              0.8888888888888888,
              "#fdca26"
             ],
             [
              1,
              "#f0f921"
             ]
            ],
            "type": "surface"
           }
          ],
          "table": [
           {
            "cells": {
             "fill": {
              "color": "#EBF0F8"
             },
             "line": {
              "color": "white"
             }
            },
            "header": {
             "fill": {
              "color": "#C8D4E3"
             },
             "line": {
              "color": "white"
             }
            },
            "type": "table"
           }
          ]
         },
         "layout": {
          "annotationdefaults": {
           "arrowcolor": "#2a3f5f",
           "arrowhead": 0,
           "arrowwidth": 1
          },
          "autotypenumbers": "strict",
          "coloraxis": {
           "colorbar": {
            "outlinewidth": 0,
            "ticks": ""
           }
          },
          "colorscale": {
           "diverging": [
            [
             0,
             "#8e0152"
            ],
            [
             0.1,
             "#c51b7d"
            ],
            [
             0.2,
             "#de77ae"
            ],
            [
             0.3,
             "#f1b6da"
            ],
            [
             0.4,
             "#fde0ef"
            ],
            [
             0.5,
             "#f7f7f7"
            ],
            [
             0.6,
             "#e6f5d0"
            ],
            [
             0.7,
             "#b8e186"
            ],
            [
             0.8,
             "#7fbc41"
            ],
            [
             0.9,
             "#4d9221"
            ],
            [
             1,
             "#276419"
            ]
           ],
           "sequential": [
            [
             0,
             "#0d0887"
            ],
            [
             0.1111111111111111,
             "#46039f"
            ],
            [
             0.2222222222222222,
             "#7201a8"
            ],
            [
             0.3333333333333333,
             "#9c179e"
            ],
            [
             0.4444444444444444,
             "#bd3786"
            ],
            [
             0.5555555555555556,
             "#d8576b"
            ],
            [
             0.6666666666666666,
             "#ed7953"
            ],
            [
             0.7777777777777778,
             "#fb9f3a"
            ],
            [
             0.8888888888888888,
             "#fdca26"
            ],
            [
             1,
             "#f0f921"
            ]
           ],
           "sequentialminus": [
            [
             0,
             "#0d0887"
            ],
            [
             0.1111111111111111,
             "#46039f"
            ],
            [
             0.2222222222222222,
             "#7201a8"
            ],
            [
             0.3333333333333333,
             "#9c179e"
            ],
            [
             0.4444444444444444,
             "#bd3786"
            ],
            [
             0.5555555555555556,
             "#d8576b"
            ],
            [
             0.6666666666666666,
             "#ed7953"
            ],
            [
             0.7777777777777778,
             "#fb9f3a"
            ],
            [
             0.8888888888888888,
             "#fdca26"
            ],
            [
             1,
             "#f0f921"
            ]
           ]
          },
          "colorway": [
           "#636efa",
           "#EF553B",
           "#00cc96",
           "#ab63fa",
           "#FFA15A",
           "#19d3f3",
           "#FF6692",
           "#B6E880",
           "#FF97FF",
           "#FECB52"
          ],
          "font": {
           "color": "#2a3f5f"
          },
          "geo": {
           "bgcolor": "white",
           "lakecolor": "white",
           "landcolor": "#E5ECF6",
           "showlakes": true,
           "showland": true,
           "subunitcolor": "white"
          },
          "hoverlabel": {
           "align": "left"
          },
          "hovermode": "closest",
          "mapbox": {
           "style": "light"
          },
          "paper_bgcolor": "white",
          "plot_bgcolor": "#E5ECF6",
          "polar": {
           "angularaxis": {
            "gridcolor": "white",
            "linecolor": "white",
            "ticks": ""
           },
           "bgcolor": "#E5ECF6",
           "radialaxis": {
            "gridcolor": "white",
            "linecolor": "white",
            "ticks": ""
           }
          },
          "scene": {
           "xaxis": {
            "backgroundcolor": "#E5ECF6",
            "gridcolor": "white",
            "gridwidth": 2,
            "linecolor": "white",
            "showbackground": true,
            "ticks": "",
            "zerolinecolor": "white"
           },
           "yaxis": {
            "backgroundcolor": "#E5ECF6",
            "gridcolor": "white",
            "gridwidth": 2,
            "linecolor": "white",
            "showbackground": true,
            "ticks": "",
            "zerolinecolor": "white"
           },
           "zaxis": {
            "backgroundcolor": "#E5ECF6",
            "gridcolor": "white",
            "gridwidth": 2,
            "linecolor": "white",
            "showbackground": true,
            "ticks": "",
            "zerolinecolor": "white"
           }
          },
          "shapedefaults": {
           "line": {
            "color": "#2a3f5f"
           }
          },
          "ternary": {
           "aaxis": {
            "gridcolor": "white",
            "linecolor": "white",
            "ticks": ""
           },
           "baxis": {
            "gridcolor": "white",
            "linecolor": "white",
            "ticks": ""
           },
           "bgcolor": "#E5ECF6",
           "caxis": {
            "gridcolor": "white",
            "linecolor": "white",
            "ticks": ""
           }
          },
          "title": {
           "x": 0.05
          },
          "xaxis": {
           "automargin": true,
           "gridcolor": "white",
           "linecolor": "white",
           "ticks": "",
           "title": {
            "standoff": 15
           },
           "zerolinecolor": "white",
           "zerolinewidth": 2
          },
          "yaxis": {
           "automargin": true,
           "gridcolor": "white",
           "linecolor": "white",
           "ticks": "",
           "title": {
            "standoff": 15
           },
           "zerolinecolor": "white",
           "zerolinewidth": 2
          }
         }
        },
        "title": {
         "text": "Hugging Face Translation Times by Source and Target Language"
        },
        "xaxis": {
         "anchor": "y",
         "domain": [
          0,
          1
         ],
         "title": {
          "text": "Source Language"
         }
        },
        "yaxis": {
         "anchor": "x",
         "domain": [
          0,
          1
         ],
         "title": {
          "text": "Translation Time (s)"
         }
        }
       }
      },
      "text/html": [
       "<div>                            <div id=\"82e44174-f060-42d9-8232-5e6dfc62a177\" class=\"plotly-graph-div\" style=\"height:525px; width:100%;\"></div>            <script type=\"text/javascript\">                require([\"plotly\"], function(Plotly) {                    window.PLOTLYENV=window.PLOTLYENV || {};                                    if (document.getElementById(\"82e44174-f060-42d9-8232-5e6dfc62a177\")) {                    Plotly.newPlot(                        \"82e44174-f060-42d9-8232-5e6dfc62a177\",                        [{\"alignmentgroup\":\"True\",\"hovertemplate\":\"Target Language=Spanish\\u003cbr\\u003eSource Language=%{x}\\u003cbr\\u003eTranslation Time (s)=%{y}\\u003cextra\\u003e\\u003c\\u002fextra\\u003e\",\"legendgroup\":\"Spanish\",\"marker\":{\"color\":\"#636efa\",\"pattern\":{\"shape\":\"\"}},\"name\":\"Spanish\",\"offsetgroup\":\"Spanish\",\"orientation\":\"v\",\"showlegend\":true,\"textposition\":\"auto\",\"x\":[\"English\",\"English\",\"English\",\"Chinese\",\"Chinese\",\"Chinese\",\"Arabic\",\"Arabic\",\"Arabic\",\"Russian\",\"Russian\",\"Russian\",\"German\",\"German\",\"German\",\"French\",\"French\",\"French\"],\"xaxis\":\"x\",\"y\":[1.3585360050201416,0.2865791320800781,0.803361177444458,2.1974589824676514,1.0220363140106201,1.2419509887695312,1.2219188213348389,0.45336389541625977,1.7078211307525635,1.7802999019622803,0.5595557689666748,1.2246110439300537,1.4145750999450684,0.33475208282470703,1.4780189990997314,1.610727310180664,0.8951599597930908,1.6162447929382324],\"yaxis\":\"y\",\"type\":\"bar\"},{\"alignmentgroup\":\"True\",\"hovertemplate\":\"Target Language=Chinese\\u003cbr\\u003eSource Language=%{x}\\u003cbr\\u003eTranslation Time (s)=%{y}\\u003cextra\\u003e\\u003c\\u002fextra\\u003e\",\"legendgroup\":\"Chinese\",\"marker\":{\"color\":\"#EF553B\",\"pattern\":{\"shape\":\"\"}},\"name\":\"Chinese\",\"offsetgroup\":\"Chinese\",\"orientation\":\"v\",\"showlegend\":true,\"textposition\":\"auto\",\"x\":[\"English\",\"English\",\"English\",\"Spanish\",\"Spanish\",\"Spanish\",\"Arabic\",\"Arabic\",\"Arabic\",\"Russian\",\"Russian\",\"Russian\",\"German\",\"German\",\"German\",\"French\",\"French\",\"French\"],\"xaxis\":\"x\",\"y\":[13.740643978118896,0.22876715660095215,0.6843557357788086,2.630890130996704,2.0359020233154297,1.2370860576629639,1.468353033065796,1.3538780212402344,2.8444862365722656,1.0505709648132324,1.3514549732208252,1.5411877632141113,1.491034746170044,0.18531394004821777,1.4340059757232666,1.3388068675994873,0.9294121265411377,1.9492690563201904],\"yaxis\":\"y\",\"type\":\"bar\"},{\"alignmentgroup\":\"True\",\"hovertemplate\":\"Target Language=Arabic\\u003cbr\\u003eSource Language=%{x}\\u003cbr\\u003eTranslation Time (s)=%{y}\\u003cextra\\u003e\\u003c\\u002fextra\\u003e\",\"legendgroup\":\"Arabic\",\"marker\":{\"color\":\"#00cc96\",\"pattern\":{\"shape\":\"\"}},\"name\":\"Arabic\",\"offsetgroup\":\"Arabic\",\"orientation\":\"v\",\"showlegend\":true,\"textposition\":\"auto\",\"x\":[\"English\",\"English\",\"English\",\"Spanish\",\"Spanish\",\"Spanish\",\"Chinese\",\"Chinese\",\"Chinese\",\"Russian\",\"Russian\",\"Russian\",\"German\",\"German\",\"German\",\"French\",\"French\",\"French\"],\"xaxis\":\"x\",\"y\":[1.1046462059020996,0.2668418884277344,0.9934122562408447,2.0991649627685547,2.5022132396698,3.2258729934692383,2.402592182159424,2.0003702640533447,1.6693220138549805,3.4366421699523926,0.5098698139190674,2.07962703704834,1.1225769519805908,4.330995321273804,4.725088119506836,3.5965938568115234,0.28314971923828125,2.0985288619995117],\"yaxis\":\"y\",\"type\":\"bar\"},{\"alignmentgroup\":\"True\",\"hovertemplate\":\"Target Language=Russian\\u003cbr\\u003eSource Language=%{x}\\u003cbr\\u003eTranslation Time (s)=%{y}\\u003cextra\\u003e\\u003c\\u002fextra\\u003e\",\"legendgroup\":\"Russian\",\"marker\":{\"color\":\"#ab63fa\",\"pattern\":{\"shape\":\"\"}},\"name\":\"Russian\",\"offsetgroup\":\"Russian\",\"orientation\":\"v\",\"showlegend\":true,\"textposition\":\"auto\",\"x\":[\"English\",\"English\",\"English\",\"Spanish\",\"Spanish\",\"Spanish\",\"Chinese\",\"Chinese\",\"Chinese\",\"Arabic\",\"Arabic\",\"Arabic\",\"German\",\"German\",\"German\",\"French\",\"French\",\"French\"],\"xaxis\":\"x\",\"y\":[1.2646098136901855,0.21195077896118164,0.7129669189453125,1.322613000869751,0.3540501594543457,1.077500820159912,3.315403938293457,0.9264540672302246,3.25339412689209,1.1260268688201904,1.0349700450897217,1.7733790874481201,1.3700709342956543,1.2256288528442383,1.8978078365325928,1.6343181133270264,0.40846896171569824,1.3011457920074463],\"yaxis\":\"y\",\"type\":\"bar\"},{\"alignmentgroup\":\"True\",\"hovertemplate\":\"Target Language=German\\u003cbr\\u003eSource Language=%{x}\\u003cbr\\u003eTranslation Time (s)=%{y}\\u003cextra\\u003e\\u003c\\u002fextra\\u003e\",\"legendgroup\":\"German\",\"marker\":{\"color\":\"#FFA15A\",\"pattern\":{\"shape\":\"\"}},\"name\":\"German\",\"offsetgroup\":\"German\",\"orientation\":\"v\",\"showlegend\":true,\"textposition\":\"auto\",\"x\":[\"English\",\"English\",\"English\",\"Spanish\",\"Spanish\",\"Spanish\",\"Chinese\",\"Chinese\",\"Chinese\",\"Arabic\",\"Arabic\",\"Arabic\",\"Russian\",\"Russian\",\"Russian\",\"French\",\"French\",\"French\"],\"xaxis\":\"x\",\"y\":[1.4940011501312256,0.2397630214691162,1.4659051895141602,1.374389886856079,0.31681108474731445,1.204503059387207,1.2411401271820068,0.248138427734375,0.5382981300354004,1.2564501762390137,0.3743317127227783,0.7584409713745117,0.8088362216949463,1.1121149063110352,1.4001829624176025,1.4454882144927979,0.4187180995941162,1.2787389755249023],\"yaxis\":\"y\",\"type\":\"bar\"},{\"alignmentgroup\":\"True\",\"hovertemplate\":\"Target Language=French\\u003cbr\\u003eSource Language=%{x}\\u003cbr\\u003eTranslation Time (s)=%{y}\\u003cextra\\u003e\\u003c\\u002fextra\\u003e\",\"legendgroup\":\"French\",\"marker\":{\"color\":\"#19d3f3\",\"pattern\":{\"shape\":\"\"}},\"name\":\"French\",\"offsetgroup\":\"French\",\"orientation\":\"v\",\"showlegend\":true,\"textposition\":\"auto\",\"x\":[\"English\",\"English\",\"English\",\"Spanish\",\"Spanish\",\"Spanish\",\"Chinese\",\"Chinese\",\"Chinese\",\"Arabic\",\"Arabic\",\"Arabic\",\"Russian\",\"Russian\",\"Russian\",\"German\",\"German\",\"German\"],\"xaxis\":\"x\",\"y\":[1.139242172241211,0.29642319679260254,1.1287760734558105,1.6086070537567139,0.2710847854614258,1.1909446716308594,2.498991012573242,1.3942170143127441,1.6685988903045654,1.299926996231079,0.2761862277984619,1.1362709999084473,1.2476017475128174,0.4336278438568115,0.9930951595306396,1.6978182792663574,0.38873910903930664,1.1848080158233643],\"yaxis\":\"y\",\"type\":\"bar\"},{\"alignmentgroup\":\"True\",\"hovertemplate\":\"Target Language=English\\u003cbr\\u003eSource Language=%{x}\\u003cbr\\u003eTranslation Time (s)=%{y}\\u003cextra\\u003e\\u003c\\u002fextra\\u003e\",\"legendgroup\":\"English\",\"marker\":{\"color\":\"#FF6692\",\"pattern\":{\"shape\":\"\"}},\"name\":\"English\",\"offsetgroup\":\"English\",\"orientation\":\"v\",\"showlegend\":true,\"textposition\":\"auto\",\"x\":[\"Spanish\",\"Spanish\",\"Spanish\",\"Chinese\",\"Chinese\",\"Chinese\",\"Arabic\",\"Arabic\",\"Arabic\",\"Russian\",\"Russian\",\"Russian\",\"German\",\"German\",\"German\",\"French\",\"French\",\"French\"],\"xaxis\":\"x\",\"y\":[1.2553839683532715,0.24301600456237793,0.7793700695037842,1.3883557319641113,0.3995399475097656,0.6267950534820557,1.3208303451538086,0.23713397979736328,0.6541798114776611,1.6997742652893066,0.3680441379547119,1.9286088943481445,1.3644249439239502,0.3016219139099121,1.2487561702728271,1.1506881713867188,0.33710265159606934,0.7789719104766846],\"yaxis\":\"y\",\"type\":\"bar\"}],                        {\"template\":{\"data\":{\"histogram2dcontour\":[{\"type\":\"histogram2dcontour\",\"colorbar\":{\"outlinewidth\":0,\"ticks\":\"\"},\"colorscale\":[[0.0,\"#0d0887\"],[0.1111111111111111,\"#46039f\"],[0.2222222222222222,\"#7201a8\"],[0.3333333333333333,\"#9c179e\"],[0.4444444444444444,\"#bd3786\"],[0.5555555555555556,\"#d8576b\"],[0.6666666666666666,\"#ed7953\"],[0.7777777777777778,\"#fb9f3a\"],[0.8888888888888888,\"#fdca26\"],[1.0,\"#f0f921\"]]}],\"choropleth\":[{\"type\":\"choropleth\",\"colorbar\":{\"outlinewidth\":0,\"ticks\":\"\"}}],\"histogram2d\":[{\"type\":\"histogram2d\",\"colorbar\":{\"outlinewidth\":0,\"ticks\":\"\"},\"colorscale\":[[0.0,\"#0d0887\"],[0.1111111111111111,\"#46039f\"],[0.2222222222222222,\"#7201a8\"],[0.3333333333333333,\"#9c179e\"],[0.4444444444444444,\"#bd3786\"],[0.5555555555555556,\"#d8576b\"],[0.6666666666666666,\"#ed7953\"],[0.7777777777777778,\"#fb9f3a\"],[0.8888888888888888,\"#fdca26\"],[1.0,\"#f0f921\"]]}],\"heatmap\":[{\"type\":\"heatmap\",\"colorbar\":{\"outlinewidth\":0,\"ticks\":\"\"},\"colorscale\":[[0.0,\"#0d0887\"],[0.1111111111111111,\"#46039f\"],[0.2222222222222222,\"#7201a8\"],[0.3333333333333333,\"#9c179e\"],[0.4444444444444444,\"#bd3786\"],[0.5555555555555556,\"#d8576b\"],[0.6666666666666666,\"#ed7953\"],[0.7777777777777778,\"#fb9f3a\"],[0.8888888888888888,\"#fdca26\"],[1.0,\"#f0f921\"]]}],\"heatmapgl\":[{\"type\":\"heatmapgl\",\"colorbar\":{\"outlinewidth\":0,\"ticks\":\"\"},\"colorscale\":[[0.0,\"#0d0887\"],[0.1111111111111111,\"#46039f\"],[0.2222222222222222,\"#7201a8\"],[0.3333333333333333,\"#9c179e\"],[0.4444444444444444,\"#bd3786\"],[0.5555555555555556,\"#d8576b\"],[0.6666666666666666,\"#ed7953\"],[0.7777777777777778,\"#fb9f3a\"],[0.8888888888888888,\"#fdca26\"],[1.0,\"#f0f921\"]]}],\"contourcarpet\":[{\"type\":\"contourcarpet\",\"colorbar\":{\"outlinewidth\":0,\"ticks\":\"\"}}],\"contour\":[{\"type\":\"contour\",\"colorbar\":{\"outlinewidth\":0,\"ticks\":\"\"},\"colorscale\":[[0.0,\"#0d0887\"],[0.1111111111111111,\"#46039f\"],[0.2222222222222222,\"#7201a8\"],[0.3333333333333333,\"#9c179e\"],[0.4444444444444444,\"#bd3786\"],[0.5555555555555556,\"#d8576b\"],[0.6666666666666666,\"#ed7953\"],[0.7777777777777778,\"#fb9f3a\"],[0.8888888888888888,\"#fdca26\"],[1.0,\"#f0f921\"]]}],\"surface\":[{\"type\":\"surface\",\"colorbar\":{\"outlinewidth\":0,\"ticks\":\"\"},\"colorscale\":[[0.0,\"#0d0887\"],[0.1111111111111111,\"#46039f\"],[0.2222222222222222,\"#7201a8\"],[0.3333333333333333,\"#9c179e\"],[0.4444444444444444,\"#bd3786\"],[0.5555555555555556,\"#d8576b\"],[0.6666666666666666,\"#ed7953\"],[0.7777777777777778,\"#fb9f3a\"],[0.8888888888888888,\"#fdca26\"],[1.0,\"#f0f921\"]]}],\"mesh3d\":[{\"type\":\"mesh3d\",\"colorbar\":{\"outlinewidth\":0,\"ticks\":\"\"}}],\"scatter\":[{\"fillpattern\":{\"fillmode\":\"overlay\",\"size\":10,\"solidity\":0.2},\"type\":\"scatter\"}],\"parcoords\":[{\"type\":\"parcoords\",\"line\":{\"colorbar\":{\"outlinewidth\":0,\"ticks\":\"\"}}}],\"scatterpolargl\":[{\"type\":\"scatterpolargl\",\"marker\":{\"colorbar\":{\"outlinewidth\":0,\"ticks\":\"\"}}}],\"bar\":[{\"error_x\":{\"color\":\"#2a3f5f\"},\"error_y\":{\"color\":\"#2a3f5f\"},\"marker\":{\"line\":{\"color\":\"#E5ECF6\",\"width\":0.5},\"pattern\":{\"fillmode\":\"overlay\",\"size\":10,\"solidity\":0.2}},\"type\":\"bar\"}],\"scattergeo\":[{\"type\":\"scattergeo\",\"marker\":{\"colorbar\":{\"outlinewidth\":0,\"ticks\":\"\"}}}],\"scatterpolar\":[{\"type\":\"scatterpolar\",\"marker\":{\"colorbar\":{\"outlinewidth\":0,\"ticks\":\"\"}}}],\"histogram\":[{\"marker\":{\"pattern\":{\"fillmode\":\"overlay\",\"size\":10,\"solidity\":0.2}},\"type\":\"histogram\"}],\"scattergl\":[{\"type\":\"scattergl\",\"marker\":{\"colorbar\":{\"outlinewidth\":0,\"ticks\":\"\"}}}],\"scatter3d\":[{\"type\":\"scatter3d\",\"line\":{\"colorbar\":{\"outlinewidth\":0,\"ticks\":\"\"}},\"marker\":{\"colorbar\":{\"outlinewidth\":0,\"ticks\":\"\"}}}],\"scattermapbox\":[{\"type\":\"scattermapbox\",\"marker\":{\"colorbar\":{\"outlinewidth\":0,\"ticks\":\"\"}}}],\"scatterternary\":[{\"type\":\"scatterternary\",\"marker\":{\"colorbar\":{\"outlinewidth\":0,\"ticks\":\"\"}}}],\"scattercarpet\":[{\"type\":\"scattercarpet\",\"marker\":{\"colorbar\":{\"outlinewidth\":0,\"ticks\":\"\"}}}],\"carpet\":[{\"aaxis\":{\"endlinecolor\":\"#2a3f5f\",\"gridcolor\":\"white\",\"linecolor\":\"white\",\"minorgridcolor\":\"white\",\"startlinecolor\":\"#2a3f5f\"},\"baxis\":{\"endlinecolor\":\"#2a3f5f\",\"gridcolor\":\"white\",\"linecolor\":\"white\",\"minorgridcolor\":\"white\",\"startlinecolor\":\"#2a3f5f\"},\"type\":\"carpet\"}],\"table\":[{\"cells\":{\"fill\":{\"color\":\"#EBF0F8\"},\"line\":{\"color\":\"white\"}},\"header\":{\"fill\":{\"color\":\"#C8D4E3\"},\"line\":{\"color\":\"white\"}},\"type\":\"table\"}],\"barpolar\":[{\"marker\":{\"line\":{\"color\":\"#E5ECF6\",\"width\":0.5},\"pattern\":{\"fillmode\":\"overlay\",\"size\":10,\"solidity\":0.2}},\"type\":\"barpolar\"}],\"pie\":[{\"automargin\":true,\"type\":\"pie\"}]},\"layout\":{\"autotypenumbers\":\"strict\",\"colorway\":[\"#636efa\",\"#EF553B\",\"#00cc96\",\"#ab63fa\",\"#FFA15A\",\"#19d3f3\",\"#FF6692\",\"#B6E880\",\"#FF97FF\",\"#FECB52\"],\"font\":{\"color\":\"#2a3f5f\"},\"hovermode\":\"closest\",\"hoverlabel\":{\"align\":\"left\"},\"paper_bgcolor\":\"white\",\"plot_bgcolor\":\"#E5ECF6\",\"polar\":{\"bgcolor\":\"#E5ECF6\",\"angularaxis\":{\"gridcolor\":\"white\",\"linecolor\":\"white\",\"ticks\":\"\"},\"radialaxis\":{\"gridcolor\":\"white\",\"linecolor\":\"white\",\"ticks\":\"\"}},\"ternary\":{\"bgcolor\":\"#E5ECF6\",\"aaxis\":{\"gridcolor\":\"white\",\"linecolor\":\"white\",\"ticks\":\"\"},\"baxis\":{\"gridcolor\":\"white\",\"linecolor\":\"white\",\"ticks\":\"\"},\"caxis\":{\"gridcolor\":\"white\",\"linecolor\":\"white\",\"ticks\":\"\"}},\"coloraxis\":{\"colorbar\":{\"outlinewidth\":0,\"ticks\":\"\"}},\"colorscale\":{\"sequential\":[[0.0,\"#0d0887\"],[0.1111111111111111,\"#46039f\"],[0.2222222222222222,\"#7201a8\"],[0.3333333333333333,\"#9c179e\"],[0.4444444444444444,\"#bd3786\"],[0.5555555555555556,\"#d8576b\"],[0.6666666666666666,\"#ed7953\"],[0.7777777777777778,\"#fb9f3a\"],[0.8888888888888888,\"#fdca26\"],[1.0,\"#f0f921\"]],\"sequentialminus\":[[0.0,\"#0d0887\"],[0.1111111111111111,\"#46039f\"],[0.2222222222222222,\"#7201a8\"],[0.3333333333333333,\"#9c179e\"],[0.4444444444444444,\"#bd3786\"],[0.5555555555555556,\"#d8576b\"],[0.6666666666666666,\"#ed7953\"],[0.7777777777777778,\"#fb9f3a\"],[0.8888888888888888,\"#fdca26\"],[1.0,\"#f0f921\"]],\"diverging\":[[0,\"#8e0152\"],[0.1,\"#c51b7d\"],[0.2,\"#de77ae\"],[0.3,\"#f1b6da\"],[0.4,\"#fde0ef\"],[0.5,\"#f7f7f7\"],[0.6,\"#e6f5d0\"],[0.7,\"#b8e186\"],[0.8,\"#7fbc41\"],[0.9,\"#4d9221\"],[1,\"#276419\"]]},\"xaxis\":{\"gridcolor\":\"white\",\"linecolor\":\"white\",\"ticks\":\"\",\"title\":{\"standoff\":15},\"zerolinecolor\":\"white\",\"automargin\":true,\"zerolinewidth\":2},\"yaxis\":{\"gridcolor\":\"white\",\"linecolor\":\"white\",\"ticks\":\"\",\"title\":{\"standoff\":15},\"zerolinecolor\":\"white\",\"automargin\":true,\"zerolinewidth\":2},\"scene\":{\"xaxis\":{\"backgroundcolor\":\"#E5ECF6\",\"gridcolor\":\"white\",\"linecolor\":\"white\",\"showbackground\":true,\"ticks\":\"\",\"zerolinecolor\":\"white\",\"gridwidth\":2},\"yaxis\":{\"backgroundcolor\":\"#E5ECF6\",\"gridcolor\":\"white\",\"linecolor\":\"white\",\"showbackground\":true,\"ticks\":\"\",\"zerolinecolor\":\"white\",\"gridwidth\":2},\"zaxis\":{\"backgroundcolor\":\"#E5ECF6\",\"gridcolor\":\"white\",\"linecolor\":\"white\",\"showbackground\":true,\"ticks\":\"\",\"zerolinecolor\":\"white\",\"gridwidth\":2}},\"shapedefaults\":{\"line\":{\"color\":\"#2a3f5f\"}},\"annotationdefaults\":{\"arrowcolor\":\"#2a3f5f\",\"arrowhead\":0,\"arrowwidth\":1},\"geo\":{\"bgcolor\":\"white\",\"landcolor\":\"#E5ECF6\",\"subunitcolor\":\"white\",\"showland\":true,\"showlakes\":true,\"lakecolor\":\"white\"},\"title\":{\"x\":0.05},\"mapbox\":{\"style\":\"light\"}}},\"xaxis\":{\"anchor\":\"y\",\"domain\":[0.0,1.0],\"title\":{\"text\":\"Source Language\"}},\"yaxis\":{\"anchor\":\"x\",\"domain\":[0.0,1.0],\"title\":{\"text\":\"Translation Time (s)\"}},\"legend\":{\"title\":{\"text\":\"Target Language\"},\"tracegroupgap\":0},\"title\":{\"text\":\"Hugging Face Translation Times by Source and Target Language\"},\"barmode\":\"group\"},                        {\"responsive\": true}                    ).then(function(){\n",
       "                            \n",
       "var gd = document.getElementById('82e44174-f060-42d9-8232-5e6dfc62a177');\n",
       "var x = new MutationObserver(function (mutations, observer) {{\n",
       "        var display = window.getComputedStyle(gd).display;\n",
       "        if (!display || display === 'none') {{\n",
       "            console.log([gd, 'removed!']);\n",
       "            Plotly.purge(gd);\n",
       "            observer.disconnect();\n",
       "        }}\n",
       "}});\n",
       "\n",
       "// Listen for the removal of the full notebook cells\n",
       "var notebookContainer = gd.closest('#notebook-container');\n",
       "if (notebookContainer) {{\n",
       "    x.observe(notebookContainer, {childList: true});\n",
       "}}\n",
       "\n",
       "// Listen for the clearing of the current output cell\n",
       "var outputEl = gd.closest('.output');\n",
       "if (outputEl) {{\n",
       "    x.observe(outputEl, {childList: true});\n",
       "}}\n",
       "\n",
       "                        })                };                });            </script>        </div>"
      ]
     },
     "metadata": {},
     "output_type": "display_data"
    },
    {
     "data": {
      "application/vnd.plotly.v1+json": {
       "config": {
        "plotlyServerURL": "https://plot.ly"
       },
       "data": [
        {
         "alignmentgroup": "True",
         "hovertemplate": "Target Language=Spanish<br>Source Language=%{x}<br>Translation Time (s)=%{y}<extra></extra>",
         "legendgroup": "Spanish",
         "marker": {
          "color": "#636efa",
          "pattern": {
           "shape": ""
          }
         },
         "name": "Spanish",
         "offsetgroup": "Spanish",
         "orientation": "v",
         "showlegend": true,
         "textposition": "auto",
         "type": "bar",
         "x": [
          "English",
          "English",
          "English",
          "Chinese",
          "Chinese",
          "Chinese",
          "Arabic",
          "Arabic",
          "Arabic",
          "Russian",
          "Russian",
          "Russian",
          "German",
          "German",
          "German",
          "French",
          "French",
          "French"
         ],
         "xaxis": "x",
         "y": [
          1.2379870414733887,
          0.8984739780426025,
          1.082571029663086,
          1.4913959503173828,
          1.4996600151062012,
          2.0946249961853027,
          1.3310701847076416,
          2.6365370750427246,
          2.2919490337371826,
          1.0132710933685303,
          1.1546642780303955,
          1.4424922466278076,
          0.8293249607086182,
          1.099822759628296,
          1.4125230312347412,
          1.3490979671478271,
          1.3144659996032715,
          0.9638171195983887
         ],
         "yaxis": "y"
        },
        {
         "alignmentgroup": "True",
         "hovertemplate": "Target Language=Chinese<br>Source Language=%{x}<br>Translation Time (s)=%{y}<extra></extra>",
         "legendgroup": "Chinese",
         "marker": {
          "color": "#EF553B",
          "pattern": {
           "shape": ""
          }
         },
         "name": "Chinese",
         "offsetgroup": "Chinese",
         "orientation": "v",
         "showlegend": true,
         "textposition": "auto",
         "type": "bar",
         "x": [
          "English",
          "English",
          "English",
          "Spanish",
          "Spanish",
          "Spanish",
          "Arabic",
          "Arabic",
          "Arabic",
          "Russian",
          "Russian",
          "Russian",
          "German",
          "German",
          "German",
          "French",
          "French",
          "French"
         ],
         "xaxis": "x",
         "y": [
          1.316380262374878,
          1.3084239959716797,
          2.2611677646636963,
          1.3782050609588623,
          1.5183520317077637,
          1.5052931308746338,
          1.4510631561279297,
          1.4402518272399902,
          1.6835520267486572,
          1.1377952098846436,
          0.7927978038787842,
          1.34322190284729,
          1.055283784866333,
          1.0637290477752686,
          1.6429612636566162,
          1.3789091110229492,
          0.8887500762939453,
          2.072402000427246
         ],
         "yaxis": "y"
        },
        {
         "alignmentgroup": "True",
         "hovertemplate": "Target Language=Arabic<br>Source Language=%{x}<br>Translation Time (s)=%{y}<extra></extra>",
         "legendgroup": "Arabic",
         "marker": {
          "color": "#00cc96",
          "pattern": {
           "shape": ""
          }
         },
         "name": "Arabic",
         "offsetgroup": "Arabic",
         "orientation": "v",
         "showlegend": true,
         "textposition": "auto",
         "type": "bar",
         "x": [
          "English",
          "English",
          "English",
          "Spanish",
          "Spanish",
          "Spanish",
          "Chinese",
          "Chinese",
          "Chinese",
          "Russian",
          "Russian",
          "Russian",
          "German",
          "German",
          "German",
          "French",
          "French",
          "French"
         ],
         "xaxis": "x",
         "y": [
          2.0283420085906982,
          1.1488580703735352,
          3.7522997856140137,
          1.3806681632995605,
          0.9719321727752686,
          1.3251457214355469,
          1.000349998474121,
          1.4192140102386475,
          1.7023723125457764,
          0.8027439117431641,
          1.0881547927856445,
          1.5502395629882812,
          0.8219468593597412,
          1.4813592433929443,
          1.605109691619873,
          0.9875130653381348,
          1.392383337020874,
          1.1951820850372314
         ],
         "yaxis": "y"
        },
        {
         "alignmentgroup": "True",
         "hovertemplate": "Target Language=Russian<br>Source Language=%{x}<br>Translation Time (s)=%{y}<extra></extra>",
         "legendgroup": "Russian",
         "marker": {
          "color": "#ab63fa",
          "pattern": {
           "shape": ""
          }
         },
         "name": "Russian",
         "offsetgroup": "Russian",
         "orientation": "v",
         "showlegend": true,
         "textposition": "auto",
         "type": "bar",
         "x": [
          "English",
          "English",
          "English",
          "Spanish",
          "Spanish",
          "Spanish",
          "Chinese",
          "Chinese",
          "Chinese",
          "Arabic",
          "Arabic",
          "Arabic",
          "German",
          "German",
          "German",
          "French",
          "French",
          "French"
         ],
         "xaxis": "x",
         "y": [
          0.7441580295562744,
          1.430616855621338,
          1.8011870384216309,
          1.3301572799682617,
          1.3655321598052979,
          1.9576070308685303,
          1.7514681816101074,
          1.2350690364837646,
          2.876293182373047,
          3.1867992877960205,
          2.5184152126312256,
          1.7189140319824219,
          1.2132079601287842,
          0.8602187633514404,
          1.2338168621063232,
          1.623656988143921,
          1.0934021472930908,
          1.1753621101379395
         ],
         "yaxis": "y"
        },
        {
         "alignmentgroup": "True",
         "hovertemplate": "Target Language=German<br>Source Language=%{x}<br>Translation Time (s)=%{y}<extra></extra>",
         "legendgroup": "German",
         "marker": {
          "color": "#FFA15A",
          "pattern": {
           "shape": ""
          }
         },
         "name": "German",
         "offsetgroup": "German",
         "orientation": "v",
         "showlegend": true,
         "textposition": "auto",
         "type": "bar",
         "x": [
          "English",
          "English",
          "English",
          "Spanish",
          "Spanish",
          "Spanish",
          "Chinese",
          "Chinese",
          "Chinese",
          "Arabic",
          "Arabic",
          "Arabic",
          "Russian",
          "Russian",
          "Russian",
          "French",
          "French",
          "French"
         ],
         "xaxis": "x",
         "y": [
          1.2444560527801514,
          1.6936511993408203,
          1.6602411270141602,
          2.9502298831939697,
          2.7571301460266113,
          1.8921692371368408,
          1.4466350078582764,
          1.0810019969940186,
          1.3290190696716309,
          0.7432858943939209,
          1.2003870010375977,
          2.685771942138672,
          1.1905317306518555,
          0.9343860149383545,
          1.3677849769592285,
          1.1870810985565186,
          1.3435871601104736,
          1.5889167785644531
         ],
         "yaxis": "y"
        },
        {
         "alignmentgroup": "True",
         "hovertemplate": "Target Language=French<br>Source Language=%{x}<br>Translation Time (s)=%{y}<extra></extra>",
         "legendgroup": "French",
         "marker": {
          "color": "#19d3f3",
          "pattern": {
           "shape": ""
          }
         },
         "name": "French",
         "offsetgroup": "French",
         "orientation": "v",
         "showlegend": true,
         "textposition": "auto",
         "type": "bar",
         "x": [
          "English",
          "English",
          "English",
          "Spanish",
          "Spanish",
          "Spanish",
          "Chinese",
          "Chinese",
          "Chinese",
          "Arabic",
          "Arabic",
          "Arabic",
          "Russian",
          "Russian",
          "Russian",
          "German",
          "German",
          "German"
         ],
         "xaxis": "x",
         "y": [
          1.5942959785461426,
          2.8664419651031494,
          1.0392749309539795,
          1.335433006286621,
          1.120973825454712,
          1.4141581058502197,
          0.6518137454986572,
          1.6593141555786133,
          0.9705426692962646,
          1.3885347843170166,
          1.0483617782592773,
          1.1813201904296875,
          1.1755709648132324,
          1.238081932067871,
          1.5620880126953125,
          1.4774141311645508,
          0.8149418830871582,
          1.7072482109069824
         ],
         "yaxis": "y"
        },
        {
         "alignmentgroup": "True",
         "hovertemplate": "Target Language=English<br>Source Language=%{x}<br>Translation Time (s)=%{y}<extra></extra>",
         "legendgroup": "English",
         "marker": {
          "color": "#FF6692",
          "pattern": {
           "shape": ""
          }
         },
         "name": "English",
         "offsetgroup": "English",
         "orientation": "v",
         "showlegend": true,
         "textposition": "auto",
         "type": "bar",
         "x": [
          "Spanish",
          "Spanish",
          "Spanish",
          "Chinese",
          "Chinese",
          "Chinese",
          "Arabic",
          "Arabic",
          "Arabic",
          "Russian",
          "Russian",
          "Russian",
          "German",
          "German",
          "German",
          "French",
          "French",
          "French"
         ],
         "xaxis": "x",
         "y": [
          0.7225539684295654,
          0.7194807529449463,
          1.5199573040008545,
          1.2443571090698242,
          1.629969835281372,
          1.5506830215454102,
          1.269300937652588,
          1.3741400241851807,
          1.7403578758239746,
          0.8337538242340088,
          0.6703588962554932,
          1.7258391380310059,
          1.2019259929656982,
          1.240849256515503,
          0.888477087020874,
          0.6419088840484619,
          1.552243947982788,
          1.6627709865570068
         ],
         "yaxis": "y"
        }
       ],
       "layout": {
        "barmode": "group",
        "legend": {
         "title": {
          "text": "Target Language"
         },
         "tracegroupgap": 0
        },
        "template": {
         "data": {
          "bar": [
           {
            "error_x": {
             "color": "#2a3f5f"
            },
            "error_y": {
             "color": "#2a3f5f"
            },
            "marker": {
             "line": {
              "color": "#E5ECF6",
              "width": 0.5
             },
             "pattern": {
              "fillmode": "overlay",
              "size": 10,
              "solidity": 0.2
             }
            },
            "type": "bar"
           }
          ],
          "barpolar": [
           {
            "marker": {
             "line": {
              "color": "#E5ECF6",
              "width": 0.5
             },
             "pattern": {
              "fillmode": "overlay",
              "size": 10,
              "solidity": 0.2
             }
            },
            "type": "barpolar"
           }
          ],
          "carpet": [
           {
            "aaxis": {
             "endlinecolor": "#2a3f5f",
             "gridcolor": "white",
             "linecolor": "white",
             "minorgridcolor": "white",
             "startlinecolor": "#2a3f5f"
            },
            "baxis": {
             "endlinecolor": "#2a3f5f",
             "gridcolor": "white",
             "linecolor": "white",
             "minorgridcolor": "white",
             "startlinecolor": "#2a3f5f"
            },
            "type": "carpet"
           }
          ],
          "choropleth": [
           {
            "colorbar": {
             "outlinewidth": 0,
             "ticks": ""
            },
            "type": "choropleth"
           }
          ],
          "contour": [
           {
            "colorbar": {
             "outlinewidth": 0,
             "ticks": ""
            },
            "colorscale": [
             [
              0,
              "#0d0887"
             ],
             [
              0.1111111111111111,
              "#46039f"
             ],
             [
              0.2222222222222222,
              "#7201a8"
             ],
             [
              0.3333333333333333,
              "#9c179e"
             ],
             [
              0.4444444444444444,
              "#bd3786"
             ],
             [
              0.5555555555555556,
              "#d8576b"
             ],
             [
              0.6666666666666666,
              "#ed7953"
             ],
             [
              0.7777777777777778,
              "#fb9f3a"
             ],
             [
              0.8888888888888888,
              "#fdca26"
             ],
             [
              1,
              "#f0f921"
             ]
            ],
            "type": "contour"
           }
          ],
          "contourcarpet": [
           {
            "colorbar": {
             "outlinewidth": 0,
             "ticks": ""
            },
            "type": "contourcarpet"
           }
          ],
          "heatmap": [
           {
            "colorbar": {
             "outlinewidth": 0,
             "ticks": ""
            },
            "colorscale": [
             [
              0,
              "#0d0887"
             ],
             [
              0.1111111111111111,
              "#46039f"
             ],
             [
              0.2222222222222222,
              "#7201a8"
             ],
             [
              0.3333333333333333,
              "#9c179e"
             ],
             [
              0.4444444444444444,
              "#bd3786"
             ],
             [
              0.5555555555555556,
              "#d8576b"
             ],
             [
              0.6666666666666666,
              "#ed7953"
             ],
             [
              0.7777777777777778,
              "#fb9f3a"
             ],
             [
              0.8888888888888888,
              "#fdca26"
             ],
             [
              1,
              "#f0f921"
             ]
            ],
            "type": "heatmap"
           }
          ],
          "heatmapgl": [
           {
            "colorbar": {
             "outlinewidth": 0,
             "ticks": ""
            },
            "colorscale": [
             [
              0,
              "#0d0887"
             ],
             [
              0.1111111111111111,
              "#46039f"
             ],
             [
              0.2222222222222222,
              "#7201a8"
             ],
             [
              0.3333333333333333,
              "#9c179e"
             ],
             [
              0.4444444444444444,
              "#bd3786"
             ],
             [
              0.5555555555555556,
              "#d8576b"
             ],
             [
              0.6666666666666666,
              "#ed7953"
             ],
             [
              0.7777777777777778,
              "#fb9f3a"
             ],
             [
              0.8888888888888888,
              "#fdca26"
             ],
             [
              1,
              "#f0f921"
             ]
            ],
            "type": "heatmapgl"
           }
          ],
          "histogram": [
           {
            "marker": {
             "pattern": {
              "fillmode": "overlay",
              "size": 10,
              "solidity": 0.2
             }
            },
            "type": "histogram"
           }
          ],
          "histogram2d": [
           {
            "colorbar": {
             "outlinewidth": 0,
             "ticks": ""
            },
            "colorscale": [
             [
              0,
              "#0d0887"
             ],
             [
              0.1111111111111111,
              "#46039f"
             ],
             [
              0.2222222222222222,
              "#7201a8"
             ],
             [
              0.3333333333333333,
              "#9c179e"
             ],
             [
              0.4444444444444444,
              "#bd3786"
             ],
             [
              0.5555555555555556,
              "#d8576b"
             ],
             [
              0.6666666666666666,
              "#ed7953"
             ],
             [
              0.7777777777777778,
              "#fb9f3a"
             ],
             [
              0.8888888888888888,
              "#fdca26"
             ],
             [
              1,
              "#f0f921"
             ]
            ],
            "type": "histogram2d"
           }
          ],
          "histogram2dcontour": [
           {
            "colorbar": {
             "outlinewidth": 0,
             "ticks": ""
            },
            "colorscale": [
             [
              0,
              "#0d0887"
             ],
             [
              0.1111111111111111,
              "#46039f"
             ],
             [
              0.2222222222222222,
              "#7201a8"
             ],
             [
              0.3333333333333333,
              "#9c179e"
             ],
             [
              0.4444444444444444,
              "#bd3786"
             ],
             [
              0.5555555555555556,
              "#d8576b"
             ],
             [
              0.6666666666666666,
              "#ed7953"
             ],
             [
              0.7777777777777778,
              "#fb9f3a"
             ],
             [
              0.8888888888888888,
              "#fdca26"
             ],
             [
              1,
              "#f0f921"
             ]
            ],
            "type": "histogram2dcontour"
           }
          ],
          "mesh3d": [
           {
            "colorbar": {
             "outlinewidth": 0,
             "ticks": ""
            },
            "type": "mesh3d"
           }
          ],
          "parcoords": [
           {
            "line": {
             "colorbar": {
              "outlinewidth": 0,
              "ticks": ""
             }
            },
            "type": "parcoords"
           }
          ],
          "pie": [
           {
            "automargin": true,
            "type": "pie"
           }
          ],
          "scatter": [
           {
            "fillpattern": {
             "fillmode": "overlay",
             "size": 10,
             "solidity": 0.2
            },
            "type": "scatter"
           }
          ],
          "scatter3d": [
           {
            "line": {
             "colorbar": {
              "outlinewidth": 0,
              "ticks": ""
             }
            },
            "marker": {
             "colorbar": {
              "outlinewidth": 0,
              "ticks": ""
             }
            },
            "type": "scatter3d"
           }
          ],
          "scattercarpet": [
           {
            "marker": {
             "colorbar": {
              "outlinewidth": 0,
              "ticks": ""
             }
            },
            "type": "scattercarpet"
           }
          ],
          "scattergeo": [
           {
            "marker": {
             "colorbar": {
              "outlinewidth": 0,
              "ticks": ""
             }
            },
            "type": "scattergeo"
           }
          ],
          "scattergl": [
           {
            "marker": {
             "colorbar": {
              "outlinewidth": 0,
              "ticks": ""
             }
            },
            "type": "scattergl"
           }
          ],
          "scattermapbox": [
           {
            "marker": {
             "colorbar": {
              "outlinewidth": 0,
              "ticks": ""
             }
            },
            "type": "scattermapbox"
           }
          ],
          "scatterpolar": [
           {
            "marker": {
             "colorbar": {
              "outlinewidth": 0,
              "ticks": ""
             }
            },
            "type": "scatterpolar"
           }
          ],
          "scatterpolargl": [
           {
            "marker": {
             "colorbar": {
              "outlinewidth": 0,
              "ticks": ""
             }
            },
            "type": "scatterpolargl"
           }
          ],
          "scatterternary": [
           {
            "marker": {
             "colorbar": {
              "outlinewidth": 0,
              "ticks": ""
             }
            },
            "type": "scatterternary"
           }
          ],
          "surface": [
           {
            "colorbar": {
             "outlinewidth": 0,
             "ticks": ""
            },
            "colorscale": [
             [
              0,
              "#0d0887"
             ],
             [
              0.1111111111111111,
              "#46039f"
             ],
             [
              0.2222222222222222,
              "#7201a8"
             ],
             [
              0.3333333333333333,
              "#9c179e"
             ],
             [
              0.4444444444444444,
              "#bd3786"
             ],
             [
              0.5555555555555556,
              "#d8576b"
             ],
             [
              0.6666666666666666,
              "#ed7953"
             ],
             [
              0.7777777777777778,
              "#fb9f3a"
             ],
             [
              0.8888888888888888,
              "#fdca26"
             ],
             [
              1,
              "#f0f921"
             ]
            ],
            "type": "surface"
           }
          ],
          "table": [
           {
            "cells": {
             "fill": {
              "color": "#EBF0F8"
             },
             "line": {
              "color": "white"
             }
            },
            "header": {
             "fill": {
              "color": "#C8D4E3"
             },
             "line": {
              "color": "white"
             }
            },
            "type": "table"
           }
          ]
         },
         "layout": {
          "annotationdefaults": {
           "arrowcolor": "#2a3f5f",
           "arrowhead": 0,
           "arrowwidth": 1
          },
          "autotypenumbers": "strict",
          "coloraxis": {
           "colorbar": {
            "outlinewidth": 0,
            "ticks": ""
           }
          },
          "colorscale": {
           "diverging": [
            [
             0,
             "#8e0152"
            ],
            [
             0.1,
             "#c51b7d"
            ],
            [
             0.2,
             "#de77ae"
            ],
            [
             0.3,
             "#f1b6da"
            ],
            [
             0.4,
             "#fde0ef"
            ],
            [
             0.5,
             "#f7f7f7"
            ],
            [
             0.6,
             "#e6f5d0"
            ],
            [
             0.7,
             "#b8e186"
            ],
            [
             0.8,
             "#7fbc41"
            ],
            [
             0.9,
             "#4d9221"
            ],
            [
             1,
             "#276419"
            ]
           ],
           "sequential": [
            [
             0,
             "#0d0887"
            ],
            [
             0.1111111111111111,
             "#46039f"
            ],
            [
             0.2222222222222222,
             "#7201a8"
            ],
            [
             0.3333333333333333,
             "#9c179e"
            ],
            [
             0.4444444444444444,
             "#bd3786"
            ],
            [
             0.5555555555555556,
             "#d8576b"
            ],
            [
             0.6666666666666666,
             "#ed7953"
            ],
            [
             0.7777777777777778,
             "#fb9f3a"
            ],
            [
             0.8888888888888888,
             "#fdca26"
            ],
            [
             1,
             "#f0f921"
            ]
           ],
           "sequentialminus": [
            [
             0,
             "#0d0887"
            ],
            [
             0.1111111111111111,
             "#46039f"
            ],
            [
             0.2222222222222222,
             "#7201a8"
            ],
            [
             0.3333333333333333,
             "#9c179e"
            ],
            [
             0.4444444444444444,
             "#bd3786"
            ],
            [
             0.5555555555555556,
             "#d8576b"
            ],
            [
             0.6666666666666666,
             "#ed7953"
            ],
            [
             0.7777777777777778,
             "#fb9f3a"
            ],
            [
             0.8888888888888888,
             "#fdca26"
            ],
            [
             1,
             "#f0f921"
            ]
           ]
          },
          "colorway": [
           "#636efa",
           "#EF553B",
           "#00cc96",
           "#ab63fa",
           "#FFA15A",
           "#19d3f3",
           "#FF6692",
           "#B6E880",
           "#FF97FF",
           "#FECB52"
          ],
          "font": {
           "color": "#2a3f5f"
          },
          "geo": {
           "bgcolor": "white",
           "lakecolor": "white",
           "landcolor": "#E5ECF6",
           "showlakes": true,
           "showland": true,
           "subunitcolor": "white"
          },
          "hoverlabel": {
           "align": "left"
          },
          "hovermode": "closest",
          "mapbox": {
           "style": "light"
          },
          "paper_bgcolor": "white",
          "plot_bgcolor": "#E5ECF6",
          "polar": {
           "angularaxis": {
            "gridcolor": "white",
            "linecolor": "white",
            "ticks": ""
           },
           "bgcolor": "#E5ECF6",
           "radialaxis": {
            "gridcolor": "white",
            "linecolor": "white",
            "ticks": ""
           }
          },
          "scene": {
           "xaxis": {
            "backgroundcolor": "#E5ECF6",
            "gridcolor": "white",
            "gridwidth": 2,
            "linecolor": "white",
            "showbackground": true,
            "ticks": "",
            "zerolinecolor": "white"
           },
           "yaxis": {
            "backgroundcolor": "#E5ECF6",
            "gridcolor": "white",
            "gridwidth": 2,
            "linecolor": "white",
            "showbackground": true,
            "ticks": "",
            "zerolinecolor": "white"
           },
           "zaxis": {
            "backgroundcolor": "#E5ECF6",
            "gridcolor": "white",
            "gridwidth": 2,
            "linecolor": "white",
            "showbackground": true,
            "ticks": "",
            "zerolinecolor": "white"
           }
          },
          "shapedefaults": {
           "line": {
            "color": "#2a3f5f"
           }
          },
          "ternary": {
           "aaxis": {
            "gridcolor": "white",
            "linecolor": "white",
            "ticks": ""
           },
           "baxis": {
            "gridcolor": "white",
            "linecolor": "white",
            "ticks": ""
           },
           "bgcolor": "#E5ECF6",
           "caxis": {
            "gridcolor": "white",
            "linecolor": "white",
            "ticks": ""
           }
          },
          "title": {
           "x": 0.05
          },
          "xaxis": {
           "automargin": true,
           "gridcolor": "white",
           "linecolor": "white",
           "ticks": "",
           "title": {
            "standoff": 15
           },
           "zerolinecolor": "white",
           "zerolinewidth": 2
          },
          "yaxis": {
           "automargin": true,
           "gridcolor": "white",
           "linecolor": "white",
           "ticks": "",
           "title": {
            "standoff": 15
           },
           "zerolinecolor": "white",
           "zerolinewidth": 2
          }
         }
        },
        "title": {
         "text": "Gemini Translation Times by Source and Target Language"
        },
        "xaxis": {
         "anchor": "y",
         "domain": [
          0,
          1
         ],
         "title": {
          "text": "Source Language"
         }
        },
        "yaxis": {
         "anchor": "x",
         "domain": [
          0,
          1
         ],
         "title": {
          "text": "Translation Time (s)"
         }
        }
       }
      },
      "text/html": [
       "<div>                            <div id=\"219215ca-e288-49ac-9201-dcc1e8c505cc\" class=\"plotly-graph-div\" style=\"height:525px; width:100%;\"></div>            <script type=\"text/javascript\">                require([\"plotly\"], function(Plotly) {                    window.PLOTLYENV=window.PLOTLYENV || {};                                    if (document.getElementById(\"219215ca-e288-49ac-9201-dcc1e8c505cc\")) {                    Plotly.newPlot(                        \"219215ca-e288-49ac-9201-dcc1e8c505cc\",                        [{\"alignmentgroup\":\"True\",\"hovertemplate\":\"Target Language=Spanish\\u003cbr\\u003eSource Language=%{x}\\u003cbr\\u003eTranslation Time (s)=%{y}\\u003cextra\\u003e\\u003c\\u002fextra\\u003e\",\"legendgroup\":\"Spanish\",\"marker\":{\"color\":\"#636efa\",\"pattern\":{\"shape\":\"\"}},\"name\":\"Spanish\",\"offsetgroup\":\"Spanish\",\"orientation\":\"v\",\"showlegend\":true,\"textposition\":\"auto\",\"x\":[\"English\",\"English\",\"English\",\"Chinese\",\"Chinese\",\"Chinese\",\"Arabic\",\"Arabic\",\"Arabic\",\"Russian\",\"Russian\",\"Russian\",\"German\",\"German\",\"German\",\"French\",\"French\",\"French\"],\"xaxis\":\"x\",\"y\":[1.2379870414733887,0.8984739780426025,1.082571029663086,1.4913959503173828,1.4996600151062012,2.0946249961853027,1.3310701847076416,2.6365370750427246,2.2919490337371826,1.0132710933685303,1.1546642780303955,1.4424922466278076,0.8293249607086182,1.099822759628296,1.4125230312347412,1.3490979671478271,1.3144659996032715,0.9638171195983887],\"yaxis\":\"y\",\"type\":\"bar\"},{\"alignmentgroup\":\"True\",\"hovertemplate\":\"Target Language=Chinese\\u003cbr\\u003eSource Language=%{x}\\u003cbr\\u003eTranslation Time (s)=%{y}\\u003cextra\\u003e\\u003c\\u002fextra\\u003e\",\"legendgroup\":\"Chinese\",\"marker\":{\"color\":\"#EF553B\",\"pattern\":{\"shape\":\"\"}},\"name\":\"Chinese\",\"offsetgroup\":\"Chinese\",\"orientation\":\"v\",\"showlegend\":true,\"textposition\":\"auto\",\"x\":[\"English\",\"English\",\"English\",\"Spanish\",\"Spanish\",\"Spanish\",\"Arabic\",\"Arabic\",\"Arabic\",\"Russian\",\"Russian\",\"Russian\",\"German\",\"German\",\"German\",\"French\",\"French\",\"French\"],\"xaxis\":\"x\",\"y\":[1.316380262374878,1.3084239959716797,2.2611677646636963,1.3782050609588623,1.5183520317077637,1.5052931308746338,1.4510631561279297,1.4402518272399902,1.6835520267486572,1.1377952098846436,0.7927978038787842,1.34322190284729,1.055283784866333,1.0637290477752686,1.6429612636566162,1.3789091110229492,0.8887500762939453,2.072402000427246],\"yaxis\":\"y\",\"type\":\"bar\"},{\"alignmentgroup\":\"True\",\"hovertemplate\":\"Target Language=Arabic\\u003cbr\\u003eSource Language=%{x}\\u003cbr\\u003eTranslation Time (s)=%{y}\\u003cextra\\u003e\\u003c\\u002fextra\\u003e\",\"legendgroup\":\"Arabic\",\"marker\":{\"color\":\"#00cc96\",\"pattern\":{\"shape\":\"\"}},\"name\":\"Arabic\",\"offsetgroup\":\"Arabic\",\"orientation\":\"v\",\"showlegend\":true,\"textposition\":\"auto\",\"x\":[\"English\",\"English\",\"English\",\"Spanish\",\"Spanish\",\"Spanish\",\"Chinese\",\"Chinese\",\"Chinese\",\"Russian\",\"Russian\",\"Russian\",\"German\",\"German\",\"German\",\"French\",\"French\",\"French\"],\"xaxis\":\"x\",\"y\":[2.0283420085906982,1.1488580703735352,3.7522997856140137,1.3806681632995605,0.9719321727752686,1.3251457214355469,1.000349998474121,1.4192140102386475,1.7023723125457764,0.8027439117431641,1.0881547927856445,1.5502395629882812,0.8219468593597412,1.4813592433929443,1.605109691619873,0.9875130653381348,1.392383337020874,1.1951820850372314],\"yaxis\":\"y\",\"type\":\"bar\"},{\"alignmentgroup\":\"True\",\"hovertemplate\":\"Target Language=Russian\\u003cbr\\u003eSource Language=%{x}\\u003cbr\\u003eTranslation Time (s)=%{y}\\u003cextra\\u003e\\u003c\\u002fextra\\u003e\",\"legendgroup\":\"Russian\",\"marker\":{\"color\":\"#ab63fa\",\"pattern\":{\"shape\":\"\"}},\"name\":\"Russian\",\"offsetgroup\":\"Russian\",\"orientation\":\"v\",\"showlegend\":true,\"textposition\":\"auto\",\"x\":[\"English\",\"English\",\"English\",\"Spanish\",\"Spanish\",\"Spanish\",\"Chinese\",\"Chinese\",\"Chinese\",\"Arabic\",\"Arabic\",\"Arabic\",\"German\",\"German\",\"German\",\"French\",\"French\",\"French\"],\"xaxis\":\"x\",\"y\":[0.7441580295562744,1.430616855621338,1.8011870384216309,1.3301572799682617,1.3655321598052979,1.9576070308685303,1.7514681816101074,1.2350690364837646,2.876293182373047,3.1867992877960205,2.5184152126312256,1.7189140319824219,1.2132079601287842,0.8602187633514404,1.2338168621063232,1.623656988143921,1.0934021472930908,1.1753621101379395],\"yaxis\":\"y\",\"type\":\"bar\"},{\"alignmentgroup\":\"True\",\"hovertemplate\":\"Target Language=German\\u003cbr\\u003eSource Language=%{x}\\u003cbr\\u003eTranslation Time (s)=%{y}\\u003cextra\\u003e\\u003c\\u002fextra\\u003e\",\"legendgroup\":\"German\",\"marker\":{\"color\":\"#FFA15A\",\"pattern\":{\"shape\":\"\"}},\"name\":\"German\",\"offsetgroup\":\"German\",\"orientation\":\"v\",\"showlegend\":true,\"textposition\":\"auto\",\"x\":[\"English\",\"English\",\"English\",\"Spanish\",\"Spanish\",\"Spanish\",\"Chinese\",\"Chinese\",\"Chinese\",\"Arabic\",\"Arabic\",\"Arabic\",\"Russian\",\"Russian\",\"Russian\",\"French\",\"French\",\"French\"],\"xaxis\":\"x\",\"y\":[1.2444560527801514,1.6936511993408203,1.6602411270141602,2.9502298831939697,2.7571301460266113,1.8921692371368408,1.4466350078582764,1.0810019969940186,1.3290190696716309,0.7432858943939209,1.2003870010375977,2.685771942138672,1.1905317306518555,0.9343860149383545,1.3677849769592285,1.1870810985565186,1.3435871601104736,1.5889167785644531],\"yaxis\":\"y\",\"type\":\"bar\"},{\"alignmentgroup\":\"True\",\"hovertemplate\":\"Target Language=French\\u003cbr\\u003eSource Language=%{x}\\u003cbr\\u003eTranslation Time (s)=%{y}\\u003cextra\\u003e\\u003c\\u002fextra\\u003e\",\"legendgroup\":\"French\",\"marker\":{\"color\":\"#19d3f3\",\"pattern\":{\"shape\":\"\"}},\"name\":\"French\",\"offsetgroup\":\"French\",\"orientation\":\"v\",\"showlegend\":true,\"textposition\":\"auto\",\"x\":[\"English\",\"English\",\"English\",\"Spanish\",\"Spanish\",\"Spanish\",\"Chinese\",\"Chinese\",\"Chinese\",\"Arabic\",\"Arabic\",\"Arabic\",\"Russian\",\"Russian\",\"Russian\",\"German\",\"German\",\"German\"],\"xaxis\":\"x\",\"y\":[1.5942959785461426,2.8664419651031494,1.0392749309539795,1.335433006286621,1.120973825454712,1.4141581058502197,0.6518137454986572,1.6593141555786133,0.9705426692962646,1.3885347843170166,1.0483617782592773,1.1813201904296875,1.1755709648132324,1.238081932067871,1.5620880126953125,1.4774141311645508,0.8149418830871582,1.7072482109069824],\"yaxis\":\"y\",\"type\":\"bar\"},{\"alignmentgroup\":\"True\",\"hovertemplate\":\"Target Language=English\\u003cbr\\u003eSource Language=%{x}\\u003cbr\\u003eTranslation Time (s)=%{y}\\u003cextra\\u003e\\u003c\\u002fextra\\u003e\",\"legendgroup\":\"English\",\"marker\":{\"color\":\"#FF6692\",\"pattern\":{\"shape\":\"\"}},\"name\":\"English\",\"offsetgroup\":\"English\",\"orientation\":\"v\",\"showlegend\":true,\"textposition\":\"auto\",\"x\":[\"Spanish\",\"Spanish\",\"Spanish\",\"Chinese\",\"Chinese\",\"Chinese\",\"Arabic\",\"Arabic\",\"Arabic\",\"Russian\",\"Russian\",\"Russian\",\"German\",\"German\",\"German\",\"French\",\"French\",\"French\"],\"xaxis\":\"x\",\"y\":[0.7225539684295654,0.7194807529449463,1.5199573040008545,1.2443571090698242,1.629969835281372,1.5506830215454102,1.269300937652588,1.3741400241851807,1.7403578758239746,0.8337538242340088,0.6703588962554932,1.7258391380310059,1.2019259929656982,1.240849256515503,0.888477087020874,0.6419088840484619,1.552243947982788,1.6627709865570068],\"yaxis\":\"y\",\"type\":\"bar\"}],                        {\"template\":{\"data\":{\"histogram2dcontour\":[{\"type\":\"histogram2dcontour\",\"colorbar\":{\"outlinewidth\":0,\"ticks\":\"\"},\"colorscale\":[[0.0,\"#0d0887\"],[0.1111111111111111,\"#46039f\"],[0.2222222222222222,\"#7201a8\"],[0.3333333333333333,\"#9c179e\"],[0.4444444444444444,\"#bd3786\"],[0.5555555555555556,\"#d8576b\"],[0.6666666666666666,\"#ed7953\"],[0.7777777777777778,\"#fb9f3a\"],[0.8888888888888888,\"#fdca26\"],[1.0,\"#f0f921\"]]}],\"choropleth\":[{\"type\":\"choropleth\",\"colorbar\":{\"outlinewidth\":0,\"ticks\":\"\"}}],\"histogram2d\":[{\"type\":\"histogram2d\",\"colorbar\":{\"outlinewidth\":0,\"ticks\":\"\"},\"colorscale\":[[0.0,\"#0d0887\"],[0.1111111111111111,\"#46039f\"],[0.2222222222222222,\"#7201a8\"],[0.3333333333333333,\"#9c179e\"],[0.4444444444444444,\"#bd3786\"],[0.5555555555555556,\"#d8576b\"],[0.6666666666666666,\"#ed7953\"],[0.7777777777777778,\"#fb9f3a\"],[0.8888888888888888,\"#fdca26\"],[1.0,\"#f0f921\"]]}],\"heatmap\":[{\"type\":\"heatmap\",\"colorbar\":{\"outlinewidth\":0,\"ticks\":\"\"},\"colorscale\":[[0.0,\"#0d0887\"],[0.1111111111111111,\"#46039f\"],[0.2222222222222222,\"#7201a8\"],[0.3333333333333333,\"#9c179e\"],[0.4444444444444444,\"#bd3786\"],[0.5555555555555556,\"#d8576b\"],[0.6666666666666666,\"#ed7953\"],[0.7777777777777778,\"#fb9f3a\"],[0.8888888888888888,\"#fdca26\"],[1.0,\"#f0f921\"]]}],\"heatmapgl\":[{\"type\":\"heatmapgl\",\"colorbar\":{\"outlinewidth\":0,\"ticks\":\"\"},\"colorscale\":[[0.0,\"#0d0887\"],[0.1111111111111111,\"#46039f\"],[0.2222222222222222,\"#7201a8\"],[0.3333333333333333,\"#9c179e\"],[0.4444444444444444,\"#bd3786\"],[0.5555555555555556,\"#d8576b\"],[0.6666666666666666,\"#ed7953\"],[0.7777777777777778,\"#fb9f3a\"],[0.8888888888888888,\"#fdca26\"],[1.0,\"#f0f921\"]]}],\"contourcarpet\":[{\"type\":\"contourcarpet\",\"colorbar\":{\"outlinewidth\":0,\"ticks\":\"\"}}],\"contour\":[{\"type\":\"contour\",\"colorbar\":{\"outlinewidth\":0,\"ticks\":\"\"},\"colorscale\":[[0.0,\"#0d0887\"],[0.1111111111111111,\"#46039f\"],[0.2222222222222222,\"#7201a8\"],[0.3333333333333333,\"#9c179e\"],[0.4444444444444444,\"#bd3786\"],[0.5555555555555556,\"#d8576b\"],[0.6666666666666666,\"#ed7953\"],[0.7777777777777778,\"#fb9f3a\"],[0.8888888888888888,\"#fdca26\"],[1.0,\"#f0f921\"]]}],\"surface\":[{\"type\":\"surface\",\"colorbar\":{\"outlinewidth\":0,\"ticks\":\"\"},\"colorscale\":[[0.0,\"#0d0887\"],[0.1111111111111111,\"#46039f\"],[0.2222222222222222,\"#7201a8\"],[0.3333333333333333,\"#9c179e\"],[0.4444444444444444,\"#bd3786\"],[0.5555555555555556,\"#d8576b\"],[0.6666666666666666,\"#ed7953\"],[0.7777777777777778,\"#fb9f3a\"],[0.8888888888888888,\"#fdca26\"],[1.0,\"#f0f921\"]]}],\"mesh3d\":[{\"type\":\"mesh3d\",\"colorbar\":{\"outlinewidth\":0,\"ticks\":\"\"}}],\"scatter\":[{\"fillpattern\":{\"fillmode\":\"overlay\",\"size\":10,\"solidity\":0.2},\"type\":\"scatter\"}],\"parcoords\":[{\"type\":\"parcoords\",\"line\":{\"colorbar\":{\"outlinewidth\":0,\"ticks\":\"\"}}}],\"scatterpolargl\":[{\"type\":\"scatterpolargl\",\"marker\":{\"colorbar\":{\"outlinewidth\":0,\"ticks\":\"\"}}}],\"bar\":[{\"error_x\":{\"color\":\"#2a3f5f\"},\"error_y\":{\"color\":\"#2a3f5f\"},\"marker\":{\"line\":{\"color\":\"#E5ECF6\",\"width\":0.5},\"pattern\":{\"fillmode\":\"overlay\",\"size\":10,\"solidity\":0.2}},\"type\":\"bar\"}],\"scattergeo\":[{\"type\":\"scattergeo\",\"marker\":{\"colorbar\":{\"outlinewidth\":0,\"ticks\":\"\"}}}],\"scatterpolar\":[{\"type\":\"scatterpolar\",\"marker\":{\"colorbar\":{\"outlinewidth\":0,\"ticks\":\"\"}}}],\"histogram\":[{\"marker\":{\"pattern\":{\"fillmode\":\"overlay\",\"size\":10,\"solidity\":0.2}},\"type\":\"histogram\"}],\"scattergl\":[{\"type\":\"scattergl\",\"marker\":{\"colorbar\":{\"outlinewidth\":0,\"ticks\":\"\"}}}],\"scatter3d\":[{\"type\":\"scatter3d\",\"line\":{\"colorbar\":{\"outlinewidth\":0,\"ticks\":\"\"}},\"marker\":{\"colorbar\":{\"outlinewidth\":0,\"ticks\":\"\"}}}],\"scattermapbox\":[{\"type\":\"scattermapbox\",\"marker\":{\"colorbar\":{\"outlinewidth\":0,\"ticks\":\"\"}}}],\"scatterternary\":[{\"type\":\"scatterternary\",\"marker\":{\"colorbar\":{\"outlinewidth\":0,\"ticks\":\"\"}}}],\"scattercarpet\":[{\"type\":\"scattercarpet\",\"marker\":{\"colorbar\":{\"outlinewidth\":0,\"ticks\":\"\"}}}],\"carpet\":[{\"aaxis\":{\"endlinecolor\":\"#2a3f5f\",\"gridcolor\":\"white\",\"linecolor\":\"white\",\"minorgridcolor\":\"white\",\"startlinecolor\":\"#2a3f5f\"},\"baxis\":{\"endlinecolor\":\"#2a3f5f\",\"gridcolor\":\"white\",\"linecolor\":\"white\",\"minorgridcolor\":\"white\",\"startlinecolor\":\"#2a3f5f\"},\"type\":\"carpet\"}],\"table\":[{\"cells\":{\"fill\":{\"color\":\"#EBF0F8\"},\"line\":{\"color\":\"white\"}},\"header\":{\"fill\":{\"color\":\"#C8D4E3\"},\"line\":{\"color\":\"white\"}},\"type\":\"table\"}],\"barpolar\":[{\"marker\":{\"line\":{\"color\":\"#E5ECF6\",\"width\":0.5},\"pattern\":{\"fillmode\":\"overlay\",\"size\":10,\"solidity\":0.2}},\"type\":\"barpolar\"}],\"pie\":[{\"automargin\":true,\"type\":\"pie\"}]},\"layout\":{\"autotypenumbers\":\"strict\",\"colorway\":[\"#636efa\",\"#EF553B\",\"#00cc96\",\"#ab63fa\",\"#FFA15A\",\"#19d3f3\",\"#FF6692\",\"#B6E880\",\"#FF97FF\",\"#FECB52\"],\"font\":{\"color\":\"#2a3f5f\"},\"hovermode\":\"closest\",\"hoverlabel\":{\"align\":\"left\"},\"paper_bgcolor\":\"white\",\"plot_bgcolor\":\"#E5ECF6\",\"polar\":{\"bgcolor\":\"#E5ECF6\",\"angularaxis\":{\"gridcolor\":\"white\",\"linecolor\":\"white\",\"ticks\":\"\"},\"radialaxis\":{\"gridcolor\":\"white\",\"linecolor\":\"white\",\"ticks\":\"\"}},\"ternary\":{\"bgcolor\":\"#E5ECF6\",\"aaxis\":{\"gridcolor\":\"white\",\"linecolor\":\"white\",\"ticks\":\"\"},\"baxis\":{\"gridcolor\":\"white\",\"linecolor\":\"white\",\"ticks\":\"\"},\"caxis\":{\"gridcolor\":\"white\",\"linecolor\":\"white\",\"ticks\":\"\"}},\"coloraxis\":{\"colorbar\":{\"outlinewidth\":0,\"ticks\":\"\"}},\"colorscale\":{\"sequential\":[[0.0,\"#0d0887\"],[0.1111111111111111,\"#46039f\"],[0.2222222222222222,\"#7201a8\"],[0.3333333333333333,\"#9c179e\"],[0.4444444444444444,\"#bd3786\"],[0.5555555555555556,\"#d8576b\"],[0.6666666666666666,\"#ed7953\"],[0.7777777777777778,\"#fb9f3a\"],[0.8888888888888888,\"#fdca26\"],[1.0,\"#f0f921\"]],\"sequentialminus\":[[0.0,\"#0d0887\"],[0.1111111111111111,\"#46039f\"],[0.2222222222222222,\"#7201a8\"],[0.3333333333333333,\"#9c179e\"],[0.4444444444444444,\"#bd3786\"],[0.5555555555555556,\"#d8576b\"],[0.6666666666666666,\"#ed7953\"],[0.7777777777777778,\"#fb9f3a\"],[0.8888888888888888,\"#fdca26\"],[1.0,\"#f0f921\"]],\"diverging\":[[0,\"#8e0152\"],[0.1,\"#c51b7d\"],[0.2,\"#de77ae\"],[0.3,\"#f1b6da\"],[0.4,\"#fde0ef\"],[0.5,\"#f7f7f7\"],[0.6,\"#e6f5d0\"],[0.7,\"#b8e186\"],[0.8,\"#7fbc41\"],[0.9,\"#4d9221\"],[1,\"#276419\"]]},\"xaxis\":{\"gridcolor\":\"white\",\"linecolor\":\"white\",\"ticks\":\"\",\"title\":{\"standoff\":15},\"zerolinecolor\":\"white\",\"automargin\":true,\"zerolinewidth\":2},\"yaxis\":{\"gridcolor\":\"white\",\"linecolor\":\"white\",\"ticks\":\"\",\"title\":{\"standoff\":15},\"zerolinecolor\":\"white\",\"automargin\":true,\"zerolinewidth\":2},\"scene\":{\"xaxis\":{\"backgroundcolor\":\"#E5ECF6\",\"gridcolor\":\"white\",\"linecolor\":\"white\",\"showbackground\":true,\"ticks\":\"\",\"zerolinecolor\":\"white\",\"gridwidth\":2},\"yaxis\":{\"backgroundcolor\":\"#E5ECF6\",\"gridcolor\":\"white\",\"linecolor\":\"white\",\"showbackground\":true,\"ticks\":\"\",\"zerolinecolor\":\"white\",\"gridwidth\":2},\"zaxis\":{\"backgroundcolor\":\"#E5ECF6\",\"gridcolor\":\"white\",\"linecolor\":\"white\",\"showbackground\":true,\"ticks\":\"\",\"zerolinecolor\":\"white\",\"gridwidth\":2}},\"shapedefaults\":{\"line\":{\"color\":\"#2a3f5f\"}},\"annotationdefaults\":{\"arrowcolor\":\"#2a3f5f\",\"arrowhead\":0,\"arrowwidth\":1},\"geo\":{\"bgcolor\":\"white\",\"landcolor\":\"#E5ECF6\",\"subunitcolor\":\"white\",\"showland\":true,\"showlakes\":true,\"lakecolor\":\"white\"},\"title\":{\"x\":0.05},\"mapbox\":{\"style\":\"light\"}}},\"xaxis\":{\"anchor\":\"y\",\"domain\":[0.0,1.0],\"title\":{\"text\":\"Source Language\"}},\"yaxis\":{\"anchor\":\"x\",\"domain\":[0.0,1.0],\"title\":{\"text\":\"Translation Time (s)\"}},\"legend\":{\"title\":{\"text\":\"Target Language\"},\"tracegroupgap\":0},\"title\":{\"text\":\"Gemini Translation Times by Source and Target Language\"},\"barmode\":\"group\"},                        {\"responsive\": true}                    ).then(function(){\n",
       "                            \n",
       "var gd = document.getElementById('219215ca-e288-49ac-9201-dcc1e8c505cc');\n",
       "var x = new MutationObserver(function (mutations, observer) {{\n",
       "        var display = window.getComputedStyle(gd).display;\n",
       "        if (!display || display === 'none') {{\n",
       "            console.log([gd, 'removed!']);\n",
       "            Plotly.purge(gd);\n",
       "            observer.disconnect();\n",
       "        }}\n",
       "}});\n",
       "\n",
       "// Listen for the removal of the full notebook cells\n",
       "var notebookContainer = gd.closest('#notebook-container');\n",
       "if (notebookContainer) {{\n",
       "    x.observe(notebookContainer, {childList: true});\n",
       "}}\n",
       "\n",
       "// Listen for the clearing of the current output cell\n",
       "var outputEl = gd.closest('.output');\n",
       "if (outputEl) {{\n",
       "    x.observe(outputEl, {childList: true});\n",
       "}}\n",
       "\n",
       "                        })                };                });            </script>        </div>"
      ]
     },
     "metadata": {},
     "output_type": "display_data"
    }
   ],
   "source": [
    "# Gráfico 4: Comparación del tiempo de traducción de cada idioma a otros idiomas (Hugging Face)\n",
    "fig4 = px.bar(df, \n",
    "              x='Source Language', \n",
    "              y='HF Translation Time (s)', \n",
    "              color='Target Language', \n",
    "              barmode='group',\n",
    "              title='Hugging Face Translation Times by Source and Target Language',\n",
    "              labels={'HF Translation Time (s)': 'Translation Time (s)', 'Source Language': 'Source Language'})\n",
    "fig4.show()\n",
    "\n",
    "# Gráfico 5: Comparación del tiempo de traducción de cada idioma a otros idiomas (Gemini)\n",
    "fig5 = px.bar(df, \n",
    "              x='Source Language', \n",
    "              y='Gemini Translation Time (s)', \n",
    "              color='Target Language', \n",
    "              barmode='group',\n",
    "              title='Gemini Translation Times by Source and Target Language',\n",
    "              labels={'Gemini Translation Time (s)': 'Translation Time (s)', 'Source Language': 'Source Language'})\n",
    "fig5.show()"
   ]
  },
  {
   "cell_type": "code",
   "execution_count": 63,
   "id": "b6547c8e",
   "metadata": {},
   "outputs": [
    {
     "data": {
      "application/vnd.plotly.v1+json": {
       "config": {
        "plotlyServerURL": "https://plot.ly"
       },
       "data": [
        {
         "alignmentgroup": "True",
         "hovertemplate": "Target Language=Spanish<br>Source Language=%{x}<br>Translation Time (s)=%{y}<extra></extra>",
         "legendgroup": "Spanish",
         "marker": {
          "color": "#636efa",
          "pattern": {
           "shape": ""
          }
         },
         "name": "Spanish",
         "offsetgroup": "Spanish",
         "orientation": "v",
         "showlegend": true,
         "textposition": "auto",
         "type": "bar",
         "x": [
          "English",
          "Chinese",
          "Arabic",
          "Russian",
          "German",
          "French"
         ],
         "xaxis": "x",
         "y": [
          1.3585360050201416,
          2.1974589824676514,
          1.2219188213348389,
          1.7802999019622803,
          1.4145750999450684,
          1.610727310180664
         ],
         "yaxis": "y"
        },
        {
         "alignmentgroup": "True",
         "hovertemplate": "Target Language=Chinese<br>Source Language=%{x}<br>Translation Time (s)=%{y}<extra></extra>",
         "legendgroup": "Chinese",
         "marker": {
          "color": "#EF553B",
          "pattern": {
           "shape": ""
          }
         },
         "name": "Chinese",
         "offsetgroup": "Chinese",
         "orientation": "v",
         "showlegend": true,
         "textposition": "auto",
         "type": "bar",
         "x": [
          "English",
          "Spanish",
          "Arabic",
          "Russian",
          "German",
          "French"
         ],
         "xaxis": "x",
         "y": [
          13.740643978118896,
          2.630890130996704,
          1.468353033065796,
          1.0505709648132324,
          1.491034746170044,
          1.3388068675994873
         ],
         "yaxis": "y"
        },
        {
         "alignmentgroup": "True",
         "hovertemplate": "Target Language=Arabic<br>Source Language=%{x}<br>Translation Time (s)=%{y}<extra></extra>",
         "legendgroup": "Arabic",
         "marker": {
          "color": "#00cc96",
          "pattern": {
           "shape": ""
          }
         },
         "name": "Arabic",
         "offsetgroup": "Arabic",
         "orientation": "v",
         "showlegend": true,
         "textposition": "auto",
         "type": "bar",
         "x": [
          "English",
          "Spanish",
          "Chinese",
          "Russian",
          "German",
          "French"
         ],
         "xaxis": "x",
         "y": [
          1.1046462059020996,
          2.0991649627685547,
          2.402592182159424,
          3.4366421699523926,
          1.1225769519805908,
          3.5965938568115234
         ],
         "yaxis": "y"
        },
        {
         "alignmentgroup": "True",
         "hovertemplate": "Target Language=Russian<br>Source Language=%{x}<br>Translation Time (s)=%{y}<extra></extra>",
         "legendgroup": "Russian",
         "marker": {
          "color": "#ab63fa",
          "pattern": {
           "shape": ""
          }
         },
         "name": "Russian",
         "offsetgroup": "Russian",
         "orientation": "v",
         "showlegend": true,
         "textposition": "auto",
         "type": "bar",
         "x": [
          "English",
          "Spanish",
          "Chinese",
          "Arabic",
          "German",
          "French"
         ],
         "xaxis": "x",
         "y": [
          1.2646098136901855,
          1.322613000869751,
          3.315403938293457,
          1.1260268688201904,
          1.3700709342956543,
          1.6343181133270264
         ],
         "yaxis": "y"
        },
        {
         "alignmentgroup": "True",
         "hovertemplate": "Target Language=German<br>Source Language=%{x}<br>Translation Time (s)=%{y}<extra></extra>",
         "legendgroup": "German",
         "marker": {
          "color": "#FFA15A",
          "pattern": {
           "shape": ""
          }
         },
         "name": "German",
         "offsetgroup": "German",
         "orientation": "v",
         "showlegend": true,
         "textposition": "auto",
         "type": "bar",
         "x": [
          "English",
          "Spanish",
          "Chinese",
          "Arabic",
          "Russian",
          "French"
         ],
         "xaxis": "x",
         "y": [
          1.4940011501312256,
          1.374389886856079,
          1.2411401271820068,
          1.2564501762390137,
          0.8088362216949463,
          1.4454882144927979
         ],
         "yaxis": "y"
        },
        {
         "alignmentgroup": "True",
         "hovertemplate": "Target Language=French<br>Source Language=%{x}<br>Translation Time (s)=%{y}<extra></extra>",
         "legendgroup": "French",
         "marker": {
          "color": "#19d3f3",
          "pattern": {
           "shape": ""
          }
         },
         "name": "French",
         "offsetgroup": "French",
         "orientation": "v",
         "showlegend": true,
         "textposition": "auto",
         "type": "bar",
         "x": [
          "English",
          "Spanish",
          "Chinese",
          "Arabic",
          "Russian",
          "German"
         ],
         "xaxis": "x",
         "y": [
          1.139242172241211,
          1.6086070537567139,
          2.498991012573242,
          1.299926996231079,
          1.2476017475128174,
          1.6978182792663574
         ],
         "yaxis": "y"
        },
        {
         "alignmentgroup": "True",
         "hovertemplate": "Target Language=English<br>Source Language=%{x}<br>Translation Time (s)=%{y}<extra></extra>",
         "legendgroup": "English",
         "marker": {
          "color": "#FF6692",
          "pattern": {
           "shape": ""
          }
         },
         "name": "English",
         "offsetgroup": "English",
         "orientation": "v",
         "showlegend": true,
         "textposition": "auto",
         "type": "bar",
         "x": [
          "Spanish",
          "Chinese",
          "Arabic",
          "Russian",
          "German",
          "French"
         ],
         "xaxis": "x",
         "y": [
          1.2553839683532715,
          1.3883557319641113,
          1.3208303451538086,
          1.6997742652893066,
          1.3644249439239502,
          1.1506881713867188
         ],
         "yaxis": "y"
        }
       ],
       "layout": {
        "barmode": "group",
        "legend": {
         "title": {
          "text": "Target Language"
         },
         "tracegroupgap": 0
        },
        "template": {
         "data": {
          "bar": [
           {
            "error_x": {
             "color": "#2a3f5f"
            },
            "error_y": {
             "color": "#2a3f5f"
            },
            "marker": {
             "line": {
              "color": "#E5ECF6",
              "width": 0.5
             },
             "pattern": {
              "fillmode": "overlay",
              "size": 10,
              "solidity": 0.2
             }
            },
            "type": "bar"
           }
          ],
          "barpolar": [
           {
            "marker": {
             "line": {
              "color": "#E5ECF6",
              "width": 0.5
             },
             "pattern": {
              "fillmode": "overlay",
              "size": 10,
              "solidity": 0.2
             }
            },
            "type": "barpolar"
           }
          ],
          "carpet": [
           {
            "aaxis": {
             "endlinecolor": "#2a3f5f",
             "gridcolor": "white",
             "linecolor": "white",
             "minorgridcolor": "white",
             "startlinecolor": "#2a3f5f"
            },
            "baxis": {
             "endlinecolor": "#2a3f5f",
             "gridcolor": "white",
             "linecolor": "white",
             "minorgridcolor": "white",
             "startlinecolor": "#2a3f5f"
            },
            "type": "carpet"
           }
          ],
          "choropleth": [
           {
            "colorbar": {
             "outlinewidth": 0,
             "ticks": ""
            },
            "type": "choropleth"
           }
          ],
          "contour": [
           {
            "colorbar": {
             "outlinewidth": 0,
             "ticks": ""
            },
            "colorscale": [
             [
              0,
              "#0d0887"
             ],
             [
              0.1111111111111111,
              "#46039f"
             ],
             [
              0.2222222222222222,
              "#7201a8"
             ],
             [
              0.3333333333333333,
              "#9c179e"
             ],
             [
              0.4444444444444444,
              "#bd3786"
             ],
             [
              0.5555555555555556,
              "#d8576b"
             ],
             [
              0.6666666666666666,
              "#ed7953"
             ],
             [
              0.7777777777777778,
              "#fb9f3a"
             ],
             [
              0.8888888888888888,
              "#fdca26"
             ],
             [
              1,
              "#f0f921"
             ]
            ],
            "type": "contour"
           }
          ],
          "contourcarpet": [
           {
            "colorbar": {
             "outlinewidth": 0,
             "ticks": ""
            },
            "type": "contourcarpet"
           }
          ],
          "heatmap": [
           {
            "colorbar": {
             "outlinewidth": 0,
             "ticks": ""
            },
            "colorscale": [
             [
              0,
              "#0d0887"
             ],
             [
              0.1111111111111111,
              "#46039f"
             ],
             [
              0.2222222222222222,
              "#7201a8"
             ],
             [
              0.3333333333333333,
              "#9c179e"
             ],
             [
              0.4444444444444444,
              "#bd3786"
             ],
             [
              0.5555555555555556,
              "#d8576b"
             ],
             [
              0.6666666666666666,
              "#ed7953"
             ],
             [
              0.7777777777777778,
              "#fb9f3a"
             ],
             [
              0.8888888888888888,
              "#fdca26"
             ],
             [
              1,
              "#f0f921"
             ]
            ],
            "type": "heatmap"
           }
          ],
          "heatmapgl": [
           {
            "colorbar": {
             "outlinewidth": 0,
             "ticks": ""
            },
            "colorscale": [
             [
              0,
              "#0d0887"
             ],
             [
              0.1111111111111111,
              "#46039f"
             ],
             [
              0.2222222222222222,
              "#7201a8"
             ],
             [
              0.3333333333333333,
              "#9c179e"
             ],
             [
              0.4444444444444444,
              "#bd3786"
             ],
             [
              0.5555555555555556,
              "#d8576b"
             ],
             [
              0.6666666666666666,
              "#ed7953"
             ],
             [
              0.7777777777777778,
              "#fb9f3a"
             ],
             [
              0.8888888888888888,
              "#fdca26"
             ],
             [
              1,
              "#f0f921"
             ]
            ],
            "type": "heatmapgl"
           }
          ],
          "histogram": [
           {
            "marker": {
             "pattern": {
              "fillmode": "overlay",
              "size": 10,
              "solidity": 0.2
             }
            },
            "type": "histogram"
           }
          ],
          "histogram2d": [
           {
            "colorbar": {
             "outlinewidth": 0,
             "ticks": ""
            },
            "colorscale": [
             [
              0,
              "#0d0887"
             ],
             [
              0.1111111111111111,
              "#46039f"
             ],
             [
              0.2222222222222222,
              "#7201a8"
             ],
             [
              0.3333333333333333,
              "#9c179e"
             ],
             [
              0.4444444444444444,
              "#bd3786"
             ],
             [
              0.5555555555555556,
              "#d8576b"
             ],
             [
              0.6666666666666666,
              "#ed7953"
             ],
             [
              0.7777777777777778,
              "#fb9f3a"
             ],
             [
              0.8888888888888888,
              "#fdca26"
             ],
             [
              1,
              "#f0f921"
             ]
            ],
            "type": "histogram2d"
           }
          ],
          "histogram2dcontour": [
           {
            "colorbar": {
             "outlinewidth": 0,
             "ticks": ""
            },
            "colorscale": [
             [
              0,
              "#0d0887"
             ],
             [
              0.1111111111111111,
              "#46039f"
             ],
             [
              0.2222222222222222,
              "#7201a8"
             ],
             [
              0.3333333333333333,
              "#9c179e"
             ],
             [
              0.4444444444444444,
              "#bd3786"
             ],
             [
              0.5555555555555556,
              "#d8576b"
             ],
             [
              0.6666666666666666,
              "#ed7953"
             ],
             [
              0.7777777777777778,
              "#fb9f3a"
             ],
             [
              0.8888888888888888,
              "#fdca26"
             ],
             [
              1,
              "#f0f921"
             ]
            ],
            "type": "histogram2dcontour"
           }
          ],
          "mesh3d": [
           {
            "colorbar": {
             "outlinewidth": 0,
             "ticks": ""
            },
            "type": "mesh3d"
           }
          ],
          "parcoords": [
           {
            "line": {
             "colorbar": {
              "outlinewidth": 0,
              "ticks": ""
             }
            },
            "type": "parcoords"
           }
          ],
          "pie": [
           {
            "automargin": true,
            "type": "pie"
           }
          ],
          "scatter": [
           {
            "fillpattern": {
             "fillmode": "overlay",
             "size": 10,
             "solidity": 0.2
            },
            "type": "scatter"
           }
          ],
          "scatter3d": [
           {
            "line": {
             "colorbar": {
              "outlinewidth": 0,
              "ticks": ""
             }
            },
            "marker": {
             "colorbar": {
              "outlinewidth": 0,
              "ticks": ""
             }
            },
            "type": "scatter3d"
           }
          ],
          "scattercarpet": [
           {
            "marker": {
             "colorbar": {
              "outlinewidth": 0,
              "ticks": ""
             }
            },
            "type": "scattercarpet"
           }
          ],
          "scattergeo": [
           {
            "marker": {
             "colorbar": {
              "outlinewidth": 0,
              "ticks": ""
             }
            },
            "type": "scattergeo"
           }
          ],
          "scattergl": [
           {
            "marker": {
             "colorbar": {
              "outlinewidth": 0,
              "ticks": ""
             }
            },
            "type": "scattergl"
           }
          ],
          "scattermapbox": [
           {
            "marker": {
             "colorbar": {
              "outlinewidth": 0,
              "ticks": ""
             }
            },
            "type": "scattermapbox"
           }
          ],
          "scatterpolar": [
           {
            "marker": {
             "colorbar": {
              "outlinewidth": 0,
              "ticks": ""
             }
            },
            "type": "scatterpolar"
           }
          ],
          "scatterpolargl": [
           {
            "marker": {
             "colorbar": {
              "outlinewidth": 0,
              "ticks": ""
             }
            },
            "type": "scatterpolargl"
           }
          ],
          "scatterternary": [
           {
            "marker": {
             "colorbar": {
              "outlinewidth": 0,
              "ticks": ""
             }
            },
            "type": "scatterternary"
           }
          ],
          "surface": [
           {
            "colorbar": {
             "outlinewidth": 0,
             "ticks": ""
            },
            "colorscale": [
             [
              0,
              "#0d0887"
             ],
             [
              0.1111111111111111,
              "#46039f"
             ],
             [
              0.2222222222222222,
              "#7201a8"
             ],
             [
              0.3333333333333333,
              "#9c179e"
             ],
             [
              0.4444444444444444,
              "#bd3786"
             ],
             [
              0.5555555555555556,
              "#d8576b"
             ],
             [
              0.6666666666666666,
              "#ed7953"
             ],
             [
              0.7777777777777778,
              "#fb9f3a"
             ],
             [
              0.8888888888888888,
              "#fdca26"
             ],
             [
              1,
              "#f0f921"
             ]
            ],
            "type": "surface"
           }
          ],
          "table": [
           {
            "cells": {
             "fill": {
              "color": "#EBF0F8"
             },
             "line": {
              "color": "white"
             }
            },
            "header": {
             "fill": {
              "color": "#C8D4E3"
             },
             "line": {
              "color": "white"
             }
            },
            "type": "table"
           }
          ]
         },
         "layout": {
          "annotationdefaults": {
           "arrowcolor": "#2a3f5f",
           "arrowhead": 0,
           "arrowwidth": 1
          },
          "autotypenumbers": "strict",
          "coloraxis": {
           "colorbar": {
            "outlinewidth": 0,
            "ticks": ""
           }
          },
          "colorscale": {
           "diverging": [
            [
             0,
             "#8e0152"
            ],
            [
             0.1,
             "#c51b7d"
            ],
            [
             0.2,
             "#de77ae"
            ],
            [
             0.3,
             "#f1b6da"
            ],
            [
             0.4,
             "#fde0ef"
            ],
            [
             0.5,
             "#f7f7f7"
            ],
            [
             0.6,
             "#e6f5d0"
            ],
            [
             0.7,
             "#b8e186"
            ],
            [
             0.8,
             "#7fbc41"
            ],
            [
             0.9,
             "#4d9221"
            ],
            [
             1,
             "#276419"
            ]
           ],
           "sequential": [
            [
             0,
             "#0d0887"
            ],
            [
             0.1111111111111111,
             "#46039f"
            ],
            [
             0.2222222222222222,
             "#7201a8"
            ],
            [
             0.3333333333333333,
             "#9c179e"
            ],
            [
             0.4444444444444444,
             "#bd3786"
            ],
            [
             0.5555555555555556,
             "#d8576b"
            ],
            [
             0.6666666666666666,
             "#ed7953"
            ],
            [
             0.7777777777777778,
             "#fb9f3a"
            ],
            [
             0.8888888888888888,
             "#fdca26"
            ],
            [
             1,
             "#f0f921"
            ]
           ],
           "sequentialminus": [
            [
             0,
             "#0d0887"
            ],
            [
             0.1111111111111111,
             "#46039f"
            ],
            [
             0.2222222222222222,
             "#7201a8"
            ],
            [
             0.3333333333333333,
             "#9c179e"
            ],
            [
             0.4444444444444444,
             "#bd3786"
            ],
            [
             0.5555555555555556,
             "#d8576b"
            ],
            [
             0.6666666666666666,
             "#ed7953"
            ],
            [
             0.7777777777777778,
             "#fb9f3a"
            ],
            [
             0.8888888888888888,
             "#fdca26"
            ],
            [
             1,
             "#f0f921"
            ]
           ]
          },
          "colorway": [
           "#636efa",
           "#EF553B",
           "#00cc96",
           "#ab63fa",
           "#FFA15A",
           "#19d3f3",
           "#FF6692",
           "#B6E880",
           "#FF97FF",
           "#FECB52"
          ],
          "font": {
           "color": "#2a3f5f"
          },
          "geo": {
           "bgcolor": "white",
           "lakecolor": "white",
           "landcolor": "#E5ECF6",
           "showlakes": true,
           "showland": true,
           "subunitcolor": "white"
          },
          "hoverlabel": {
           "align": "left"
          },
          "hovermode": "closest",
          "mapbox": {
           "style": "light"
          },
          "paper_bgcolor": "white",
          "plot_bgcolor": "#E5ECF6",
          "polar": {
           "angularaxis": {
            "gridcolor": "white",
            "linecolor": "white",
            "ticks": ""
           },
           "bgcolor": "#E5ECF6",
           "radialaxis": {
            "gridcolor": "white",
            "linecolor": "white",
            "ticks": ""
           }
          },
          "scene": {
           "xaxis": {
            "backgroundcolor": "#E5ECF6",
            "gridcolor": "white",
            "gridwidth": 2,
            "linecolor": "white",
            "showbackground": true,
            "ticks": "",
            "zerolinecolor": "white"
           },
           "yaxis": {
            "backgroundcolor": "#E5ECF6",
            "gridcolor": "white",
            "gridwidth": 2,
            "linecolor": "white",
            "showbackground": true,
            "ticks": "",
            "zerolinecolor": "white"
           },
           "zaxis": {
            "backgroundcolor": "#E5ECF6",
            "gridcolor": "white",
            "gridwidth": 2,
            "linecolor": "white",
            "showbackground": true,
            "ticks": "",
            "zerolinecolor": "white"
           }
          },
          "shapedefaults": {
           "line": {
            "color": "#2a3f5f"
           }
          },
          "ternary": {
           "aaxis": {
            "gridcolor": "white",
            "linecolor": "white",
            "ticks": ""
           },
           "baxis": {
            "gridcolor": "white",
            "linecolor": "white",
            "ticks": ""
           },
           "bgcolor": "#E5ECF6",
           "caxis": {
            "gridcolor": "white",
            "linecolor": "white",
            "ticks": ""
           }
          },
          "title": {
           "x": 0.05
          },
          "xaxis": {
           "automargin": true,
           "gridcolor": "white",
           "linecolor": "white",
           "ticks": "",
           "title": {
            "standoff": 15
           },
           "zerolinecolor": "white",
           "zerolinewidth": 2
          },
          "yaxis": {
           "automargin": true,
           "gridcolor": "white",
           "linecolor": "white",
           "ticks": "",
           "title": {
            "standoff": 15
           },
           "zerolinecolor": "white",
           "zerolinewidth": 2
          }
         }
        },
        "title": {
         "text": "Hugging Face Translation Times for Words by Source and Target Language"
        },
        "xaxis": {
         "anchor": "y",
         "domain": [
          0,
          1
         ],
         "title": {
          "text": "Source Language"
         }
        },
        "yaxis": {
         "anchor": "x",
         "domain": [
          0,
          1
         ],
         "title": {
          "text": "Translation Time (s)"
         }
        }
       }
      },
      "text/html": [
       "<div>                            <div id=\"7590751d-bbd0-4586-bada-9edf4a0badf0\" class=\"plotly-graph-div\" style=\"height:525px; width:100%;\"></div>            <script type=\"text/javascript\">                require([\"plotly\"], function(Plotly) {                    window.PLOTLYENV=window.PLOTLYENV || {};                                    if (document.getElementById(\"7590751d-bbd0-4586-bada-9edf4a0badf0\")) {                    Plotly.newPlot(                        \"7590751d-bbd0-4586-bada-9edf4a0badf0\",                        [{\"alignmentgroup\":\"True\",\"hovertemplate\":\"Target Language=Spanish\\u003cbr\\u003eSource Language=%{x}\\u003cbr\\u003eTranslation Time (s)=%{y}\\u003cextra\\u003e\\u003c\\u002fextra\\u003e\",\"legendgroup\":\"Spanish\",\"marker\":{\"color\":\"#636efa\",\"pattern\":{\"shape\":\"\"}},\"name\":\"Spanish\",\"offsetgroup\":\"Spanish\",\"orientation\":\"v\",\"showlegend\":true,\"textposition\":\"auto\",\"x\":[\"English\",\"Chinese\",\"Arabic\",\"Russian\",\"German\",\"French\"],\"xaxis\":\"x\",\"y\":[1.3585360050201416,2.1974589824676514,1.2219188213348389,1.7802999019622803,1.4145750999450684,1.610727310180664],\"yaxis\":\"y\",\"type\":\"bar\"},{\"alignmentgroup\":\"True\",\"hovertemplate\":\"Target Language=Chinese\\u003cbr\\u003eSource Language=%{x}\\u003cbr\\u003eTranslation Time (s)=%{y}\\u003cextra\\u003e\\u003c\\u002fextra\\u003e\",\"legendgroup\":\"Chinese\",\"marker\":{\"color\":\"#EF553B\",\"pattern\":{\"shape\":\"\"}},\"name\":\"Chinese\",\"offsetgroup\":\"Chinese\",\"orientation\":\"v\",\"showlegend\":true,\"textposition\":\"auto\",\"x\":[\"English\",\"Spanish\",\"Arabic\",\"Russian\",\"German\",\"French\"],\"xaxis\":\"x\",\"y\":[13.740643978118896,2.630890130996704,1.468353033065796,1.0505709648132324,1.491034746170044,1.3388068675994873],\"yaxis\":\"y\",\"type\":\"bar\"},{\"alignmentgroup\":\"True\",\"hovertemplate\":\"Target Language=Arabic\\u003cbr\\u003eSource Language=%{x}\\u003cbr\\u003eTranslation Time (s)=%{y}\\u003cextra\\u003e\\u003c\\u002fextra\\u003e\",\"legendgroup\":\"Arabic\",\"marker\":{\"color\":\"#00cc96\",\"pattern\":{\"shape\":\"\"}},\"name\":\"Arabic\",\"offsetgroup\":\"Arabic\",\"orientation\":\"v\",\"showlegend\":true,\"textposition\":\"auto\",\"x\":[\"English\",\"Spanish\",\"Chinese\",\"Russian\",\"German\",\"French\"],\"xaxis\":\"x\",\"y\":[1.1046462059020996,2.0991649627685547,2.402592182159424,3.4366421699523926,1.1225769519805908,3.5965938568115234],\"yaxis\":\"y\",\"type\":\"bar\"},{\"alignmentgroup\":\"True\",\"hovertemplate\":\"Target Language=Russian\\u003cbr\\u003eSource Language=%{x}\\u003cbr\\u003eTranslation Time (s)=%{y}\\u003cextra\\u003e\\u003c\\u002fextra\\u003e\",\"legendgroup\":\"Russian\",\"marker\":{\"color\":\"#ab63fa\",\"pattern\":{\"shape\":\"\"}},\"name\":\"Russian\",\"offsetgroup\":\"Russian\",\"orientation\":\"v\",\"showlegend\":true,\"textposition\":\"auto\",\"x\":[\"English\",\"Spanish\",\"Chinese\",\"Arabic\",\"German\",\"French\"],\"xaxis\":\"x\",\"y\":[1.2646098136901855,1.322613000869751,3.315403938293457,1.1260268688201904,1.3700709342956543,1.6343181133270264],\"yaxis\":\"y\",\"type\":\"bar\"},{\"alignmentgroup\":\"True\",\"hovertemplate\":\"Target Language=German\\u003cbr\\u003eSource Language=%{x}\\u003cbr\\u003eTranslation Time (s)=%{y}\\u003cextra\\u003e\\u003c\\u002fextra\\u003e\",\"legendgroup\":\"German\",\"marker\":{\"color\":\"#FFA15A\",\"pattern\":{\"shape\":\"\"}},\"name\":\"German\",\"offsetgroup\":\"German\",\"orientation\":\"v\",\"showlegend\":true,\"textposition\":\"auto\",\"x\":[\"English\",\"Spanish\",\"Chinese\",\"Arabic\",\"Russian\",\"French\"],\"xaxis\":\"x\",\"y\":[1.4940011501312256,1.374389886856079,1.2411401271820068,1.2564501762390137,0.8088362216949463,1.4454882144927979],\"yaxis\":\"y\",\"type\":\"bar\"},{\"alignmentgroup\":\"True\",\"hovertemplate\":\"Target Language=French\\u003cbr\\u003eSource Language=%{x}\\u003cbr\\u003eTranslation Time (s)=%{y}\\u003cextra\\u003e\\u003c\\u002fextra\\u003e\",\"legendgroup\":\"French\",\"marker\":{\"color\":\"#19d3f3\",\"pattern\":{\"shape\":\"\"}},\"name\":\"French\",\"offsetgroup\":\"French\",\"orientation\":\"v\",\"showlegend\":true,\"textposition\":\"auto\",\"x\":[\"English\",\"Spanish\",\"Chinese\",\"Arabic\",\"Russian\",\"German\"],\"xaxis\":\"x\",\"y\":[1.139242172241211,1.6086070537567139,2.498991012573242,1.299926996231079,1.2476017475128174,1.6978182792663574],\"yaxis\":\"y\",\"type\":\"bar\"},{\"alignmentgroup\":\"True\",\"hovertemplate\":\"Target Language=English\\u003cbr\\u003eSource Language=%{x}\\u003cbr\\u003eTranslation Time (s)=%{y}\\u003cextra\\u003e\\u003c\\u002fextra\\u003e\",\"legendgroup\":\"English\",\"marker\":{\"color\":\"#FF6692\",\"pattern\":{\"shape\":\"\"}},\"name\":\"English\",\"offsetgroup\":\"English\",\"orientation\":\"v\",\"showlegend\":true,\"textposition\":\"auto\",\"x\":[\"Spanish\",\"Chinese\",\"Arabic\",\"Russian\",\"German\",\"French\"],\"xaxis\":\"x\",\"y\":[1.2553839683532715,1.3883557319641113,1.3208303451538086,1.6997742652893066,1.3644249439239502,1.1506881713867188],\"yaxis\":\"y\",\"type\":\"bar\"}],                        {\"template\":{\"data\":{\"histogram2dcontour\":[{\"type\":\"histogram2dcontour\",\"colorbar\":{\"outlinewidth\":0,\"ticks\":\"\"},\"colorscale\":[[0.0,\"#0d0887\"],[0.1111111111111111,\"#46039f\"],[0.2222222222222222,\"#7201a8\"],[0.3333333333333333,\"#9c179e\"],[0.4444444444444444,\"#bd3786\"],[0.5555555555555556,\"#d8576b\"],[0.6666666666666666,\"#ed7953\"],[0.7777777777777778,\"#fb9f3a\"],[0.8888888888888888,\"#fdca26\"],[1.0,\"#f0f921\"]]}],\"choropleth\":[{\"type\":\"choropleth\",\"colorbar\":{\"outlinewidth\":0,\"ticks\":\"\"}}],\"histogram2d\":[{\"type\":\"histogram2d\",\"colorbar\":{\"outlinewidth\":0,\"ticks\":\"\"},\"colorscale\":[[0.0,\"#0d0887\"],[0.1111111111111111,\"#46039f\"],[0.2222222222222222,\"#7201a8\"],[0.3333333333333333,\"#9c179e\"],[0.4444444444444444,\"#bd3786\"],[0.5555555555555556,\"#d8576b\"],[0.6666666666666666,\"#ed7953\"],[0.7777777777777778,\"#fb9f3a\"],[0.8888888888888888,\"#fdca26\"],[1.0,\"#f0f921\"]]}],\"heatmap\":[{\"type\":\"heatmap\",\"colorbar\":{\"outlinewidth\":0,\"ticks\":\"\"},\"colorscale\":[[0.0,\"#0d0887\"],[0.1111111111111111,\"#46039f\"],[0.2222222222222222,\"#7201a8\"],[0.3333333333333333,\"#9c179e\"],[0.4444444444444444,\"#bd3786\"],[0.5555555555555556,\"#d8576b\"],[0.6666666666666666,\"#ed7953\"],[0.7777777777777778,\"#fb9f3a\"],[0.8888888888888888,\"#fdca26\"],[1.0,\"#f0f921\"]]}],\"heatmapgl\":[{\"type\":\"heatmapgl\",\"colorbar\":{\"outlinewidth\":0,\"ticks\":\"\"},\"colorscale\":[[0.0,\"#0d0887\"],[0.1111111111111111,\"#46039f\"],[0.2222222222222222,\"#7201a8\"],[0.3333333333333333,\"#9c179e\"],[0.4444444444444444,\"#bd3786\"],[0.5555555555555556,\"#d8576b\"],[0.6666666666666666,\"#ed7953\"],[0.7777777777777778,\"#fb9f3a\"],[0.8888888888888888,\"#fdca26\"],[1.0,\"#f0f921\"]]}],\"contourcarpet\":[{\"type\":\"contourcarpet\",\"colorbar\":{\"outlinewidth\":0,\"ticks\":\"\"}}],\"contour\":[{\"type\":\"contour\",\"colorbar\":{\"outlinewidth\":0,\"ticks\":\"\"},\"colorscale\":[[0.0,\"#0d0887\"],[0.1111111111111111,\"#46039f\"],[0.2222222222222222,\"#7201a8\"],[0.3333333333333333,\"#9c179e\"],[0.4444444444444444,\"#bd3786\"],[0.5555555555555556,\"#d8576b\"],[0.6666666666666666,\"#ed7953\"],[0.7777777777777778,\"#fb9f3a\"],[0.8888888888888888,\"#fdca26\"],[1.0,\"#f0f921\"]]}],\"surface\":[{\"type\":\"surface\",\"colorbar\":{\"outlinewidth\":0,\"ticks\":\"\"},\"colorscale\":[[0.0,\"#0d0887\"],[0.1111111111111111,\"#46039f\"],[0.2222222222222222,\"#7201a8\"],[0.3333333333333333,\"#9c179e\"],[0.4444444444444444,\"#bd3786\"],[0.5555555555555556,\"#d8576b\"],[0.6666666666666666,\"#ed7953\"],[0.7777777777777778,\"#fb9f3a\"],[0.8888888888888888,\"#fdca26\"],[1.0,\"#f0f921\"]]}],\"mesh3d\":[{\"type\":\"mesh3d\",\"colorbar\":{\"outlinewidth\":0,\"ticks\":\"\"}}],\"scatter\":[{\"fillpattern\":{\"fillmode\":\"overlay\",\"size\":10,\"solidity\":0.2},\"type\":\"scatter\"}],\"parcoords\":[{\"type\":\"parcoords\",\"line\":{\"colorbar\":{\"outlinewidth\":0,\"ticks\":\"\"}}}],\"scatterpolargl\":[{\"type\":\"scatterpolargl\",\"marker\":{\"colorbar\":{\"outlinewidth\":0,\"ticks\":\"\"}}}],\"bar\":[{\"error_x\":{\"color\":\"#2a3f5f\"},\"error_y\":{\"color\":\"#2a3f5f\"},\"marker\":{\"line\":{\"color\":\"#E5ECF6\",\"width\":0.5},\"pattern\":{\"fillmode\":\"overlay\",\"size\":10,\"solidity\":0.2}},\"type\":\"bar\"}],\"scattergeo\":[{\"type\":\"scattergeo\",\"marker\":{\"colorbar\":{\"outlinewidth\":0,\"ticks\":\"\"}}}],\"scatterpolar\":[{\"type\":\"scatterpolar\",\"marker\":{\"colorbar\":{\"outlinewidth\":0,\"ticks\":\"\"}}}],\"histogram\":[{\"marker\":{\"pattern\":{\"fillmode\":\"overlay\",\"size\":10,\"solidity\":0.2}},\"type\":\"histogram\"}],\"scattergl\":[{\"type\":\"scattergl\",\"marker\":{\"colorbar\":{\"outlinewidth\":0,\"ticks\":\"\"}}}],\"scatter3d\":[{\"type\":\"scatter3d\",\"line\":{\"colorbar\":{\"outlinewidth\":0,\"ticks\":\"\"}},\"marker\":{\"colorbar\":{\"outlinewidth\":0,\"ticks\":\"\"}}}],\"scattermapbox\":[{\"type\":\"scattermapbox\",\"marker\":{\"colorbar\":{\"outlinewidth\":0,\"ticks\":\"\"}}}],\"scatterternary\":[{\"type\":\"scatterternary\",\"marker\":{\"colorbar\":{\"outlinewidth\":0,\"ticks\":\"\"}}}],\"scattercarpet\":[{\"type\":\"scattercarpet\",\"marker\":{\"colorbar\":{\"outlinewidth\":0,\"ticks\":\"\"}}}],\"carpet\":[{\"aaxis\":{\"endlinecolor\":\"#2a3f5f\",\"gridcolor\":\"white\",\"linecolor\":\"white\",\"minorgridcolor\":\"white\",\"startlinecolor\":\"#2a3f5f\"},\"baxis\":{\"endlinecolor\":\"#2a3f5f\",\"gridcolor\":\"white\",\"linecolor\":\"white\",\"minorgridcolor\":\"white\",\"startlinecolor\":\"#2a3f5f\"},\"type\":\"carpet\"}],\"table\":[{\"cells\":{\"fill\":{\"color\":\"#EBF0F8\"},\"line\":{\"color\":\"white\"}},\"header\":{\"fill\":{\"color\":\"#C8D4E3\"},\"line\":{\"color\":\"white\"}},\"type\":\"table\"}],\"barpolar\":[{\"marker\":{\"line\":{\"color\":\"#E5ECF6\",\"width\":0.5},\"pattern\":{\"fillmode\":\"overlay\",\"size\":10,\"solidity\":0.2}},\"type\":\"barpolar\"}],\"pie\":[{\"automargin\":true,\"type\":\"pie\"}]},\"layout\":{\"autotypenumbers\":\"strict\",\"colorway\":[\"#636efa\",\"#EF553B\",\"#00cc96\",\"#ab63fa\",\"#FFA15A\",\"#19d3f3\",\"#FF6692\",\"#B6E880\",\"#FF97FF\",\"#FECB52\"],\"font\":{\"color\":\"#2a3f5f\"},\"hovermode\":\"closest\",\"hoverlabel\":{\"align\":\"left\"},\"paper_bgcolor\":\"white\",\"plot_bgcolor\":\"#E5ECF6\",\"polar\":{\"bgcolor\":\"#E5ECF6\",\"angularaxis\":{\"gridcolor\":\"white\",\"linecolor\":\"white\",\"ticks\":\"\"},\"radialaxis\":{\"gridcolor\":\"white\",\"linecolor\":\"white\",\"ticks\":\"\"}},\"ternary\":{\"bgcolor\":\"#E5ECF6\",\"aaxis\":{\"gridcolor\":\"white\",\"linecolor\":\"white\",\"ticks\":\"\"},\"baxis\":{\"gridcolor\":\"white\",\"linecolor\":\"white\",\"ticks\":\"\"},\"caxis\":{\"gridcolor\":\"white\",\"linecolor\":\"white\",\"ticks\":\"\"}},\"coloraxis\":{\"colorbar\":{\"outlinewidth\":0,\"ticks\":\"\"}},\"colorscale\":{\"sequential\":[[0.0,\"#0d0887\"],[0.1111111111111111,\"#46039f\"],[0.2222222222222222,\"#7201a8\"],[0.3333333333333333,\"#9c179e\"],[0.4444444444444444,\"#bd3786\"],[0.5555555555555556,\"#d8576b\"],[0.6666666666666666,\"#ed7953\"],[0.7777777777777778,\"#fb9f3a\"],[0.8888888888888888,\"#fdca26\"],[1.0,\"#f0f921\"]],\"sequentialminus\":[[0.0,\"#0d0887\"],[0.1111111111111111,\"#46039f\"],[0.2222222222222222,\"#7201a8\"],[0.3333333333333333,\"#9c179e\"],[0.4444444444444444,\"#bd3786\"],[0.5555555555555556,\"#d8576b\"],[0.6666666666666666,\"#ed7953\"],[0.7777777777777778,\"#fb9f3a\"],[0.8888888888888888,\"#fdca26\"],[1.0,\"#f0f921\"]],\"diverging\":[[0,\"#8e0152\"],[0.1,\"#c51b7d\"],[0.2,\"#de77ae\"],[0.3,\"#f1b6da\"],[0.4,\"#fde0ef\"],[0.5,\"#f7f7f7\"],[0.6,\"#e6f5d0\"],[0.7,\"#b8e186\"],[0.8,\"#7fbc41\"],[0.9,\"#4d9221\"],[1,\"#276419\"]]},\"xaxis\":{\"gridcolor\":\"white\",\"linecolor\":\"white\",\"ticks\":\"\",\"title\":{\"standoff\":15},\"zerolinecolor\":\"white\",\"automargin\":true,\"zerolinewidth\":2},\"yaxis\":{\"gridcolor\":\"white\",\"linecolor\":\"white\",\"ticks\":\"\",\"title\":{\"standoff\":15},\"zerolinecolor\":\"white\",\"automargin\":true,\"zerolinewidth\":2},\"scene\":{\"xaxis\":{\"backgroundcolor\":\"#E5ECF6\",\"gridcolor\":\"white\",\"linecolor\":\"white\",\"showbackground\":true,\"ticks\":\"\",\"zerolinecolor\":\"white\",\"gridwidth\":2},\"yaxis\":{\"backgroundcolor\":\"#E5ECF6\",\"gridcolor\":\"white\",\"linecolor\":\"white\",\"showbackground\":true,\"ticks\":\"\",\"zerolinecolor\":\"white\",\"gridwidth\":2},\"zaxis\":{\"backgroundcolor\":\"#E5ECF6\",\"gridcolor\":\"white\",\"linecolor\":\"white\",\"showbackground\":true,\"ticks\":\"\",\"zerolinecolor\":\"white\",\"gridwidth\":2}},\"shapedefaults\":{\"line\":{\"color\":\"#2a3f5f\"}},\"annotationdefaults\":{\"arrowcolor\":\"#2a3f5f\",\"arrowhead\":0,\"arrowwidth\":1},\"geo\":{\"bgcolor\":\"white\",\"landcolor\":\"#E5ECF6\",\"subunitcolor\":\"white\",\"showland\":true,\"showlakes\":true,\"lakecolor\":\"white\"},\"title\":{\"x\":0.05},\"mapbox\":{\"style\":\"light\"}}},\"xaxis\":{\"anchor\":\"y\",\"domain\":[0.0,1.0],\"title\":{\"text\":\"Source Language\"}},\"yaxis\":{\"anchor\":\"x\",\"domain\":[0.0,1.0],\"title\":{\"text\":\"Translation Time (s)\"}},\"legend\":{\"title\":{\"text\":\"Target Language\"},\"tracegroupgap\":0},\"title\":{\"text\":\"Hugging Face Translation Times for Words by Source and Target Language\"},\"barmode\":\"group\"},                        {\"responsive\": true}                    ).then(function(){\n",
       "                            \n",
       "var gd = document.getElementById('7590751d-bbd0-4586-bada-9edf4a0badf0');\n",
       "var x = new MutationObserver(function (mutations, observer) {{\n",
       "        var display = window.getComputedStyle(gd).display;\n",
       "        if (!display || display === 'none') {{\n",
       "            console.log([gd, 'removed!']);\n",
       "            Plotly.purge(gd);\n",
       "            observer.disconnect();\n",
       "        }}\n",
       "}});\n",
       "\n",
       "// Listen for the removal of the full notebook cells\n",
       "var notebookContainer = gd.closest('#notebook-container');\n",
       "if (notebookContainer) {{\n",
       "    x.observe(notebookContainer, {childList: true});\n",
       "}}\n",
       "\n",
       "// Listen for the clearing of the current output cell\n",
       "var outputEl = gd.closest('.output');\n",
       "if (outputEl) {{\n",
       "    x.observe(outputEl, {childList: true});\n",
       "}}\n",
       "\n",
       "                        })                };                });            </script>        </div>"
      ]
     },
     "metadata": {},
     "output_type": "display_data"
    },
    {
     "data": {
      "application/vnd.plotly.v1+json": {
       "config": {
        "plotlyServerURL": "https://plot.ly"
       },
       "data": [
        {
         "alignmentgroup": "True",
         "hovertemplate": "Target Language=Spanish<br>Source Language=%{x}<br>Translation Time (s)=%{y}<extra></extra>",
         "legendgroup": "Spanish",
         "marker": {
          "color": "#636efa",
          "pattern": {
           "shape": ""
          }
         },
         "name": "Spanish",
         "offsetgroup": "Spanish",
         "orientation": "v",
         "showlegend": true,
         "textposition": "auto",
         "type": "bar",
         "x": [
          "English",
          "Chinese",
          "Arabic",
          "Russian",
          "German",
          "French"
         ],
         "xaxis": "x",
         "y": [
          1.2379870414733887,
          1.4913959503173828,
          1.3310701847076416,
          1.0132710933685303,
          0.8293249607086182,
          1.3490979671478271
         ],
         "yaxis": "y"
        },
        {
         "alignmentgroup": "True",
         "hovertemplate": "Target Language=Chinese<br>Source Language=%{x}<br>Translation Time (s)=%{y}<extra></extra>",
         "legendgroup": "Chinese",
         "marker": {
          "color": "#EF553B",
          "pattern": {
           "shape": ""
          }
         },
         "name": "Chinese",
         "offsetgroup": "Chinese",
         "orientation": "v",
         "showlegend": true,
         "textposition": "auto",
         "type": "bar",
         "x": [
          "English",
          "Spanish",
          "Arabic",
          "Russian",
          "German",
          "French"
         ],
         "xaxis": "x",
         "y": [
          1.316380262374878,
          1.3782050609588623,
          1.4510631561279297,
          1.1377952098846436,
          1.055283784866333,
          1.3789091110229492
         ],
         "yaxis": "y"
        },
        {
         "alignmentgroup": "True",
         "hovertemplate": "Target Language=Arabic<br>Source Language=%{x}<br>Translation Time (s)=%{y}<extra></extra>",
         "legendgroup": "Arabic",
         "marker": {
          "color": "#00cc96",
          "pattern": {
           "shape": ""
          }
         },
         "name": "Arabic",
         "offsetgroup": "Arabic",
         "orientation": "v",
         "showlegend": true,
         "textposition": "auto",
         "type": "bar",
         "x": [
          "English",
          "Spanish",
          "Chinese",
          "Russian",
          "German",
          "French"
         ],
         "xaxis": "x",
         "y": [
          2.0283420085906982,
          1.3806681632995605,
          1.000349998474121,
          0.8027439117431641,
          0.8219468593597412,
          0.9875130653381348
         ],
         "yaxis": "y"
        },
        {
         "alignmentgroup": "True",
         "hovertemplate": "Target Language=Russian<br>Source Language=%{x}<br>Translation Time (s)=%{y}<extra></extra>",
         "legendgroup": "Russian",
         "marker": {
          "color": "#ab63fa",
          "pattern": {
           "shape": ""
          }
         },
         "name": "Russian",
         "offsetgroup": "Russian",
         "orientation": "v",
         "showlegend": true,
         "textposition": "auto",
         "type": "bar",
         "x": [
          "English",
          "Spanish",
          "Chinese",
          "Arabic",
          "German",
          "French"
         ],
         "xaxis": "x",
         "y": [
          0.7441580295562744,
          1.3301572799682617,
          1.7514681816101074,
          3.1867992877960205,
          1.2132079601287842,
          1.623656988143921
         ],
         "yaxis": "y"
        },
        {
         "alignmentgroup": "True",
         "hovertemplate": "Target Language=German<br>Source Language=%{x}<br>Translation Time (s)=%{y}<extra></extra>",
         "legendgroup": "German",
         "marker": {
          "color": "#FFA15A",
          "pattern": {
           "shape": ""
          }
         },
         "name": "German",
         "offsetgroup": "German",
         "orientation": "v",
         "showlegend": true,
         "textposition": "auto",
         "type": "bar",
         "x": [
          "English",
          "Spanish",
          "Chinese",
          "Arabic",
          "Russian",
          "French"
         ],
         "xaxis": "x",
         "y": [
          1.2444560527801514,
          2.9502298831939697,
          1.4466350078582764,
          0.7432858943939209,
          1.1905317306518555,
          1.1870810985565186
         ],
         "yaxis": "y"
        },
        {
         "alignmentgroup": "True",
         "hovertemplate": "Target Language=French<br>Source Language=%{x}<br>Translation Time (s)=%{y}<extra></extra>",
         "legendgroup": "French",
         "marker": {
          "color": "#19d3f3",
          "pattern": {
           "shape": ""
          }
         },
         "name": "French",
         "offsetgroup": "French",
         "orientation": "v",
         "showlegend": true,
         "textposition": "auto",
         "type": "bar",
         "x": [
          "English",
          "Spanish",
          "Chinese",
          "Arabic",
          "Russian",
          "German"
         ],
         "xaxis": "x",
         "y": [
          1.5942959785461426,
          1.335433006286621,
          0.6518137454986572,
          1.3885347843170166,
          1.1755709648132324,
          1.4774141311645508
         ],
         "yaxis": "y"
        },
        {
         "alignmentgroup": "True",
         "hovertemplate": "Target Language=English<br>Source Language=%{x}<br>Translation Time (s)=%{y}<extra></extra>",
         "legendgroup": "English",
         "marker": {
          "color": "#FF6692",
          "pattern": {
           "shape": ""
          }
         },
         "name": "English",
         "offsetgroup": "English",
         "orientation": "v",
         "showlegend": true,
         "textposition": "auto",
         "type": "bar",
         "x": [
          "Spanish",
          "Chinese",
          "Arabic",
          "Russian",
          "German",
          "French"
         ],
         "xaxis": "x",
         "y": [
          0.7225539684295654,
          1.2443571090698242,
          1.269300937652588,
          0.8337538242340088,
          1.2019259929656982,
          0.6419088840484619
         ],
         "yaxis": "y"
        }
       ],
       "layout": {
        "barmode": "group",
        "legend": {
         "title": {
          "text": "Target Language"
         },
         "tracegroupgap": 0
        },
        "template": {
         "data": {
          "bar": [
           {
            "error_x": {
             "color": "#2a3f5f"
            },
            "error_y": {
             "color": "#2a3f5f"
            },
            "marker": {
             "line": {
              "color": "#E5ECF6",
              "width": 0.5
             },
             "pattern": {
              "fillmode": "overlay",
              "size": 10,
              "solidity": 0.2
             }
            },
            "type": "bar"
           }
          ],
          "barpolar": [
           {
            "marker": {
             "line": {
              "color": "#E5ECF6",
              "width": 0.5
             },
             "pattern": {
              "fillmode": "overlay",
              "size": 10,
              "solidity": 0.2
             }
            },
            "type": "barpolar"
           }
          ],
          "carpet": [
           {
            "aaxis": {
             "endlinecolor": "#2a3f5f",
             "gridcolor": "white",
             "linecolor": "white",
             "minorgridcolor": "white",
             "startlinecolor": "#2a3f5f"
            },
            "baxis": {
             "endlinecolor": "#2a3f5f",
             "gridcolor": "white",
             "linecolor": "white",
             "minorgridcolor": "white",
             "startlinecolor": "#2a3f5f"
            },
            "type": "carpet"
           }
          ],
          "choropleth": [
           {
            "colorbar": {
             "outlinewidth": 0,
             "ticks": ""
            },
            "type": "choropleth"
           }
          ],
          "contour": [
           {
            "colorbar": {
             "outlinewidth": 0,
             "ticks": ""
            },
            "colorscale": [
             [
              0,
              "#0d0887"
             ],
             [
              0.1111111111111111,
              "#46039f"
             ],
             [
              0.2222222222222222,
              "#7201a8"
             ],
             [
              0.3333333333333333,
              "#9c179e"
             ],
             [
              0.4444444444444444,
              "#bd3786"
             ],
             [
              0.5555555555555556,
              "#d8576b"
             ],
             [
              0.6666666666666666,
              "#ed7953"
             ],
             [
              0.7777777777777778,
              "#fb9f3a"
             ],
             [
              0.8888888888888888,
              "#fdca26"
             ],
             [
              1,
              "#f0f921"
             ]
            ],
            "type": "contour"
           }
          ],
          "contourcarpet": [
           {
            "colorbar": {
             "outlinewidth": 0,
             "ticks": ""
            },
            "type": "contourcarpet"
           }
          ],
          "heatmap": [
           {
            "colorbar": {
             "outlinewidth": 0,
             "ticks": ""
            },
            "colorscale": [
             [
              0,
              "#0d0887"
             ],
             [
              0.1111111111111111,
              "#46039f"
             ],
             [
              0.2222222222222222,
              "#7201a8"
             ],
             [
              0.3333333333333333,
              "#9c179e"
             ],
             [
              0.4444444444444444,
              "#bd3786"
             ],
             [
              0.5555555555555556,
              "#d8576b"
             ],
             [
              0.6666666666666666,
              "#ed7953"
             ],
             [
              0.7777777777777778,
              "#fb9f3a"
             ],
             [
              0.8888888888888888,
              "#fdca26"
             ],
             [
              1,
              "#f0f921"
             ]
            ],
            "type": "heatmap"
           }
          ],
          "heatmapgl": [
           {
            "colorbar": {
             "outlinewidth": 0,
             "ticks": ""
            },
            "colorscale": [
             [
              0,
              "#0d0887"
             ],
             [
              0.1111111111111111,
              "#46039f"
             ],
             [
              0.2222222222222222,
              "#7201a8"
             ],
             [
              0.3333333333333333,
              "#9c179e"
             ],
             [
              0.4444444444444444,
              "#bd3786"
             ],
             [
              0.5555555555555556,
              "#d8576b"
             ],
             [
              0.6666666666666666,
              "#ed7953"
             ],
             [
              0.7777777777777778,
              "#fb9f3a"
             ],
             [
              0.8888888888888888,
              "#fdca26"
             ],
             [
              1,
              "#f0f921"
             ]
            ],
            "type": "heatmapgl"
           }
          ],
          "histogram": [
           {
            "marker": {
             "pattern": {
              "fillmode": "overlay",
              "size": 10,
              "solidity": 0.2
             }
            },
            "type": "histogram"
           }
          ],
          "histogram2d": [
           {
            "colorbar": {
             "outlinewidth": 0,
             "ticks": ""
            },
            "colorscale": [
             [
              0,
              "#0d0887"
             ],
             [
              0.1111111111111111,
              "#46039f"
             ],
             [
              0.2222222222222222,
              "#7201a8"
             ],
             [
              0.3333333333333333,
              "#9c179e"
             ],
             [
              0.4444444444444444,
              "#bd3786"
             ],
             [
              0.5555555555555556,
              "#d8576b"
             ],
             [
              0.6666666666666666,
              "#ed7953"
             ],
             [
              0.7777777777777778,
              "#fb9f3a"
             ],
             [
              0.8888888888888888,
              "#fdca26"
             ],
             [
              1,
              "#f0f921"
             ]
            ],
            "type": "histogram2d"
           }
          ],
          "histogram2dcontour": [
           {
            "colorbar": {
             "outlinewidth": 0,
             "ticks": ""
            },
            "colorscale": [
             [
              0,
              "#0d0887"
             ],
             [
              0.1111111111111111,
              "#46039f"
             ],
             [
              0.2222222222222222,
              "#7201a8"
             ],
             [
              0.3333333333333333,
              "#9c179e"
             ],
             [
              0.4444444444444444,
              "#bd3786"
             ],
             [
              0.5555555555555556,
              "#d8576b"
             ],
             [
              0.6666666666666666,
              "#ed7953"
             ],
             [
              0.7777777777777778,
              "#fb9f3a"
             ],
             [
              0.8888888888888888,
              "#fdca26"
             ],
             [
              1,
              "#f0f921"
             ]
            ],
            "type": "histogram2dcontour"
           }
          ],
          "mesh3d": [
           {
            "colorbar": {
             "outlinewidth": 0,
             "ticks": ""
            },
            "type": "mesh3d"
           }
          ],
          "parcoords": [
           {
            "line": {
             "colorbar": {
              "outlinewidth": 0,
              "ticks": ""
             }
            },
            "type": "parcoords"
           }
          ],
          "pie": [
           {
            "automargin": true,
            "type": "pie"
           }
          ],
          "scatter": [
           {
            "fillpattern": {
             "fillmode": "overlay",
             "size": 10,
             "solidity": 0.2
            },
            "type": "scatter"
           }
          ],
          "scatter3d": [
           {
            "line": {
             "colorbar": {
              "outlinewidth": 0,
              "ticks": ""
             }
            },
            "marker": {
             "colorbar": {
              "outlinewidth": 0,
              "ticks": ""
             }
            },
            "type": "scatter3d"
           }
          ],
          "scattercarpet": [
           {
            "marker": {
             "colorbar": {
              "outlinewidth": 0,
              "ticks": ""
             }
            },
            "type": "scattercarpet"
           }
          ],
          "scattergeo": [
           {
            "marker": {
             "colorbar": {
              "outlinewidth": 0,
              "ticks": ""
             }
            },
            "type": "scattergeo"
           }
          ],
          "scattergl": [
           {
            "marker": {
             "colorbar": {
              "outlinewidth": 0,
              "ticks": ""
             }
            },
            "type": "scattergl"
           }
          ],
          "scattermapbox": [
           {
            "marker": {
             "colorbar": {
              "outlinewidth": 0,
              "ticks": ""
             }
            },
            "type": "scattermapbox"
           }
          ],
          "scatterpolar": [
           {
            "marker": {
             "colorbar": {
              "outlinewidth": 0,
              "ticks": ""
             }
            },
            "type": "scatterpolar"
           }
          ],
          "scatterpolargl": [
           {
            "marker": {
             "colorbar": {
              "outlinewidth": 0,
              "ticks": ""
             }
            },
            "type": "scatterpolargl"
           }
          ],
          "scatterternary": [
           {
            "marker": {
             "colorbar": {
              "outlinewidth": 0,
              "ticks": ""
             }
            },
            "type": "scatterternary"
           }
          ],
          "surface": [
           {
            "colorbar": {
             "outlinewidth": 0,
             "ticks": ""
            },
            "colorscale": [
             [
              0,
              "#0d0887"
             ],
             [
              0.1111111111111111,
              "#46039f"
             ],
             [
              0.2222222222222222,
              "#7201a8"
             ],
             [
              0.3333333333333333,
              "#9c179e"
             ],
             [
              0.4444444444444444,
              "#bd3786"
             ],
             [
              0.5555555555555556,
              "#d8576b"
             ],
             [
              0.6666666666666666,
              "#ed7953"
             ],
             [
              0.7777777777777778,
              "#fb9f3a"
             ],
             [
              0.8888888888888888,
              "#fdca26"
             ],
             [
              1,
              "#f0f921"
             ]
            ],
            "type": "surface"
           }
          ],
          "table": [
           {
            "cells": {
             "fill": {
              "color": "#EBF0F8"
             },
             "line": {
              "color": "white"
             }
            },
            "header": {
             "fill": {
              "color": "#C8D4E3"
             },
             "line": {
              "color": "white"
             }
            },
            "type": "table"
           }
          ]
         },
         "layout": {
          "annotationdefaults": {
           "arrowcolor": "#2a3f5f",
           "arrowhead": 0,
           "arrowwidth": 1
          },
          "autotypenumbers": "strict",
          "coloraxis": {
           "colorbar": {
            "outlinewidth": 0,
            "ticks": ""
           }
          },
          "colorscale": {
           "diverging": [
            [
             0,
             "#8e0152"
            ],
            [
             0.1,
             "#c51b7d"
            ],
            [
             0.2,
             "#de77ae"
            ],
            [
             0.3,
             "#f1b6da"
            ],
            [
             0.4,
             "#fde0ef"
            ],
            [
             0.5,
             "#f7f7f7"
            ],
            [
             0.6,
             "#e6f5d0"
            ],
            [
             0.7,
             "#b8e186"
            ],
            [
             0.8,
             "#7fbc41"
            ],
            [
             0.9,
             "#4d9221"
            ],
            [
             1,
             "#276419"
            ]
           ],
           "sequential": [
            [
             0,
             "#0d0887"
            ],
            [
             0.1111111111111111,
             "#46039f"
            ],
            [
             0.2222222222222222,
             "#7201a8"
            ],
            [
             0.3333333333333333,
             "#9c179e"
            ],
            [
             0.4444444444444444,
             "#bd3786"
            ],
            [
             0.5555555555555556,
             "#d8576b"
            ],
            [
             0.6666666666666666,
             "#ed7953"
            ],
            [
             0.7777777777777778,
             "#fb9f3a"
            ],
            [
             0.8888888888888888,
             "#fdca26"
            ],
            [
             1,
             "#f0f921"
            ]
           ],
           "sequentialminus": [
            [
             0,
             "#0d0887"
            ],
            [
             0.1111111111111111,
             "#46039f"
            ],
            [
             0.2222222222222222,
             "#7201a8"
            ],
            [
             0.3333333333333333,
             "#9c179e"
            ],
            [
             0.4444444444444444,
             "#bd3786"
            ],
            [
             0.5555555555555556,
             "#d8576b"
            ],
            [
             0.6666666666666666,
             "#ed7953"
            ],
            [
             0.7777777777777778,
             "#fb9f3a"
            ],
            [
             0.8888888888888888,
             "#fdca26"
            ],
            [
             1,
             "#f0f921"
            ]
           ]
          },
          "colorway": [
           "#636efa",
           "#EF553B",
           "#00cc96",
           "#ab63fa",
           "#FFA15A",
           "#19d3f3",
           "#FF6692",
           "#B6E880",
           "#FF97FF",
           "#FECB52"
          ],
          "font": {
           "color": "#2a3f5f"
          },
          "geo": {
           "bgcolor": "white",
           "lakecolor": "white",
           "landcolor": "#E5ECF6",
           "showlakes": true,
           "showland": true,
           "subunitcolor": "white"
          },
          "hoverlabel": {
           "align": "left"
          },
          "hovermode": "closest",
          "mapbox": {
           "style": "light"
          },
          "paper_bgcolor": "white",
          "plot_bgcolor": "#E5ECF6",
          "polar": {
           "angularaxis": {
            "gridcolor": "white",
            "linecolor": "white",
            "ticks": ""
           },
           "bgcolor": "#E5ECF6",
           "radialaxis": {
            "gridcolor": "white",
            "linecolor": "white",
            "ticks": ""
           }
          },
          "scene": {
           "xaxis": {
            "backgroundcolor": "#E5ECF6",
            "gridcolor": "white",
            "gridwidth": 2,
            "linecolor": "white",
            "showbackground": true,
            "ticks": "",
            "zerolinecolor": "white"
           },
           "yaxis": {
            "backgroundcolor": "#E5ECF6",
            "gridcolor": "white",
            "gridwidth": 2,
            "linecolor": "white",
            "showbackground": true,
            "ticks": "",
            "zerolinecolor": "white"
           },
           "zaxis": {
            "backgroundcolor": "#E5ECF6",
            "gridcolor": "white",
            "gridwidth": 2,
            "linecolor": "white",
            "showbackground": true,
            "ticks": "",
            "zerolinecolor": "white"
           }
          },
          "shapedefaults": {
           "line": {
            "color": "#2a3f5f"
           }
          },
          "ternary": {
           "aaxis": {
            "gridcolor": "white",
            "linecolor": "white",
            "ticks": ""
           },
           "baxis": {
            "gridcolor": "white",
            "linecolor": "white",
            "ticks": ""
           },
           "bgcolor": "#E5ECF6",
           "caxis": {
            "gridcolor": "white",
            "linecolor": "white",
            "ticks": ""
           }
          },
          "title": {
           "x": 0.05
          },
          "xaxis": {
           "automargin": true,
           "gridcolor": "white",
           "linecolor": "white",
           "ticks": "",
           "title": {
            "standoff": 15
           },
           "zerolinecolor": "white",
           "zerolinewidth": 2
          },
          "yaxis": {
           "automargin": true,
           "gridcolor": "white",
           "linecolor": "white",
           "ticks": "",
           "title": {
            "standoff": 15
           },
           "zerolinecolor": "white",
           "zerolinewidth": 2
          }
         }
        },
        "title": {
         "text": "Gemini Translation Times for Words by Source and Target Language"
        },
        "xaxis": {
         "anchor": "y",
         "domain": [
          0,
          1
         ],
         "title": {
          "text": "Source Language"
         }
        },
        "yaxis": {
         "anchor": "x",
         "domain": [
          0,
          1
         ],
         "title": {
          "text": "Translation Time (s)"
         }
        }
       }
      },
      "text/html": [
       "<div>                            <div id=\"e486e70a-5cef-43d3-9996-2f05f8e37ef3\" class=\"plotly-graph-div\" style=\"height:525px; width:100%;\"></div>            <script type=\"text/javascript\">                require([\"plotly\"], function(Plotly) {                    window.PLOTLYENV=window.PLOTLYENV || {};                                    if (document.getElementById(\"e486e70a-5cef-43d3-9996-2f05f8e37ef3\")) {                    Plotly.newPlot(                        \"e486e70a-5cef-43d3-9996-2f05f8e37ef3\",                        [{\"alignmentgroup\":\"True\",\"hovertemplate\":\"Target Language=Spanish\\u003cbr\\u003eSource Language=%{x}\\u003cbr\\u003eTranslation Time (s)=%{y}\\u003cextra\\u003e\\u003c\\u002fextra\\u003e\",\"legendgroup\":\"Spanish\",\"marker\":{\"color\":\"#636efa\",\"pattern\":{\"shape\":\"\"}},\"name\":\"Spanish\",\"offsetgroup\":\"Spanish\",\"orientation\":\"v\",\"showlegend\":true,\"textposition\":\"auto\",\"x\":[\"English\",\"Chinese\",\"Arabic\",\"Russian\",\"German\",\"French\"],\"xaxis\":\"x\",\"y\":[1.2379870414733887,1.4913959503173828,1.3310701847076416,1.0132710933685303,0.8293249607086182,1.3490979671478271],\"yaxis\":\"y\",\"type\":\"bar\"},{\"alignmentgroup\":\"True\",\"hovertemplate\":\"Target Language=Chinese\\u003cbr\\u003eSource Language=%{x}\\u003cbr\\u003eTranslation Time (s)=%{y}\\u003cextra\\u003e\\u003c\\u002fextra\\u003e\",\"legendgroup\":\"Chinese\",\"marker\":{\"color\":\"#EF553B\",\"pattern\":{\"shape\":\"\"}},\"name\":\"Chinese\",\"offsetgroup\":\"Chinese\",\"orientation\":\"v\",\"showlegend\":true,\"textposition\":\"auto\",\"x\":[\"English\",\"Spanish\",\"Arabic\",\"Russian\",\"German\",\"French\"],\"xaxis\":\"x\",\"y\":[1.316380262374878,1.3782050609588623,1.4510631561279297,1.1377952098846436,1.055283784866333,1.3789091110229492],\"yaxis\":\"y\",\"type\":\"bar\"},{\"alignmentgroup\":\"True\",\"hovertemplate\":\"Target Language=Arabic\\u003cbr\\u003eSource Language=%{x}\\u003cbr\\u003eTranslation Time (s)=%{y}\\u003cextra\\u003e\\u003c\\u002fextra\\u003e\",\"legendgroup\":\"Arabic\",\"marker\":{\"color\":\"#00cc96\",\"pattern\":{\"shape\":\"\"}},\"name\":\"Arabic\",\"offsetgroup\":\"Arabic\",\"orientation\":\"v\",\"showlegend\":true,\"textposition\":\"auto\",\"x\":[\"English\",\"Spanish\",\"Chinese\",\"Russian\",\"German\",\"French\"],\"xaxis\":\"x\",\"y\":[2.0283420085906982,1.3806681632995605,1.000349998474121,0.8027439117431641,0.8219468593597412,0.9875130653381348],\"yaxis\":\"y\",\"type\":\"bar\"},{\"alignmentgroup\":\"True\",\"hovertemplate\":\"Target Language=Russian\\u003cbr\\u003eSource Language=%{x}\\u003cbr\\u003eTranslation Time (s)=%{y}\\u003cextra\\u003e\\u003c\\u002fextra\\u003e\",\"legendgroup\":\"Russian\",\"marker\":{\"color\":\"#ab63fa\",\"pattern\":{\"shape\":\"\"}},\"name\":\"Russian\",\"offsetgroup\":\"Russian\",\"orientation\":\"v\",\"showlegend\":true,\"textposition\":\"auto\",\"x\":[\"English\",\"Spanish\",\"Chinese\",\"Arabic\",\"German\",\"French\"],\"xaxis\":\"x\",\"y\":[0.7441580295562744,1.3301572799682617,1.7514681816101074,3.1867992877960205,1.2132079601287842,1.623656988143921],\"yaxis\":\"y\",\"type\":\"bar\"},{\"alignmentgroup\":\"True\",\"hovertemplate\":\"Target Language=German\\u003cbr\\u003eSource Language=%{x}\\u003cbr\\u003eTranslation Time (s)=%{y}\\u003cextra\\u003e\\u003c\\u002fextra\\u003e\",\"legendgroup\":\"German\",\"marker\":{\"color\":\"#FFA15A\",\"pattern\":{\"shape\":\"\"}},\"name\":\"German\",\"offsetgroup\":\"German\",\"orientation\":\"v\",\"showlegend\":true,\"textposition\":\"auto\",\"x\":[\"English\",\"Spanish\",\"Chinese\",\"Arabic\",\"Russian\",\"French\"],\"xaxis\":\"x\",\"y\":[1.2444560527801514,2.9502298831939697,1.4466350078582764,0.7432858943939209,1.1905317306518555,1.1870810985565186],\"yaxis\":\"y\",\"type\":\"bar\"},{\"alignmentgroup\":\"True\",\"hovertemplate\":\"Target Language=French\\u003cbr\\u003eSource Language=%{x}\\u003cbr\\u003eTranslation Time (s)=%{y}\\u003cextra\\u003e\\u003c\\u002fextra\\u003e\",\"legendgroup\":\"French\",\"marker\":{\"color\":\"#19d3f3\",\"pattern\":{\"shape\":\"\"}},\"name\":\"French\",\"offsetgroup\":\"French\",\"orientation\":\"v\",\"showlegend\":true,\"textposition\":\"auto\",\"x\":[\"English\",\"Spanish\",\"Chinese\",\"Arabic\",\"Russian\",\"German\"],\"xaxis\":\"x\",\"y\":[1.5942959785461426,1.335433006286621,0.6518137454986572,1.3885347843170166,1.1755709648132324,1.4774141311645508],\"yaxis\":\"y\",\"type\":\"bar\"},{\"alignmentgroup\":\"True\",\"hovertemplate\":\"Target Language=English\\u003cbr\\u003eSource Language=%{x}\\u003cbr\\u003eTranslation Time (s)=%{y}\\u003cextra\\u003e\\u003c\\u002fextra\\u003e\",\"legendgroup\":\"English\",\"marker\":{\"color\":\"#FF6692\",\"pattern\":{\"shape\":\"\"}},\"name\":\"English\",\"offsetgroup\":\"English\",\"orientation\":\"v\",\"showlegend\":true,\"textposition\":\"auto\",\"x\":[\"Spanish\",\"Chinese\",\"Arabic\",\"Russian\",\"German\",\"French\"],\"xaxis\":\"x\",\"y\":[0.7225539684295654,1.2443571090698242,1.269300937652588,0.8337538242340088,1.2019259929656982,0.6419088840484619],\"yaxis\":\"y\",\"type\":\"bar\"}],                        {\"template\":{\"data\":{\"histogram2dcontour\":[{\"type\":\"histogram2dcontour\",\"colorbar\":{\"outlinewidth\":0,\"ticks\":\"\"},\"colorscale\":[[0.0,\"#0d0887\"],[0.1111111111111111,\"#46039f\"],[0.2222222222222222,\"#7201a8\"],[0.3333333333333333,\"#9c179e\"],[0.4444444444444444,\"#bd3786\"],[0.5555555555555556,\"#d8576b\"],[0.6666666666666666,\"#ed7953\"],[0.7777777777777778,\"#fb9f3a\"],[0.8888888888888888,\"#fdca26\"],[1.0,\"#f0f921\"]]}],\"choropleth\":[{\"type\":\"choropleth\",\"colorbar\":{\"outlinewidth\":0,\"ticks\":\"\"}}],\"histogram2d\":[{\"type\":\"histogram2d\",\"colorbar\":{\"outlinewidth\":0,\"ticks\":\"\"},\"colorscale\":[[0.0,\"#0d0887\"],[0.1111111111111111,\"#46039f\"],[0.2222222222222222,\"#7201a8\"],[0.3333333333333333,\"#9c179e\"],[0.4444444444444444,\"#bd3786\"],[0.5555555555555556,\"#d8576b\"],[0.6666666666666666,\"#ed7953\"],[0.7777777777777778,\"#fb9f3a\"],[0.8888888888888888,\"#fdca26\"],[1.0,\"#f0f921\"]]}],\"heatmap\":[{\"type\":\"heatmap\",\"colorbar\":{\"outlinewidth\":0,\"ticks\":\"\"},\"colorscale\":[[0.0,\"#0d0887\"],[0.1111111111111111,\"#46039f\"],[0.2222222222222222,\"#7201a8\"],[0.3333333333333333,\"#9c179e\"],[0.4444444444444444,\"#bd3786\"],[0.5555555555555556,\"#d8576b\"],[0.6666666666666666,\"#ed7953\"],[0.7777777777777778,\"#fb9f3a\"],[0.8888888888888888,\"#fdca26\"],[1.0,\"#f0f921\"]]}],\"heatmapgl\":[{\"type\":\"heatmapgl\",\"colorbar\":{\"outlinewidth\":0,\"ticks\":\"\"},\"colorscale\":[[0.0,\"#0d0887\"],[0.1111111111111111,\"#46039f\"],[0.2222222222222222,\"#7201a8\"],[0.3333333333333333,\"#9c179e\"],[0.4444444444444444,\"#bd3786\"],[0.5555555555555556,\"#d8576b\"],[0.6666666666666666,\"#ed7953\"],[0.7777777777777778,\"#fb9f3a\"],[0.8888888888888888,\"#fdca26\"],[1.0,\"#f0f921\"]]}],\"contourcarpet\":[{\"type\":\"contourcarpet\",\"colorbar\":{\"outlinewidth\":0,\"ticks\":\"\"}}],\"contour\":[{\"type\":\"contour\",\"colorbar\":{\"outlinewidth\":0,\"ticks\":\"\"},\"colorscale\":[[0.0,\"#0d0887\"],[0.1111111111111111,\"#46039f\"],[0.2222222222222222,\"#7201a8\"],[0.3333333333333333,\"#9c179e\"],[0.4444444444444444,\"#bd3786\"],[0.5555555555555556,\"#d8576b\"],[0.6666666666666666,\"#ed7953\"],[0.7777777777777778,\"#fb9f3a\"],[0.8888888888888888,\"#fdca26\"],[1.0,\"#f0f921\"]]}],\"surface\":[{\"type\":\"surface\",\"colorbar\":{\"outlinewidth\":0,\"ticks\":\"\"},\"colorscale\":[[0.0,\"#0d0887\"],[0.1111111111111111,\"#46039f\"],[0.2222222222222222,\"#7201a8\"],[0.3333333333333333,\"#9c179e\"],[0.4444444444444444,\"#bd3786\"],[0.5555555555555556,\"#d8576b\"],[0.6666666666666666,\"#ed7953\"],[0.7777777777777778,\"#fb9f3a\"],[0.8888888888888888,\"#fdca26\"],[1.0,\"#f0f921\"]]}],\"mesh3d\":[{\"type\":\"mesh3d\",\"colorbar\":{\"outlinewidth\":0,\"ticks\":\"\"}}],\"scatter\":[{\"fillpattern\":{\"fillmode\":\"overlay\",\"size\":10,\"solidity\":0.2},\"type\":\"scatter\"}],\"parcoords\":[{\"type\":\"parcoords\",\"line\":{\"colorbar\":{\"outlinewidth\":0,\"ticks\":\"\"}}}],\"scatterpolargl\":[{\"type\":\"scatterpolargl\",\"marker\":{\"colorbar\":{\"outlinewidth\":0,\"ticks\":\"\"}}}],\"bar\":[{\"error_x\":{\"color\":\"#2a3f5f\"},\"error_y\":{\"color\":\"#2a3f5f\"},\"marker\":{\"line\":{\"color\":\"#E5ECF6\",\"width\":0.5},\"pattern\":{\"fillmode\":\"overlay\",\"size\":10,\"solidity\":0.2}},\"type\":\"bar\"}],\"scattergeo\":[{\"type\":\"scattergeo\",\"marker\":{\"colorbar\":{\"outlinewidth\":0,\"ticks\":\"\"}}}],\"scatterpolar\":[{\"type\":\"scatterpolar\",\"marker\":{\"colorbar\":{\"outlinewidth\":0,\"ticks\":\"\"}}}],\"histogram\":[{\"marker\":{\"pattern\":{\"fillmode\":\"overlay\",\"size\":10,\"solidity\":0.2}},\"type\":\"histogram\"}],\"scattergl\":[{\"type\":\"scattergl\",\"marker\":{\"colorbar\":{\"outlinewidth\":0,\"ticks\":\"\"}}}],\"scatter3d\":[{\"type\":\"scatter3d\",\"line\":{\"colorbar\":{\"outlinewidth\":0,\"ticks\":\"\"}},\"marker\":{\"colorbar\":{\"outlinewidth\":0,\"ticks\":\"\"}}}],\"scattermapbox\":[{\"type\":\"scattermapbox\",\"marker\":{\"colorbar\":{\"outlinewidth\":0,\"ticks\":\"\"}}}],\"scatterternary\":[{\"type\":\"scatterternary\",\"marker\":{\"colorbar\":{\"outlinewidth\":0,\"ticks\":\"\"}}}],\"scattercarpet\":[{\"type\":\"scattercarpet\",\"marker\":{\"colorbar\":{\"outlinewidth\":0,\"ticks\":\"\"}}}],\"carpet\":[{\"aaxis\":{\"endlinecolor\":\"#2a3f5f\",\"gridcolor\":\"white\",\"linecolor\":\"white\",\"minorgridcolor\":\"white\",\"startlinecolor\":\"#2a3f5f\"},\"baxis\":{\"endlinecolor\":\"#2a3f5f\",\"gridcolor\":\"white\",\"linecolor\":\"white\",\"minorgridcolor\":\"white\",\"startlinecolor\":\"#2a3f5f\"},\"type\":\"carpet\"}],\"table\":[{\"cells\":{\"fill\":{\"color\":\"#EBF0F8\"},\"line\":{\"color\":\"white\"}},\"header\":{\"fill\":{\"color\":\"#C8D4E3\"},\"line\":{\"color\":\"white\"}},\"type\":\"table\"}],\"barpolar\":[{\"marker\":{\"line\":{\"color\":\"#E5ECF6\",\"width\":0.5},\"pattern\":{\"fillmode\":\"overlay\",\"size\":10,\"solidity\":0.2}},\"type\":\"barpolar\"}],\"pie\":[{\"automargin\":true,\"type\":\"pie\"}]},\"layout\":{\"autotypenumbers\":\"strict\",\"colorway\":[\"#636efa\",\"#EF553B\",\"#00cc96\",\"#ab63fa\",\"#FFA15A\",\"#19d3f3\",\"#FF6692\",\"#B6E880\",\"#FF97FF\",\"#FECB52\"],\"font\":{\"color\":\"#2a3f5f\"},\"hovermode\":\"closest\",\"hoverlabel\":{\"align\":\"left\"},\"paper_bgcolor\":\"white\",\"plot_bgcolor\":\"#E5ECF6\",\"polar\":{\"bgcolor\":\"#E5ECF6\",\"angularaxis\":{\"gridcolor\":\"white\",\"linecolor\":\"white\",\"ticks\":\"\"},\"radialaxis\":{\"gridcolor\":\"white\",\"linecolor\":\"white\",\"ticks\":\"\"}},\"ternary\":{\"bgcolor\":\"#E5ECF6\",\"aaxis\":{\"gridcolor\":\"white\",\"linecolor\":\"white\",\"ticks\":\"\"},\"baxis\":{\"gridcolor\":\"white\",\"linecolor\":\"white\",\"ticks\":\"\"},\"caxis\":{\"gridcolor\":\"white\",\"linecolor\":\"white\",\"ticks\":\"\"}},\"coloraxis\":{\"colorbar\":{\"outlinewidth\":0,\"ticks\":\"\"}},\"colorscale\":{\"sequential\":[[0.0,\"#0d0887\"],[0.1111111111111111,\"#46039f\"],[0.2222222222222222,\"#7201a8\"],[0.3333333333333333,\"#9c179e\"],[0.4444444444444444,\"#bd3786\"],[0.5555555555555556,\"#d8576b\"],[0.6666666666666666,\"#ed7953\"],[0.7777777777777778,\"#fb9f3a\"],[0.8888888888888888,\"#fdca26\"],[1.0,\"#f0f921\"]],\"sequentialminus\":[[0.0,\"#0d0887\"],[0.1111111111111111,\"#46039f\"],[0.2222222222222222,\"#7201a8\"],[0.3333333333333333,\"#9c179e\"],[0.4444444444444444,\"#bd3786\"],[0.5555555555555556,\"#d8576b\"],[0.6666666666666666,\"#ed7953\"],[0.7777777777777778,\"#fb9f3a\"],[0.8888888888888888,\"#fdca26\"],[1.0,\"#f0f921\"]],\"diverging\":[[0,\"#8e0152\"],[0.1,\"#c51b7d\"],[0.2,\"#de77ae\"],[0.3,\"#f1b6da\"],[0.4,\"#fde0ef\"],[0.5,\"#f7f7f7\"],[0.6,\"#e6f5d0\"],[0.7,\"#b8e186\"],[0.8,\"#7fbc41\"],[0.9,\"#4d9221\"],[1,\"#276419\"]]},\"xaxis\":{\"gridcolor\":\"white\",\"linecolor\":\"white\",\"ticks\":\"\",\"title\":{\"standoff\":15},\"zerolinecolor\":\"white\",\"automargin\":true,\"zerolinewidth\":2},\"yaxis\":{\"gridcolor\":\"white\",\"linecolor\":\"white\",\"ticks\":\"\",\"title\":{\"standoff\":15},\"zerolinecolor\":\"white\",\"automargin\":true,\"zerolinewidth\":2},\"scene\":{\"xaxis\":{\"backgroundcolor\":\"#E5ECF6\",\"gridcolor\":\"white\",\"linecolor\":\"white\",\"showbackground\":true,\"ticks\":\"\",\"zerolinecolor\":\"white\",\"gridwidth\":2},\"yaxis\":{\"backgroundcolor\":\"#E5ECF6\",\"gridcolor\":\"white\",\"linecolor\":\"white\",\"showbackground\":true,\"ticks\":\"\",\"zerolinecolor\":\"white\",\"gridwidth\":2},\"zaxis\":{\"backgroundcolor\":\"#E5ECF6\",\"gridcolor\":\"white\",\"linecolor\":\"white\",\"showbackground\":true,\"ticks\":\"\",\"zerolinecolor\":\"white\",\"gridwidth\":2}},\"shapedefaults\":{\"line\":{\"color\":\"#2a3f5f\"}},\"annotationdefaults\":{\"arrowcolor\":\"#2a3f5f\",\"arrowhead\":0,\"arrowwidth\":1},\"geo\":{\"bgcolor\":\"white\",\"landcolor\":\"#E5ECF6\",\"subunitcolor\":\"white\",\"showland\":true,\"showlakes\":true,\"lakecolor\":\"white\"},\"title\":{\"x\":0.05},\"mapbox\":{\"style\":\"light\"}}},\"xaxis\":{\"anchor\":\"y\",\"domain\":[0.0,1.0],\"title\":{\"text\":\"Source Language\"}},\"yaxis\":{\"anchor\":\"x\",\"domain\":[0.0,1.0],\"title\":{\"text\":\"Translation Time (s)\"}},\"legend\":{\"title\":{\"text\":\"Target Language\"},\"tracegroupgap\":0},\"title\":{\"text\":\"Gemini Translation Times for Words by Source and Target Language\"},\"barmode\":\"group\"},                        {\"responsive\": true}                    ).then(function(){\n",
       "                            \n",
       "var gd = document.getElementById('e486e70a-5cef-43d3-9996-2f05f8e37ef3');\n",
       "var x = new MutationObserver(function (mutations, observer) {{\n",
       "        var display = window.getComputedStyle(gd).display;\n",
       "        if (!display || display === 'none') {{\n",
       "            console.log([gd, 'removed!']);\n",
       "            Plotly.purge(gd);\n",
       "            observer.disconnect();\n",
       "        }}\n",
       "}});\n",
       "\n",
       "// Listen for the removal of the full notebook cells\n",
       "var notebookContainer = gd.closest('#notebook-container');\n",
       "if (notebookContainer) {{\n",
       "    x.observe(notebookContainer, {childList: true});\n",
       "}}\n",
       "\n",
       "// Listen for the clearing of the current output cell\n",
       "var outputEl = gd.closest('.output');\n",
       "if (outputEl) {{\n",
       "    x.observe(outputEl, {childList: true});\n",
       "}}\n",
       "\n",
       "                        })                };                });            </script>        </div>"
      ]
     },
     "metadata": {},
     "output_type": "display_data"
    }
   ],
   "source": [
    "import plotly.express as px\n",
    "\n",
    "# Filtrar los datos por tipo de texto: Palabras (Word)\n",
    "df_word = df[df['Text Type'] == 'word']\n",
    "\n",
    "# Hugging Face Translation Times for Words\n",
    "fig_word_hf = px.bar(df_word, \n",
    "                     x='Source Language', \n",
    "                     y='HF Translation Time (s)', \n",
    "                     color='Target Language', \n",
    "                     barmode='group',\n",
    "                     title='Hugging Face Translation Times for Words by Source and Target Language',\n",
    "                     labels={'HF Translation Time (s)': 'Translation Time (s)', 'Source Language': 'Source Language'})\n",
    "fig_word_hf.show()\n",
    "\n",
    "# Gemini Translation Times for Words\n",
    "fig_word_gemini = px.bar(df_word, \n",
    "                         x='Source Language', \n",
    "                         y='Gemini Translation Time (s)', \n",
    "                         color='Target Language', \n",
    "                         barmode='group',\n",
    "                         title='Gemini Translation Times for Words by Source and Target Language',\n",
    "                         labels={'Gemini Translation Time (s)': 'Translation Time (s)', 'Source Language': 'Source Language'})\n",
    "fig_word_gemini.show()"
   ]
  },
  {
   "cell_type": "code",
   "execution_count": 64,
   "id": "dc55c121",
   "metadata": {},
   "outputs": [
    {
     "data": {
      "application/vnd.plotly.v1+json": {
       "config": {
        "plotlyServerURL": "https://plot.ly"
       },
       "data": [
        {
         "alignmentgroup": "True",
         "hovertemplate": "Target Language=Spanish<br>Source Language=%{x}<br>Translation Time (s)=%{y}<extra></extra>",
         "legendgroup": "Spanish",
         "marker": {
          "color": "#636efa",
          "pattern": {
           "shape": ""
          }
         },
         "name": "Spanish",
         "offsetgroup": "Spanish",
         "orientation": "v",
         "showlegend": true,
         "textposition": "auto",
         "type": "bar",
         "x": [
          "English",
          "Chinese",
          "Arabic",
          "Russian",
          "German",
          "French"
         ],
         "xaxis": "x",
         "y": [
          0.2865791320800781,
          1.0220363140106201,
          0.45336389541625977,
          0.5595557689666748,
          0.33475208282470703,
          0.8951599597930908
         ],
         "yaxis": "y"
        },
        {
         "alignmentgroup": "True",
         "hovertemplate": "Target Language=Chinese<br>Source Language=%{x}<br>Translation Time (s)=%{y}<extra></extra>",
         "legendgroup": "Chinese",
         "marker": {
          "color": "#EF553B",
          "pattern": {
           "shape": ""
          }
         },
         "name": "Chinese",
         "offsetgroup": "Chinese",
         "orientation": "v",
         "showlegend": true,
         "textposition": "auto",
         "type": "bar",
         "x": [
          "English",
          "Spanish",
          "Arabic",
          "Russian",
          "German",
          "French"
         ],
         "xaxis": "x",
         "y": [
          0.22876715660095215,
          2.0359020233154297,
          1.3538780212402344,
          1.3514549732208252,
          0.18531394004821777,
          0.9294121265411377
         ],
         "yaxis": "y"
        },
        {
         "alignmentgroup": "True",
         "hovertemplate": "Target Language=Arabic<br>Source Language=%{x}<br>Translation Time (s)=%{y}<extra></extra>",
         "legendgroup": "Arabic",
         "marker": {
          "color": "#00cc96",
          "pattern": {
           "shape": ""
          }
         },
         "name": "Arabic",
         "offsetgroup": "Arabic",
         "orientation": "v",
         "showlegend": true,
         "textposition": "auto",
         "type": "bar",
         "x": [
          "English",
          "Spanish",
          "Chinese",
          "Russian",
          "German",
          "French"
         ],
         "xaxis": "x",
         "y": [
          0.2668418884277344,
          2.5022132396698,
          2.0003702640533447,
          0.5098698139190674,
          4.330995321273804,
          0.28314971923828125
         ],
         "yaxis": "y"
        },
        {
         "alignmentgroup": "True",
         "hovertemplate": "Target Language=Russian<br>Source Language=%{x}<br>Translation Time (s)=%{y}<extra></extra>",
         "legendgroup": "Russian",
         "marker": {
          "color": "#ab63fa",
          "pattern": {
           "shape": ""
          }
         },
         "name": "Russian",
         "offsetgroup": "Russian",
         "orientation": "v",
         "showlegend": true,
         "textposition": "auto",
         "type": "bar",
         "x": [
          "English",
          "Spanish",
          "Chinese",
          "Arabic",
          "German",
          "French"
         ],
         "xaxis": "x",
         "y": [
          0.21195077896118164,
          0.3540501594543457,
          0.9264540672302246,
          1.0349700450897217,
          1.2256288528442383,
          0.40846896171569824
         ],
         "yaxis": "y"
        },
        {
         "alignmentgroup": "True",
         "hovertemplate": "Target Language=German<br>Source Language=%{x}<br>Translation Time (s)=%{y}<extra></extra>",
         "legendgroup": "German",
         "marker": {
          "color": "#FFA15A",
          "pattern": {
           "shape": ""
          }
         },
         "name": "German",
         "offsetgroup": "German",
         "orientation": "v",
         "showlegend": true,
         "textposition": "auto",
         "type": "bar",
         "x": [
          "English",
          "Spanish",
          "Chinese",
          "Arabic",
          "Russian",
          "French"
         ],
         "xaxis": "x",
         "y": [
          0.2397630214691162,
          0.31681108474731445,
          0.248138427734375,
          0.3743317127227783,
          1.1121149063110352,
          0.4187180995941162
         ],
         "yaxis": "y"
        },
        {
         "alignmentgroup": "True",
         "hovertemplate": "Target Language=French<br>Source Language=%{x}<br>Translation Time (s)=%{y}<extra></extra>",
         "legendgroup": "French",
         "marker": {
          "color": "#19d3f3",
          "pattern": {
           "shape": ""
          }
         },
         "name": "French",
         "offsetgroup": "French",
         "orientation": "v",
         "showlegend": true,
         "textposition": "auto",
         "type": "bar",
         "x": [
          "English",
          "Spanish",
          "Chinese",
          "Arabic",
          "Russian",
          "German"
         ],
         "xaxis": "x",
         "y": [
          0.29642319679260254,
          0.2710847854614258,
          1.3942170143127441,
          0.2761862277984619,
          0.4336278438568115,
          0.38873910903930664
         ],
         "yaxis": "y"
        },
        {
         "alignmentgroup": "True",
         "hovertemplate": "Target Language=English<br>Source Language=%{x}<br>Translation Time (s)=%{y}<extra></extra>",
         "legendgroup": "English",
         "marker": {
          "color": "#FF6692",
          "pattern": {
           "shape": ""
          }
         },
         "name": "English",
         "offsetgroup": "English",
         "orientation": "v",
         "showlegend": true,
         "textposition": "auto",
         "type": "bar",
         "x": [
          "Spanish",
          "Chinese",
          "Arabic",
          "Russian",
          "German",
          "French"
         ],
         "xaxis": "x",
         "y": [
          0.24301600456237793,
          0.3995399475097656,
          0.23713397979736328,
          0.3680441379547119,
          0.3016219139099121,
          0.33710265159606934
         ],
         "yaxis": "y"
        }
       ],
       "layout": {
        "barmode": "group",
        "legend": {
         "title": {
          "text": "Target Language"
         },
         "tracegroupgap": 0
        },
        "template": {
         "data": {
          "bar": [
           {
            "error_x": {
             "color": "#2a3f5f"
            },
            "error_y": {
             "color": "#2a3f5f"
            },
            "marker": {
             "line": {
              "color": "#E5ECF6",
              "width": 0.5
             },
             "pattern": {
              "fillmode": "overlay",
              "size": 10,
              "solidity": 0.2
             }
            },
            "type": "bar"
           }
          ],
          "barpolar": [
           {
            "marker": {
             "line": {
              "color": "#E5ECF6",
              "width": 0.5
             },
             "pattern": {
              "fillmode": "overlay",
              "size": 10,
              "solidity": 0.2
             }
            },
            "type": "barpolar"
           }
          ],
          "carpet": [
           {
            "aaxis": {
             "endlinecolor": "#2a3f5f",
             "gridcolor": "white",
             "linecolor": "white",
             "minorgridcolor": "white",
             "startlinecolor": "#2a3f5f"
            },
            "baxis": {
             "endlinecolor": "#2a3f5f",
             "gridcolor": "white",
             "linecolor": "white",
             "minorgridcolor": "white",
             "startlinecolor": "#2a3f5f"
            },
            "type": "carpet"
           }
          ],
          "choropleth": [
           {
            "colorbar": {
             "outlinewidth": 0,
             "ticks": ""
            },
            "type": "choropleth"
           }
          ],
          "contour": [
           {
            "colorbar": {
             "outlinewidth": 0,
             "ticks": ""
            },
            "colorscale": [
             [
              0,
              "#0d0887"
             ],
             [
              0.1111111111111111,
              "#46039f"
             ],
             [
              0.2222222222222222,
              "#7201a8"
             ],
             [
              0.3333333333333333,
              "#9c179e"
             ],
             [
              0.4444444444444444,
              "#bd3786"
             ],
             [
              0.5555555555555556,
              "#d8576b"
             ],
             [
              0.6666666666666666,
              "#ed7953"
             ],
             [
              0.7777777777777778,
              "#fb9f3a"
             ],
             [
              0.8888888888888888,
              "#fdca26"
             ],
             [
              1,
              "#f0f921"
             ]
            ],
            "type": "contour"
           }
          ],
          "contourcarpet": [
           {
            "colorbar": {
             "outlinewidth": 0,
             "ticks": ""
            },
            "type": "contourcarpet"
           }
          ],
          "heatmap": [
           {
            "colorbar": {
             "outlinewidth": 0,
             "ticks": ""
            },
            "colorscale": [
             [
              0,
              "#0d0887"
             ],
             [
              0.1111111111111111,
              "#46039f"
             ],
             [
              0.2222222222222222,
              "#7201a8"
             ],
             [
              0.3333333333333333,
              "#9c179e"
             ],
             [
              0.4444444444444444,
              "#bd3786"
             ],
             [
              0.5555555555555556,
              "#d8576b"
             ],
             [
              0.6666666666666666,
              "#ed7953"
             ],
             [
              0.7777777777777778,
              "#fb9f3a"
             ],
             [
              0.8888888888888888,
              "#fdca26"
             ],
             [
              1,
              "#f0f921"
             ]
            ],
            "type": "heatmap"
           }
          ],
          "heatmapgl": [
           {
            "colorbar": {
             "outlinewidth": 0,
             "ticks": ""
            },
            "colorscale": [
             [
              0,
              "#0d0887"
             ],
             [
              0.1111111111111111,
              "#46039f"
             ],
             [
              0.2222222222222222,
              "#7201a8"
             ],
             [
              0.3333333333333333,
              "#9c179e"
             ],
             [
              0.4444444444444444,
              "#bd3786"
             ],
             [
              0.5555555555555556,
              "#d8576b"
             ],
             [
              0.6666666666666666,
              "#ed7953"
             ],
             [
              0.7777777777777778,
              "#fb9f3a"
             ],
             [
              0.8888888888888888,
              "#fdca26"
             ],
             [
              1,
              "#f0f921"
             ]
            ],
            "type": "heatmapgl"
           }
          ],
          "histogram": [
           {
            "marker": {
             "pattern": {
              "fillmode": "overlay",
              "size": 10,
              "solidity": 0.2
             }
            },
            "type": "histogram"
           }
          ],
          "histogram2d": [
           {
            "colorbar": {
             "outlinewidth": 0,
             "ticks": ""
            },
            "colorscale": [
             [
              0,
              "#0d0887"
             ],
             [
              0.1111111111111111,
              "#46039f"
             ],
             [
              0.2222222222222222,
              "#7201a8"
             ],
             [
              0.3333333333333333,
              "#9c179e"
             ],
             [
              0.4444444444444444,
              "#bd3786"
             ],
             [
              0.5555555555555556,
              "#d8576b"
             ],
             [
              0.6666666666666666,
              "#ed7953"
             ],
             [
              0.7777777777777778,
              "#fb9f3a"
             ],
             [
              0.8888888888888888,
              "#fdca26"
             ],
             [
              1,
              "#f0f921"
             ]
            ],
            "type": "histogram2d"
           }
          ],
          "histogram2dcontour": [
           {
            "colorbar": {
             "outlinewidth": 0,
             "ticks": ""
            },
            "colorscale": [
             [
              0,
              "#0d0887"
             ],
             [
              0.1111111111111111,
              "#46039f"
             ],
             [
              0.2222222222222222,
              "#7201a8"
             ],
             [
              0.3333333333333333,
              "#9c179e"
             ],
             [
              0.4444444444444444,
              "#bd3786"
             ],
             [
              0.5555555555555556,
              "#d8576b"
             ],
             [
              0.6666666666666666,
              "#ed7953"
             ],
             [
              0.7777777777777778,
              "#fb9f3a"
             ],
             [
              0.8888888888888888,
              "#fdca26"
             ],
             [
              1,
              "#f0f921"
             ]
            ],
            "type": "histogram2dcontour"
           }
          ],
          "mesh3d": [
           {
            "colorbar": {
             "outlinewidth": 0,
             "ticks": ""
            },
            "type": "mesh3d"
           }
          ],
          "parcoords": [
           {
            "line": {
             "colorbar": {
              "outlinewidth": 0,
              "ticks": ""
             }
            },
            "type": "parcoords"
           }
          ],
          "pie": [
           {
            "automargin": true,
            "type": "pie"
           }
          ],
          "scatter": [
           {
            "fillpattern": {
             "fillmode": "overlay",
             "size": 10,
             "solidity": 0.2
            },
            "type": "scatter"
           }
          ],
          "scatter3d": [
           {
            "line": {
             "colorbar": {
              "outlinewidth": 0,
              "ticks": ""
             }
            },
            "marker": {
             "colorbar": {
              "outlinewidth": 0,
              "ticks": ""
             }
            },
            "type": "scatter3d"
           }
          ],
          "scattercarpet": [
           {
            "marker": {
             "colorbar": {
              "outlinewidth": 0,
              "ticks": ""
             }
            },
            "type": "scattercarpet"
           }
          ],
          "scattergeo": [
           {
            "marker": {
             "colorbar": {
              "outlinewidth": 0,
              "ticks": ""
             }
            },
            "type": "scattergeo"
           }
          ],
          "scattergl": [
           {
            "marker": {
             "colorbar": {
              "outlinewidth": 0,
              "ticks": ""
             }
            },
            "type": "scattergl"
           }
          ],
          "scattermapbox": [
           {
            "marker": {
             "colorbar": {
              "outlinewidth": 0,
              "ticks": ""
             }
            },
            "type": "scattermapbox"
           }
          ],
          "scatterpolar": [
           {
            "marker": {
             "colorbar": {
              "outlinewidth": 0,
              "ticks": ""
             }
            },
            "type": "scatterpolar"
           }
          ],
          "scatterpolargl": [
           {
            "marker": {
             "colorbar": {
              "outlinewidth": 0,
              "ticks": ""
             }
            },
            "type": "scatterpolargl"
           }
          ],
          "scatterternary": [
           {
            "marker": {
             "colorbar": {
              "outlinewidth": 0,
              "ticks": ""
             }
            },
            "type": "scatterternary"
           }
          ],
          "surface": [
           {
            "colorbar": {
             "outlinewidth": 0,
             "ticks": ""
            },
            "colorscale": [
             [
              0,
              "#0d0887"
             ],
             [
              0.1111111111111111,
              "#46039f"
             ],
             [
              0.2222222222222222,
              "#7201a8"
             ],
             [
              0.3333333333333333,
              "#9c179e"
             ],
             [
              0.4444444444444444,
              "#bd3786"
             ],
             [
              0.5555555555555556,
              "#d8576b"
             ],
             [
              0.6666666666666666,
              "#ed7953"
             ],
             [
              0.7777777777777778,
              "#fb9f3a"
             ],
             [
              0.8888888888888888,
              "#fdca26"
             ],
             [
              1,
              "#f0f921"
             ]
            ],
            "type": "surface"
           }
          ],
          "table": [
           {
            "cells": {
             "fill": {
              "color": "#EBF0F8"
             },
             "line": {
              "color": "white"
             }
            },
            "header": {
             "fill": {
              "color": "#C8D4E3"
             },
             "line": {
              "color": "white"
             }
            },
            "type": "table"
           }
          ]
         },
         "layout": {
          "annotationdefaults": {
           "arrowcolor": "#2a3f5f",
           "arrowhead": 0,
           "arrowwidth": 1
          },
          "autotypenumbers": "strict",
          "coloraxis": {
           "colorbar": {
            "outlinewidth": 0,
            "ticks": ""
           }
          },
          "colorscale": {
           "diverging": [
            [
             0,
             "#8e0152"
            ],
            [
             0.1,
             "#c51b7d"
            ],
            [
             0.2,
             "#de77ae"
            ],
            [
             0.3,
             "#f1b6da"
            ],
            [
             0.4,
             "#fde0ef"
            ],
            [
             0.5,
             "#f7f7f7"
            ],
            [
             0.6,
             "#e6f5d0"
            ],
            [
             0.7,
             "#b8e186"
            ],
            [
             0.8,
             "#7fbc41"
            ],
            [
             0.9,
             "#4d9221"
            ],
            [
             1,
             "#276419"
            ]
           ],
           "sequential": [
            [
             0,
             "#0d0887"
            ],
            [
             0.1111111111111111,
             "#46039f"
            ],
            [
             0.2222222222222222,
             "#7201a8"
            ],
            [
             0.3333333333333333,
             "#9c179e"
            ],
            [
             0.4444444444444444,
             "#bd3786"
            ],
            [
             0.5555555555555556,
             "#d8576b"
            ],
            [
             0.6666666666666666,
             "#ed7953"
            ],
            [
             0.7777777777777778,
             "#fb9f3a"
            ],
            [
             0.8888888888888888,
             "#fdca26"
            ],
            [
             1,
             "#f0f921"
            ]
           ],
           "sequentialminus": [
            [
             0,
             "#0d0887"
            ],
            [
             0.1111111111111111,
             "#46039f"
            ],
            [
             0.2222222222222222,
             "#7201a8"
            ],
            [
             0.3333333333333333,
             "#9c179e"
            ],
            [
             0.4444444444444444,
             "#bd3786"
            ],
            [
             0.5555555555555556,
             "#d8576b"
            ],
            [
             0.6666666666666666,
             "#ed7953"
            ],
            [
             0.7777777777777778,
             "#fb9f3a"
            ],
            [
             0.8888888888888888,
             "#fdca26"
            ],
            [
             1,
             "#f0f921"
            ]
           ]
          },
          "colorway": [
           "#636efa",
           "#EF553B",
           "#00cc96",
           "#ab63fa",
           "#FFA15A",
           "#19d3f3",
           "#FF6692",
           "#B6E880",
           "#FF97FF",
           "#FECB52"
          ],
          "font": {
           "color": "#2a3f5f"
          },
          "geo": {
           "bgcolor": "white",
           "lakecolor": "white",
           "landcolor": "#E5ECF6",
           "showlakes": true,
           "showland": true,
           "subunitcolor": "white"
          },
          "hoverlabel": {
           "align": "left"
          },
          "hovermode": "closest",
          "mapbox": {
           "style": "light"
          },
          "paper_bgcolor": "white",
          "plot_bgcolor": "#E5ECF6",
          "polar": {
           "angularaxis": {
            "gridcolor": "white",
            "linecolor": "white",
            "ticks": ""
           },
           "bgcolor": "#E5ECF6",
           "radialaxis": {
            "gridcolor": "white",
            "linecolor": "white",
            "ticks": ""
           }
          },
          "scene": {
           "xaxis": {
            "backgroundcolor": "#E5ECF6",
            "gridcolor": "white",
            "gridwidth": 2,
            "linecolor": "white",
            "showbackground": true,
            "ticks": "",
            "zerolinecolor": "white"
           },
           "yaxis": {
            "backgroundcolor": "#E5ECF6",
            "gridcolor": "white",
            "gridwidth": 2,
            "linecolor": "white",
            "showbackground": true,
            "ticks": "",
            "zerolinecolor": "white"
           },
           "zaxis": {
            "backgroundcolor": "#E5ECF6",
            "gridcolor": "white",
            "gridwidth": 2,
            "linecolor": "white",
            "showbackground": true,
            "ticks": "",
            "zerolinecolor": "white"
           }
          },
          "shapedefaults": {
           "line": {
            "color": "#2a3f5f"
           }
          },
          "ternary": {
           "aaxis": {
            "gridcolor": "white",
            "linecolor": "white",
            "ticks": ""
           },
           "baxis": {
            "gridcolor": "white",
            "linecolor": "white",
            "ticks": ""
           },
           "bgcolor": "#E5ECF6",
           "caxis": {
            "gridcolor": "white",
            "linecolor": "white",
            "ticks": ""
           }
          },
          "title": {
           "x": 0.05
          },
          "xaxis": {
           "automargin": true,
           "gridcolor": "white",
           "linecolor": "white",
           "ticks": "",
           "title": {
            "standoff": 15
           },
           "zerolinecolor": "white",
           "zerolinewidth": 2
          },
          "yaxis": {
           "automargin": true,
           "gridcolor": "white",
           "linecolor": "white",
           "ticks": "",
           "title": {
            "standoff": 15
           },
           "zerolinecolor": "white",
           "zerolinewidth": 2
          }
         }
        },
        "title": {
         "text": "Hugging Face Translation Times for Sentences by Source and Target Language"
        },
        "xaxis": {
         "anchor": "y",
         "domain": [
          0,
          1
         ],
         "title": {
          "text": "Source Language"
         }
        },
        "yaxis": {
         "anchor": "x",
         "domain": [
          0,
          1
         ],
         "title": {
          "text": "Translation Time (s)"
         }
        }
       }
      },
      "text/html": [
       "<div>                            <div id=\"e9a1cb9b-be1f-4bbe-bc45-e737d1e74e7e\" class=\"plotly-graph-div\" style=\"height:525px; width:100%;\"></div>            <script type=\"text/javascript\">                require([\"plotly\"], function(Plotly) {                    window.PLOTLYENV=window.PLOTLYENV || {};                                    if (document.getElementById(\"e9a1cb9b-be1f-4bbe-bc45-e737d1e74e7e\")) {                    Plotly.newPlot(                        \"e9a1cb9b-be1f-4bbe-bc45-e737d1e74e7e\",                        [{\"alignmentgroup\":\"True\",\"hovertemplate\":\"Target Language=Spanish\\u003cbr\\u003eSource Language=%{x}\\u003cbr\\u003eTranslation Time (s)=%{y}\\u003cextra\\u003e\\u003c\\u002fextra\\u003e\",\"legendgroup\":\"Spanish\",\"marker\":{\"color\":\"#636efa\",\"pattern\":{\"shape\":\"\"}},\"name\":\"Spanish\",\"offsetgroup\":\"Spanish\",\"orientation\":\"v\",\"showlegend\":true,\"textposition\":\"auto\",\"x\":[\"English\",\"Chinese\",\"Arabic\",\"Russian\",\"German\",\"French\"],\"xaxis\":\"x\",\"y\":[0.2865791320800781,1.0220363140106201,0.45336389541625977,0.5595557689666748,0.33475208282470703,0.8951599597930908],\"yaxis\":\"y\",\"type\":\"bar\"},{\"alignmentgroup\":\"True\",\"hovertemplate\":\"Target Language=Chinese\\u003cbr\\u003eSource Language=%{x}\\u003cbr\\u003eTranslation Time (s)=%{y}\\u003cextra\\u003e\\u003c\\u002fextra\\u003e\",\"legendgroup\":\"Chinese\",\"marker\":{\"color\":\"#EF553B\",\"pattern\":{\"shape\":\"\"}},\"name\":\"Chinese\",\"offsetgroup\":\"Chinese\",\"orientation\":\"v\",\"showlegend\":true,\"textposition\":\"auto\",\"x\":[\"English\",\"Spanish\",\"Arabic\",\"Russian\",\"German\",\"French\"],\"xaxis\":\"x\",\"y\":[0.22876715660095215,2.0359020233154297,1.3538780212402344,1.3514549732208252,0.18531394004821777,0.9294121265411377],\"yaxis\":\"y\",\"type\":\"bar\"},{\"alignmentgroup\":\"True\",\"hovertemplate\":\"Target Language=Arabic\\u003cbr\\u003eSource Language=%{x}\\u003cbr\\u003eTranslation Time (s)=%{y}\\u003cextra\\u003e\\u003c\\u002fextra\\u003e\",\"legendgroup\":\"Arabic\",\"marker\":{\"color\":\"#00cc96\",\"pattern\":{\"shape\":\"\"}},\"name\":\"Arabic\",\"offsetgroup\":\"Arabic\",\"orientation\":\"v\",\"showlegend\":true,\"textposition\":\"auto\",\"x\":[\"English\",\"Spanish\",\"Chinese\",\"Russian\",\"German\",\"French\"],\"xaxis\":\"x\",\"y\":[0.2668418884277344,2.5022132396698,2.0003702640533447,0.5098698139190674,4.330995321273804,0.28314971923828125],\"yaxis\":\"y\",\"type\":\"bar\"},{\"alignmentgroup\":\"True\",\"hovertemplate\":\"Target Language=Russian\\u003cbr\\u003eSource Language=%{x}\\u003cbr\\u003eTranslation Time (s)=%{y}\\u003cextra\\u003e\\u003c\\u002fextra\\u003e\",\"legendgroup\":\"Russian\",\"marker\":{\"color\":\"#ab63fa\",\"pattern\":{\"shape\":\"\"}},\"name\":\"Russian\",\"offsetgroup\":\"Russian\",\"orientation\":\"v\",\"showlegend\":true,\"textposition\":\"auto\",\"x\":[\"English\",\"Spanish\",\"Chinese\",\"Arabic\",\"German\",\"French\"],\"xaxis\":\"x\",\"y\":[0.21195077896118164,0.3540501594543457,0.9264540672302246,1.0349700450897217,1.2256288528442383,0.40846896171569824],\"yaxis\":\"y\",\"type\":\"bar\"},{\"alignmentgroup\":\"True\",\"hovertemplate\":\"Target Language=German\\u003cbr\\u003eSource Language=%{x}\\u003cbr\\u003eTranslation Time (s)=%{y}\\u003cextra\\u003e\\u003c\\u002fextra\\u003e\",\"legendgroup\":\"German\",\"marker\":{\"color\":\"#FFA15A\",\"pattern\":{\"shape\":\"\"}},\"name\":\"German\",\"offsetgroup\":\"German\",\"orientation\":\"v\",\"showlegend\":true,\"textposition\":\"auto\",\"x\":[\"English\",\"Spanish\",\"Chinese\",\"Arabic\",\"Russian\",\"French\"],\"xaxis\":\"x\",\"y\":[0.2397630214691162,0.31681108474731445,0.248138427734375,0.3743317127227783,1.1121149063110352,0.4187180995941162],\"yaxis\":\"y\",\"type\":\"bar\"},{\"alignmentgroup\":\"True\",\"hovertemplate\":\"Target Language=French\\u003cbr\\u003eSource Language=%{x}\\u003cbr\\u003eTranslation Time (s)=%{y}\\u003cextra\\u003e\\u003c\\u002fextra\\u003e\",\"legendgroup\":\"French\",\"marker\":{\"color\":\"#19d3f3\",\"pattern\":{\"shape\":\"\"}},\"name\":\"French\",\"offsetgroup\":\"French\",\"orientation\":\"v\",\"showlegend\":true,\"textposition\":\"auto\",\"x\":[\"English\",\"Spanish\",\"Chinese\",\"Arabic\",\"Russian\",\"German\"],\"xaxis\":\"x\",\"y\":[0.29642319679260254,0.2710847854614258,1.3942170143127441,0.2761862277984619,0.4336278438568115,0.38873910903930664],\"yaxis\":\"y\",\"type\":\"bar\"},{\"alignmentgroup\":\"True\",\"hovertemplate\":\"Target Language=English\\u003cbr\\u003eSource Language=%{x}\\u003cbr\\u003eTranslation Time (s)=%{y}\\u003cextra\\u003e\\u003c\\u002fextra\\u003e\",\"legendgroup\":\"English\",\"marker\":{\"color\":\"#FF6692\",\"pattern\":{\"shape\":\"\"}},\"name\":\"English\",\"offsetgroup\":\"English\",\"orientation\":\"v\",\"showlegend\":true,\"textposition\":\"auto\",\"x\":[\"Spanish\",\"Chinese\",\"Arabic\",\"Russian\",\"German\",\"French\"],\"xaxis\":\"x\",\"y\":[0.24301600456237793,0.3995399475097656,0.23713397979736328,0.3680441379547119,0.3016219139099121,0.33710265159606934],\"yaxis\":\"y\",\"type\":\"bar\"}],                        {\"template\":{\"data\":{\"histogram2dcontour\":[{\"type\":\"histogram2dcontour\",\"colorbar\":{\"outlinewidth\":0,\"ticks\":\"\"},\"colorscale\":[[0.0,\"#0d0887\"],[0.1111111111111111,\"#46039f\"],[0.2222222222222222,\"#7201a8\"],[0.3333333333333333,\"#9c179e\"],[0.4444444444444444,\"#bd3786\"],[0.5555555555555556,\"#d8576b\"],[0.6666666666666666,\"#ed7953\"],[0.7777777777777778,\"#fb9f3a\"],[0.8888888888888888,\"#fdca26\"],[1.0,\"#f0f921\"]]}],\"choropleth\":[{\"type\":\"choropleth\",\"colorbar\":{\"outlinewidth\":0,\"ticks\":\"\"}}],\"histogram2d\":[{\"type\":\"histogram2d\",\"colorbar\":{\"outlinewidth\":0,\"ticks\":\"\"},\"colorscale\":[[0.0,\"#0d0887\"],[0.1111111111111111,\"#46039f\"],[0.2222222222222222,\"#7201a8\"],[0.3333333333333333,\"#9c179e\"],[0.4444444444444444,\"#bd3786\"],[0.5555555555555556,\"#d8576b\"],[0.6666666666666666,\"#ed7953\"],[0.7777777777777778,\"#fb9f3a\"],[0.8888888888888888,\"#fdca26\"],[1.0,\"#f0f921\"]]}],\"heatmap\":[{\"type\":\"heatmap\",\"colorbar\":{\"outlinewidth\":0,\"ticks\":\"\"},\"colorscale\":[[0.0,\"#0d0887\"],[0.1111111111111111,\"#46039f\"],[0.2222222222222222,\"#7201a8\"],[0.3333333333333333,\"#9c179e\"],[0.4444444444444444,\"#bd3786\"],[0.5555555555555556,\"#d8576b\"],[0.6666666666666666,\"#ed7953\"],[0.7777777777777778,\"#fb9f3a\"],[0.8888888888888888,\"#fdca26\"],[1.0,\"#f0f921\"]]}],\"heatmapgl\":[{\"type\":\"heatmapgl\",\"colorbar\":{\"outlinewidth\":0,\"ticks\":\"\"},\"colorscale\":[[0.0,\"#0d0887\"],[0.1111111111111111,\"#46039f\"],[0.2222222222222222,\"#7201a8\"],[0.3333333333333333,\"#9c179e\"],[0.4444444444444444,\"#bd3786\"],[0.5555555555555556,\"#d8576b\"],[0.6666666666666666,\"#ed7953\"],[0.7777777777777778,\"#fb9f3a\"],[0.8888888888888888,\"#fdca26\"],[1.0,\"#f0f921\"]]}],\"contourcarpet\":[{\"type\":\"contourcarpet\",\"colorbar\":{\"outlinewidth\":0,\"ticks\":\"\"}}],\"contour\":[{\"type\":\"contour\",\"colorbar\":{\"outlinewidth\":0,\"ticks\":\"\"},\"colorscale\":[[0.0,\"#0d0887\"],[0.1111111111111111,\"#46039f\"],[0.2222222222222222,\"#7201a8\"],[0.3333333333333333,\"#9c179e\"],[0.4444444444444444,\"#bd3786\"],[0.5555555555555556,\"#d8576b\"],[0.6666666666666666,\"#ed7953\"],[0.7777777777777778,\"#fb9f3a\"],[0.8888888888888888,\"#fdca26\"],[1.0,\"#f0f921\"]]}],\"surface\":[{\"type\":\"surface\",\"colorbar\":{\"outlinewidth\":0,\"ticks\":\"\"},\"colorscale\":[[0.0,\"#0d0887\"],[0.1111111111111111,\"#46039f\"],[0.2222222222222222,\"#7201a8\"],[0.3333333333333333,\"#9c179e\"],[0.4444444444444444,\"#bd3786\"],[0.5555555555555556,\"#d8576b\"],[0.6666666666666666,\"#ed7953\"],[0.7777777777777778,\"#fb9f3a\"],[0.8888888888888888,\"#fdca26\"],[1.0,\"#f0f921\"]]}],\"mesh3d\":[{\"type\":\"mesh3d\",\"colorbar\":{\"outlinewidth\":0,\"ticks\":\"\"}}],\"scatter\":[{\"fillpattern\":{\"fillmode\":\"overlay\",\"size\":10,\"solidity\":0.2},\"type\":\"scatter\"}],\"parcoords\":[{\"type\":\"parcoords\",\"line\":{\"colorbar\":{\"outlinewidth\":0,\"ticks\":\"\"}}}],\"scatterpolargl\":[{\"type\":\"scatterpolargl\",\"marker\":{\"colorbar\":{\"outlinewidth\":0,\"ticks\":\"\"}}}],\"bar\":[{\"error_x\":{\"color\":\"#2a3f5f\"},\"error_y\":{\"color\":\"#2a3f5f\"},\"marker\":{\"line\":{\"color\":\"#E5ECF6\",\"width\":0.5},\"pattern\":{\"fillmode\":\"overlay\",\"size\":10,\"solidity\":0.2}},\"type\":\"bar\"}],\"scattergeo\":[{\"type\":\"scattergeo\",\"marker\":{\"colorbar\":{\"outlinewidth\":0,\"ticks\":\"\"}}}],\"scatterpolar\":[{\"type\":\"scatterpolar\",\"marker\":{\"colorbar\":{\"outlinewidth\":0,\"ticks\":\"\"}}}],\"histogram\":[{\"marker\":{\"pattern\":{\"fillmode\":\"overlay\",\"size\":10,\"solidity\":0.2}},\"type\":\"histogram\"}],\"scattergl\":[{\"type\":\"scattergl\",\"marker\":{\"colorbar\":{\"outlinewidth\":0,\"ticks\":\"\"}}}],\"scatter3d\":[{\"type\":\"scatter3d\",\"line\":{\"colorbar\":{\"outlinewidth\":0,\"ticks\":\"\"}},\"marker\":{\"colorbar\":{\"outlinewidth\":0,\"ticks\":\"\"}}}],\"scattermapbox\":[{\"type\":\"scattermapbox\",\"marker\":{\"colorbar\":{\"outlinewidth\":0,\"ticks\":\"\"}}}],\"scatterternary\":[{\"type\":\"scatterternary\",\"marker\":{\"colorbar\":{\"outlinewidth\":0,\"ticks\":\"\"}}}],\"scattercarpet\":[{\"type\":\"scattercarpet\",\"marker\":{\"colorbar\":{\"outlinewidth\":0,\"ticks\":\"\"}}}],\"carpet\":[{\"aaxis\":{\"endlinecolor\":\"#2a3f5f\",\"gridcolor\":\"white\",\"linecolor\":\"white\",\"minorgridcolor\":\"white\",\"startlinecolor\":\"#2a3f5f\"},\"baxis\":{\"endlinecolor\":\"#2a3f5f\",\"gridcolor\":\"white\",\"linecolor\":\"white\",\"minorgridcolor\":\"white\",\"startlinecolor\":\"#2a3f5f\"},\"type\":\"carpet\"}],\"table\":[{\"cells\":{\"fill\":{\"color\":\"#EBF0F8\"},\"line\":{\"color\":\"white\"}},\"header\":{\"fill\":{\"color\":\"#C8D4E3\"},\"line\":{\"color\":\"white\"}},\"type\":\"table\"}],\"barpolar\":[{\"marker\":{\"line\":{\"color\":\"#E5ECF6\",\"width\":0.5},\"pattern\":{\"fillmode\":\"overlay\",\"size\":10,\"solidity\":0.2}},\"type\":\"barpolar\"}],\"pie\":[{\"automargin\":true,\"type\":\"pie\"}]},\"layout\":{\"autotypenumbers\":\"strict\",\"colorway\":[\"#636efa\",\"#EF553B\",\"#00cc96\",\"#ab63fa\",\"#FFA15A\",\"#19d3f3\",\"#FF6692\",\"#B6E880\",\"#FF97FF\",\"#FECB52\"],\"font\":{\"color\":\"#2a3f5f\"},\"hovermode\":\"closest\",\"hoverlabel\":{\"align\":\"left\"},\"paper_bgcolor\":\"white\",\"plot_bgcolor\":\"#E5ECF6\",\"polar\":{\"bgcolor\":\"#E5ECF6\",\"angularaxis\":{\"gridcolor\":\"white\",\"linecolor\":\"white\",\"ticks\":\"\"},\"radialaxis\":{\"gridcolor\":\"white\",\"linecolor\":\"white\",\"ticks\":\"\"}},\"ternary\":{\"bgcolor\":\"#E5ECF6\",\"aaxis\":{\"gridcolor\":\"white\",\"linecolor\":\"white\",\"ticks\":\"\"},\"baxis\":{\"gridcolor\":\"white\",\"linecolor\":\"white\",\"ticks\":\"\"},\"caxis\":{\"gridcolor\":\"white\",\"linecolor\":\"white\",\"ticks\":\"\"}},\"coloraxis\":{\"colorbar\":{\"outlinewidth\":0,\"ticks\":\"\"}},\"colorscale\":{\"sequential\":[[0.0,\"#0d0887\"],[0.1111111111111111,\"#46039f\"],[0.2222222222222222,\"#7201a8\"],[0.3333333333333333,\"#9c179e\"],[0.4444444444444444,\"#bd3786\"],[0.5555555555555556,\"#d8576b\"],[0.6666666666666666,\"#ed7953\"],[0.7777777777777778,\"#fb9f3a\"],[0.8888888888888888,\"#fdca26\"],[1.0,\"#f0f921\"]],\"sequentialminus\":[[0.0,\"#0d0887\"],[0.1111111111111111,\"#46039f\"],[0.2222222222222222,\"#7201a8\"],[0.3333333333333333,\"#9c179e\"],[0.4444444444444444,\"#bd3786\"],[0.5555555555555556,\"#d8576b\"],[0.6666666666666666,\"#ed7953\"],[0.7777777777777778,\"#fb9f3a\"],[0.8888888888888888,\"#fdca26\"],[1.0,\"#f0f921\"]],\"diverging\":[[0,\"#8e0152\"],[0.1,\"#c51b7d\"],[0.2,\"#de77ae\"],[0.3,\"#f1b6da\"],[0.4,\"#fde0ef\"],[0.5,\"#f7f7f7\"],[0.6,\"#e6f5d0\"],[0.7,\"#b8e186\"],[0.8,\"#7fbc41\"],[0.9,\"#4d9221\"],[1,\"#276419\"]]},\"xaxis\":{\"gridcolor\":\"white\",\"linecolor\":\"white\",\"ticks\":\"\",\"title\":{\"standoff\":15},\"zerolinecolor\":\"white\",\"automargin\":true,\"zerolinewidth\":2},\"yaxis\":{\"gridcolor\":\"white\",\"linecolor\":\"white\",\"ticks\":\"\",\"title\":{\"standoff\":15},\"zerolinecolor\":\"white\",\"automargin\":true,\"zerolinewidth\":2},\"scene\":{\"xaxis\":{\"backgroundcolor\":\"#E5ECF6\",\"gridcolor\":\"white\",\"linecolor\":\"white\",\"showbackground\":true,\"ticks\":\"\",\"zerolinecolor\":\"white\",\"gridwidth\":2},\"yaxis\":{\"backgroundcolor\":\"#E5ECF6\",\"gridcolor\":\"white\",\"linecolor\":\"white\",\"showbackground\":true,\"ticks\":\"\",\"zerolinecolor\":\"white\",\"gridwidth\":2},\"zaxis\":{\"backgroundcolor\":\"#E5ECF6\",\"gridcolor\":\"white\",\"linecolor\":\"white\",\"showbackground\":true,\"ticks\":\"\",\"zerolinecolor\":\"white\",\"gridwidth\":2}},\"shapedefaults\":{\"line\":{\"color\":\"#2a3f5f\"}},\"annotationdefaults\":{\"arrowcolor\":\"#2a3f5f\",\"arrowhead\":0,\"arrowwidth\":1},\"geo\":{\"bgcolor\":\"white\",\"landcolor\":\"#E5ECF6\",\"subunitcolor\":\"white\",\"showland\":true,\"showlakes\":true,\"lakecolor\":\"white\"},\"title\":{\"x\":0.05},\"mapbox\":{\"style\":\"light\"}}},\"xaxis\":{\"anchor\":\"y\",\"domain\":[0.0,1.0],\"title\":{\"text\":\"Source Language\"}},\"yaxis\":{\"anchor\":\"x\",\"domain\":[0.0,1.0],\"title\":{\"text\":\"Translation Time (s)\"}},\"legend\":{\"title\":{\"text\":\"Target Language\"},\"tracegroupgap\":0},\"title\":{\"text\":\"Hugging Face Translation Times for Sentences by Source and Target Language\"},\"barmode\":\"group\"},                        {\"responsive\": true}                    ).then(function(){\n",
       "                            \n",
       "var gd = document.getElementById('e9a1cb9b-be1f-4bbe-bc45-e737d1e74e7e');\n",
       "var x = new MutationObserver(function (mutations, observer) {{\n",
       "        var display = window.getComputedStyle(gd).display;\n",
       "        if (!display || display === 'none') {{\n",
       "            console.log([gd, 'removed!']);\n",
       "            Plotly.purge(gd);\n",
       "            observer.disconnect();\n",
       "        }}\n",
       "}});\n",
       "\n",
       "// Listen for the removal of the full notebook cells\n",
       "var notebookContainer = gd.closest('#notebook-container');\n",
       "if (notebookContainer) {{\n",
       "    x.observe(notebookContainer, {childList: true});\n",
       "}}\n",
       "\n",
       "// Listen for the clearing of the current output cell\n",
       "var outputEl = gd.closest('.output');\n",
       "if (outputEl) {{\n",
       "    x.observe(outputEl, {childList: true});\n",
       "}}\n",
       "\n",
       "                        })                };                });            </script>        </div>"
      ]
     },
     "metadata": {},
     "output_type": "display_data"
    },
    {
     "data": {
      "application/vnd.plotly.v1+json": {
       "config": {
        "plotlyServerURL": "https://plot.ly"
       },
       "data": [
        {
         "alignmentgroup": "True",
         "hovertemplate": "Target Language=Spanish<br>Source Language=%{x}<br>Translation Time (s)=%{y}<extra></extra>",
         "legendgroup": "Spanish",
         "marker": {
          "color": "#636efa",
          "pattern": {
           "shape": ""
          }
         },
         "name": "Spanish",
         "offsetgroup": "Spanish",
         "orientation": "v",
         "showlegend": true,
         "textposition": "auto",
         "type": "bar",
         "x": [
          "English",
          "Chinese",
          "Arabic",
          "Russian",
          "German",
          "French"
         ],
         "xaxis": "x",
         "y": [
          0.8984739780426025,
          1.4996600151062012,
          2.6365370750427246,
          1.1546642780303955,
          1.099822759628296,
          1.3144659996032715
         ],
         "yaxis": "y"
        },
        {
         "alignmentgroup": "True",
         "hovertemplate": "Target Language=Chinese<br>Source Language=%{x}<br>Translation Time (s)=%{y}<extra></extra>",
         "legendgroup": "Chinese",
         "marker": {
          "color": "#EF553B",
          "pattern": {
           "shape": ""
          }
         },
         "name": "Chinese",
         "offsetgroup": "Chinese",
         "orientation": "v",
         "showlegend": true,
         "textposition": "auto",
         "type": "bar",
         "x": [
          "English",
          "Spanish",
          "Arabic",
          "Russian",
          "German",
          "French"
         ],
         "xaxis": "x",
         "y": [
          1.3084239959716797,
          1.5183520317077637,
          1.4402518272399902,
          0.7927978038787842,
          1.0637290477752686,
          0.8887500762939453
         ],
         "yaxis": "y"
        },
        {
         "alignmentgroup": "True",
         "hovertemplate": "Target Language=Arabic<br>Source Language=%{x}<br>Translation Time (s)=%{y}<extra></extra>",
         "legendgroup": "Arabic",
         "marker": {
          "color": "#00cc96",
          "pattern": {
           "shape": ""
          }
         },
         "name": "Arabic",
         "offsetgroup": "Arabic",
         "orientation": "v",
         "showlegend": true,
         "textposition": "auto",
         "type": "bar",
         "x": [
          "English",
          "Spanish",
          "Chinese",
          "Russian",
          "German",
          "French"
         ],
         "xaxis": "x",
         "y": [
          1.1488580703735352,
          0.9719321727752686,
          1.4192140102386475,
          1.0881547927856445,
          1.4813592433929443,
          1.392383337020874
         ],
         "yaxis": "y"
        },
        {
         "alignmentgroup": "True",
         "hovertemplate": "Target Language=Russian<br>Source Language=%{x}<br>Translation Time (s)=%{y}<extra></extra>",
         "legendgroup": "Russian",
         "marker": {
          "color": "#ab63fa",
          "pattern": {
           "shape": ""
          }
         },
         "name": "Russian",
         "offsetgroup": "Russian",
         "orientation": "v",
         "showlegend": true,
         "textposition": "auto",
         "type": "bar",
         "x": [
          "English",
          "Spanish",
          "Chinese",
          "Arabic",
          "German",
          "French"
         ],
         "xaxis": "x",
         "y": [
          1.430616855621338,
          1.3655321598052979,
          1.2350690364837646,
          2.5184152126312256,
          0.8602187633514404,
          1.0934021472930908
         ],
         "yaxis": "y"
        },
        {
         "alignmentgroup": "True",
         "hovertemplate": "Target Language=German<br>Source Language=%{x}<br>Translation Time (s)=%{y}<extra></extra>",
         "legendgroup": "German",
         "marker": {
          "color": "#FFA15A",
          "pattern": {
           "shape": ""
          }
         },
         "name": "German",
         "offsetgroup": "German",
         "orientation": "v",
         "showlegend": true,
         "textposition": "auto",
         "type": "bar",
         "x": [
          "English",
          "Spanish",
          "Chinese",
          "Arabic",
          "Russian",
          "French"
         ],
         "xaxis": "x",
         "y": [
          1.6936511993408203,
          2.7571301460266113,
          1.0810019969940186,
          1.2003870010375977,
          0.9343860149383545,
          1.3435871601104736
         ],
         "yaxis": "y"
        },
        {
         "alignmentgroup": "True",
         "hovertemplate": "Target Language=French<br>Source Language=%{x}<br>Translation Time (s)=%{y}<extra></extra>",
         "legendgroup": "French",
         "marker": {
          "color": "#19d3f3",
          "pattern": {
           "shape": ""
          }
         },
         "name": "French",
         "offsetgroup": "French",
         "orientation": "v",
         "showlegend": true,
         "textposition": "auto",
         "type": "bar",
         "x": [
          "English",
          "Spanish",
          "Chinese",
          "Arabic",
          "Russian",
          "German"
         ],
         "xaxis": "x",
         "y": [
          2.8664419651031494,
          1.120973825454712,
          1.6593141555786133,
          1.0483617782592773,
          1.238081932067871,
          0.8149418830871582
         ],
         "yaxis": "y"
        },
        {
         "alignmentgroup": "True",
         "hovertemplate": "Target Language=English<br>Source Language=%{x}<br>Translation Time (s)=%{y}<extra></extra>",
         "legendgroup": "English",
         "marker": {
          "color": "#FF6692",
          "pattern": {
           "shape": ""
          }
         },
         "name": "English",
         "offsetgroup": "English",
         "orientation": "v",
         "showlegend": true,
         "textposition": "auto",
         "type": "bar",
         "x": [
          "Spanish",
          "Chinese",
          "Arabic",
          "Russian",
          "German",
          "French"
         ],
         "xaxis": "x",
         "y": [
          0.7194807529449463,
          1.629969835281372,
          1.3741400241851807,
          0.6703588962554932,
          1.240849256515503,
          1.552243947982788
         ],
         "yaxis": "y"
        }
       ],
       "layout": {
        "barmode": "group",
        "legend": {
         "title": {
          "text": "Target Language"
         },
         "tracegroupgap": 0
        },
        "template": {
         "data": {
          "bar": [
           {
            "error_x": {
             "color": "#2a3f5f"
            },
            "error_y": {
             "color": "#2a3f5f"
            },
            "marker": {
             "line": {
              "color": "#E5ECF6",
              "width": 0.5
             },
             "pattern": {
              "fillmode": "overlay",
              "size": 10,
              "solidity": 0.2
             }
            },
            "type": "bar"
           }
          ],
          "barpolar": [
           {
            "marker": {
             "line": {
              "color": "#E5ECF6",
              "width": 0.5
             },
             "pattern": {
              "fillmode": "overlay",
              "size": 10,
              "solidity": 0.2
             }
            },
            "type": "barpolar"
           }
          ],
          "carpet": [
           {
            "aaxis": {
             "endlinecolor": "#2a3f5f",
             "gridcolor": "white",
             "linecolor": "white",
             "minorgridcolor": "white",
             "startlinecolor": "#2a3f5f"
            },
            "baxis": {
             "endlinecolor": "#2a3f5f",
             "gridcolor": "white",
             "linecolor": "white",
             "minorgridcolor": "white",
             "startlinecolor": "#2a3f5f"
            },
            "type": "carpet"
           }
          ],
          "choropleth": [
           {
            "colorbar": {
             "outlinewidth": 0,
             "ticks": ""
            },
            "type": "choropleth"
           }
          ],
          "contour": [
           {
            "colorbar": {
             "outlinewidth": 0,
             "ticks": ""
            },
            "colorscale": [
             [
              0,
              "#0d0887"
             ],
             [
              0.1111111111111111,
              "#46039f"
             ],
             [
              0.2222222222222222,
              "#7201a8"
             ],
             [
              0.3333333333333333,
              "#9c179e"
             ],
             [
              0.4444444444444444,
              "#bd3786"
             ],
             [
              0.5555555555555556,
              "#d8576b"
             ],
             [
              0.6666666666666666,
              "#ed7953"
             ],
             [
              0.7777777777777778,
              "#fb9f3a"
             ],
             [
              0.8888888888888888,
              "#fdca26"
             ],
             [
              1,
              "#f0f921"
             ]
            ],
            "type": "contour"
           }
          ],
          "contourcarpet": [
           {
            "colorbar": {
             "outlinewidth": 0,
             "ticks": ""
            },
            "type": "contourcarpet"
           }
          ],
          "heatmap": [
           {
            "colorbar": {
             "outlinewidth": 0,
             "ticks": ""
            },
            "colorscale": [
             [
              0,
              "#0d0887"
             ],
             [
              0.1111111111111111,
              "#46039f"
             ],
             [
              0.2222222222222222,
              "#7201a8"
             ],
             [
              0.3333333333333333,
              "#9c179e"
             ],
             [
              0.4444444444444444,
              "#bd3786"
             ],
             [
              0.5555555555555556,
              "#d8576b"
             ],
             [
              0.6666666666666666,
              "#ed7953"
             ],
             [
              0.7777777777777778,
              "#fb9f3a"
             ],
             [
              0.8888888888888888,
              "#fdca26"
             ],
             [
              1,
              "#f0f921"
             ]
            ],
            "type": "heatmap"
           }
          ],
          "heatmapgl": [
           {
            "colorbar": {
             "outlinewidth": 0,
             "ticks": ""
            },
            "colorscale": [
             [
              0,
              "#0d0887"
             ],
             [
              0.1111111111111111,
              "#46039f"
             ],
             [
              0.2222222222222222,
              "#7201a8"
             ],
             [
              0.3333333333333333,
              "#9c179e"
             ],
             [
              0.4444444444444444,
              "#bd3786"
             ],
             [
              0.5555555555555556,
              "#d8576b"
             ],
             [
              0.6666666666666666,
              "#ed7953"
             ],
             [
              0.7777777777777778,
              "#fb9f3a"
             ],
             [
              0.8888888888888888,
              "#fdca26"
             ],
             [
              1,
              "#f0f921"
             ]
            ],
            "type": "heatmapgl"
           }
          ],
          "histogram": [
           {
            "marker": {
             "pattern": {
              "fillmode": "overlay",
              "size": 10,
              "solidity": 0.2
             }
            },
            "type": "histogram"
           }
          ],
          "histogram2d": [
           {
            "colorbar": {
             "outlinewidth": 0,
             "ticks": ""
            },
            "colorscale": [
             [
              0,
              "#0d0887"
             ],
             [
              0.1111111111111111,
              "#46039f"
             ],
             [
              0.2222222222222222,
              "#7201a8"
             ],
             [
              0.3333333333333333,
              "#9c179e"
             ],
             [
              0.4444444444444444,
              "#bd3786"
             ],
             [
              0.5555555555555556,
              "#d8576b"
             ],
             [
              0.6666666666666666,
              "#ed7953"
             ],
             [
              0.7777777777777778,
              "#fb9f3a"
             ],
             [
              0.8888888888888888,
              "#fdca26"
             ],
             [
              1,
              "#f0f921"
             ]
            ],
            "type": "histogram2d"
           }
          ],
          "histogram2dcontour": [
           {
            "colorbar": {
             "outlinewidth": 0,
             "ticks": ""
            },
            "colorscale": [
             [
              0,
              "#0d0887"
             ],
             [
              0.1111111111111111,
              "#46039f"
             ],
             [
              0.2222222222222222,
              "#7201a8"
             ],
             [
              0.3333333333333333,
              "#9c179e"
             ],
             [
              0.4444444444444444,
              "#bd3786"
             ],
             [
              0.5555555555555556,
              "#d8576b"
             ],
             [
              0.6666666666666666,
              "#ed7953"
             ],
             [
              0.7777777777777778,
              "#fb9f3a"
             ],
             [
              0.8888888888888888,
              "#fdca26"
             ],
             [
              1,
              "#f0f921"
             ]
            ],
            "type": "histogram2dcontour"
           }
          ],
          "mesh3d": [
           {
            "colorbar": {
             "outlinewidth": 0,
             "ticks": ""
            },
            "type": "mesh3d"
           }
          ],
          "parcoords": [
           {
            "line": {
             "colorbar": {
              "outlinewidth": 0,
              "ticks": ""
             }
            },
            "type": "parcoords"
           }
          ],
          "pie": [
           {
            "automargin": true,
            "type": "pie"
           }
          ],
          "scatter": [
           {
            "fillpattern": {
             "fillmode": "overlay",
             "size": 10,
             "solidity": 0.2
            },
            "type": "scatter"
           }
          ],
          "scatter3d": [
           {
            "line": {
             "colorbar": {
              "outlinewidth": 0,
              "ticks": ""
             }
            },
            "marker": {
             "colorbar": {
              "outlinewidth": 0,
              "ticks": ""
             }
            },
            "type": "scatter3d"
           }
          ],
          "scattercarpet": [
           {
            "marker": {
             "colorbar": {
              "outlinewidth": 0,
              "ticks": ""
             }
            },
            "type": "scattercarpet"
           }
          ],
          "scattergeo": [
           {
            "marker": {
             "colorbar": {
              "outlinewidth": 0,
              "ticks": ""
             }
            },
            "type": "scattergeo"
           }
          ],
          "scattergl": [
           {
            "marker": {
             "colorbar": {
              "outlinewidth": 0,
              "ticks": ""
             }
            },
            "type": "scattergl"
           }
          ],
          "scattermapbox": [
           {
            "marker": {
             "colorbar": {
              "outlinewidth": 0,
              "ticks": ""
             }
            },
            "type": "scattermapbox"
           }
          ],
          "scatterpolar": [
           {
            "marker": {
             "colorbar": {
              "outlinewidth": 0,
              "ticks": ""
             }
            },
            "type": "scatterpolar"
           }
          ],
          "scatterpolargl": [
           {
            "marker": {
             "colorbar": {
              "outlinewidth": 0,
              "ticks": ""
             }
            },
            "type": "scatterpolargl"
           }
          ],
          "scatterternary": [
           {
            "marker": {
             "colorbar": {
              "outlinewidth": 0,
              "ticks": ""
             }
            },
            "type": "scatterternary"
           }
          ],
          "surface": [
           {
            "colorbar": {
             "outlinewidth": 0,
             "ticks": ""
            },
            "colorscale": [
             [
              0,
              "#0d0887"
             ],
             [
              0.1111111111111111,
              "#46039f"
             ],
             [
              0.2222222222222222,
              "#7201a8"
             ],
             [
              0.3333333333333333,
              "#9c179e"
             ],
             [
              0.4444444444444444,
              "#bd3786"
             ],
             [
              0.5555555555555556,
              "#d8576b"
             ],
             [
              0.6666666666666666,
              "#ed7953"
             ],
             [
              0.7777777777777778,
              "#fb9f3a"
             ],
             [
              0.8888888888888888,
              "#fdca26"
             ],
             [
              1,
              "#f0f921"
             ]
            ],
            "type": "surface"
           }
          ],
          "table": [
           {
            "cells": {
             "fill": {
              "color": "#EBF0F8"
             },
             "line": {
              "color": "white"
             }
            },
            "header": {
             "fill": {
              "color": "#C8D4E3"
             },
             "line": {
              "color": "white"
             }
            },
            "type": "table"
           }
          ]
         },
         "layout": {
          "annotationdefaults": {
           "arrowcolor": "#2a3f5f",
           "arrowhead": 0,
           "arrowwidth": 1
          },
          "autotypenumbers": "strict",
          "coloraxis": {
           "colorbar": {
            "outlinewidth": 0,
            "ticks": ""
           }
          },
          "colorscale": {
           "diverging": [
            [
             0,
             "#8e0152"
            ],
            [
             0.1,
             "#c51b7d"
            ],
            [
             0.2,
             "#de77ae"
            ],
            [
             0.3,
             "#f1b6da"
            ],
            [
             0.4,
             "#fde0ef"
            ],
            [
             0.5,
             "#f7f7f7"
            ],
            [
             0.6,
             "#e6f5d0"
            ],
            [
             0.7,
             "#b8e186"
            ],
            [
             0.8,
             "#7fbc41"
            ],
            [
             0.9,
             "#4d9221"
            ],
            [
             1,
             "#276419"
            ]
           ],
           "sequential": [
            [
             0,
             "#0d0887"
            ],
            [
             0.1111111111111111,
             "#46039f"
            ],
            [
             0.2222222222222222,
             "#7201a8"
            ],
            [
             0.3333333333333333,
             "#9c179e"
            ],
            [
             0.4444444444444444,
             "#bd3786"
            ],
            [
             0.5555555555555556,
             "#d8576b"
            ],
            [
             0.6666666666666666,
             "#ed7953"
            ],
            [
             0.7777777777777778,
             "#fb9f3a"
            ],
            [
             0.8888888888888888,
             "#fdca26"
            ],
            [
             1,
             "#f0f921"
            ]
           ],
           "sequentialminus": [
            [
             0,
             "#0d0887"
            ],
            [
             0.1111111111111111,
             "#46039f"
            ],
            [
             0.2222222222222222,
             "#7201a8"
            ],
            [
             0.3333333333333333,
             "#9c179e"
            ],
            [
             0.4444444444444444,
             "#bd3786"
            ],
            [
             0.5555555555555556,
             "#d8576b"
            ],
            [
             0.6666666666666666,
             "#ed7953"
            ],
            [
             0.7777777777777778,
             "#fb9f3a"
            ],
            [
             0.8888888888888888,
             "#fdca26"
            ],
            [
             1,
             "#f0f921"
            ]
           ]
          },
          "colorway": [
           "#636efa",
           "#EF553B",
           "#00cc96",
           "#ab63fa",
           "#FFA15A",
           "#19d3f3",
           "#FF6692",
           "#B6E880",
           "#FF97FF",
           "#FECB52"
          ],
          "font": {
           "color": "#2a3f5f"
          },
          "geo": {
           "bgcolor": "white",
           "lakecolor": "white",
           "landcolor": "#E5ECF6",
           "showlakes": true,
           "showland": true,
           "subunitcolor": "white"
          },
          "hoverlabel": {
           "align": "left"
          },
          "hovermode": "closest",
          "mapbox": {
           "style": "light"
          },
          "paper_bgcolor": "white",
          "plot_bgcolor": "#E5ECF6",
          "polar": {
           "angularaxis": {
            "gridcolor": "white",
            "linecolor": "white",
            "ticks": ""
           },
           "bgcolor": "#E5ECF6",
           "radialaxis": {
            "gridcolor": "white",
            "linecolor": "white",
            "ticks": ""
           }
          },
          "scene": {
           "xaxis": {
            "backgroundcolor": "#E5ECF6",
            "gridcolor": "white",
            "gridwidth": 2,
            "linecolor": "white",
            "showbackground": true,
            "ticks": "",
            "zerolinecolor": "white"
           },
           "yaxis": {
            "backgroundcolor": "#E5ECF6",
            "gridcolor": "white",
            "gridwidth": 2,
            "linecolor": "white",
            "showbackground": true,
            "ticks": "",
            "zerolinecolor": "white"
           },
           "zaxis": {
            "backgroundcolor": "#E5ECF6",
            "gridcolor": "white",
            "gridwidth": 2,
            "linecolor": "white",
            "showbackground": true,
            "ticks": "",
            "zerolinecolor": "white"
           }
          },
          "shapedefaults": {
           "line": {
            "color": "#2a3f5f"
           }
          },
          "ternary": {
           "aaxis": {
            "gridcolor": "white",
            "linecolor": "white",
            "ticks": ""
           },
           "baxis": {
            "gridcolor": "white",
            "linecolor": "white",
            "ticks": ""
           },
           "bgcolor": "#E5ECF6",
           "caxis": {
            "gridcolor": "white",
            "linecolor": "white",
            "ticks": ""
           }
          },
          "title": {
           "x": 0.05
          },
          "xaxis": {
           "automargin": true,
           "gridcolor": "white",
           "linecolor": "white",
           "ticks": "",
           "title": {
            "standoff": 15
           },
           "zerolinecolor": "white",
           "zerolinewidth": 2
          },
          "yaxis": {
           "automargin": true,
           "gridcolor": "white",
           "linecolor": "white",
           "ticks": "",
           "title": {
            "standoff": 15
           },
           "zerolinecolor": "white",
           "zerolinewidth": 2
          }
         }
        },
        "title": {
         "text": "Gemini Translation Times for Sentences by Source and Target Language"
        },
        "xaxis": {
         "anchor": "y",
         "domain": [
          0,
          1
         ],
         "title": {
          "text": "Source Language"
         }
        },
        "yaxis": {
         "anchor": "x",
         "domain": [
          0,
          1
         ],
         "title": {
          "text": "Translation Time (s)"
         }
        }
       }
      },
      "text/html": [
       "<div>                            <div id=\"5332ce3a-f7fe-4216-878f-65e1a41bd835\" class=\"plotly-graph-div\" style=\"height:525px; width:100%;\"></div>            <script type=\"text/javascript\">                require([\"plotly\"], function(Plotly) {                    window.PLOTLYENV=window.PLOTLYENV || {};                                    if (document.getElementById(\"5332ce3a-f7fe-4216-878f-65e1a41bd835\")) {                    Plotly.newPlot(                        \"5332ce3a-f7fe-4216-878f-65e1a41bd835\",                        [{\"alignmentgroup\":\"True\",\"hovertemplate\":\"Target Language=Spanish\\u003cbr\\u003eSource Language=%{x}\\u003cbr\\u003eTranslation Time (s)=%{y}\\u003cextra\\u003e\\u003c\\u002fextra\\u003e\",\"legendgroup\":\"Spanish\",\"marker\":{\"color\":\"#636efa\",\"pattern\":{\"shape\":\"\"}},\"name\":\"Spanish\",\"offsetgroup\":\"Spanish\",\"orientation\":\"v\",\"showlegend\":true,\"textposition\":\"auto\",\"x\":[\"English\",\"Chinese\",\"Arabic\",\"Russian\",\"German\",\"French\"],\"xaxis\":\"x\",\"y\":[0.8984739780426025,1.4996600151062012,2.6365370750427246,1.1546642780303955,1.099822759628296,1.3144659996032715],\"yaxis\":\"y\",\"type\":\"bar\"},{\"alignmentgroup\":\"True\",\"hovertemplate\":\"Target Language=Chinese\\u003cbr\\u003eSource Language=%{x}\\u003cbr\\u003eTranslation Time (s)=%{y}\\u003cextra\\u003e\\u003c\\u002fextra\\u003e\",\"legendgroup\":\"Chinese\",\"marker\":{\"color\":\"#EF553B\",\"pattern\":{\"shape\":\"\"}},\"name\":\"Chinese\",\"offsetgroup\":\"Chinese\",\"orientation\":\"v\",\"showlegend\":true,\"textposition\":\"auto\",\"x\":[\"English\",\"Spanish\",\"Arabic\",\"Russian\",\"German\",\"French\"],\"xaxis\":\"x\",\"y\":[1.3084239959716797,1.5183520317077637,1.4402518272399902,0.7927978038787842,1.0637290477752686,0.8887500762939453],\"yaxis\":\"y\",\"type\":\"bar\"},{\"alignmentgroup\":\"True\",\"hovertemplate\":\"Target Language=Arabic\\u003cbr\\u003eSource Language=%{x}\\u003cbr\\u003eTranslation Time (s)=%{y}\\u003cextra\\u003e\\u003c\\u002fextra\\u003e\",\"legendgroup\":\"Arabic\",\"marker\":{\"color\":\"#00cc96\",\"pattern\":{\"shape\":\"\"}},\"name\":\"Arabic\",\"offsetgroup\":\"Arabic\",\"orientation\":\"v\",\"showlegend\":true,\"textposition\":\"auto\",\"x\":[\"English\",\"Spanish\",\"Chinese\",\"Russian\",\"German\",\"French\"],\"xaxis\":\"x\",\"y\":[1.1488580703735352,0.9719321727752686,1.4192140102386475,1.0881547927856445,1.4813592433929443,1.392383337020874],\"yaxis\":\"y\",\"type\":\"bar\"},{\"alignmentgroup\":\"True\",\"hovertemplate\":\"Target Language=Russian\\u003cbr\\u003eSource Language=%{x}\\u003cbr\\u003eTranslation Time (s)=%{y}\\u003cextra\\u003e\\u003c\\u002fextra\\u003e\",\"legendgroup\":\"Russian\",\"marker\":{\"color\":\"#ab63fa\",\"pattern\":{\"shape\":\"\"}},\"name\":\"Russian\",\"offsetgroup\":\"Russian\",\"orientation\":\"v\",\"showlegend\":true,\"textposition\":\"auto\",\"x\":[\"English\",\"Spanish\",\"Chinese\",\"Arabic\",\"German\",\"French\"],\"xaxis\":\"x\",\"y\":[1.430616855621338,1.3655321598052979,1.2350690364837646,2.5184152126312256,0.8602187633514404,1.0934021472930908],\"yaxis\":\"y\",\"type\":\"bar\"},{\"alignmentgroup\":\"True\",\"hovertemplate\":\"Target Language=German\\u003cbr\\u003eSource Language=%{x}\\u003cbr\\u003eTranslation Time (s)=%{y}\\u003cextra\\u003e\\u003c\\u002fextra\\u003e\",\"legendgroup\":\"German\",\"marker\":{\"color\":\"#FFA15A\",\"pattern\":{\"shape\":\"\"}},\"name\":\"German\",\"offsetgroup\":\"German\",\"orientation\":\"v\",\"showlegend\":true,\"textposition\":\"auto\",\"x\":[\"English\",\"Spanish\",\"Chinese\",\"Arabic\",\"Russian\",\"French\"],\"xaxis\":\"x\",\"y\":[1.6936511993408203,2.7571301460266113,1.0810019969940186,1.2003870010375977,0.9343860149383545,1.3435871601104736],\"yaxis\":\"y\",\"type\":\"bar\"},{\"alignmentgroup\":\"True\",\"hovertemplate\":\"Target Language=French\\u003cbr\\u003eSource Language=%{x}\\u003cbr\\u003eTranslation Time (s)=%{y}\\u003cextra\\u003e\\u003c\\u002fextra\\u003e\",\"legendgroup\":\"French\",\"marker\":{\"color\":\"#19d3f3\",\"pattern\":{\"shape\":\"\"}},\"name\":\"French\",\"offsetgroup\":\"French\",\"orientation\":\"v\",\"showlegend\":true,\"textposition\":\"auto\",\"x\":[\"English\",\"Spanish\",\"Chinese\",\"Arabic\",\"Russian\",\"German\"],\"xaxis\":\"x\",\"y\":[2.8664419651031494,1.120973825454712,1.6593141555786133,1.0483617782592773,1.238081932067871,0.8149418830871582],\"yaxis\":\"y\",\"type\":\"bar\"},{\"alignmentgroup\":\"True\",\"hovertemplate\":\"Target Language=English\\u003cbr\\u003eSource Language=%{x}\\u003cbr\\u003eTranslation Time (s)=%{y}\\u003cextra\\u003e\\u003c\\u002fextra\\u003e\",\"legendgroup\":\"English\",\"marker\":{\"color\":\"#FF6692\",\"pattern\":{\"shape\":\"\"}},\"name\":\"English\",\"offsetgroup\":\"English\",\"orientation\":\"v\",\"showlegend\":true,\"textposition\":\"auto\",\"x\":[\"Spanish\",\"Chinese\",\"Arabic\",\"Russian\",\"German\",\"French\"],\"xaxis\":\"x\",\"y\":[0.7194807529449463,1.629969835281372,1.3741400241851807,0.6703588962554932,1.240849256515503,1.552243947982788],\"yaxis\":\"y\",\"type\":\"bar\"}],                        {\"template\":{\"data\":{\"histogram2dcontour\":[{\"type\":\"histogram2dcontour\",\"colorbar\":{\"outlinewidth\":0,\"ticks\":\"\"},\"colorscale\":[[0.0,\"#0d0887\"],[0.1111111111111111,\"#46039f\"],[0.2222222222222222,\"#7201a8\"],[0.3333333333333333,\"#9c179e\"],[0.4444444444444444,\"#bd3786\"],[0.5555555555555556,\"#d8576b\"],[0.6666666666666666,\"#ed7953\"],[0.7777777777777778,\"#fb9f3a\"],[0.8888888888888888,\"#fdca26\"],[1.0,\"#f0f921\"]]}],\"choropleth\":[{\"type\":\"choropleth\",\"colorbar\":{\"outlinewidth\":0,\"ticks\":\"\"}}],\"histogram2d\":[{\"type\":\"histogram2d\",\"colorbar\":{\"outlinewidth\":0,\"ticks\":\"\"},\"colorscale\":[[0.0,\"#0d0887\"],[0.1111111111111111,\"#46039f\"],[0.2222222222222222,\"#7201a8\"],[0.3333333333333333,\"#9c179e\"],[0.4444444444444444,\"#bd3786\"],[0.5555555555555556,\"#d8576b\"],[0.6666666666666666,\"#ed7953\"],[0.7777777777777778,\"#fb9f3a\"],[0.8888888888888888,\"#fdca26\"],[1.0,\"#f0f921\"]]}],\"heatmap\":[{\"type\":\"heatmap\",\"colorbar\":{\"outlinewidth\":0,\"ticks\":\"\"},\"colorscale\":[[0.0,\"#0d0887\"],[0.1111111111111111,\"#46039f\"],[0.2222222222222222,\"#7201a8\"],[0.3333333333333333,\"#9c179e\"],[0.4444444444444444,\"#bd3786\"],[0.5555555555555556,\"#d8576b\"],[0.6666666666666666,\"#ed7953\"],[0.7777777777777778,\"#fb9f3a\"],[0.8888888888888888,\"#fdca26\"],[1.0,\"#f0f921\"]]}],\"heatmapgl\":[{\"type\":\"heatmapgl\",\"colorbar\":{\"outlinewidth\":0,\"ticks\":\"\"},\"colorscale\":[[0.0,\"#0d0887\"],[0.1111111111111111,\"#46039f\"],[0.2222222222222222,\"#7201a8\"],[0.3333333333333333,\"#9c179e\"],[0.4444444444444444,\"#bd3786\"],[0.5555555555555556,\"#d8576b\"],[0.6666666666666666,\"#ed7953\"],[0.7777777777777778,\"#fb9f3a\"],[0.8888888888888888,\"#fdca26\"],[1.0,\"#f0f921\"]]}],\"contourcarpet\":[{\"type\":\"contourcarpet\",\"colorbar\":{\"outlinewidth\":0,\"ticks\":\"\"}}],\"contour\":[{\"type\":\"contour\",\"colorbar\":{\"outlinewidth\":0,\"ticks\":\"\"},\"colorscale\":[[0.0,\"#0d0887\"],[0.1111111111111111,\"#46039f\"],[0.2222222222222222,\"#7201a8\"],[0.3333333333333333,\"#9c179e\"],[0.4444444444444444,\"#bd3786\"],[0.5555555555555556,\"#d8576b\"],[0.6666666666666666,\"#ed7953\"],[0.7777777777777778,\"#fb9f3a\"],[0.8888888888888888,\"#fdca26\"],[1.0,\"#f0f921\"]]}],\"surface\":[{\"type\":\"surface\",\"colorbar\":{\"outlinewidth\":0,\"ticks\":\"\"},\"colorscale\":[[0.0,\"#0d0887\"],[0.1111111111111111,\"#46039f\"],[0.2222222222222222,\"#7201a8\"],[0.3333333333333333,\"#9c179e\"],[0.4444444444444444,\"#bd3786\"],[0.5555555555555556,\"#d8576b\"],[0.6666666666666666,\"#ed7953\"],[0.7777777777777778,\"#fb9f3a\"],[0.8888888888888888,\"#fdca26\"],[1.0,\"#f0f921\"]]}],\"mesh3d\":[{\"type\":\"mesh3d\",\"colorbar\":{\"outlinewidth\":0,\"ticks\":\"\"}}],\"scatter\":[{\"fillpattern\":{\"fillmode\":\"overlay\",\"size\":10,\"solidity\":0.2},\"type\":\"scatter\"}],\"parcoords\":[{\"type\":\"parcoords\",\"line\":{\"colorbar\":{\"outlinewidth\":0,\"ticks\":\"\"}}}],\"scatterpolargl\":[{\"type\":\"scatterpolargl\",\"marker\":{\"colorbar\":{\"outlinewidth\":0,\"ticks\":\"\"}}}],\"bar\":[{\"error_x\":{\"color\":\"#2a3f5f\"},\"error_y\":{\"color\":\"#2a3f5f\"},\"marker\":{\"line\":{\"color\":\"#E5ECF6\",\"width\":0.5},\"pattern\":{\"fillmode\":\"overlay\",\"size\":10,\"solidity\":0.2}},\"type\":\"bar\"}],\"scattergeo\":[{\"type\":\"scattergeo\",\"marker\":{\"colorbar\":{\"outlinewidth\":0,\"ticks\":\"\"}}}],\"scatterpolar\":[{\"type\":\"scatterpolar\",\"marker\":{\"colorbar\":{\"outlinewidth\":0,\"ticks\":\"\"}}}],\"histogram\":[{\"marker\":{\"pattern\":{\"fillmode\":\"overlay\",\"size\":10,\"solidity\":0.2}},\"type\":\"histogram\"}],\"scattergl\":[{\"type\":\"scattergl\",\"marker\":{\"colorbar\":{\"outlinewidth\":0,\"ticks\":\"\"}}}],\"scatter3d\":[{\"type\":\"scatter3d\",\"line\":{\"colorbar\":{\"outlinewidth\":0,\"ticks\":\"\"}},\"marker\":{\"colorbar\":{\"outlinewidth\":0,\"ticks\":\"\"}}}],\"scattermapbox\":[{\"type\":\"scattermapbox\",\"marker\":{\"colorbar\":{\"outlinewidth\":0,\"ticks\":\"\"}}}],\"scatterternary\":[{\"type\":\"scatterternary\",\"marker\":{\"colorbar\":{\"outlinewidth\":0,\"ticks\":\"\"}}}],\"scattercarpet\":[{\"type\":\"scattercarpet\",\"marker\":{\"colorbar\":{\"outlinewidth\":0,\"ticks\":\"\"}}}],\"carpet\":[{\"aaxis\":{\"endlinecolor\":\"#2a3f5f\",\"gridcolor\":\"white\",\"linecolor\":\"white\",\"minorgridcolor\":\"white\",\"startlinecolor\":\"#2a3f5f\"},\"baxis\":{\"endlinecolor\":\"#2a3f5f\",\"gridcolor\":\"white\",\"linecolor\":\"white\",\"minorgridcolor\":\"white\",\"startlinecolor\":\"#2a3f5f\"},\"type\":\"carpet\"}],\"table\":[{\"cells\":{\"fill\":{\"color\":\"#EBF0F8\"},\"line\":{\"color\":\"white\"}},\"header\":{\"fill\":{\"color\":\"#C8D4E3\"},\"line\":{\"color\":\"white\"}},\"type\":\"table\"}],\"barpolar\":[{\"marker\":{\"line\":{\"color\":\"#E5ECF6\",\"width\":0.5},\"pattern\":{\"fillmode\":\"overlay\",\"size\":10,\"solidity\":0.2}},\"type\":\"barpolar\"}],\"pie\":[{\"automargin\":true,\"type\":\"pie\"}]},\"layout\":{\"autotypenumbers\":\"strict\",\"colorway\":[\"#636efa\",\"#EF553B\",\"#00cc96\",\"#ab63fa\",\"#FFA15A\",\"#19d3f3\",\"#FF6692\",\"#B6E880\",\"#FF97FF\",\"#FECB52\"],\"font\":{\"color\":\"#2a3f5f\"},\"hovermode\":\"closest\",\"hoverlabel\":{\"align\":\"left\"},\"paper_bgcolor\":\"white\",\"plot_bgcolor\":\"#E5ECF6\",\"polar\":{\"bgcolor\":\"#E5ECF6\",\"angularaxis\":{\"gridcolor\":\"white\",\"linecolor\":\"white\",\"ticks\":\"\"},\"radialaxis\":{\"gridcolor\":\"white\",\"linecolor\":\"white\",\"ticks\":\"\"}},\"ternary\":{\"bgcolor\":\"#E5ECF6\",\"aaxis\":{\"gridcolor\":\"white\",\"linecolor\":\"white\",\"ticks\":\"\"},\"baxis\":{\"gridcolor\":\"white\",\"linecolor\":\"white\",\"ticks\":\"\"},\"caxis\":{\"gridcolor\":\"white\",\"linecolor\":\"white\",\"ticks\":\"\"}},\"coloraxis\":{\"colorbar\":{\"outlinewidth\":0,\"ticks\":\"\"}},\"colorscale\":{\"sequential\":[[0.0,\"#0d0887\"],[0.1111111111111111,\"#46039f\"],[0.2222222222222222,\"#7201a8\"],[0.3333333333333333,\"#9c179e\"],[0.4444444444444444,\"#bd3786\"],[0.5555555555555556,\"#d8576b\"],[0.6666666666666666,\"#ed7953\"],[0.7777777777777778,\"#fb9f3a\"],[0.8888888888888888,\"#fdca26\"],[1.0,\"#f0f921\"]],\"sequentialminus\":[[0.0,\"#0d0887\"],[0.1111111111111111,\"#46039f\"],[0.2222222222222222,\"#7201a8\"],[0.3333333333333333,\"#9c179e\"],[0.4444444444444444,\"#bd3786\"],[0.5555555555555556,\"#d8576b\"],[0.6666666666666666,\"#ed7953\"],[0.7777777777777778,\"#fb9f3a\"],[0.8888888888888888,\"#fdca26\"],[1.0,\"#f0f921\"]],\"diverging\":[[0,\"#8e0152\"],[0.1,\"#c51b7d\"],[0.2,\"#de77ae\"],[0.3,\"#f1b6da\"],[0.4,\"#fde0ef\"],[0.5,\"#f7f7f7\"],[0.6,\"#e6f5d0\"],[0.7,\"#b8e186\"],[0.8,\"#7fbc41\"],[0.9,\"#4d9221\"],[1,\"#276419\"]]},\"xaxis\":{\"gridcolor\":\"white\",\"linecolor\":\"white\",\"ticks\":\"\",\"title\":{\"standoff\":15},\"zerolinecolor\":\"white\",\"automargin\":true,\"zerolinewidth\":2},\"yaxis\":{\"gridcolor\":\"white\",\"linecolor\":\"white\",\"ticks\":\"\",\"title\":{\"standoff\":15},\"zerolinecolor\":\"white\",\"automargin\":true,\"zerolinewidth\":2},\"scene\":{\"xaxis\":{\"backgroundcolor\":\"#E5ECF6\",\"gridcolor\":\"white\",\"linecolor\":\"white\",\"showbackground\":true,\"ticks\":\"\",\"zerolinecolor\":\"white\",\"gridwidth\":2},\"yaxis\":{\"backgroundcolor\":\"#E5ECF6\",\"gridcolor\":\"white\",\"linecolor\":\"white\",\"showbackground\":true,\"ticks\":\"\",\"zerolinecolor\":\"white\",\"gridwidth\":2},\"zaxis\":{\"backgroundcolor\":\"#E5ECF6\",\"gridcolor\":\"white\",\"linecolor\":\"white\",\"showbackground\":true,\"ticks\":\"\",\"zerolinecolor\":\"white\",\"gridwidth\":2}},\"shapedefaults\":{\"line\":{\"color\":\"#2a3f5f\"}},\"annotationdefaults\":{\"arrowcolor\":\"#2a3f5f\",\"arrowhead\":0,\"arrowwidth\":1},\"geo\":{\"bgcolor\":\"white\",\"landcolor\":\"#E5ECF6\",\"subunitcolor\":\"white\",\"showland\":true,\"showlakes\":true,\"lakecolor\":\"white\"},\"title\":{\"x\":0.05},\"mapbox\":{\"style\":\"light\"}}},\"xaxis\":{\"anchor\":\"y\",\"domain\":[0.0,1.0],\"title\":{\"text\":\"Source Language\"}},\"yaxis\":{\"anchor\":\"x\",\"domain\":[0.0,1.0],\"title\":{\"text\":\"Translation Time (s)\"}},\"legend\":{\"title\":{\"text\":\"Target Language\"},\"tracegroupgap\":0},\"title\":{\"text\":\"Gemini Translation Times for Sentences by Source and Target Language\"},\"barmode\":\"group\"},                        {\"responsive\": true}                    ).then(function(){\n",
       "                            \n",
       "var gd = document.getElementById('5332ce3a-f7fe-4216-878f-65e1a41bd835');\n",
       "var x = new MutationObserver(function (mutations, observer) {{\n",
       "        var display = window.getComputedStyle(gd).display;\n",
       "        if (!display || display === 'none') {{\n",
       "            console.log([gd, 'removed!']);\n",
       "            Plotly.purge(gd);\n",
       "            observer.disconnect();\n",
       "        }}\n",
       "}});\n",
       "\n",
       "// Listen for the removal of the full notebook cells\n",
       "var notebookContainer = gd.closest('#notebook-container');\n",
       "if (notebookContainer) {{\n",
       "    x.observe(notebookContainer, {childList: true});\n",
       "}}\n",
       "\n",
       "// Listen for the clearing of the current output cell\n",
       "var outputEl = gd.closest('.output');\n",
       "if (outputEl) {{\n",
       "    x.observe(outputEl, {childList: true});\n",
       "}}\n",
       "\n",
       "                        })                };                });            </script>        </div>"
      ]
     },
     "metadata": {},
     "output_type": "display_data"
    }
   ],
   "source": [
    "import plotly.express as px\n",
    "\n",
    "# Filtrar los datos por tipo de texto: Oraciones (Sentence)\n",
    "df_sentence = df[df['Text Type'] == 'sentence']\n",
    "\n",
    "# Hugging Face Translation Times for Sentences\n",
    "fig_sentence_hf = px.bar(df_sentence, \n",
    "                         x='Source Language', \n",
    "                         y='HF Translation Time (s)', \n",
    "                         color='Target Language', \n",
    "                         barmode='group',\n",
    "                         title='Hugging Face Translation Times for Sentences by Source and Target Language',\n",
    "                         labels={'HF Translation Time (s)': 'Translation Time (s)', 'Source Language': 'Source Language'})\n",
    "fig_sentence_hf.show()\n",
    "\n",
    "# Gemini Translation Times for Sentences\n",
    "fig_sentence_gemini = px.bar(df_sentence, \n",
    "                             x='Source Language', \n",
    "                             y='Gemini Translation Time (s)', \n",
    "                             color='Target Language', \n",
    "                             barmode='group',\n",
    "                             title='Gemini Translation Times for Sentences by Source and Target Language',\n",
    "                             labels={'Gemini Translation Time (s)': 'Translation Time (s)', 'Source Language': 'Source Language'})\n",
    "fig_sentence_gemini.show()"
   ]
  },
  {
   "cell_type": "code",
   "execution_count": 65,
   "id": "e4eb291e",
   "metadata": {},
   "outputs": [
    {
     "data": {
      "application/vnd.plotly.v1+json": {
       "config": {
        "plotlyServerURL": "https://plot.ly"
       },
       "data": [
        {
         "alignmentgroup": "True",
         "hovertemplate": "Target Language=Spanish<br>Source Language=%{x}<br>Translation Time (s)=%{y}<extra></extra>",
         "legendgroup": "Spanish",
         "marker": {
          "color": "#636efa",
          "pattern": {
           "shape": ""
          }
         },
         "name": "Spanish",
         "offsetgroup": "Spanish",
         "orientation": "v",
         "showlegend": true,
         "textposition": "auto",
         "type": "bar",
         "x": [
          "English",
          "Chinese",
          "Arabic",
          "Russian",
          "German",
          "French"
         ],
         "xaxis": "x",
         "y": [
          0.803361177444458,
          1.2419509887695312,
          1.7078211307525635,
          1.2246110439300537,
          1.4780189990997314,
          1.6162447929382324
         ],
         "yaxis": "y"
        },
        {
         "alignmentgroup": "True",
         "hovertemplate": "Target Language=Chinese<br>Source Language=%{x}<br>Translation Time (s)=%{y}<extra></extra>",
         "legendgroup": "Chinese",
         "marker": {
          "color": "#EF553B",
          "pattern": {
           "shape": ""
          }
         },
         "name": "Chinese",
         "offsetgroup": "Chinese",
         "orientation": "v",
         "showlegend": true,
         "textposition": "auto",
         "type": "bar",
         "x": [
          "English",
          "Spanish",
          "Arabic",
          "Russian",
          "German",
          "French"
         ],
         "xaxis": "x",
         "y": [
          0.6843557357788086,
          1.2370860576629639,
          2.8444862365722656,
          1.5411877632141113,
          1.4340059757232666,
          1.9492690563201904
         ],
         "yaxis": "y"
        },
        {
         "alignmentgroup": "True",
         "hovertemplate": "Target Language=Arabic<br>Source Language=%{x}<br>Translation Time (s)=%{y}<extra></extra>",
         "legendgroup": "Arabic",
         "marker": {
          "color": "#00cc96",
          "pattern": {
           "shape": ""
          }
         },
         "name": "Arabic",
         "offsetgroup": "Arabic",
         "orientation": "v",
         "showlegend": true,
         "textposition": "auto",
         "type": "bar",
         "x": [
          "English",
          "Spanish",
          "Chinese",
          "Russian",
          "German",
          "French"
         ],
         "xaxis": "x",
         "y": [
          0.9934122562408447,
          3.2258729934692383,
          1.6693220138549805,
          2.07962703704834,
          4.725088119506836,
          2.0985288619995117
         ],
         "yaxis": "y"
        },
        {
         "alignmentgroup": "True",
         "hovertemplate": "Target Language=Russian<br>Source Language=%{x}<br>Translation Time (s)=%{y}<extra></extra>",
         "legendgroup": "Russian",
         "marker": {
          "color": "#ab63fa",
          "pattern": {
           "shape": ""
          }
         },
         "name": "Russian",
         "offsetgroup": "Russian",
         "orientation": "v",
         "showlegend": true,
         "textposition": "auto",
         "type": "bar",
         "x": [
          "English",
          "Spanish",
          "Chinese",
          "Arabic",
          "German",
          "French"
         ],
         "xaxis": "x",
         "y": [
          0.7129669189453125,
          1.077500820159912,
          3.25339412689209,
          1.7733790874481201,
          1.8978078365325928,
          1.3011457920074463
         ],
         "yaxis": "y"
        },
        {
         "alignmentgroup": "True",
         "hovertemplate": "Target Language=German<br>Source Language=%{x}<br>Translation Time (s)=%{y}<extra></extra>",
         "legendgroup": "German",
         "marker": {
          "color": "#FFA15A",
          "pattern": {
           "shape": ""
          }
         },
         "name": "German",
         "offsetgroup": "German",
         "orientation": "v",
         "showlegend": true,
         "textposition": "auto",
         "type": "bar",
         "x": [
          "English",
          "Spanish",
          "Chinese",
          "Arabic",
          "Russian",
          "French"
         ],
         "xaxis": "x",
         "y": [
          1.4659051895141602,
          1.204503059387207,
          0.5382981300354004,
          0.7584409713745117,
          1.4001829624176025,
          1.2787389755249023
         ],
         "yaxis": "y"
        },
        {
         "alignmentgroup": "True",
         "hovertemplate": "Target Language=French<br>Source Language=%{x}<br>Translation Time (s)=%{y}<extra></extra>",
         "legendgroup": "French",
         "marker": {
          "color": "#19d3f3",
          "pattern": {
           "shape": ""
          }
         },
         "name": "French",
         "offsetgroup": "French",
         "orientation": "v",
         "showlegend": true,
         "textposition": "auto",
         "type": "bar",
         "x": [
          "English",
          "Spanish",
          "Chinese",
          "Arabic",
          "Russian",
          "German"
         ],
         "xaxis": "x",
         "y": [
          1.1287760734558105,
          1.1909446716308594,
          1.6685988903045654,
          1.1362709999084473,
          0.9930951595306396,
          1.1848080158233643
         ],
         "yaxis": "y"
        },
        {
         "alignmentgroup": "True",
         "hovertemplate": "Target Language=English<br>Source Language=%{x}<br>Translation Time (s)=%{y}<extra></extra>",
         "legendgroup": "English",
         "marker": {
          "color": "#FF6692",
          "pattern": {
           "shape": ""
          }
         },
         "name": "English",
         "offsetgroup": "English",
         "orientation": "v",
         "showlegend": true,
         "textposition": "auto",
         "type": "bar",
         "x": [
          "Spanish",
          "Chinese",
          "Arabic",
          "Russian",
          "German",
          "French"
         ],
         "xaxis": "x",
         "y": [
          0.7793700695037842,
          0.6267950534820557,
          0.6541798114776611,
          1.9286088943481445,
          1.2487561702728271,
          0.7789719104766846
         ],
         "yaxis": "y"
        }
       ],
       "layout": {
        "barmode": "group",
        "legend": {
         "title": {
          "text": "Target Language"
         },
         "tracegroupgap": 0
        },
        "template": {
         "data": {
          "bar": [
           {
            "error_x": {
             "color": "#2a3f5f"
            },
            "error_y": {
             "color": "#2a3f5f"
            },
            "marker": {
             "line": {
              "color": "#E5ECF6",
              "width": 0.5
             },
             "pattern": {
              "fillmode": "overlay",
              "size": 10,
              "solidity": 0.2
             }
            },
            "type": "bar"
           }
          ],
          "barpolar": [
           {
            "marker": {
             "line": {
              "color": "#E5ECF6",
              "width": 0.5
             },
             "pattern": {
              "fillmode": "overlay",
              "size": 10,
              "solidity": 0.2
             }
            },
            "type": "barpolar"
           }
          ],
          "carpet": [
           {
            "aaxis": {
             "endlinecolor": "#2a3f5f",
             "gridcolor": "white",
             "linecolor": "white",
             "minorgridcolor": "white",
             "startlinecolor": "#2a3f5f"
            },
            "baxis": {
             "endlinecolor": "#2a3f5f",
             "gridcolor": "white",
             "linecolor": "white",
             "minorgridcolor": "white",
             "startlinecolor": "#2a3f5f"
            },
            "type": "carpet"
           }
          ],
          "choropleth": [
           {
            "colorbar": {
             "outlinewidth": 0,
             "ticks": ""
            },
            "type": "choropleth"
           }
          ],
          "contour": [
           {
            "colorbar": {
             "outlinewidth": 0,
             "ticks": ""
            },
            "colorscale": [
             [
              0,
              "#0d0887"
             ],
             [
              0.1111111111111111,
              "#46039f"
             ],
             [
              0.2222222222222222,
              "#7201a8"
             ],
             [
              0.3333333333333333,
              "#9c179e"
             ],
             [
              0.4444444444444444,
              "#bd3786"
             ],
             [
              0.5555555555555556,
              "#d8576b"
             ],
             [
              0.6666666666666666,
              "#ed7953"
             ],
             [
              0.7777777777777778,
              "#fb9f3a"
             ],
             [
              0.8888888888888888,
              "#fdca26"
             ],
             [
              1,
              "#f0f921"
             ]
            ],
            "type": "contour"
           }
          ],
          "contourcarpet": [
           {
            "colorbar": {
             "outlinewidth": 0,
             "ticks": ""
            },
            "type": "contourcarpet"
           }
          ],
          "heatmap": [
           {
            "colorbar": {
             "outlinewidth": 0,
             "ticks": ""
            },
            "colorscale": [
             [
              0,
              "#0d0887"
             ],
             [
              0.1111111111111111,
              "#46039f"
             ],
             [
              0.2222222222222222,
              "#7201a8"
             ],
             [
              0.3333333333333333,
              "#9c179e"
             ],
             [
              0.4444444444444444,
              "#bd3786"
             ],
             [
              0.5555555555555556,
              "#d8576b"
             ],
             [
              0.6666666666666666,
              "#ed7953"
             ],
             [
              0.7777777777777778,
              "#fb9f3a"
             ],
             [
              0.8888888888888888,
              "#fdca26"
             ],
             [
              1,
              "#f0f921"
             ]
            ],
            "type": "heatmap"
           }
          ],
          "heatmapgl": [
           {
            "colorbar": {
             "outlinewidth": 0,
             "ticks": ""
            },
            "colorscale": [
             [
              0,
              "#0d0887"
             ],
             [
              0.1111111111111111,
              "#46039f"
             ],
             [
              0.2222222222222222,
              "#7201a8"
             ],
             [
              0.3333333333333333,
              "#9c179e"
             ],
             [
              0.4444444444444444,
              "#bd3786"
             ],
             [
              0.5555555555555556,
              "#d8576b"
             ],
             [
              0.6666666666666666,
              "#ed7953"
             ],
             [
              0.7777777777777778,
              "#fb9f3a"
             ],
             [
              0.8888888888888888,
              "#fdca26"
             ],
             [
              1,
              "#f0f921"
             ]
            ],
            "type": "heatmapgl"
           }
          ],
          "histogram": [
           {
            "marker": {
             "pattern": {
              "fillmode": "overlay",
              "size": 10,
              "solidity": 0.2
             }
            },
            "type": "histogram"
           }
          ],
          "histogram2d": [
           {
            "colorbar": {
             "outlinewidth": 0,
             "ticks": ""
            },
            "colorscale": [
             [
              0,
              "#0d0887"
             ],
             [
              0.1111111111111111,
              "#46039f"
             ],
             [
              0.2222222222222222,
              "#7201a8"
             ],
             [
              0.3333333333333333,
              "#9c179e"
             ],
             [
              0.4444444444444444,
              "#bd3786"
             ],
             [
              0.5555555555555556,
              "#d8576b"
             ],
             [
              0.6666666666666666,
              "#ed7953"
             ],
             [
              0.7777777777777778,
              "#fb9f3a"
             ],
             [
              0.8888888888888888,
              "#fdca26"
             ],
             [
              1,
              "#f0f921"
             ]
            ],
            "type": "histogram2d"
           }
          ],
          "histogram2dcontour": [
           {
            "colorbar": {
             "outlinewidth": 0,
             "ticks": ""
            },
            "colorscale": [
             [
              0,
              "#0d0887"
             ],
             [
              0.1111111111111111,
              "#46039f"
             ],
             [
              0.2222222222222222,
              "#7201a8"
             ],
             [
              0.3333333333333333,
              "#9c179e"
             ],
             [
              0.4444444444444444,
              "#bd3786"
             ],
             [
              0.5555555555555556,
              "#d8576b"
             ],
             [
              0.6666666666666666,
              "#ed7953"
             ],
             [
              0.7777777777777778,
              "#fb9f3a"
             ],
             [
              0.8888888888888888,
              "#fdca26"
             ],
             [
              1,
              "#f0f921"
             ]
            ],
            "type": "histogram2dcontour"
           }
          ],
          "mesh3d": [
           {
            "colorbar": {
             "outlinewidth": 0,
             "ticks": ""
            },
            "type": "mesh3d"
           }
          ],
          "parcoords": [
           {
            "line": {
             "colorbar": {
              "outlinewidth": 0,
              "ticks": ""
             }
            },
            "type": "parcoords"
           }
          ],
          "pie": [
           {
            "automargin": true,
            "type": "pie"
           }
          ],
          "scatter": [
           {
            "fillpattern": {
             "fillmode": "overlay",
             "size": 10,
             "solidity": 0.2
            },
            "type": "scatter"
           }
          ],
          "scatter3d": [
           {
            "line": {
             "colorbar": {
              "outlinewidth": 0,
              "ticks": ""
             }
            },
            "marker": {
             "colorbar": {
              "outlinewidth": 0,
              "ticks": ""
             }
            },
            "type": "scatter3d"
           }
          ],
          "scattercarpet": [
           {
            "marker": {
             "colorbar": {
              "outlinewidth": 0,
              "ticks": ""
             }
            },
            "type": "scattercarpet"
           }
          ],
          "scattergeo": [
           {
            "marker": {
             "colorbar": {
              "outlinewidth": 0,
              "ticks": ""
             }
            },
            "type": "scattergeo"
           }
          ],
          "scattergl": [
           {
            "marker": {
             "colorbar": {
              "outlinewidth": 0,
              "ticks": ""
             }
            },
            "type": "scattergl"
           }
          ],
          "scattermapbox": [
           {
            "marker": {
             "colorbar": {
              "outlinewidth": 0,
              "ticks": ""
             }
            },
            "type": "scattermapbox"
           }
          ],
          "scatterpolar": [
           {
            "marker": {
             "colorbar": {
              "outlinewidth": 0,
              "ticks": ""
             }
            },
            "type": "scatterpolar"
           }
          ],
          "scatterpolargl": [
           {
            "marker": {
             "colorbar": {
              "outlinewidth": 0,
              "ticks": ""
             }
            },
            "type": "scatterpolargl"
           }
          ],
          "scatterternary": [
           {
            "marker": {
             "colorbar": {
              "outlinewidth": 0,
              "ticks": ""
             }
            },
            "type": "scatterternary"
           }
          ],
          "surface": [
           {
            "colorbar": {
             "outlinewidth": 0,
             "ticks": ""
            },
            "colorscale": [
             [
              0,
              "#0d0887"
             ],
             [
              0.1111111111111111,
              "#46039f"
             ],
             [
              0.2222222222222222,
              "#7201a8"
             ],
             [
              0.3333333333333333,
              "#9c179e"
             ],
             [
              0.4444444444444444,
              "#bd3786"
             ],
             [
              0.5555555555555556,
              "#d8576b"
             ],
             [
              0.6666666666666666,
              "#ed7953"
             ],
             [
              0.7777777777777778,
              "#fb9f3a"
             ],
             [
              0.8888888888888888,
              "#fdca26"
             ],
             [
              1,
              "#f0f921"
             ]
            ],
            "type": "surface"
           }
          ],
          "table": [
           {
            "cells": {
             "fill": {
              "color": "#EBF0F8"
             },
             "line": {
              "color": "white"
             }
            },
            "header": {
             "fill": {
              "color": "#C8D4E3"
             },
             "line": {
              "color": "white"
             }
            },
            "type": "table"
           }
          ]
         },
         "layout": {
          "annotationdefaults": {
           "arrowcolor": "#2a3f5f",
           "arrowhead": 0,
           "arrowwidth": 1
          },
          "autotypenumbers": "strict",
          "coloraxis": {
           "colorbar": {
            "outlinewidth": 0,
            "ticks": ""
           }
          },
          "colorscale": {
           "diverging": [
            [
             0,
             "#8e0152"
            ],
            [
             0.1,
             "#c51b7d"
            ],
            [
             0.2,
             "#de77ae"
            ],
            [
             0.3,
             "#f1b6da"
            ],
            [
             0.4,
             "#fde0ef"
            ],
            [
             0.5,
             "#f7f7f7"
            ],
            [
             0.6,
             "#e6f5d0"
            ],
            [
             0.7,
             "#b8e186"
            ],
            [
             0.8,
             "#7fbc41"
            ],
            [
             0.9,
             "#4d9221"
            ],
            [
             1,
             "#276419"
            ]
           ],
           "sequential": [
            [
             0,
             "#0d0887"
            ],
            [
             0.1111111111111111,
             "#46039f"
            ],
            [
             0.2222222222222222,
             "#7201a8"
            ],
            [
             0.3333333333333333,
             "#9c179e"
            ],
            [
             0.4444444444444444,
             "#bd3786"
            ],
            [
             0.5555555555555556,
             "#d8576b"
            ],
            [
             0.6666666666666666,
             "#ed7953"
            ],
            [
             0.7777777777777778,
             "#fb9f3a"
            ],
            [
             0.8888888888888888,
             "#fdca26"
            ],
            [
             1,
             "#f0f921"
            ]
           ],
           "sequentialminus": [
            [
             0,
             "#0d0887"
            ],
            [
             0.1111111111111111,
             "#46039f"
            ],
            [
             0.2222222222222222,
             "#7201a8"
            ],
            [
             0.3333333333333333,
             "#9c179e"
            ],
            [
             0.4444444444444444,
             "#bd3786"
            ],
            [
             0.5555555555555556,
             "#d8576b"
            ],
            [
             0.6666666666666666,
             "#ed7953"
            ],
            [
             0.7777777777777778,
             "#fb9f3a"
            ],
            [
             0.8888888888888888,
             "#fdca26"
            ],
            [
             1,
             "#f0f921"
            ]
           ]
          },
          "colorway": [
           "#636efa",
           "#EF553B",
           "#00cc96",
           "#ab63fa",
           "#FFA15A",
           "#19d3f3",
           "#FF6692",
           "#B6E880",
           "#FF97FF",
           "#FECB52"
          ],
          "font": {
           "color": "#2a3f5f"
          },
          "geo": {
           "bgcolor": "white",
           "lakecolor": "white",
           "landcolor": "#E5ECF6",
           "showlakes": true,
           "showland": true,
           "subunitcolor": "white"
          },
          "hoverlabel": {
           "align": "left"
          },
          "hovermode": "closest",
          "mapbox": {
           "style": "light"
          },
          "paper_bgcolor": "white",
          "plot_bgcolor": "#E5ECF6",
          "polar": {
           "angularaxis": {
            "gridcolor": "white",
            "linecolor": "white",
            "ticks": ""
           },
           "bgcolor": "#E5ECF6",
           "radialaxis": {
            "gridcolor": "white",
            "linecolor": "white",
            "ticks": ""
           }
          },
          "scene": {
           "xaxis": {
            "backgroundcolor": "#E5ECF6",
            "gridcolor": "white",
            "gridwidth": 2,
            "linecolor": "white",
            "showbackground": true,
            "ticks": "",
            "zerolinecolor": "white"
           },
           "yaxis": {
            "backgroundcolor": "#E5ECF6",
            "gridcolor": "white",
            "gridwidth": 2,
            "linecolor": "white",
            "showbackground": true,
            "ticks": "",
            "zerolinecolor": "white"
           },
           "zaxis": {
            "backgroundcolor": "#E5ECF6",
            "gridcolor": "white",
            "gridwidth": 2,
            "linecolor": "white",
            "showbackground": true,
            "ticks": "",
            "zerolinecolor": "white"
           }
          },
          "shapedefaults": {
           "line": {
            "color": "#2a3f5f"
           }
          },
          "ternary": {
           "aaxis": {
            "gridcolor": "white",
            "linecolor": "white",
            "ticks": ""
           },
           "baxis": {
            "gridcolor": "white",
            "linecolor": "white",
            "ticks": ""
           },
           "bgcolor": "#E5ECF6",
           "caxis": {
            "gridcolor": "white",
            "linecolor": "white",
            "ticks": ""
           }
          },
          "title": {
           "x": 0.05
          },
          "xaxis": {
           "automargin": true,
           "gridcolor": "white",
           "linecolor": "white",
           "ticks": "",
           "title": {
            "standoff": 15
           },
           "zerolinecolor": "white",
           "zerolinewidth": 2
          },
          "yaxis": {
           "automargin": true,
           "gridcolor": "white",
           "linecolor": "white",
           "ticks": "",
           "title": {
            "standoff": 15
           },
           "zerolinecolor": "white",
           "zerolinewidth": 2
          }
         }
        },
        "title": {
         "text": "Hugging Face Translation Times for Paragraphs by Source and Target Language"
        },
        "xaxis": {
         "anchor": "y",
         "domain": [
          0,
          1
         ],
         "title": {
          "text": "Source Language"
         }
        },
        "yaxis": {
         "anchor": "x",
         "domain": [
          0,
          1
         ],
         "title": {
          "text": "Translation Time (s)"
         }
        }
       }
      },
      "text/html": [
       "<div>                            <div id=\"502e9dfb-8708-4c10-b65b-ea710b32e03f\" class=\"plotly-graph-div\" style=\"height:525px; width:100%;\"></div>            <script type=\"text/javascript\">                require([\"plotly\"], function(Plotly) {                    window.PLOTLYENV=window.PLOTLYENV || {};                                    if (document.getElementById(\"502e9dfb-8708-4c10-b65b-ea710b32e03f\")) {                    Plotly.newPlot(                        \"502e9dfb-8708-4c10-b65b-ea710b32e03f\",                        [{\"alignmentgroup\":\"True\",\"hovertemplate\":\"Target Language=Spanish\\u003cbr\\u003eSource Language=%{x}\\u003cbr\\u003eTranslation Time (s)=%{y}\\u003cextra\\u003e\\u003c\\u002fextra\\u003e\",\"legendgroup\":\"Spanish\",\"marker\":{\"color\":\"#636efa\",\"pattern\":{\"shape\":\"\"}},\"name\":\"Spanish\",\"offsetgroup\":\"Spanish\",\"orientation\":\"v\",\"showlegend\":true,\"textposition\":\"auto\",\"x\":[\"English\",\"Chinese\",\"Arabic\",\"Russian\",\"German\",\"French\"],\"xaxis\":\"x\",\"y\":[0.803361177444458,1.2419509887695312,1.7078211307525635,1.2246110439300537,1.4780189990997314,1.6162447929382324],\"yaxis\":\"y\",\"type\":\"bar\"},{\"alignmentgroup\":\"True\",\"hovertemplate\":\"Target Language=Chinese\\u003cbr\\u003eSource Language=%{x}\\u003cbr\\u003eTranslation Time (s)=%{y}\\u003cextra\\u003e\\u003c\\u002fextra\\u003e\",\"legendgroup\":\"Chinese\",\"marker\":{\"color\":\"#EF553B\",\"pattern\":{\"shape\":\"\"}},\"name\":\"Chinese\",\"offsetgroup\":\"Chinese\",\"orientation\":\"v\",\"showlegend\":true,\"textposition\":\"auto\",\"x\":[\"English\",\"Spanish\",\"Arabic\",\"Russian\",\"German\",\"French\"],\"xaxis\":\"x\",\"y\":[0.6843557357788086,1.2370860576629639,2.8444862365722656,1.5411877632141113,1.4340059757232666,1.9492690563201904],\"yaxis\":\"y\",\"type\":\"bar\"},{\"alignmentgroup\":\"True\",\"hovertemplate\":\"Target Language=Arabic\\u003cbr\\u003eSource Language=%{x}\\u003cbr\\u003eTranslation Time (s)=%{y}\\u003cextra\\u003e\\u003c\\u002fextra\\u003e\",\"legendgroup\":\"Arabic\",\"marker\":{\"color\":\"#00cc96\",\"pattern\":{\"shape\":\"\"}},\"name\":\"Arabic\",\"offsetgroup\":\"Arabic\",\"orientation\":\"v\",\"showlegend\":true,\"textposition\":\"auto\",\"x\":[\"English\",\"Spanish\",\"Chinese\",\"Russian\",\"German\",\"French\"],\"xaxis\":\"x\",\"y\":[0.9934122562408447,3.2258729934692383,1.6693220138549805,2.07962703704834,4.725088119506836,2.0985288619995117],\"yaxis\":\"y\",\"type\":\"bar\"},{\"alignmentgroup\":\"True\",\"hovertemplate\":\"Target Language=Russian\\u003cbr\\u003eSource Language=%{x}\\u003cbr\\u003eTranslation Time (s)=%{y}\\u003cextra\\u003e\\u003c\\u002fextra\\u003e\",\"legendgroup\":\"Russian\",\"marker\":{\"color\":\"#ab63fa\",\"pattern\":{\"shape\":\"\"}},\"name\":\"Russian\",\"offsetgroup\":\"Russian\",\"orientation\":\"v\",\"showlegend\":true,\"textposition\":\"auto\",\"x\":[\"English\",\"Spanish\",\"Chinese\",\"Arabic\",\"German\",\"French\"],\"xaxis\":\"x\",\"y\":[0.7129669189453125,1.077500820159912,3.25339412689209,1.7733790874481201,1.8978078365325928,1.3011457920074463],\"yaxis\":\"y\",\"type\":\"bar\"},{\"alignmentgroup\":\"True\",\"hovertemplate\":\"Target Language=German\\u003cbr\\u003eSource Language=%{x}\\u003cbr\\u003eTranslation Time (s)=%{y}\\u003cextra\\u003e\\u003c\\u002fextra\\u003e\",\"legendgroup\":\"German\",\"marker\":{\"color\":\"#FFA15A\",\"pattern\":{\"shape\":\"\"}},\"name\":\"German\",\"offsetgroup\":\"German\",\"orientation\":\"v\",\"showlegend\":true,\"textposition\":\"auto\",\"x\":[\"English\",\"Spanish\",\"Chinese\",\"Arabic\",\"Russian\",\"French\"],\"xaxis\":\"x\",\"y\":[1.4659051895141602,1.204503059387207,0.5382981300354004,0.7584409713745117,1.4001829624176025,1.2787389755249023],\"yaxis\":\"y\",\"type\":\"bar\"},{\"alignmentgroup\":\"True\",\"hovertemplate\":\"Target Language=French\\u003cbr\\u003eSource Language=%{x}\\u003cbr\\u003eTranslation Time (s)=%{y}\\u003cextra\\u003e\\u003c\\u002fextra\\u003e\",\"legendgroup\":\"French\",\"marker\":{\"color\":\"#19d3f3\",\"pattern\":{\"shape\":\"\"}},\"name\":\"French\",\"offsetgroup\":\"French\",\"orientation\":\"v\",\"showlegend\":true,\"textposition\":\"auto\",\"x\":[\"English\",\"Spanish\",\"Chinese\",\"Arabic\",\"Russian\",\"German\"],\"xaxis\":\"x\",\"y\":[1.1287760734558105,1.1909446716308594,1.6685988903045654,1.1362709999084473,0.9930951595306396,1.1848080158233643],\"yaxis\":\"y\",\"type\":\"bar\"},{\"alignmentgroup\":\"True\",\"hovertemplate\":\"Target Language=English\\u003cbr\\u003eSource Language=%{x}\\u003cbr\\u003eTranslation Time (s)=%{y}\\u003cextra\\u003e\\u003c\\u002fextra\\u003e\",\"legendgroup\":\"English\",\"marker\":{\"color\":\"#FF6692\",\"pattern\":{\"shape\":\"\"}},\"name\":\"English\",\"offsetgroup\":\"English\",\"orientation\":\"v\",\"showlegend\":true,\"textposition\":\"auto\",\"x\":[\"Spanish\",\"Chinese\",\"Arabic\",\"Russian\",\"German\",\"French\"],\"xaxis\":\"x\",\"y\":[0.7793700695037842,0.6267950534820557,0.6541798114776611,1.9286088943481445,1.2487561702728271,0.7789719104766846],\"yaxis\":\"y\",\"type\":\"bar\"}],                        {\"template\":{\"data\":{\"histogram2dcontour\":[{\"type\":\"histogram2dcontour\",\"colorbar\":{\"outlinewidth\":0,\"ticks\":\"\"},\"colorscale\":[[0.0,\"#0d0887\"],[0.1111111111111111,\"#46039f\"],[0.2222222222222222,\"#7201a8\"],[0.3333333333333333,\"#9c179e\"],[0.4444444444444444,\"#bd3786\"],[0.5555555555555556,\"#d8576b\"],[0.6666666666666666,\"#ed7953\"],[0.7777777777777778,\"#fb9f3a\"],[0.8888888888888888,\"#fdca26\"],[1.0,\"#f0f921\"]]}],\"choropleth\":[{\"type\":\"choropleth\",\"colorbar\":{\"outlinewidth\":0,\"ticks\":\"\"}}],\"histogram2d\":[{\"type\":\"histogram2d\",\"colorbar\":{\"outlinewidth\":0,\"ticks\":\"\"},\"colorscale\":[[0.0,\"#0d0887\"],[0.1111111111111111,\"#46039f\"],[0.2222222222222222,\"#7201a8\"],[0.3333333333333333,\"#9c179e\"],[0.4444444444444444,\"#bd3786\"],[0.5555555555555556,\"#d8576b\"],[0.6666666666666666,\"#ed7953\"],[0.7777777777777778,\"#fb9f3a\"],[0.8888888888888888,\"#fdca26\"],[1.0,\"#f0f921\"]]}],\"heatmap\":[{\"type\":\"heatmap\",\"colorbar\":{\"outlinewidth\":0,\"ticks\":\"\"},\"colorscale\":[[0.0,\"#0d0887\"],[0.1111111111111111,\"#46039f\"],[0.2222222222222222,\"#7201a8\"],[0.3333333333333333,\"#9c179e\"],[0.4444444444444444,\"#bd3786\"],[0.5555555555555556,\"#d8576b\"],[0.6666666666666666,\"#ed7953\"],[0.7777777777777778,\"#fb9f3a\"],[0.8888888888888888,\"#fdca26\"],[1.0,\"#f0f921\"]]}],\"heatmapgl\":[{\"type\":\"heatmapgl\",\"colorbar\":{\"outlinewidth\":0,\"ticks\":\"\"},\"colorscale\":[[0.0,\"#0d0887\"],[0.1111111111111111,\"#46039f\"],[0.2222222222222222,\"#7201a8\"],[0.3333333333333333,\"#9c179e\"],[0.4444444444444444,\"#bd3786\"],[0.5555555555555556,\"#d8576b\"],[0.6666666666666666,\"#ed7953\"],[0.7777777777777778,\"#fb9f3a\"],[0.8888888888888888,\"#fdca26\"],[1.0,\"#f0f921\"]]}],\"contourcarpet\":[{\"type\":\"contourcarpet\",\"colorbar\":{\"outlinewidth\":0,\"ticks\":\"\"}}],\"contour\":[{\"type\":\"contour\",\"colorbar\":{\"outlinewidth\":0,\"ticks\":\"\"},\"colorscale\":[[0.0,\"#0d0887\"],[0.1111111111111111,\"#46039f\"],[0.2222222222222222,\"#7201a8\"],[0.3333333333333333,\"#9c179e\"],[0.4444444444444444,\"#bd3786\"],[0.5555555555555556,\"#d8576b\"],[0.6666666666666666,\"#ed7953\"],[0.7777777777777778,\"#fb9f3a\"],[0.8888888888888888,\"#fdca26\"],[1.0,\"#f0f921\"]]}],\"surface\":[{\"type\":\"surface\",\"colorbar\":{\"outlinewidth\":0,\"ticks\":\"\"},\"colorscale\":[[0.0,\"#0d0887\"],[0.1111111111111111,\"#46039f\"],[0.2222222222222222,\"#7201a8\"],[0.3333333333333333,\"#9c179e\"],[0.4444444444444444,\"#bd3786\"],[0.5555555555555556,\"#d8576b\"],[0.6666666666666666,\"#ed7953\"],[0.7777777777777778,\"#fb9f3a\"],[0.8888888888888888,\"#fdca26\"],[1.0,\"#f0f921\"]]}],\"mesh3d\":[{\"type\":\"mesh3d\",\"colorbar\":{\"outlinewidth\":0,\"ticks\":\"\"}}],\"scatter\":[{\"fillpattern\":{\"fillmode\":\"overlay\",\"size\":10,\"solidity\":0.2},\"type\":\"scatter\"}],\"parcoords\":[{\"type\":\"parcoords\",\"line\":{\"colorbar\":{\"outlinewidth\":0,\"ticks\":\"\"}}}],\"scatterpolargl\":[{\"type\":\"scatterpolargl\",\"marker\":{\"colorbar\":{\"outlinewidth\":0,\"ticks\":\"\"}}}],\"bar\":[{\"error_x\":{\"color\":\"#2a3f5f\"},\"error_y\":{\"color\":\"#2a3f5f\"},\"marker\":{\"line\":{\"color\":\"#E5ECF6\",\"width\":0.5},\"pattern\":{\"fillmode\":\"overlay\",\"size\":10,\"solidity\":0.2}},\"type\":\"bar\"}],\"scattergeo\":[{\"type\":\"scattergeo\",\"marker\":{\"colorbar\":{\"outlinewidth\":0,\"ticks\":\"\"}}}],\"scatterpolar\":[{\"type\":\"scatterpolar\",\"marker\":{\"colorbar\":{\"outlinewidth\":0,\"ticks\":\"\"}}}],\"histogram\":[{\"marker\":{\"pattern\":{\"fillmode\":\"overlay\",\"size\":10,\"solidity\":0.2}},\"type\":\"histogram\"}],\"scattergl\":[{\"type\":\"scattergl\",\"marker\":{\"colorbar\":{\"outlinewidth\":0,\"ticks\":\"\"}}}],\"scatter3d\":[{\"type\":\"scatter3d\",\"line\":{\"colorbar\":{\"outlinewidth\":0,\"ticks\":\"\"}},\"marker\":{\"colorbar\":{\"outlinewidth\":0,\"ticks\":\"\"}}}],\"scattermapbox\":[{\"type\":\"scattermapbox\",\"marker\":{\"colorbar\":{\"outlinewidth\":0,\"ticks\":\"\"}}}],\"scatterternary\":[{\"type\":\"scatterternary\",\"marker\":{\"colorbar\":{\"outlinewidth\":0,\"ticks\":\"\"}}}],\"scattercarpet\":[{\"type\":\"scattercarpet\",\"marker\":{\"colorbar\":{\"outlinewidth\":0,\"ticks\":\"\"}}}],\"carpet\":[{\"aaxis\":{\"endlinecolor\":\"#2a3f5f\",\"gridcolor\":\"white\",\"linecolor\":\"white\",\"minorgridcolor\":\"white\",\"startlinecolor\":\"#2a3f5f\"},\"baxis\":{\"endlinecolor\":\"#2a3f5f\",\"gridcolor\":\"white\",\"linecolor\":\"white\",\"minorgridcolor\":\"white\",\"startlinecolor\":\"#2a3f5f\"},\"type\":\"carpet\"}],\"table\":[{\"cells\":{\"fill\":{\"color\":\"#EBF0F8\"},\"line\":{\"color\":\"white\"}},\"header\":{\"fill\":{\"color\":\"#C8D4E3\"},\"line\":{\"color\":\"white\"}},\"type\":\"table\"}],\"barpolar\":[{\"marker\":{\"line\":{\"color\":\"#E5ECF6\",\"width\":0.5},\"pattern\":{\"fillmode\":\"overlay\",\"size\":10,\"solidity\":0.2}},\"type\":\"barpolar\"}],\"pie\":[{\"automargin\":true,\"type\":\"pie\"}]},\"layout\":{\"autotypenumbers\":\"strict\",\"colorway\":[\"#636efa\",\"#EF553B\",\"#00cc96\",\"#ab63fa\",\"#FFA15A\",\"#19d3f3\",\"#FF6692\",\"#B6E880\",\"#FF97FF\",\"#FECB52\"],\"font\":{\"color\":\"#2a3f5f\"},\"hovermode\":\"closest\",\"hoverlabel\":{\"align\":\"left\"},\"paper_bgcolor\":\"white\",\"plot_bgcolor\":\"#E5ECF6\",\"polar\":{\"bgcolor\":\"#E5ECF6\",\"angularaxis\":{\"gridcolor\":\"white\",\"linecolor\":\"white\",\"ticks\":\"\"},\"radialaxis\":{\"gridcolor\":\"white\",\"linecolor\":\"white\",\"ticks\":\"\"}},\"ternary\":{\"bgcolor\":\"#E5ECF6\",\"aaxis\":{\"gridcolor\":\"white\",\"linecolor\":\"white\",\"ticks\":\"\"},\"baxis\":{\"gridcolor\":\"white\",\"linecolor\":\"white\",\"ticks\":\"\"},\"caxis\":{\"gridcolor\":\"white\",\"linecolor\":\"white\",\"ticks\":\"\"}},\"coloraxis\":{\"colorbar\":{\"outlinewidth\":0,\"ticks\":\"\"}},\"colorscale\":{\"sequential\":[[0.0,\"#0d0887\"],[0.1111111111111111,\"#46039f\"],[0.2222222222222222,\"#7201a8\"],[0.3333333333333333,\"#9c179e\"],[0.4444444444444444,\"#bd3786\"],[0.5555555555555556,\"#d8576b\"],[0.6666666666666666,\"#ed7953\"],[0.7777777777777778,\"#fb9f3a\"],[0.8888888888888888,\"#fdca26\"],[1.0,\"#f0f921\"]],\"sequentialminus\":[[0.0,\"#0d0887\"],[0.1111111111111111,\"#46039f\"],[0.2222222222222222,\"#7201a8\"],[0.3333333333333333,\"#9c179e\"],[0.4444444444444444,\"#bd3786\"],[0.5555555555555556,\"#d8576b\"],[0.6666666666666666,\"#ed7953\"],[0.7777777777777778,\"#fb9f3a\"],[0.8888888888888888,\"#fdca26\"],[1.0,\"#f0f921\"]],\"diverging\":[[0,\"#8e0152\"],[0.1,\"#c51b7d\"],[0.2,\"#de77ae\"],[0.3,\"#f1b6da\"],[0.4,\"#fde0ef\"],[0.5,\"#f7f7f7\"],[0.6,\"#e6f5d0\"],[0.7,\"#b8e186\"],[0.8,\"#7fbc41\"],[0.9,\"#4d9221\"],[1,\"#276419\"]]},\"xaxis\":{\"gridcolor\":\"white\",\"linecolor\":\"white\",\"ticks\":\"\",\"title\":{\"standoff\":15},\"zerolinecolor\":\"white\",\"automargin\":true,\"zerolinewidth\":2},\"yaxis\":{\"gridcolor\":\"white\",\"linecolor\":\"white\",\"ticks\":\"\",\"title\":{\"standoff\":15},\"zerolinecolor\":\"white\",\"automargin\":true,\"zerolinewidth\":2},\"scene\":{\"xaxis\":{\"backgroundcolor\":\"#E5ECF6\",\"gridcolor\":\"white\",\"linecolor\":\"white\",\"showbackground\":true,\"ticks\":\"\",\"zerolinecolor\":\"white\",\"gridwidth\":2},\"yaxis\":{\"backgroundcolor\":\"#E5ECF6\",\"gridcolor\":\"white\",\"linecolor\":\"white\",\"showbackground\":true,\"ticks\":\"\",\"zerolinecolor\":\"white\",\"gridwidth\":2},\"zaxis\":{\"backgroundcolor\":\"#E5ECF6\",\"gridcolor\":\"white\",\"linecolor\":\"white\",\"showbackground\":true,\"ticks\":\"\",\"zerolinecolor\":\"white\",\"gridwidth\":2}},\"shapedefaults\":{\"line\":{\"color\":\"#2a3f5f\"}},\"annotationdefaults\":{\"arrowcolor\":\"#2a3f5f\",\"arrowhead\":0,\"arrowwidth\":1},\"geo\":{\"bgcolor\":\"white\",\"landcolor\":\"#E5ECF6\",\"subunitcolor\":\"white\",\"showland\":true,\"showlakes\":true,\"lakecolor\":\"white\"},\"title\":{\"x\":0.05},\"mapbox\":{\"style\":\"light\"}}},\"xaxis\":{\"anchor\":\"y\",\"domain\":[0.0,1.0],\"title\":{\"text\":\"Source Language\"}},\"yaxis\":{\"anchor\":\"x\",\"domain\":[0.0,1.0],\"title\":{\"text\":\"Translation Time (s)\"}},\"legend\":{\"title\":{\"text\":\"Target Language\"},\"tracegroupgap\":0},\"title\":{\"text\":\"Hugging Face Translation Times for Paragraphs by Source and Target Language\"},\"barmode\":\"group\"},                        {\"responsive\": true}                    ).then(function(){\n",
       "                            \n",
       "var gd = document.getElementById('502e9dfb-8708-4c10-b65b-ea710b32e03f');\n",
       "var x = new MutationObserver(function (mutations, observer) {{\n",
       "        var display = window.getComputedStyle(gd).display;\n",
       "        if (!display || display === 'none') {{\n",
       "            console.log([gd, 'removed!']);\n",
       "            Plotly.purge(gd);\n",
       "            observer.disconnect();\n",
       "        }}\n",
       "}});\n",
       "\n",
       "// Listen for the removal of the full notebook cells\n",
       "var notebookContainer = gd.closest('#notebook-container');\n",
       "if (notebookContainer) {{\n",
       "    x.observe(notebookContainer, {childList: true});\n",
       "}}\n",
       "\n",
       "// Listen for the clearing of the current output cell\n",
       "var outputEl = gd.closest('.output');\n",
       "if (outputEl) {{\n",
       "    x.observe(outputEl, {childList: true});\n",
       "}}\n",
       "\n",
       "                        })                };                });            </script>        </div>"
      ]
     },
     "metadata": {},
     "output_type": "display_data"
    },
    {
     "data": {
      "application/vnd.plotly.v1+json": {
       "config": {
        "plotlyServerURL": "https://plot.ly"
       },
       "data": [
        {
         "alignmentgroup": "True",
         "hovertemplate": "Target Language=Spanish<br>Source Language=%{x}<br>Translation Time (s)=%{y}<extra></extra>",
         "legendgroup": "Spanish",
         "marker": {
          "color": "#636efa",
          "pattern": {
           "shape": ""
          }
         },
         "name": "Spanish",
         "offsetgroup": "Spanish",
         "orientation": "v",
         "showlegend": true,
         "textposition": "auto",
         "type": "bar",
         "x": [
          "English",
          "Chinese",
          "Arabic",
          "Russian",
          "German",
          "French"
         ],
         "xaxis": "x",
         "y": [
          1.082571029663086,
          2.0946249961853027,
          2.2919490337371826,
          1.4424922466278076,
          1.4125230312347412,
          0.9638171195983887
         ],
         "yaxis": "y"
        },
        {
         "alignmentgroup": "True",
         "hovertemplate": "Target Language=Chinese<br>Source Language=%{x}<br>Translation Time (s)=%{y}<extra></extra>",
         "legendgroup": "Chinese",
         "marker": {
          "color": "#EF553B",
          "pattern": {
           "shape": ""
          }
         },
         "name": "Chinese",
         "offsetgroup": "Chinese",
         "orientation": "v",
         "showlegend": true,
         "textposition": "auto",
         "type": "bar",
         "x": [
          "English",
          "Spanish",
          "Arabic",
          "Russian",
          "German",
          "French"
         ],
         "xaxis": "x",
         "y": [
          2.2611677646636963,
          1.5052931308746338,
          1.6835520267486572,
          1.34322190284729,
          1.6429612636566162,
          2.072402000427246
         ],
         "yaxis": "y"
        },
        {
         "alignmentgroup": "True",
         "hovertemplate": "Target Language=Arabic<br>Source Language=%{x}<br>Translation Time (s)=%{y}<extra></extra>",
         "legendgroup": "Arabic",
         "marker": {
          "color": "#00cc96",
          "pattern": {
           "shape": ""
          }
         },
         "name": "Arabic",
         "offsetgroup": "Arabic",
         "orientation": "v",
         "showlegend": true,
         "textposition": "auto",
         "type": "bar",
         "x": [
          "English",
          "Spanish",
          "Chinese",
          "Russian",
          "German",
          "French"
         ],
         "xaxis": "x",
         "y": [
          3.7522997856140137,
          1.3251457214355469,
          1.7023723125457764,
          1.5502395629882812,
          1.605109691619873,
          1.1951820850372314
         ],
         "yaxis": "y"
        },
        {
         "alignmentgroup": "True",
         "hovertemplate": "Target Language=Russian<br>Source Language=%{x}<br>Translation Time (s)=%{y}<extra></extra>",
         "legendgroup": "Russian",
         "marker": {
          "color": "#ab63fa",
          "pattern": {
           "shape": ""
          }
         },
         "name": "Russian",
         "offsetgroup": "Russian",
         "orientation": "v",
         "showlegend": true,
         "textposition": "auto",
         "type": "bar",
         "x": [
          "English",
          "Spanish",
          "Chinese",
          "Arabic",
          "German",
          "French"
         ],
         "xaxis": "x",
         "y": [
          1.8011870384216309,
          1.9576070308685303,
          2.876293182373047,
          1.7189140319824219,
          1.2338168621063232,
          1.1753621101379395
         ],
         "yaxis": "y"
        },
        {
         "alignmentgroup": "True",
         "hovertemplate": "Target Language=German<br>Source Language=%{x}<br>Translation Time (s)=%{y}<extra></extra>",
         "legendgroup": "German",
         "marker": {
          "color": "#FFA15A",
          "pattern": {
           "shape": ""
          }
         },
         "name": "German",
         "offsetgroup": "German",
         "orientation": "v",
         "showlegend": true,
         "textposition": "auto",
         "type": "bar",
         "x": [
          "English",
          "Spanish",
          "Chinese",
          "Arabic",
          "Russian",
          "French"
         ],
         "xaxis": "x",
         "y": [
          1.6602411270141602,
          1.8921692371368408,
          1.3290190696716309,
          2.685771942138672,
          1.3677849769592285,
          1.5889167785644531
         ],
         "yaxis": "y"
        },
        {
         "alignmentgroup": "True",
         "hovertemplate": "Target Language=French<br>Source Language=%{x}<br>Translation Time (s)=%{y}<extra></extra>",
         "legendgroup": "French",
         "marker": {
          "color": "#19d3f3",
          "pattern": {
           "shape": ""
          }
         },
         "name": "French",
         "offsetgroup": "French",
         "orientation": "v",
         "showlegend": true,
         "textposition": "auto",
         "type": "bar",
         "x": [
          "English",
          "Spanish",
          "Chinese",
          "Arabic",
          "Russian",
          "German"
         ],
         "xaxis": "x",
         "y": [
          1.0392749309539795,
          1.4141581058502197,
          0.9705426692962646,
          1.1813201904296875,
          1.5620880126953125,
          1.7072482109069824
         ],
         "yaxis": "y"
        },
        {
         "alignmentgroup": "True",
         "hovertemplate": "Target Language=English<br>Source Language=%{x}<br>Translation Time (s)=%{y}<extra></extra>",
         "legendgroup": "English",
         "marker": {
          "color": "#FF6692",
          "pattern": {
           "shape": ""
          }
         },
         "name": "English",
         "offsetgroup": "English",
         "orientation": "v",
         "showlegend": true,
         "textposition": "auto",
         "type": "bar",
         "x": [
          "Spanish",
          "Chinese",
          "Arabic",
          "Russian",
          "German",
          "French"
         ],
         "xaxis": "x",
         "y": [
          1.5199573040008545,
          1.5506830215454102,
          1.7403578758239746,
          1.7258391380310059,
          0.888477087020874,
          1.6627709865570068
         ],
         "yaxis": "y"
        }
       ],
       "layout": {
        "barmode": "group",
        "legend": {
         "title": {
          "text": "Target Language"
         },
         "tracegroupgap": 0
        },
        "template": {
         "data": {
          "bar": [
           {
            "error_x": {
             "color": "#2a3f5f"
            },
            "error_y": {
             "color": "#2a3f5f"
            },
            "marker": {
             "line": {
              "color": "#E5ECF6",
              "width": 0.5
             },
             "pattern": {
              "fillmode": "overlay",
              "size": 10,
              "solidity": 0.2
             }
            },
            "type": "bar"
           }
          ],
          "barpolar": [
           {
            "marker": {
             "line": {
              "color": "#E5ECF6",
              "width": 0.5
             },
             "pattern": {
              "fillmode": "overlay",
              "size": 10,
              "solidity": 0.2
             }
            },
            "type": "barpolar"
           }
          ],
          "carpet": [
           {
            "aaxis": {
             "endlinecolor": "#2a3f5f",
             "gridcolor": "white",
             "linecolor": "white",
             "minorgridcolor": "white",
             "startlinecolor": "#2a3f5f"
            },
            "baxis": {
             "endlinecolor": "#2a3f5f",
             "gridcolor": "white",
             "linecolor": "white",
             "minorgridcolor": "white",
             "startlinecolor": "#2a3f5f"
            },
            "type": "carpet"
           }
          ],
          "choropleth": [
           {
            "colorbar": {
             "outlinewidth": 0,
             "ticks": ""
            },
            "type": "choropleth"
           }
          ],
          "contour": [
           {
            "colorbar": {
             "outlinewidth": 0,
             "ticks": ""
            },
            "colorscale": [
             [
              0,
              "#0d0887"
             ],
             [
              0.1111111111111111,
              "#46039f"
             ],
             [
              0.2222222222222222,
              "#7201a8"
             ],
             [
              0.3333333333333333,
              "#9c179e"
             ],
             [
              0.4444444444444444,
              "#bd3786"
             ],
             [
              0.5555555555555556,
              "#d8576b"
             ],
             [
              0.6666666666666666,
              "#ed7953"
             ],
             [
              0.7777777777777778,
              "#fb9f3a"
             ],
             [
              0.8888888888888888,
              "#fdca26"
             ],
             [
              1,
              "#f0f921"
             ]
            ],
            "type": "contour"
           }
          ],
          "contourcarpet": [
           {
            "colorbar": {
             "outlinewidth": 0,
             "ticks": ""
            },
            "type": "contourcarpet"
           }
          ],
          "heatmap": [
           {
            "colorbar": {
             "outlinewidth": 0,
             "ticks": ""
            },
            "colorscale": [
             [
              0,
              "#0d0887"
             ],
             [
              0.1111111111111111,
              "#46039f"
             ],
             [
              0.2222222222222222,
              "#7201a8"
             ],
             [
              0.3333333333333333,
              "#9c179e"
             ],
             [
              0.4444444444444444,
              "#bd3786"
             ],
             [
              0.5555555555555556,
              "#d8576b"
             ],
             [
              0.6666666666666666,
              "#ed7953"
             ],
             [
              0.7777777777777778,
              "#fb9f3a"
             ],
             [
              0.8888888888888888,
              "#fdca26"
             ],
             [
              1,
              "#f0f921"
             ]
            ],
            "type": "heatmap"
           }
          ],
          "heatmapgl": [
           {
            "colorbar": {
             "outlinewidth": 0,
             "ticks": ""
            },
            "colorscale": [
             [
              0,
              "#0d0887"
             ],
             [
              0.1111111111111111,
              "#46039f"
             ],
             [
              0.2222222222222222,
              "#7201a8"
             ],
             [
              0.3333333333333333,
              "#9c179e"
             ],
             [
              0.4444444444444444,
              "#bd3786"
             ],
             [
              0.5555555555555556,
              "#d8576b"
             ],
             [
              0.6666666666666666,
              "#ed7953"
             ],
             [
              0.7777777777777778,
              "#fb9f3a"
             ],
             [
              0.8888888888888888,
              "#fdca26"
             ],
             [
              1,
              "#f0f921"
             ]
            ],
            "type": "heatmapgl"
           }
          ],
          "histogram": [
           {
            "marker": {
             "pattern": {
              "fillmode": "overlay",
              "size": 10,
              "solidity": 0.2
             }
            },
            "type": "histogram"
           }
          ],
          "histogram2d": [
           {
            "colorbar": {
             "outlinewidth": 0,
             "ticks": ""
            },
            "colorscale": [
             [
              0,
              "#0d0887"
             ],
             [
              0.1111111111111111,
              "#46039f"
             ],
             [
              0.2222222222222222,
              "#7201a8"
             ],
             [
              0.3333333333333333,
              "#9c179e"
             ],
             [
              0.4444444444444444,
              "#bd3786"
             ],
             [
              0.5555555555555556,
              "#d8576b"
             ],
             [
              0.6666666666666666,
              "#ed7953"
             ],
             [
              0.7777777777777778,
              "#fb9f3a"
             ],
             [
              0.8888888888888888,
              "#fdca26"
             ],
             [
              1,
              "#f0f921"
             ]
            ],
            "type": "histogram2d"
           }
          ],
          "histogram2dcontour": [
           {
            "colorbar": {
             "outlinewidth": 0,
             "ticks": ""
            },
            "colorscale": [
             [
              0,
              "#0d0887"
             ],
             [
              0.1111111111111111,
              "#46039f"
             ],
             [
              0.2222222222222222,
              "#7201a8"
             ],
             [
              0.3333333333333333,
              "#9c179e"
             ],
             [
              0.4444444444444444,
              "#bd3786"
             ],
             [
              0.5555555555555556,
              "#d8576b"
             ],
             [
              0.6666666666666666,
              "#ed7953"
             ],
             [
              0.7777777777777778,
              "#fb9f3a"
             ],
             [
              0.8888888888888888,
              "#fdca26"
             ],
             [
              1,
              "#f0f921"
             ]
            ],
            "type": "histogram2dcontour"
           }
          ],
          "mesh3d": [
           {
            "colorbar": {
             "outlinewidth": 0,
             "ticks": ""
            },
            "type": "mesh3d"
           }
          ],
          "parcoords": [
           {
            "line": {
             "colorbar": {
              "outlinewidth": 0,
              "ticks": ""
             }
            },
            "type": "parcoords"
           }
          ],
          "pie": [
           {
            "automargin": true,
            "type": "pie"
           }
          ],
          "scatter": [
           {
            "fillpattern": {
             "fillmode": "overlay",
             "size": 10,
             "solidity": 0.2
            },
            "type": "scatter"
           }
          ],
          "scatter3d": [
           {
            "line": {
             "colorbar": {
              "outlinewidth": 0,
              "ticks": ""
             }
            },
            "marker": {
             "colorbar": {
              "outlinewidth": 0,
              "ticks": ""
             }
            },
            "type": "scatter3d"
           }
          ],
          "scattercarpet": [
           {
            "marker": {
             "colorbar": {
              "outlinewidth": 0,
              "ticks": ""
             }
            },
            "type": "scattercarpet"
           }
          ],
          "scattergeo": [
           {
            "marker": {
             "colorbar": {
              "outlinewidth": 0,
              "ticks": ""
             }
            },
            "type": "scattergeo"
           }
          ],
          "scattergl": [
           {
            "marker": {
             "colorbar": {
              "outlinewidth": 0,
              "ticks": ""
             }
            },
            "type": "scattergl"
           }
          ],
          "scattermapbox": [
           {
            "marker": {
             "colorbar": {
              "outlinewidth": 0,
              "ticks": ""
             }
            },
            "type": "scattermapbox"
           }
          ],
          "scatterpolar": [
           {
            "marker": {
             "colorbar": {
              "outlinewidth": 0,
              "ticks": ""
             }
            },
            "type": "scatterpolar"
           }
          ],
          "scatterpolargl": [
           {
            "marker": {
             "colorbar": {
              "outlinewidth": 0,
              "ticks": ""
             }
            },
            "type": "scatterpolargl"
           }
          ],
          "scatterternary": [
           {
            "marker": {
             "colorbar": {
              "outlinewidth": 0,
              "ticks": ""
             }
            },
            "type": "scatterternary"
           }
          ],
          "surface": [
           {
            "colorbar": {
             "outlinewidth": 0,
             "ticks": ""
            },
            "colorscale": [
             [
              0,
              "#0d0887"
             ],
             [
              0.1111111111111111,
              "#46039f"
             ],
             [
              0.2222222222222222,
              "#7201a8"
             ],
             [
              0.3333333333333333,
              "#9c179e"
             ],
             [
              0.4444444444444444,
              "#bd3786"
             ],
             [
              0.5555555555555556,
              "#d8576b"
             ],
             [
              0.6666666666666666,
              "#ed7953"
             ],
             [
              0.7777777777777778,
              "#fb9f3a"
             ],
             [
              0.8888888888888888,
              "#fdca26"
             ],
             [
              1,
              "#f0f921"
             ]
            ],
            "type": "surface"
           }
          ],
          "table": [
           {
            "cells": {
             "fill": {
              "color": "#EBF0F8"
             },
             "line": {
              "color": "white"
             }
            },
            "header": {
             "fill": {
              "color": "#C8D4E3"
             },
             "line": {
              "color": "white"
             }
            },
            "type": "table"
           }
          ]
         },
         "layout": {
          "annotationdefaults": {
           "arrowcolor": "#2a3f5f",
           "arrowhead": 0,
           "arrowwidth": 1
          },
          "autotypenumbers": "strict",
          "coloraxis": {
           "colorbar": {
            "outlinewidth": 0,
            "ticks": ""
           }
          },
          "colorscale": {
           "diverging": [
            [
             0,
             "#8e0152"
            ],
            [
             0.1,
             "#c51b7d"
            ],
            [
             0.2,
             "#de77ae"
            ],
            [
             0.3,
             "#f1b6da"
            ],
            [
             0.4,
             "#fde0ef"
            ],
            [
             0.5,
             "#f7f7f7"
            ],
            [
             0.6,
             "#e6f5d0"
            ],
            [
             0.7,
             "#b8e186"
            ],
            [
             0.8,
             "#7fbc41"
            ],
            [
             0.9,
             "#4d9221"
            ],
            [
             1,
             "#276419"
            ]
           ],
           "sequential": [
            [
             0,
             "#0d0887"
            ],
            [
             0.1111111111111111,
             "#46039f"
            ],
            [
             0.2222222222222222,
             "#7201a8"
            ],
            [
             0.3333333333333333,
             "#9c179e"
            ],
            [
             0.4444444444444444,
             "#bd3786"
            ],
            [
             0.5555555555555556,
             "#d8576b"
            ],
            [
             0.6666666666666666,
             "#ed7953"
            ],
            [
             0.7777777777777778,
             "#fb9f3a"
            ],
            [
             0.8888888888888888,
             "#fdca26"
            ],
            [
             1,
             "#f0f921"
            ]
           ],
           "sequentialminus": [
            [
             0,
             "#0d0887"
            ],
            [
             0.1111111111111111,
             "#46039f"
            ],
            [
             0.2222222222222222,
             "#7201a8"
            ],
            [
             0.3333333333333333,
             "#9c179e"
            ],
            [
             0.4444444444444444,
             "#bd3786"
            ],
            [
             0.5555555555555556,
             "#d8576b"
            ],
            [
             0.6666666666666666,
             "#ed7953"
            ],
            [
             0.7777777777777778,
             "#fb9f3a"
            ],
            [
             0.8888888888888888,
             "#fdca26"
            ],
            [
             1,
             "#f0f921"
            ]
           ]
          },
          "colorway": [
           "#636efa",
           "#EF553B",
           "#00cc96",
           "#ab63fa",
           "#FFA15A",
           "#19d3f3",
           "#FF6692",
           "#B6E880",
           "#FF97FF",
           "#FECB52"
          ],
          "font": {
           "color": "#2a3f5f"
          },
          "geo": {
           "bgcolor": "white",
           "lakecolor": "white",
           "landcolor": "#E5ECF6",
           "showlakes": true,
           "showland": true,
           "subunitcolor": "white"
          },
          "hoverlabel": {
           "align": "left"
          },
          "hovermode": "closest",
          "mapbox": {
           "style": "light"
          },
          "paper_bgcolor": "white",
          "plot_bgcolor": "#E5ECF6",
          "polar": {
           "angularaxis": {
            "gridcolor": "white",
            "linecolor": "white",
            "ticks": ""
           },
           "bgcolor": "#E5ECF6",
           "radialaxis": {
            "gridcolor": "white",
            "linecolor": "white",
            "ticks": ""
           }
          },
          "scene": {
           "xaxis": {
            "backgroundcolor": "#E5ECF6",
            "gridcolor": "white",
            "gridwidth": 2,
            "linecolor": "white",
            "showbackground": true,
            "ticks": "",
            "zerolinecolor": "white"
           },
           "yaxis": {
            "backgroundcolor": "#E5ECF6",
            "gridcolor": "white",
            "gridwidth": 2,
            "linecolor": "white",
            "showbackground": true,
            "ticks": "",
            "zerolinecolor": "white"
           },
           "zaxis": {
            "backgroundcolor": "#E5ECF6",
            "gridcolor": "white",
            "gridwidth": 2,
            "linecolor": "white",
            "showbackground": true,
            "ticks": "",
            "zerolinecolor": "white"
           }
          },
          "shapedefaults": {
           "line": {
            "color": "#2a3f5f"
           }
          },
          "ternary": {
           "aaxis": {
            "gridcolor": "white",
            "linecolor": "white",
            "ticks": ""
           },
           "baxis": {
            "gridcolor": "white",
            "linecolor": "white",
            "ticks": ""
           },
           "bgcolor": "#E5ECF6",
           "caxis": {
            "gridcolor": "white",
            "linecolor": "white",
            "ticks": ""
           }
          },
          "title": {
           "x": 0.05
          },
          "xaxis": {
           "automargin": true,
           "gridcolor": "white",
           "linecolor": "white",
           "ticks": "",
           "title": {
            "standoff": 15
           },
           "zerolinecolor": "white",
           "zerolinewidth": 2
          },
          "yaxis": {
           "automargin": true,
           "gridcolor": "white",
           "linecolor": "white",
           "ticks": "",
           "title": {
            "standoff": 15
           },
           "zerolinecolor": "white",
           "zerolinewidth": 2
          }
         }
        },
        "title": {
         "text": "Gemini Translation Times for Paragraphs by Source and Target Language"
        },
        "xaxis": {
         "anchor": "y",
         "domain": [
          0,
          1
         ],
         "title": {
          "text": "Source Language"
         }
        },
        "yaxis": {
         "anchor": "x",
         "domain": [
          0,
          1
         ],
         "title": {
          "text": "Translation Time (s)"
         }
        }
       }
      },
      "text/html": [
       "<div>                            <div id=\"7c0dccf4-5095-4996-bb44-a26eae3bb241\" class=\"plotly-graph-div\" style=\"height:525px; width:100%;\"></div>            <script type=\"text/javascript\">                require([\"plotly\"], function(Plotly) {                    window.PLOTLYENV=window.PLOTLYENV || {};                                    if (document.getElementById(\"7c0dccf4-5095-4996-bb44-a26eae3bb241\")) {                    Plotly.newPlot(                        \"7c0dccf4-5095-4996-bb44-a26eae3bb241\",                        [{\"alignmentgroup\":\"True\",\"hovertemplate\":\"Target Language=Spanish\\u003cbr\\u003eSource Language=%{x}\\u003cbr\\u003eTranslation Time (s)=%{y}\\u003cextra\\u003e\\u003c\\u002fextra\\u003e\",\"legendgroup\":\"Spanish\",\"marker\":{\"color\":\"#636efa\",\"pattern\":{\"shape\":\"\"}},\"name\":\"Spanish\",\"offsetgroup\":\"Spanish\",\"orientation\":\"v\",\"showlegend\":true,\"textposition\":\"auto\",\"x\":[\"English\",\"Chinese\",\"Arabic\",\"Russian\",\"German\",\"French\"],\"xaxis\":\"x\",\"y\":[1.082571029663086,2.0946249961853027,2.2919490337371826,1.4424922466278076,1.4125230312347412,0.9638171195983887],\"yaxis\":\"y\",\"type\":\"bar\"},{\"alignmentgroup\":\"True\",\"hovertemplate\":\"Target Language=Chinese\\u003cbr\\u003eSource Language=%{x}\\u003cbr\\u003eTranslation Time (s)=%{y}\\u003cextra\\u003e\\u003c\\u002fextra\\u003e\",\"legendgroup\":\"Chinese\",\"marker\":{\"color\":\"#EF553B\",\"pattern\":{\"shape\":\"\"}},\"name\":\"Chinese\",\"offsetgroup\":\"Chinese\",\"orientation\":\"v\",\"showlegend\":true,\"textposition\":\"auto\",\"x\":[\"English\",\"Spanish\",\"Arabic\",\"Russian\",\"German\",\"French\"],\"xaxis\":\"x\",\"y\":[2.2611677646636963,1.5052931308746338,1.6835520267486572,1.34322190284729,1.6429612636566162,2.072402000427246],\"yaxis\":\"y\",\"type\":\"bar\"},{\"alignmentgroup\":\"True\",\"hovertemplate\":\"Target Language=Arabic\\u003cbr\\u003eSource Language=%{x}\\u003cbr\\u003eTranslation Time (s)=%{y}\\u003cextra\\u003e\\u003c\\u002fextra\\u003e\",\"legendgroup\":\"Arabic\",\"marker\":{\"color\":\"#00cc96\",\"pattern\":{\"shape\":\"\"}},\"name\":\"Arabic\",\"offsetgroup\":\"Arabic\",\"orientation\":\"v\",\"showlegend\":true,\"textposition\":\"auto\",\"x\":[\"English\",\"Spanish\",\"Chinese\",\"Russian\",\"German\",\"French\"],\"xaxis\":\"x\",\"y\":[3.7522997856140137,1.3251457214355469,1.7023723125457764,1.5502395629882812,1.605109691619873,1.1951820850372314],\"yaxis\":\"y\",\"type\":\"bar\"},{\"alignmentgroup\":\"True\",\"hovertemplate\":\"Target Language=Russian\\u003cbr\\u003eSource Language=%{x}\\u003cbr\\u003eTranslation Time (s)=%{y}\\u003cextra\\u003e\\u003c\\u002fextra\\u003e\",\"legendgroup\":\"Russian\",\"marker\":{\"color\":\"#ab63fa\",\"pattern\":{\"shape\":\"\"}},\"name\":\"Russian\",\"offsetgroup\":\"Russian\",\"orientation\":\"v\",\"showlegend\":true,\"textposition\":\"auto\",\"x\":[\"English\",\"Spanish\",\"Chinese\",\"Arabic\",\"German\",\"French\"],\"xaxis\":\"x\",\"y\":[1.8011870384216309,1.9576070308685303,2.876293182373047,1.7189140319824219,1.2338168621063232,1.1753621101379395],\"yaxis\":\"y\",\"type\":\"bar\"},{\"alignmentgroup\":\"True\",\"hovertemplate\":\"Target Language=German\\u003cbr\\u003eSource Language=%{x}\\u003cbr\\u003eTranslation Time (s)=%{y}\\u003cextra\\u003e\\u003c\\u002fextra\\u003e\",\"legendgroup\":\"German\",\"marker\":{\"color\":\"#FFA15A\",\"pattern\":{\"shape\":\"\"}},\"name\":\"German\",\"offsetgroup\":\"German\",\"orientation\":\"v\",\"showlegend\":true,\"textposition\":\"auto\",\"x\":[\"English\",\"Spanish\",\"Chinese\",\"Arabic\",\"Russian\",\"French\"],\"xaxis\":\"x\",\"y\":[1.6602411270141602,1.8921692371368408,1.3290190696716309,2.685771942138672,1.3677849769592285,1.5889167785644531],\"yaxis\":\"y\",\"type\":\"bar\"},{\"alignmentgroup\":\"True\",\"hovertemplate\":\"Target Language=French\\u003cbr\\u003eSource Language=%{x}\\u003cbr\\u003eTranslation Time (s)=%{y}\\u003cextra\\u003e\\u003c\\u002fextra\\u003e\",\"legendgroup\":\"French\",\"marker\":{\"color\":\"#19d3f3\",\"pattern\":{\"shape\":\"\"}},\"name\":\"French\",\"offsetgroup\":\"French\",\"orientation\":\"v\",\"showlegend\":true,\"textposition\":\"auto\",\"x\":[\"English\",\"Spanish\",\"Chinese\",\"Arabic\",\"Russian\",\"German\"],\"xaxis\":\"x\",\"y\":[1.0392749309539795,1.4141581058502197,0.9705426692962646,1.1813201904296875,1.5620880126953125,1.7072482109069824],\"yaxis\":\"y\",\"type\":\"bar\"},{\"alignmentgroup\":\"True\",\"hovertemplate\":\"Target Language=English\\u003cbr\\u003eSource Language=%{x}\\u003cbr\\u003eTranslation Time (s)=%{y}\\u003cextra\\u003e\\u003c\\u002fextra\\u003e\",\"legendgroup\":\"English\",\"marker\":{\"color\":\"#FF6692\",\"pattern\":{\"shape\":\"\"}},\"name\":\"English\",\"offsetgroup\":\"English\",\"orientation\":\"v\",\"showlegend\":true,\"textposition\":\"auto\",\"x\":[\"Spanish\",\"Chinese\",\"Arabic\",\"Russian\",\"German\",\"French\"],\"xaxis\":\"x\",\"y\":[1.5199573040008545,1.5506830215454102,1.7403578758239746,1.7258391380310059,0.888477087020874,1.6627709865570068],\"yaxis\":\"y\",\"type\":\"bar\"}],                        {\"template\":{\"data\":{\"histogram2dcontour\":[{\"type\":\"histogram2dcontour\",\"colorbar\":{\"outlinewidth\":0,\"ticks\":\"\"},\"colorscale\":[[0.0,\"#0d0887\"],[0.1111111111111111,\"#46039f\"],[0.2222222222222222,\"#7201a8\"],[0.3333333333333333,\"#9c179e\"],[0.4444444444444444,\"#bd3786\"],[0.5555555555555556,\"#d8576b\"],[0.6666666666666666,\"#ed7953\"],[0.7777777777777778,\"#fb9f3a\"],[0.8888888888888888,\"#fdca26\"],[1.0,\"#f0f921\"]]}],\"choropleth\":[{\"type\":\"choropleth\",\"colorbar\":{\"outlinewidth\":0,\"ticks\":\"\"}}],\"histogram2d\":[{\"type\":\"histogram2d\",\"colorbar\":{\"outlinewidth\":0,\"ticks\":\"\"},\"colorscale\":[[0.0,\"#0d0887\"],[0.1111111111111111,\"#46039f\"],[0.2222222222222222,\"#7201a8\"],[0.3333333333333333,\"#9c179e\"],[0.4444444444444444,\"#bd3786\"],[0.5555555555555556,\"#d8576b\"],[0.6666666666666666,\"#ed7953\"],[0.7777777777777778,\"#fb9f3a\"],[0.8888888888888888,\"#fdca26\"],[1.0,\"#f0f921\"]]}],\"heatmap\":[{\"type\":\"heatmap\",\"colorbar\":{\"outlinewidth\":0,\"ticks\":\"\"},\"colorscale\":[[0.0,\"#0d0887\"],[0.1111111111111111,\"#46039f\"],[0.2222222222222222,\"#7201a8\"],[0.3333333333333333,\"#9c179e\"],[0.4444444444444444,\"#bd3786\"],[0.5555555555555556,\"#d8576b\"],[0.6666666666666666,\"#ed7953\"],[0.7777777777777778,\"#fb9f3a\"],[0.8888888888888888,\"#fdca26\"],[1.0,\"#f0f921\"]]}],\"heatmapgl\":[{\"type\":\"heatmapgl\",\"colorbar\":{\"outlinewidth\":0,\"ticks\":\"\"},\"colorscale\":[[0.0,\"#0d0887\"],[0.1111111111111111,\"#46039f\"],[0.2222222222222222,\"#7201a8\"],[0.3333333333333333,\"#9c179e\"],[0.4444444444444444,\"#bd3786\"],[0.5555555555555556,\"#d8576b\"],[0.6666666666666666,\"#ed7953\"],[0.7777777777777778,\"#fb9f3a\"],[0.8888888888888888,\"#fdca26\"],[1.0,\"#f0f921\"]]}],\"contourcarpet\":[{\"type\":\"contourcarpet\",\"colorbar\":{\"outlinewidth\":0,\"ticks\":\"\"}}],\"contour\":[{\"type\":\"contour\",\"colorbar\":{\"outlinewidth\":0,\"ticks\":\"\"},\"colorscale\":[[0.0,\"#0d0887\"],[0.1111111111111111,\"#46039f\"],[0.2222222222222222,\"#7201a8\"],[0.3333333333333333,\"#9c179e\"],[0.4444444444444444,\"#bd3786\"],[0.5555555555555556,\"#d8576b\"],[0.6666666666666666,\"#ed7953\"],[0.7777777777777778,\"#fb9f3a\"],[0.8888888888888888,\"#fdca26\"],[1.0,\"#f0f921\"]]}],\"surface\":[{\"type\":\"surface\",\"colorbar\":{\"outlinewidth\":0,\"ticks\":\"\"},\"colorscale\":[[0.0,\"#0d0887\"],[0.1111111111111111,\"#46039f\"],[0.2222222222222222,\"#7201a8\"],[0.3333333333333333,\"#9c179e\"],[0.4444444444444444,\"#bd3786\"],[0.5555555555555556,\"#d8576b\"],[0.6666666666666666,\"#ed7953\"],[0.7777777777777778,\"#fb9f3a\"],[0.8888888888888888,\"#fdca26\"],[1.0,\"#f0f921\"]]}],\"mesh3d\":[{\"type\":\"mesh3d\",\"colorbar\":{\"outlinewidth\":0,\"ticks\":\"\"}}],\"scatter\":[{\"fillpattern\":{\"fillmode\":\"overlay\",\"size\":10,\"solidity\":0.2},\"type\":\"scatter\"}],\"parcoords\":[{\"type\":\"parcoords\",\"line\":{\"colorbar\":{\"outlinewidth\":0,\"ticks\":\"\"}}}],\"scatterpolargl\":[{\"type\":\"scatterpolargl\",\"marker\":{\"colorbar\":{\"outlinewidth\":0,\"ticks\":\"\"}}}],\"bar\":[{\"error_x\":{\"color\":\"#2a3f5f\"},\"error_y\":{\"color\":\"#2a3f5f\"},\"marker\":{\"line\":{\"color\":\"#E5ECF6\",\"width\":0.5},\"pattern\":{\"fillmode\":\"overlay\",\"size\":10,\"solidity\":0.2}},\"type\":\"bar\"}],\"scattergeo\":[{\"type\":\"scattergeo\",\"marker\":{\"colorbar\":{\"outlinewidth\":0,\"ticks\":\"\"}}}],\"scatterpolar\":[{\"type\":\"scatterpolar\",\"marker\":{\"colorbar\":{\"outlinewidth\":0,\"ticks\":\"\"}}}],\"histogram\":[{\"marker\":{\"pattern\":{\"fillmode\":\"overlay\",\"size\":10,\"solidity\":0.2}},\"type\":\"histogram\"}],\"scattergl\":[{\"type\":\"scattergl\",\"marker\":{\"colorbar\":{\"outlinewidth\":0,\"ticks\":\"\"}}}],\"scatter3d\":[{\"type\":\"scatter3d\",\"line\":{\"colorbar\":{\"outlinewidth\":0,\"ticks\":\"\"}},\"marker\":{\"colorbar\":{\"outlinewidth\":0,\"ticks\":\"\"}}}],\"scattermapbox\":[{\"type\":\"scattermapbox\",\"marker\":{\"colorbar\":{\"outlinewidth\":0,\"ticks\":\"\"}}}],\"scatterternary\":[{\"type\":\"scatterternary\",\"marker\":{\"colorbar\":{\"outlinewidth\":0,\"ticks\":\"\"}}}],\"scattercarpet\":[{\"type\":\"scattercarpet\",\"marker\":{\"colorbar\":{\"outlinewidth\":0,\"ticks\":\"\"}}}],\"carpet\":[{\"aaxis\":{\"endlinecolor\":\"#2a3f5f\",\"gridcolor\":\"white\",\"linecolor\":\"white\",\"minorgridcolor\":\"white\",\"startlinecolor\":\"#2a3f5f\"},\"baxis\":{\"endlinecolor\":\"#2a3f5f\",\"gridcolor\":\"white\",\"linecolor\":\"white\",\"minorgridcolor\":\"white\",\"startlinecolor\":\"#2a3f5f\"},\"type\":\"carpet\"}],\"table\":[{\"cells\":{\"fill\":{\"color\":\"#EBF0F8\"},\"line\":{\"color\":\"white\"}},\"header\":{\"fill\":{\"color\":\"#C8D4E3\"},\"line\":{\"color\":\"white\"}},\"type\":\"table\"}],\"barpolar\":[{\"marker\":{\"line\":{\"color\":\"#E5ECF6\",\"width\":0.5},\"pattern\":{\"fillmode\":\"overlay\",\"size\":10,\"solidity\":0.2}},\"type\":\"barpolar\"}],\"pie\":[{\"automargin\":true,\"type\":\"pie\"}]},\"layout\":{\"autotypenumbers\":\"strict\",\"colorway\":[\"#636efa\",\"#EF553B\",\"#00cc96\",\"#ab63fa\",\"#FFA15A\",\"#19d3f3\",\"#FF6692\",\"#B6E880\",\"#FF97FF\",\"#FECB52\"],\"font\":{\"color\":\"#2a3f5f\"},\"hovermode\":\"closest\",\"hoverlabel\":{\"align\":\"left\"},\"paper_bgcolor\":\"white\",\"plot_bgcolor\":\"#E5ECF6\",\"polar\":{\"bgcolor\":\"#E5ECF6\",\"angularaxis\":{\"gridcolor\":\"white\",\"linecolor\":\"white\",\"ticks\":\"\"},\"radialaxis\":{\"gridcolor\":\"white\",\"linecolor\":\"white\",\"ticks\":\"\"}},\"ternary\":{\"bgcolor\":\"#E5ECF6\",\"aaxis\":{\"gridcolor\":\"white\",\"linecolor\":\"white\",\"ticks\":\"\"},\"baxis\":{\"gridcolor\":\"white\",\"linecolor\":\"white\",\"ticks\":\"\"},\"caxis\":{\"gridcolor\":\"white\",\"linecolor\":\"white\",\"ticks\":\"\"}},\"coloraxis\":{\"colorbar\":{\"outlinewidth\":0,\"ticks\":\"\"}},\"colorscale\":{\"sequential\":[[0.0,\"#0d0887\"],[0.1111111111111111,\"#46039f\"],[0.2222222222222222,\"#7201a8\"],[0.3333333333333333,\"#9c179e\"],[0.4444444444444444,\"#bd3786\"],[0.5555555555555556,\"#d8576b\"],[0.6666666666666666,\"#ed7953\"],[0.7777777777777778,\"#fb9f3a\"],[0.8888888888888888,\"#fdca26\"],[1.0,\"#f0f921\"]],\"sequentialminus\":[[0.0,\"#0d0887\"],[0.1111111111111111,\"#46039f\"],[0.2222222222222222,\"#7201a8\"],[0.3333333333333333,\"#9c179e\"],[0.4444444444444444,\"#bd3786\"],[0.5555555555555556,\"#d8576b\"],[0.6666666666666666,\"#ed7953\"],[0.7777777777777778,\"#fb9f3a\"],[0.8888888888888888,\"#fdca26\"],[1.0,\"#f0f921\"]],\"diverging\":[[0,\"#8e0152\"],[0.1,\"#c51b7d\"],[0.2,\"#de77ae\"],[0.3,\"#f1b6da\"],[0.4,\"#fde0ef\"],[0.5,\"#f7f7f7\"],[0.6,\"#e6f5d0\"],[0.7,\"#b8e186\"],[0.8,\"#7fbc41\"],[0.9,\"#4d9221\"],[1,\"#276419\"]]},\"xaxis\":{\"gridcolor\":\"white\",\"linecolor\":\"white\",\"ticks\":\"\",\"title\":{\"standoff\":15},\"zerolinecolor\":\"white\",\"automargin\":true,\"zerolinewidth\":2},\"yaxis\":{\"gridcolor\":\"white\",\"linecolor\":\"white\",\"ticks\":\"\",\"title\":{\"standoff\":15},\"zerolinecolor\":\"white\",\"automargin\":true,\"zerolinewidth\":2},\"scene\":{\"xaxis\":{\"backgroundcolor\":\"#E5ECF6\",\"gridcolor\":\"white\",\"linecolor\":\"white\",\"showbackground\":true,\"ticks\":\"\",\"zerolinecolor\":\"white\",\"gridwidth\":2},\"yaxis\":{\"backgroundcolor\":\"#E5ECF6\",\"gridcolor\":\"white\",\"linecolor\":\"white\",\"showbackground\":true,\"ticks\":\"\",\"zerolinecolor\":\"white\",\"gridwidth\":2},\"zaxis\":{\"backgroundcolor\":\"#E5ECF6\",\"gridcolor\":\"white\",\"linecolor\":\"white\",\"showbackground\":true,\"ticks\":\"\",\"zerolinecolor\":\"white\",\"gridwidth\":2}},\"shapedefaults\":{\"line\":{\"color\":\"#2a3f5f\"}},\"annotationdefaults\":{\"arrowcolor\":\"#2a3f5f\",\"arrowhead\":0,\"arrowwidth\":1},\"geo\":{\"bgcolor\":\"white\",\"landcolor\":\"#E5ECF6\",\"subunitcolor\":\"white\",\"showland\":true,\"showlakes\":true,\"lakecolor\":\"white\"},\"title\":{\"x\":0.05},\"mapbox\":{\"style\":\"light\"}}},\"xaxis\":{\"anchor\":\"y\",\"domain\":[0.0,1.0],\"title\":{\"text\":\"Source Language\"}},\"yaxis\":{\"anchor\":\"x\",\"domain\":[0.0,1.0],\"title\":{\"text\":\"Translation Time (s)\"}},\"legend\":{\"title\":{\"text\":\"Target Language\"},\"tracegroupgap\":0},\"title\":{\"text\":\"Gemini Translation Times for Paragraphs by Source and Target Language\"},\"barmode\":\"group\"},                        {\"responsive\": true}                    ).then(function(){\n",
       "                            \n",
       "var gd = document.getElementById('7c0dccf4-5095-4996-bb44-a26eae3bb241');\n",
       "var x = new MutationObserver(function (mutations, observer) {{\n",
       "        var display = window.getComputedStyle(gd).display;\n",
       "        if (!display || display === 'none') {{\n",
       "            console.log([gd, 'removed!']);\n",
       "            Plotly.purge(gd);\n",
       "            observer.disconnect();\n",
       "        }}\n",
       "}});\n",
       "\n",
       "// Listen for the removal of the full notebook cells\n",
       "var notebookContainer = gd.closest('#notebook-container');\n",
       "if (notebookContainer) {{\n",
       "    x.observe(notebookContainer, {childList: true});\n",
       "}}\n",
       "\n",
       "// Listen for the clearing of the current output cell\n",
       "var outputEl = gd.closest('.output');\n",
       "if (outputEl) {{\n",
       "    x.observe(outputEl, {childList: true});\n",
       "}}\n",
       "\n",
       "                        })                };                });            </script>        </div>"
      ]
     },
     "metadata": {},
     "output_type": "display_data"
    }
   ],
   "source": [
    "import plotly.express as px\n",
    "\n",
    "# Filtrar los datos por tipo de texto: Párrafos (Paragraph)\n",
    "df_paragraph = df[df['Text Type'] == 'paragraph']\n",
    "\n",
    "# Hugging Face Translation Times for Paragraphs\n",
    "fig_paragraph_hf = px.bar(df_paragraph, \n",
    "                          x='Source Language', \n",
    "                          y='HF Translation Time (s)', \n",
    "                          color='Target Language', \n",
    "                          barmode='group',\n",
    "                          title='Hugging Face Translation Times for Paragraphs by Source and Target Language',\n",
    "                          labels={'HF Translation Time (s)': 'Translation Time (s)', 'Source Language': 'Source Language'})\n",
    "fig_paragraph_hf.show()\n",
    "\n",
    "# Gemini Translation Times for Paragraphs\n",
    "fig_paragraph_gemini = px.bar(df_paragraph, \n",
    "                              x='Source Language', \n",
    "                              y='Gemini Translation Time (s)', \n",
    "                              color='Target Language', \n",
    "                              barmode='group',\n",
    "                              title='Gemini Translation Times for Paragraphs by Source and Target Language',\n",
    "                              labels={'Gemini Translation Time (s)': 'Translation Time (s)', 'Source Language': 'Source Language'})\n",
    "fig_paragraph_gemini.show()"
   ]
  },
  {
   "cell_type": "code",
   "execution_count": 66,
   "id": "1ef4b20d",
   "metadata": {},
   "outputs": [
    {
     "data": {
      "application/vnd.plotly.v1+json": {
       "config": {
        "plotlyServerURL": "https://plot.ly"
       },
       "data": [
        {
         "customdata": [
          [
           1.3585360050201416,
           1.2379870414733887
          ],
          [
           13.740643978118896,
           1.316380262374878
          ],
          [
           1.1046462059020996,
           2.0283420085906982
          ],
          [
           1.2646098136901855,
           0.7441580295562744
          ],
          [
           1.4940011501312256,
           1.2444560527801514
          ],
          [
           1.139242172241211,
           1.5942959785461426
          ],
          [
           1.2553839683532715,
           0.7225539684295654
          ],
          [
           2.630890130996704,
           1.3782050609588623
          ],
          [
           2.0991649627685547,
           1.3806681632995605
          ],
          [
           1.322613000869751,
           1.3301572799682617
          ],
          [
           1.374389886856079,
           2.9502298831939697
          ],
          [
           1.6086070537567139,
           1.335433006286621
          ],
          [
           1.3883557319641113,
           1.2443571090698242
          ],
          [
           2.1974589824676514,
           1.4913959503173828
          ],
          [
           2.402592182159424,
           1.000349998474121
          ],
          [
           3.315403938293457,
           1.7514681816101074
          ],
          [
           1.2411401271820068,
           1.4466350078582764
          ],
          [
           2.498991012573242,
           0.6518137454986572
          ],
          [
           1.3208303451538086,
           1.269300937652588
          ],
          [
           1.2219188213348389,
           1.3310701847076416
          ],
          [
           1.468353033065796,
           1.4510631561279297
          ],
          [
           1.1260268688201904,
           3.1867992877960205
          ],
          [
           1.2564501762390137,
           0.7432858943939209
          ],
          [
           1.299926996231079,
           1.3885347843170166
          ],
          [
           1.6997742652893066,
           0.8337538242340088
          ],
          [
           1.7802999019622803,
           1.0132710933685303
          ],
          [
           1.0505709648132324,
           1.1377952098846436
          ],
          [
           3.4366421699523926,
           0.8027439117431641
          ],
          [
           0.8088362216949463,
           1.1905317306518555
          ],
          [
           1.2476017475128174,
           1.1755709648132324
          ],
          [
           1.3644249439239502,
           1.2019259929656982
          ],
          [
           1.4145750999450684,
           0.8293249607086182
          ],
          [
           1.491034746170044,
           1.055283784866333
          ],
          [
           1.1225769519805908,
           0.8219468593597412
          ],
          [
           1.3700709342956543,
           1.2132079601287842
          ],
          [
           1.6978182792663574,
           1.4774141311645508
          ],
          [
           1.1506881713867188,
           0.6419088840484619
          ],
          [
           1.610727310180664,
           1.3490979671478271
          ],
          [
           1.3388068675994873,
           1.3789091110229492
          ],
          [
           3.5965938568115234,
           0.9875130653381348
          ],
          [
           1.6343181133270264,
           1.623656988143921
          ],
          [
           1.4454882144927979,
           1.1870810985565186
          ]
         ],
         "hovertemplate": "Text Type=word<br>Source Language=%{x}<br>Target Language=%{y}<br>HF Translation Time (s)=%{customdata[0]}<br>Gemini Translation Time (s)=%{customdata[1]}<extra></extra>",
         "legendgroup": "word",
         "marker": {
          "color": "#636efa",
          "line": {
           "width": 2
          },
          "size": [
           1.3585360050201416,
           13.740643978118896,
           1.1046462059020996,
           1.2646098136901855,
           1.4940011501312256,
           1.139242172241211,
           1.2553839683532715,
           2.630890130996704,
           2.0991649627685547,
           1.322613000869751,
           1.374389886856079,
           1.6086070537567139,
           1.3883557319641113,
           2.1974589824676514,
           2.402592182159424,
           3.315403938293457,
           1.2411401271820068,
           2.498991012573242,
           1.3208303451538086,
           1.2219188213348389,
           1.468353033065796,
           1.1260268688201904,
           1.2564501762390137,
           1.299926996231079,
           1.6997742652893066,
           1.7802999019622803,
           1.0505709648132324,
           3.4366421699523926,
           0.8088362216949463,
           1.2476017475128174,
           1.3644249439239502,
           1.4145750999450684,
           1.491034746170044,
           1.1225769519805908,
           1.3700709342956543,
           1.6978182792663574,
           1.1506881713867188,
           1.610727310180664,
           1.3388068675994873,
           3.5965938568115234,
           1.6343181133270264,
           1.4454882144927979
          ],
          "sizemode": "area",
          "sizeref": 0.0027481287956237794,
          "symbol": "circle"
         },
         "mode": "markers",
         "name": "word",
         "orientation": "v",
         "showlegend": true,
         "type": "scatter",
         "x": [
          "English",
          "English",
          "English",
          "English",
          "English",
          "English",
          "Spanish",
          "Spanish",
          "Spanish",
          "Spanish",
          "Spanish",
          "Spanish",
          "Chinese",
          "Chinese",
          "Chinese",
          "Chinese",
          "Chinese",
          "Chinese",
          "Arabic",
          "Arabic",
          "Arabic",
          "Arabic",
          "Arabic",
          "Arabic",
          "Russian",
          "Russian",
          "Russian",
          "Russian",
          "Russian",
          "Russian",
          "German",
          "German",
          "German",
          "German",
          "German",
          "German",
          "French",
          "French",
          "French",
          "French",
          "French",
          "French"
         ],
         "xaxis": "x",
         "y": [
          "Spanish",
          "Chinese",
          "Arabic",
          "Russian",
          "German",
          "French",
          "English",
          "Chinese",
          "Arabic",
          "Russian",
          "German",
          "French",
          "English",
          "Spanish",
          "Arabic",
          "Russian",
          "German",
          "French",
          "English",
          "Spanish",
          "Chinese",
          "Russian",
          "German",
          "French",
          "English",
          "Spanish",
          "Chinese",
          "Arabic",
          "German",
          "French",
          "English",
          "Spanish",
          "Chinese",
          "Arabic",
          "Russian",
          "French",
          "English",
          "Spanish",
          "Chinese",
          "Arabic",
          "Russian",
          "German"
         ],
         "yaxis": "y"
        },
        {
         "customdata": [
          [
           0.2865791320800781,
           0.8984739780426025
          ],
          [
           0.22876715660095215,
           1.3084239959716797
          ],
          [
           0.2668418884277344,
           1.1488580703735352
          ],
          [
           0.21195077896118164,
           1.430616855621338
          ],
          [
           0.2397630214691162,
           1.6936511993408203
          ],
          [
           0.29642319679260254,
           2.8664419651031494
          ],
          [
           0.24301600456237793,
           0.7194807529449463
          ],
          [
           2.0359020233154297,
           1.5183520317077637
          ],
          [
           2.5022132396698,
           0.9719321727752686
          ],
          [
           0.3540501594543457,
           1.3655321598052979
          ],
          [
           0.31681108474731445,
           2.7571301460266113
          ],
          [
           0.2710847854614258,
           1.120973825454712
          ],
          [
           0.3995399475097656,
           1.629969835281372
          ],
          [
           1.0220363140106201,
           1.4996600151062012
          ],
          [
           2.0003702640533447,
           1.4192140102386475
          ],
          [
           0.9264540672302246,
           1.2350690364837646
          ],
          [
           0.248138427734375,
           1.0810019969940186
          ],
          [
           1.3942170143127441,
           1.6593141555786133
          ],
          [
           0.23713397979736328,
           1.3741400241851807
          ],
          [
           0.45336389541625977,
           2.6365370750427246
          ],
          [
           1.3538780212402344,
           1.4402518272399902
          ],
          [
           1.0349700450897217,
           2.5184152126312256
          ],
          [
           0.3743317127227783,
           1.2003870010375977
          ],
          [
           0.2761862277984619,
           1.0483617782592773
          ],
          [
           0.3680441379547119,
           0.6703588962554932
          ],
          [
           0.5595557689666748,
           1.1546642780303955
          ],
          [
           1.3514549732208252,
           0.7927978038787842
          ],
          [
           0.5098698139190674,
           1.0881547927856445
          ],
          [
           1.1121149063110352,
           0.9343860149383545
          ],
          [
           0.4336278438568115,
           1.238081932067871
          ],
          [
           0.3016219139099121,
           1.240849256515503
          ],
          [
           0.33475208282470703,
           1.099822759628296
          ],
          [
           0.18531394004821777,
           1.0637290477752686
          ],
          [
           4.330995321273804,
           1.4813592433929443
          ],
          [
           1.2256288528442383,
           0.8602187633514404
          ],
          [
           0.38873910903930664,
           0.8149418830871582
          ],
          [
           0.33710265159606934,
           1.552243947982788
          ],
          [
           0.8951599597930908,
           1.3144659996032715
          ],
          [
           0.9294121265411377,
           0.8887500762939453
          ],
          [
           0.28314971923828125,
           1.392383337020874
          ],
          [
           0.40846896171569824,
           1.0934021472930908
          ],
          [
           0.4187180995941162,
           1.3435871601104736
          ]
         ],
         "hovertemplate": "Text Type=sentence<br>Source Language=%{x}<br>Target Language=%{y}<br>HF Translation Time (s)=%{customdata[0]}<br>Gemini Translation Time (s)=%{customdata[1]}<extra></extra>",
         "legendgroup": "sentence",
         "marker": {
          "color": "#EF553B",
          "line": {
           "width": 2
          },
          "size": [
           0.2865791320800781,
           0.22876715660095215,
           0.2668418884277344,
           0.21195077896118164,
           0.2397630214691162,
           0.29642319679260254,
           0.24301600456237793,
           2.0359020233154297,
           2.5022132396698,
           0.3540501594543457,
           0.31681108474731445,
           0.2710847854614258,
           0.3995399475097656,
           1.0220363140106201,
           2.0003702640533447,
           0.9264540672302246,
           0.248138427734375,
           1.3942170143127441,
           0.23713397979736328,
           0.45336389541625977,
           1.3538780212402344,
           1.0349700450897217,
           0.3743317127227783,
           0.2761862277984619,
           0.3680441379547119,
           0.5595557689666748,
           1.3514549732208252,
           0.5098698139190674,
           1.1121149063110352,
           0.4336278438568115,
           0.3016219139099121,
           0.33475208282470703,
           0.18531394004821777,
           4.330995321273804,
           1.2256288528442383,
           0.38873910903930664,
           0.33710265159606934,
           0.8951599597930908,
           0.9294121265411377,
           0.28314971923828125,
           0.40846896171569824,
           0.4187180995941162
          ],
          "sizemode": "area",
          "sizeref": 0.0027481287956237794,
          "symbol": "circle"
         },
         "mode": "markers",
         "name": "sentence",
         "orientation": "v",
         "showlegend": true,
         "type": "scatter",
         "x": [
          "English",
          "English",
          "English",
          "English",
          "English",
          "English",
          "Spanish",
          "Spanish",
          "Spanish",
          "Spanish",
          "Spanish",
          "Spanish",
          "Chinese",
          "Chinese",
          "Chinese",
          "Chinese",
          "Chinese",
          "Chinese",
          "Arabic",
          "Arabic",
          "Arabic",
          "Arabic",
          "Arabic",
          "Arabic",
          "Russian",
          "Russian",
          "Russian",
          "Russian",
          "Russian",
          "Russian",
          "German",
          "German",
          "German",
          "German",
          "German",
          "German",
          "French",
          "French",
          "French",
          "French",
          "French",
          "French"
         ],
         "xaxis": "x",
         "y": [
          "Spanish",
          "Chinese",
          "Arabic",
          "Russian",
          "German",
          "French",
          "English",
          "Chinese",
          "Arabic",
          "Russian",
          "German",
          "French",
          "English",
          "Spanish",
          "Arabic",
          "Russian",
          "German",
          "French",
          "English",
          "Spanish",
          "Chinese",
          "Russian",
          "German",
          "French",
          "English",
          "Spanish",
          "Chinese",
          "Arabic",
          "German",
          "French",
          "English",
          "Spanish",
          "Chinese",
          "Arabic",
          "Russian",
          "French",
          "English",
          "Spanish",
          "Chinese",
          "Arabic",
          "Russian",
          "German"
         ],
         "yaxis": "y"
        },
        {
         "customdata": [
          [
           0.803361177444458,
           1.082571029663086
          ],
          [
           0.6843557357788086,
           2.2611677646636963
          ],
          [
           0.9934122562408447,
           3.7522997856140137
          ],
          [
           0.7129669189453125,
           1.8011870384216309
          ],
          [
           1.4659051895141602,
           1.6602411270141602
          ],
          [
           1.1287760734558105,
           1.0392749309539795
          ],
          [
           0.7793700695037842,
           1.5199573040008545
          ],
          [
           1.2370860576629639,
           1.5052931308746338
          ],
          [
           3.2258729934692383,
           1.3251457214355469
          ],
          [
           1.077500820159912,
           1.9576070308685303
          ],
          [
           1.204503059387207,
           1.8921692371368408
          ],
          [
           1.1909446716308594,
           1.4141581058502197
          ],
          [
           0.6267950534820557,
           1.5506830215454102
          ],
          [
           1.2419509887695312,
           2.0946249961853027
          ],
          [
           1.6693220138549805,
           1.7023723125457764
          ],
          [
           3.25339412689209,
           2.876293182373047
          ],
          [
           0.5382981300354004,
           1.3290190696716309
          ],
          [
           1.6685988903045654,
           0.9705426692962646
          ],
          [
           0.6541798114776611,
           1.7403578758239746
          ],
          [
           1.7078211307525635,
           2.2919490337371826
          ],
          [
           2.8444862365722656,
           1.6835520267486572
          ],
          [
           1.7733790874481201,
           1.7189140319824219
          ],
          [
           0.7584409713745117,
           2.685771942138672
          ],
          [
           1.1362709999084473,
           1.1813201904296875
          ],
          [
           1.9286088943481445,
           1.7258391380310059
          ],
          [
           1.2246110439300537,
           1.4424922466278076
          ],
          [
           1.5411877632141113,
           1.34322190284729
          ],
          [
           2.07962703704834,
           1.5502395629882812
          ],
          [
           1.4001829624176025,
           1.3677849769592285
          ],
          [
           0.9930951595306396,
           1.5620880126953125
          ],
          [
           1.2487561702728271,
           0.888477087020874
          ],
          [
           1.4780189990997314,
           1.4125230312347412
          ],
          [
           1.4340059757232666,
           1.6429612636566162
          ],
          [
           4.725088119506836,
           1.605109691619873
          ],
          [
           1.8978078365325928,
           1.2338168621063232
          ],
          [
           1.1848080158233643,
           1.7072482109069824
          ],
          [
           0.7789719104766846,
           1.6627709865570068
          ],
          [
           1.6162447929382324,
           0.9638171195983887
          ],
          [
           1.9492690563201904,
           2.072402000427246
          ],
          [
           2.0985288619995117,
           1.1951820850372314
          ],
          [
           1.3011457920074463,
           1.1753621101379395
          ],
          [
           1.2787389755249023,
           1.5889167785644531
          ]
         ],
         "hovertemplate": "Text Type=paragraph<br>Source Language=%{x}<br>Target Language=%{y}<br>HF Translation Time (s)=%{customdata[0]}<br>Gemini Translation Time (s)=%{customdata[1]}<extra></extra>",
         "legendgroup": "paragraph",
         "marker": {
          "color": "#00cc96",
          "line": {
           "width": 2
          },
          "size": [
           0.803361177444458,
           0.6843557357788086,
           0.9934122562408447,
           0.7129669189453125,
           1.4659051895141602,
           1.1287760734558105,
           0.7793700695037842,
           1.2370860576629639,
           3.2258729934692383,
           1.077500820159912,
           1.204503059387207,
           1.1909446716308594,
           0.6267950534820557,
           1.2419509887695312,
           1.6693220138549805,
           3.25339412689209,
           0.5382981300354004,
           1.6685988903045654,
           0.6541798114776611,
           1.7078211307525635,
           2.8444862365722656,
           1.7733790874481201,
           0.7584409713745117,
           1.1362709999084473,
           1.9286088943481445,
           1.2246110439300537,
           1.5411877632141113,
           2.07962703704834,
           1.4001829624176025,
           0.9930951595306396,
           1.2487561702728271,
           1.4780189990997314,
           1.4340059757232666,
           4.725088119506836,
           1.8978078365325928,
           1.1848080158233643,
           0.7789719104766846,
           1.6162447929382324,
           1.9492690563201904,
           2.0985288619995117,
           1.3011457920074463,
           1.2787389755249023
          ],
          "sizemode": "area",
          "sizeref": 0.0027481287956237794,
          "symbol": "circle"
         },
         "mode": "markers",
         "name": "paragraph",
         "orientation": "v",
         "showlegend": true,
         "type": "scatter",
         "x": [
          "English",
          "English",
          "English",
          "English",
          "English",
          "English",
          "Spanish",
          "Spanish",
          "Spanish",
          "Spanish",
          "Spanish",
          "Spanish",
          "Chinese",
          "Chinese",
          "Chinese",
          "Chinese",
          "Chinese",
          "Chinese",
          "Arabic",
          "Arabic",
          "Arabic",
          "Arabic",
          "Arabic",
          "Arabic",
          "Russian",
          "Russian",
          "Russian",
          "Russian",
          "Russian",
          "Russian",
          "German",
          "German",
          "German",
          "German",
          "German",
          "German",
          "French",
          "French",
          "French",
          "French",
          "French",
          "French"
         ],
         "xaxis": "x",
         "y": [
          "Spanish",
          "Chinese",
          "Arabic",
          "Russian",
          "German",
          "French",
          "English",
          "Chinese",
          "Arabic",
          "Russian",
          "German",
          "French",
          "English",
          "Spanish",
          "Arabic",
          "Russian",
          "German",
          "French",
          "English",
          "Spanish",
          "Chinese",
          "Russian",
          "German",
          "French",
          "English",
          "Spanish",
          "Chinese",
          "Arabic",
          "German",
          "French",
          "English",
          "Spanish",
          "Chinese",
          "Arabic",
          "Russian",
          "French",
          "English",
          "Spanish",
          "Chinese",
          "Arabic",
          "Russian",
          "German"
         ],
         "yaxis": "y"
        }
       ],
       "layout": {
        "legend": {
         "itemsizing": "constant",
         "title": {
          "text": "Text Type"
         },
         "tracegroupgap": 0
        },
        "template": {
         "data": {
          "bar": [
           {
            "error_x": {
             "color": "#2a3f5f"
            },
            "error_y": {
             "color": "#2a3f5f"
            },
            "marker": {
             "line": {
              "color": "#E5ECF6",
              "width": 0.5
             },
             "pattern": {
              "fillmode": "overlay",
              "size": 10,
              "solidity": 0.2
             }
            },
            "type": "bar"
           }
          ],
          "barpolar": [
           {
            "marker": {
             "line": {
              "color": "#E5ECF6",
              "width": 0.5
             },
             "pattern": {
              "fillmode": "overlay",
              "size": 10,
              "solidity": 0.2
             }
            },
            "type": "barpolar"
           }
          ],
          "carpet": [
           {
            "aaxis": {
             "endlinecolor": "#2a3f5f",
             "gridcolor": "white",
             "linecolor": "white",
             "minorgridcolor": "white",
             "startlinecolor": "#2a3f5f"
            },
            "baxis": {
             "endlinecolor": "#2a3f5f",
             "gridcolor": "white",
             "linecolor": "white",
             "minorgridcolor": "white",
             "startlinecolor": "#2a3f5f"
            },
            "type": "carpet"
           }
          ],
          "choropleth": [
           {
            "colorbar": {
             "outlinewidth": 0,
             "ticks": ""
            },
            "type": "choropleth"
           }
          ],
          "contour": [
           {
            "colorbar": {
             "outlinewidth": 0,
             "ticks": ""
            },
            "colorscale": [
             [
              0,
              "#0d0887"
             ],
             [
              0.1111111111111111,
              "#46039f"
             ],
             [
              0.2222222222222222,
              "#7201a8"
             ],
             [
              0.3333333333333333,
              "#9c179e"
             ],
             [
              0.4444444444444444,
              "#bd3786"
             ],
             [
              0.5555555555555556,
              "#d8576b"
             ],
             [
              0.6666666666666666,
              "#ed7953"
             ],
             [
              0.7777777777777778,
              "#fb9f3a"
             ],
             [
              0.8888888888888888,
              "#fdca26"
             ],
             [
              1,
              "#f0f921"
             ]
            ],
            "type": "contour"
           }
          ],
          "contourcarpet": [
           {
            "colorbar": {
             "outlinewidth": 0,
             "ticks": ""
            },
            "type": "contourcarpet"
           }
          ],
          "heatmap": [
           {
            "colorbar": {
             "outlinewidth": 0,
             "ticks": ""
            },
            "colorscale": [
             [
              0,
              "#0d0887"
             ],
             [
              0.1111111111111111,
              "#46039f"
             ],
             [
              0.2222222222222222,
              "#7201a8"
             ],
             [
              0.3333333333333333,
              "#9c179e"
             ],
             [
              0.4444444444444444,
              "#bd3786"
             ],
             [
              0.5555555555555556,
              "#d8576b"
             ],
             [
              0.6666666666666666,
              "#ed7953"
             ],
             [
              0.7777777777777778,
              "#fb9f3a"
             ],
             [
              0.8888888888888888,
              "#fdca26"
             ],
             [
              1,
              "#f0f921"
             ]
            ],
            "type": "heatmap"
           }
          ],
          "heatmapgl": [
           {
            "colorbar": {
             "outlinewidth": 0,
             "ticks": ""
            },
            "colorscale": [
             [
              0,
              "#0d0887"
             ],
             [
              0.1111111111111111,
              "#46039f"
             ],
             [
              0.2222222222222222,
              "#7201a8"
             ],
             [
              0.3333333333333333,
              "#9c179e"
             ],
             [
              0.4444444444444444,
              "#bd3786"
             ],
             [
              0.5555555555555556,
              "#d8576b"
             ],
             [
              0.6666666666666666,
              "#ed7953"
             ],
             [
              0.7777777777777778,
              "#fb9f3a"
             ],
             [
              0.8888888888888888,
              "#fdca26"
             ],
             [
              1,
              "#f0f921"
             ]
            ],
            "type": "heatmapgl"
           }
          ],
          "histogram": [
           {
            "marker": {
             "pattern": {
              "fillmode": "overlay",
              "size": 10,
              "solidity": 0.2
             }
            },
            "type": "histogram"
           }
          ],
          "histogram2d": [
           {
            "colorbar": {
             "outlinewidth": 0,
             "ticks": ""
            },
            "colorscale": [
             [
              0,
              "#0d0887"
             ],
             [
              0.1111111111111111,
              "#46039f"
             ],
             [
              0.2222222222222222,
              "#7201a8"
             ],
             [
              0.3333333333333333,
              "#9c179e"
             ],
             [
              0.4444444444444444,
              "#bd3786"
             ],
             [
              0.5555555555555556,
              "#d8576b"
             ],
             [
              0.6666666666666666,
              "#ed7953"
             ],
             [
              0.7777777777777778,
              "#fb9f3a"
             ],
             [
              0.8888888888888888,
              "#fdca26"
             ],
             [
              1,
              "#f0f921"
             ]
            ],
            "type": "histogram2d"
           }
          ],
          "histogram2dcontour": [
           {
            "colorbar": {
             "outlinewidth": 0,
             "ticks": ""
            },
            "colorscale": [
             [
              0,
              "#0d0887"
             ],
             [
              0.1111111111111111,
              "#46039f"
             ],
             [
              0.2222222222222222,
              "#7201a8"
             ],
             [
              0.3333333333333333,
              "#9c179e"
             ],
             [
              0.4444444444444444,
              "#bd3786"
             ],
             [
              0.5555555555555556,
              "#d8576b"
             ],
             [
              0.6666666666666666,
              "#ed7953"
             ],
             [
              0.7777777777777778,
              "#fb9f3a"
             ],
             [
              0.8888888888888888,
              "#fdca26"
             ],
             [
              1,
              "#f0f921"
             ]
            ],
            "type": "histogram2dcontour"
           }
          ],
          "mesh3d": [
           {
            "colorbar": {
             "outlinewidth": 0,
             "ticks": ""
            },
            "type": "mesh3d"
           }
          ],
          "parcoords": [
           {
            "line": {
             "colorbar": {
              "outlinewidth": 0,
              "ticks": ""
             }
            },
            "type": "parcoords"
           }
          ],
          "pie": [
           {
            "automargin": true,
            "type": "pie"
           }
          ],
          "scatter": [
           {
            "fillpattern": {
             "fillmode": "overlay",
             "size": 10,
             "solidity": 0.2
            },
            "type": "scatter"
           }
          ],
          "scatter3d": [
           {
            "line": {
             "colorbar": {
              "outlinewidth": 0,
              "ticks": ""
             }
            },
            "marker": {
             "colorbar": {
              "outlinewidth": 0,
              "ticks": ""
             }
            },
            "type": "scatter3d"
           }
          ],
          "scattercarpet": [
           {
            "marker": {
             "colorbar": {
              "outlinewidth": 0,
              "ticks": ""
             }
            },
            "type": "scattercarpet"
           }
          ],
          "scattergeo": [
           {
            "marker": {
             "colorbar": {
              "outlinewidth": 0,
              "ticks": ""
             }
            },
            "type": "scattergeo"
           }
          ],
          "scattergl": [
           {
            "marker": {
             "colorbar": {
              "outlinewidth": 0,
              "ticks": ""
             }
            },
            "type": "scattergl"
           }
          ],
          "scattermapbox": [
           {
            "marker": {
             "colorbar": {
              "outlinewidth": 0,
              "ticks": ""
             }
            },
            "type": "scattermapbox"
           }
          ],
          "scatterpolar": [
           {
            "marker": {
             "colorbar": {
              "outlinewidth": 0,
              "ticks": ""
             }
            },
            "type": "scatterpolar"
           }
          ],
          "scatterpolargl": [
           {
            "marker": {
             "colorbar": {
              "outlinewidth": 0,
              "ticks": ""
             }
            },
            "type": "scatterpolargl"
           }
          ],
          "scatterternary": [
           {
            "marker": {
             "colorbar": {
              "outlinewidth": 0,
              "ticks": ""
             }
            },
            "type": "scatterternary"
           }
          ],
          "surface": [
           {
            "colorbar": {
             "outlinewidth": 0,
             "ticks": ""
            },
            "colorscale": [
             [
              0,
              "#0d0887"
             ],
             [
              0.1111111111111111,
              "#46039f"
             ],
             [
              0.2222222222222222,
              "#7201a8"
             ],
             [
              0.3333333333333333,
              "#9c179e"
             ],
             [
              0.4444444444444444,
              "#bd3786"
             ],
             [
              0.5555555555555556,
              "#d8576b"
             ],
             [
              0.6666666666666666,
              "#ed7953"
             ],
             [
              0.7777777777777778,
              "#fb9f3a"
             ],
             [
              0.8888888888888888,
              "#fdca26"
             ],
             [
              1,
              "#f0f921"
             ]
            ],
            "type": "surface"
           }
          ],
          "table": [
           {
            "cells": {
             "fill": {
              "color": "#EBF0F8"
             },
             "line": {
              "color": "white"
             }
            },
            "header": {
             "fill": {
              "color": "#C8D4E3"
             },
             "line": {
              "color": "white"
             }
            },
            "type": "table"
           }
          ]
         },
         "layout": {
          "annotationdefaults": {
           "arrowcolor": "#2a3f5f",
           "arrowhead": 0,
           "arrowwidth": 1
          },
          "autotypenumbers": "strict",
          "coloraxis": {
           "colorbar": {
            "outlinewidth": 0,
            "ticks": ""
           }
          },
          "colorscale": {
           "diverging": [
            [
             0,
             "#8e0152"
            ],
            [
             0.1,
             "#c51b7d"
            ],
            [
             0.2,
             "#de77ae"
            ],
            [
             0.3,
             "#f1b6da"
            ],
            [
             0.4,
             "#fde0ef"
            ],
            [
             0.5,
             "#f7f7f7"
            ],
            [
             0.6,
             "#e6f5d0"
            ],
            [
             0.7,
             "#b8e186"
            ],
            [
             0.8,
             "#7fbc41"
            ],
            [
             0.9,
             "#4d9221"
            ],
            [
             1,
             "#276419"
            ]
           ],
           "sequential": [
            [
             0,
             "#0d0887"
            ],
            [
             0.1111111111111111,
             "#46039f"
            ],
            [
             0.2222222222222222,
             "#7201a8"
            ],
            [
             0.3333333333333333,
             "#9c179e"
            ],
            [
             0.4444444444444444,
             "#bd3786"
            ],
            [
             0.5555555555555556,
             "#d8576b"
            ],
            [
             0.6666666666666666,
             "#ed7953"
            ],
            [
             0.7777777777777778,
             "#fb9f3a"
            ],
            [
             0.8888888888888888,
             "#fdca26"
            ],
            [
             1,
             "#f0f921"
            ]
           ],
           "sequentialminus": [
            [
             0,
             "#0d0887"
            ],
            [
             0.1111111111111111,
             "#46039f"
            ],
            [
             0.2222222222222222,
             "#7201a8"
            ],
            [
             0.3333333333333333,
             "#9c179e"
            ],
            [
             0.4444444444444444,
             "#bd3786"
            ],
            [
             0.5555555555555556,
             "#d8576b"
            ],
            [
             0.6666666666666666,
             "#ed7953"
            ],
            [
             0.7777777777777778,
             "#fb9f3a"
            ],
            [
             0.8888888888888888,
             "#fdca26"
            ],
            [
             1,
             "#f0f921"
            ]
           ]
          },
          "colorway": [
           "#636efa",
           "#EF553B",
           "#00cc96",
           "#ab63fa",
           "#FFA15A",
           "#19d3f3",
           "#FF6692",
           "#B6E880",
           "#FF97FF",
           "#FECB52"
          ],
          "font": {
           "color": "#2a3f5f"
          },
          "geo": {
           "bgcolor": "white",
           "lakecolor": "white",
           "landcolor": "#E5ECF6",
           "showlakes": true,
           "showland": true,
           "subunitcolor": "white"
          },
          "hoverlabel": {
           "align": "left"
          },
          "hovermode": "closest",
          "mapbox": {
           "style": "light"
          },
          "paper_bgcolor": "white",
          "plot_bgcolor": "#E5ECF6",
          "polar": {
           "angularaxis": {
            "gridcolor": "white",
            "linecolor": "white",
            "ticks": ""
           },
           "bgcolor": "#E5ECF6",
           "radialaxis": {
            "gridcolor": "white",
            "linecolor": "white",
            "ticks": ""
           }
          },
          "scene": {
           "xaxis": {
            "backgroundcolor": "#E5ECF6",
            "gridcolor": "white",
            "gridwidth": 2,
            "linecolor": "white",
            "showbackground": true,
            "ticks": "",
            "zerolinecolor": "white"
           },
           "yaxis": {
            "backgroundcolor": "#E5ECF6",
            "gridcolor": "white",
            "gridwidth": 2,
            "linecolor": "white",
            "showbackground": true,
            "ticks": "",
            "zerolinecolor": "white"
           },
           "zaxis": {
            "backgroundcolor": "#E5ECF6",
            "gridcolor": "white",
            "gridwidth": 2,
            "linecolor": "white",
            "showbackground": true,
            "ticks": "",
            "zerolinecolor": "white"
           }
          },
          "shapedefaults": {
           "line": {
            "color": "#2a3f5f"
           }
          },
          "ternary": {
           "aaxis": {
            "gridcolor": "white",
            "linecolor": "white",
            "ticks": ""
           },
           "baxis": {
            "gridcolor": "white",
            "linecolor": "white",
            "ticks": ""
           },
           "bgcolor": "#E5ECF6",
           "caxis": {
            "gridcolor": "white",
            "linecolor": "white",
            "ticks": ""
           }
          },
          "title": {
           "x": 0.05
          },
          "xaxis": {
           "automargin": true,
           "gridcolor": "white",
           "linecolor": "white",
           "ticks": "",
           "title": {
            "standoff": 15
           },
           "zerolinecolor": "white",
           "zerolinewidth": 2
          },
          "yaxis": {
           "automargin": true,
           "gridcolor": "white",
           "linecolor": "white",
           "ticks": "",
           "title": {
            "standoff": 15
           },
           "zerolinecolor": "white",
           "zerolinewidth": 2
          }
         }
        },
        "title": {
         "text": "Hugging Face Translation Times by Source and Target Language with Text Type"
        },
        "xaxis": {
         "anchor": "y",
         "domain": [
          0,
          1
         ],
         "title": {
          "text": "Source Language"
         }
        },
        "yaxis": {
         "anchor": "x",
         "domain": [
          0,
          1
         ],
         "title": {
          "text": "Target Language"
         }
        }
       }
      },
      "text/html": [
       "<div>                            <div id=\"552e0265-9234-472b-a2d7-2dd047f4c7e7\" class=\"plotly-graph-div\" style=\"height:525px; width:100%;\"></div>            <script type=\"text/javascript\">                require([\"plotly\"], function(Plotly) {                    window.PLOTLYENV=window.PLOTLYENV || {};                                    if (document.getElementById(\"552e0265-9234-472b-a2d7-2dd047f4c7e7\")) {                    Plotly.newPlot(                        \"552e0265-9234-472b-a2d7-2dd047f4c7e7\",                        [{\"customdata\":[[1.3585360050201416,1.2379870414733887],[13.740643978118896,1.316380262374878],[1.1046462059020996,2.0283420085906982],[1.2646098136901855,0.7441580295562744],[1.4940011501312256,1.2444560527801514],[1.139242172241211,1.5942959785461426],[1.2553839683532715,0.7225539684295654],[2.630890130996704,1.3782050609588623],[2.0991649627685547,1.3806681632995605],[1.322613000869751,1.3301572799682617],[1.374389886856079,2.9502298831939697],[1.6086070537567139,1.335433006286621],[1.3883557319641113,1.2443571090698242],[2.1974589824676514,1.4913959503173828],[2.402592182159424,1.000349998474121],[3.315403938293457,1.7514681816101074],[1.2411401271820068,1.4466350078582764],[2.498991012573242,0.6518137454986572],[1.3208303451538086,1.269300937652588],[1.2219188213348389,1.3310701847076416],[1.468353033065796,1.4510631561279297],[1.1260268688201904,3.1867992877960205],[1.2564501762390137,0.7432858943939209],[1.299926996231079,1.3885347843170166],[1.6997742652893066,0.8337538242340088],[1.7802999019622803,1.0132710933685303],[1.0505709648132324,1.1377952098846436],[3.4366421699523926,0.8027439117431641],[0.8088362216949463,1.1905317306518555],[1.2476017475128174,1.1755709648132324],[1.3644249439239502,1.2019259929656982],[1.4145750999450684,0.8293249607086182],[1.491034746170044,1.055283784866333],[1.1225769519805908,0.8219468593597412],[1.3700709342956543,1.2132079601287842],[1.6978182792663574,1.4774141311645508],[1.1506881713867188,0.6419088840484619],[1.610727310180664,1.3490979671478271],[1.3388068675994873,1.3789091110229492],[3.5965938568115234,0.9875130653381348],[1.6343181133270264,1.623656988143921],[1.4454882144927979,1.1870810985565186]],\"hovertemplate\":\"Text Type=word\\u003cbr\\u003eSource Language=%{x}\\u003cbr\\u003eTarget Language=%{y}\\u003cbr\\u003eHF Translation Time (s)=%{customdata[0]}\\u003cbr\\u003eGemini Translation Time (s)=%{customdata[1]}\\u003cextra\\u003e\\u003c\\u002fextra\\u003e\",\"legendgroup\":\"word\",\"marker\":{\"color\":\"#636efa\",\"size\":[1.3585360050201416,13.740643978118896,1.1046462059020996,1.2646098136901855,1.4940011501312256,1.139242172241211,1.2553839683532715,2.630890130996704,2.0991649627685547,1.322613000869751,1.374389886856079,1.6086070537567139,1.3883557319641113,2.1974589824676514,2.402592182159424,3.315403938293457,1.2411401271820068,2.498991012573242,1.3208303451538086,1.2219188213348389,1.468353033065796,1.1260268688201904,1.2564501762390137,1.299926996231079,1.6997742652893066,1.7802999019622803,1.0505709648132324,3.4366421699523926,0.8088362216949463,1.2476017475128174,1.3644249439239502,1.4145750999450684,1.491034746170044,1.1225769519805908,1.3700709342956543,1.6978182792663574,1.1506881713867188,1.610727310180664,1.3388068675994873,3.5965938568115234,1.6343181133270264,1.4454882144927979],\"sizemode\":\"area\",\"sizeref\":0.0027481287956237794,\"symbol\":\"circle\",\"line\":{\"width\":2}},\"mode\":\"markers\",\"name\":\"word\",\"orientation\":\"v\",\"showlegend\":true,\"x\":[\"English\",\"English\",\"English\",\"English\",\"English\",\"English\",\"Spanish\",\"Spanish\",\"Spanish\",\"Spanish\",\"Spanish\",\"Spanish\",\"Chinese\",\"Chinese\",\"Chinese\",\"Chinese\",\"Chinese\",\"Chinese\",\"Arabic\",\"Arabic\",\"Arabic\",\"Arabic\",\"Arabic\",\"Arabic\",\"Russian\",\"Russian\",\"Russian\",\"Russian\",\"Russian\",\"Russian\",\"German\",\"German\",\"German\",\"German\",\"German\",\"German\",\"French\",\"French\",\"French\",\"French\",\"French\",\"French\"],\"xaxis\":\"x\",\"y\":[\"Spanish\",\"Chinese\",\"Arabic\",\"Russian\",\"German\",\"French\",\"English\",\"Chinese\",\"Arabic\",\"Russian\",\"German\",\"French\",\"English\",\"Spanish\",\"Arabic\",\"Russian\",\"German\",\"French\",\"English\",\"Spanish\",\"Chinese\",\"Russian\",\"German\",\"French\",\"English\",\"Spanish\",\"Chinese\",\"Arabic\",\"German\",\"French\",\"English\",\"Spanish\",\"Chinese\",\"Arabic\",\"Russian\",\"French\",\"English\",\"Spanish\",\"Chinese\",\"Arabic\",\"Russian\",\"German\"],\"yaxis\":\"y\",\"type\":\"scatter\"},{\"customdata\":[[0.2865791320800781,0.8984739780426025],[0.22876715660095215,1.3084239959716797],[0.2668418884277344,1.1488580703735352],[0.21195077896118164,1.430616855621338],[0.2397630214691162,1.6936511993408203],[0.29642319679260254,2.8664419651031494],[0.24301600456237793,0.7194807529449463],[2.0359020233154297,1.5183520317077637],[2.5022132396698,0.9719321727752686],[0.3540501594543457,1.3655321598052979],[0.31681108474731445,2.7571301460266113],[0.2710847854614258,1.120973825454712],[0.3995399475097656,1.629969835281372],[1.0220363140106201,1.4996600151062012],[2.0003702640533447,1.4192140102386475],[0.9264540672302246,1.2350690364837646],[0.248138427734375,1.0810019969940186],[1.3942170143127441,1.6593141555786133],[0.23713397979736328,1.3741400241851807],[0.45336389541625977,2.6365370750427246],[1.3538780212402344,1.4402518272399902],[1.0349700450897217,2.5184152126312256],[0.3743317127227783,1.2003870010375977],[0.2761862277984619,1.0483617782592773],[0.3680441379547119,0.6703588962554932],[0.5595557689666748,1.1546642780303955],[1.3514549732208252,0.7927978038787842],[0.5098698139190674,1.0881547927856445],[1.1121149063110352,0.9343860149383545],[0.4336278438568115,1.238081932067871],[0.3016219139099121,1.240849256515503],[0.33475208282470703,1.099822759628296],[0.18531394004821777,1.0637290477752686],[4.330995321273804,1.4813592433929443],[1.2256288528442383,0.8602187633514404],[0.38873910903930664,0.8149418830871582],[0.33710265159606934,1.552243947982788],[0.8951599597930908,1.3144659996032715],[0.9294121265411377,0.8887500762939453],[0.28314971923828125,1.392383337020874],[0.40846896171569824,1.0934021472930908],[0.4187180995941162,1.3435871601104736]],\"hovertemplate\":\"Text Type=sentence\\u003cbr\\u003eSource Language=%{x}\\u003cbr\\u003eTarget Language=%{y}\\u003cbr\\u003eHF Translation Time (s)=%{customdata[0]}\\u003cbr\\u003eGemini Translation Time (s)=%{customdata[1]}\\u003cextra\\u003e\\u003c\\u002fextra\\u003e\",\"legendgroup\":\"sentence\",\"marker\":{\"color\":\"#EF553B\",\"size\":[0.2865791320800781,0.22876715660095215,0.2668418884277344,0.21195077896118164,0.2397630214691162,0.29642319679260254,0.24301600456237793,2.0359020233154297,2.5022132396698,0.3540501594543457,0.31681108474731445,0.2710847854614258,0.3995399475097656,1.0220363140106201,2.0003702640533447,0.9264540672302246,0.248138427734375,1.3942170143127441,0.23713397979736328,0.45336389541625977,1.3538780212402344,1.0349700450897217,0.3743317127227783,0.2761862277984619,0.3680441379547119,0.5595557689666748,1.3514549732208252,0.5098698139190674,1.1121149063110352,0.4336278438568115,0.3016219139099121,0.33475208282470703,0.18531394004821777,4.330995321273804,1.2256288528442383,0.38873910903930664,0.33710265159606934,0.8951599597930908,0.9294121265411377,0.28314971923828125,0.40846896171569824,0.4187180995941162],\"sizemode\":\"area\",\"sizeref\":0.0027481287956237794,\"symbol\":\"circle\",\"line\":{\"width\":2}},\"mode\":\"markers\",\"name\":\"sentence\",\"orientation\":\"v\",\"showlegend\":true,\"x\":[\"English\",\"English\",\"English\",\"English\",\"English\",\"English\",\"Spanish\",\"Spanish\",\"Spanish\",\"Spanish\",\"Spanish\",\"Spanish\",\"Chinese\",\"Chinese\",\"Chinese\",\"Chinese\",\"Chinese\",\"Chinese\",\"Arabic\",\"Arabic\",\"Arabic\",\"Arabic\",\"Arabic\",\"Arabic\",\"Russian\",\"Russian\",\"Russian\",\"Russian\",\"Russian\",\"Russian\",\"German\",\"German\",\"German\",\"German\",\"German\",\"German\",\"French\",\"French\",\"French\",\"French\",\"French\",\"French\"],\"xaxis\":\"x\",\"y\":[\"Spanish\",\"Chinese\",\"Arabic\",\"Russian\",\"German\",\"French\",\"English\",\"Chinese\",\"Arabic\",\"Russian\",\"German\",\"French\",\"English\",\"Spanish\",\"Arabic\",\"Russian\",\"German\",\"French\",\"English\",\"Spanish\",\"Chinese\",\"Russian\",\"German\",\"French\",\"English\",\"Spanish\",\"Chinese\",\"Arabic\",\"German\",\"French\",\"English\",\"Spanish\",\"Chinese\",\"Arabic\",\"Russian\",\"French\",\"English\",\"Spanish\",\"Chinese\",\"Arabic\",\"Russian\",\"German\"],\"yaxis\":\"y\",\"type\":\"scatter\"},{\"customdata\":[[0.803361177444458,1.082571029663086],[0.6843557357788086,2.2611677646636963],[0.9934122562408447,3.7522997856140137],[0.7129669189453125,1.8011870384216309],[1.4659051895141602,1.6602411270141602],[1.1287760734558105,1.0392749309539795],[0.7793700695037842,1.5199573040008545],[1.2370860576629639,1.5052931308746338],[3.2258729934692383,1.3251457214355469],[1.077500820159912,1.9576070308685303],[1.204503059387207,1.8921692371368408],[1.1909446716308594,1.4141581058502197],[0.6267950534820557,1.5506830215454102],[1.2419509887695312,2.0946249961853027],[1.6693220138549805,1.7023723125457764],[3.25339412689209,2.876293182373047],[0.5382981300354004,1.3290190696716309],[1.6685988903045654,0.9705426692962646],[0.6541798114776611,1.7403578758239746],[1.7078211307525635,2.2919490337371826],[2.8444862365722656,1.6835520267486572],[1.7733790874481201,1.7189140319824219],[0.7584409713745117,2.685771942138672],[1.1362709999084473,1.1813201904296875],[1.9286088943481445,1.7258391380310059],[1.2246110439300537,1.4424922466278076],[1.5411877632141113,1.34322190284729],[2.07962703704834,1.5502395629882812],[1.4001829624176025,1.3677849769592285],[0.9930951595306396,1.5620880126953125],[1.2487561702728271,0.888477087020874],[1.4780189990997314,1.4125230312347412],[1.4340059757232666,1.6429612636566162],[4.725088119506836,1.605109691619873],[1.8978078365325928,1.2338168621063232],[1.1848080158233643,1.7072482109069824],[0.7789719104766846,1.6627709865570068],[1.6162447929382324,0.9638171195983887],[1.9492690563201904,2.072402000427246],[2.0985288619995117,1.1951820850372314],[1.3011457920074463,1.1753621101379395],[1.2787389755249023,1.5889167785644531]],\"hovertemplate\":\"Text Type=paragraph\\u003cbr\\u003eSource Language=%{x}\\u003cbr\\u003eTarget Language=%{y}\\u003cbr\\u003eHF Translation Time (s)=%{customdata[0]}\\u003cbr\\u003eGemini Translation Time (s)=%{customdata[1]}\\u003cextra\\u003e\\u003c\\u002fextra\\u003e\",\"legendgroup\":\"paragraph\",\"marker\":{\"color\":\"#00cc96\",\"size\":[0.803361177444458,0.6843557357788086,0.9934122562408447,0.7129669189453125,1.4659051895141602,1.1287760734558105,0.7793700695037842,1.2370860576629639,3.2258729934692383,1.077500820159912,1.204503059387207,1.1909446716308594,0.6267950534820557,1.2419509887695312,1.6693220138549805,3.25339412689209,0.5382981300354004,1.6685988903045654,0.6541798114776611,1.7078211307525635,2.8444862365722656,1.7733790874481201,0.7584409713745117,1.1362709999084473,1.9286088943481445,1.2246110439300537,1.5411877632141113,2.07962703704834,1.4001829624176025,0.9930951595306396,1.2487561702728271,1.4780189990997314,1.4340059757232666,4.725088119506836,1.8978078365325928,1.1848080158233643,0.7789719104766846,1.6162447929382324,1.9492690563201904,2.0985288619995117,1.3011457920074463,1.2787389755249023],\"sizemode\":\"area\",\"sizeref\":0.0027481287956237794,\"symbol\":\"circle\",\"line\":{\"width\":2}},\"mode\":\"markers\",\"name\":\"paragraph\",\"orientation\":\"v\",\"showlegend\":true,\"x\":[\"English\",\"English\",\"English\",\"English\",\"English\",\"English\",\"Spanish\",\"Spanish\",\"Spanish\",\"Spanish\",\"Spanish\",\"Spanish\",\"Chinese\",\"Chinese\",\"Chinese\",\"Chinese\",\"Chinese\",\"Chinese\",\"Arabic\",\"Arabic\",\"Arabic\",\"Arabic\",\"Arabic\",\"Arabic\",\"Russian\",\"Russian\",\"Russian\",\"Russian\",\"Russian\",\"Russian\",\"German\",\"German\",\"German\",\"German\",\"German\",\"German\",\"French\",\"French\",\"French\",\"French\",\"French\",\"French\"],\"xaxis\":\"x\",\"y\":[\"Spanish\",\"Chinese\",\"Arabic\",\"Russian\",\"German\",\"French\",\"English\",\"Chinese\",\"Arabic\",\"Russian\",\"German\",\"French\",\"English\",\"Spanish\",\"Arabic\",\"Russian\",\"German\",\"French\",\"English\",\"Spanish\",\"Chinese\",\"Russian\",\"German\",\"French\",\"English\",\"Spanish\",\"Chinese\",\"Arabic\",\"German\",\"French\",\"English\",\"Spanish\",\"Chinese\",\"Arabic\",\"Russian\",\"French\",\"English\",\"Spanish\",\"Chinese\",\"Arabic\",\"Russian\",\"German\"],\"yaxis\":\"y\",\"type\":\"scatter\"}],                        {\"template\":{\"data\":{\"histogram2dcontour\":[{\"type\":\"histogram2dcontour\",\"colorbar\":{\"outlinewidth\":0,\"ticks\":\"\"},\"colorscale\":[[0.0,\"#0d0887\"],[0.1111111111111111,\"#46039f\"],[0.2222222222222222,\"#7201a8\"],[0.3333333333333333,\"#9c179e\"],[0.4444444444444444,\"#bd3786\"],[0.5555555555555556,\"#d8576b\"],[0.6666666666666666,\"#ed7953\"],[0.7777777777777778,\"#fb9f3a\"],[0.8888888888888888,\"#fdca26\"],[1.0,\"#f0f921\"]]}],\"choropleth\":[{\"type\":\"choropleth\",\"colorbar\":{\"outlinewidth\":0,\"ticks\":\"\"}}],\"histogram2d\":[{\"type\":\"histogram2d\",\"colorbar\":{\"outlinewidth\":0,\"ticks\":\"\"},\"colorscale\":[[0.0,\"#0d0887\"],[0.1111111111111111,\"#46039f\"],[0.2222222222222222,\"#7201a8\"],[0.3333333333333333,\"#9c179e\"],[0.4444444444444444,\"#bd3786\"],[0.5555555555555556,\"#d8576b\"],[0.6666666666666666,\"#ed7953\"],[0.7777777777777778,\"#fb9f3a\"],[0.8888888888888888,\"#fdca26\"],[1.0,\"#f0f921\"]]}],\"heatmap\":[{\"type\":\"heatmap\",\"colorbar\":{\"outlinewidth\":0,\"ticks\":\"\"},\"colorscale\":[[0.0,\"#0d0887\"],[0.1111111111111111,\"#46039f\"],[0.2222222222222222,\"#7201a8\"],[0.3333333333333333,\"#9c179e\"],[0.4444444444444444,\"#bd3786\"],[0.5555555555555556,\"#d8576b\"],[0.6666666666666666,\"#ed7953\"],[0.7777777777777778,\"#fb9f3a\"],[0.8888888888888888,\"#fdca26\"],[1.0,\"#f0f921\"]]}],\"heatmapgl\":[{\"type\":\"heatmapgl\",\"colorbar\":{\"outlinewidth\":0,\"ticks\":\"\"},\"colorscale\":[[0.0,\"#0d0887\"],[0.1111111111111111,\"#46039f\"],[0.2222222222222222,\"#7201a8\"],[0.3333333333333333,\"#9c179e\"],[0.4444444444444444,\"#bd3786\"],[0.5555555555555556,\"#d8576b\"],[0.6666666666666666,\"#ed7953\"],[0.7777777777777778,\"#fb9f3a\"],[0.8888888888888888,\"#fdca26\"],[1.0,\"#f0f921\"]]}],\"contourcarpet\":[{\"type\":\"contourcarpet\",\"colorbar\":{\"outlinewidth\":0,\"ticks\":\"\"}}],\"contour\":[{\"type\":\"contour\",\"colorbar\":{\"outlinewidth\":0,\"ticks\":\"\"},\"colorscale\":[[0.0,\"#0d0887\"],[0.1111111111111111,\"#46039f\"],[0.2222222222222222,\"#7201a8\"],[0.3333333333333333,\"#9c179e\"],[0.4444444444444444,\"#bd3786\"],[0.5555555555555556,\"#d8576b\"],[0.6666666666666666,\"#ed7953\"],[0.7777777777777778,\"#fb9f3a\"],[0.8888888888888888,\"#fdca26\"],[1.0,\"#f0f921\"]]}],\"surface\":[{\"type\":\"surface\",\"colorbar\":{\"outlinewidth\":0,\"ticks\":\"\"},\"colorscale\":[[0.0,\"#0d0887\"],[0.1111111111111111,\"#46039f\"],[0.2222222222222222,\"#7201a8\"],[0.3333333333333333,\"#9c179e\"],[0.4444444444444444,\"#bd3786\"],[0.5555555555555556,\"#d8576b\"],[0.6666666666666666,\"#ed7953\"],[0.7777777777777778,\"#fb9f3a\"],[0.8888888888888888,\"#fdca26\"],[1.0,\"#f0f921\"]]}],\"mesh3d\":[{\"type\":\"mesh3d\",\"colorbar\":{\"outlinewidth\":0,\"ticks\":\"\"}}],\"scatter\":[{\"fillpattern\":{\"fillmode\":\"overlay\",\"size\":10,\"solidity\":0.2},\"type\":\"scatter\"}],\"parcoords\":[{\"type\":\"parcoords\",\"line\":{\"colorbar\":{\"outlinewidth\":0,\"ticks\":\"\"}}}],\"scatterpolargl\":[{\"type\":\"scatterpolargl\",\"marker\":{\"colorbar\":{\"outlinewidth\":0,\"ticks\":\"\"}}}],\"bar\":[{\"error_x\":{\"color\":\"#2a3f5f\"},\"error_y\":{\"color\":\"#2a3f5f\"},\"marker\":{\"line\":{\"color\":\"#E5ECF6\",\"width\":0.5},\"pattern\":{\"fillmode\":\"overlay\",\"size\":10,\"solidity\":0.2}},\"type\":\"bar\"}],\"scattergeo\":[{\"type\":\"scattergeo\",\"marker\":{\"colorbar\":{\"outlinewidth\":0,\"ticks\":\"\"}}}],\"scatterpolar\":[{\"type\":\"scatterpolar\",\"marker\":{\"colorbar\":{\"outlinewidth\":0,\"ticks\":\"\"}}}],\"histogram\":[{\"marker\":{\"pattern\":{\"fillmode\":\"overlay\",\"size\":10,\"solidity\":0.2}},\"type\":\"histogram\"}],\"scattergl\":[{\"type\":\"scattergl\",\"marker\":{\"colorbar\":{\"outlinewidth\":0,\"ticks\":\"\"}}}],\"scatter3d\":[{\"type\":\"scatter3d\",\"line\":{\"colorbar\":{\"outlinewidth\":0,\"ticks\":\"\"}},\"marker\":{\"colorbar\":{\"outlinewidth\":0,\"ticks\":\"\"}}}],\"scattermapbox\":[{\"type\":\"scattermapbox\",\"marker\":{\"colorbar\":{\"outlinewidth\":0,\"ticks\":\"\"}}}],\"scatterternary\":[{\"type\":\"scatterternary\",\"marker\":{\"colorbar\":{\"outlinewidth\":0,\"ticks\":\"\"}}}],\"scattercarpet\":[{\"type\":\"scattercarpet\",\"marker\":{\"colorbar\":{\"outlinewidth\":0,\"ticks\":\"\"}}}],\"carpet\":[{\"aaxis\":{\"endlinecolor\":\"#2a3f5f\",\"gridcolor\":\"white\",\"linecolor\":\"white\",\"minorgridcolor\":\"white\",\"startlinecolor\":\"#2a3f5f\"},\"baxis\":{\"endlinecolor\":\"#2a3f5f\",\"gridcolor\":\"white\",\"linecolor\":\"white\",\"minorgridcolor\":\"white\",\"startlinecolor\":\"#2a3f5f\"},\"type\":\"carpet\"}],\"table\":[{\"cells\":{\"fill\":{\"color\":\"#EBF0F8\"},\"line\":{\"color\":\"white\"}},\"header\":{\"fill\":{\"color\":\"#C8D4E3\"},\"line\":{\"color\":\"white\"}},\"type\":\"table\"}],\"barpolar\":[{\"marker\":{\"line\":{\"color\":\"#E5ECF6\",\"width\":0.5},\"pattern\":{\"fillmode\":\"overlay\",\"size\":10,\"solidity\":0.2}},\"type\":\"barpolar\"}],\"pie\":[{\"automargin\":true,\"type\":\"pie\"}]},\"layout\":{\"autotypenumbers\":\"strict\",\"colorway\":[\"#636efa\",\"#EF553B\",\"#00cc96\",\"#ab63fa\",\"#FFA15A\",\"#19d3f3\",\"#FF6692\",\"#B6E880\",\"#FF97FF\",\"#FECB52\"],\"font\":{\"color\":\"#2a3f5f\"},\"hovermode\":\"closest\",\"hoverlabel\":{\"align\":\"left\"},\"paper_bgcolor\":\"white\",\"plot_bgcolor\":\"#E5ECF6\",\"polar\":{\"bgcolor\":\"#E5ECF6\",\"angularaxis\":{\"gridcolor\":\"white\",\"linecolor\":\"white\",\"ticks\":\"\"},\"radialaxis\":{\"gridcolor\":\"white\",\"linecolor\":\"white\",\"ticks\":\"\"}},\"ternary\":{\"bgcolor\":\"#E5ECF6\",\"aaxis\":{\"gridcolor\":\"white\",\"linecolor\":\"white\",\"ticks\":\"\"},\"baxis\":{\"gridcolor\":\"white\",\"linecolor\":\"white\",\"ticks\":\"\"},\"caxis\":{\"gridcolor\":\"white\",\"linecolor\":\"white\",\"ticks\":\"\"}},\"coloraxis\":{\"colorbar\":{\"outlinewidth\":0,\"ticks\":\"\"}},\"colorscale\":{\"sequential\":[[0.0,\"#0d0887\"],[0.1111111111111111,\"#46039f\"],[0.2222222222222222,\"#7201a8\"],[0.3333333333333333,\"#9c179e\"],[0.4444444444444444,\"#bd3786\"],[0.5555555555555556,\"#d8576b\"],[0.6666666666666666,\"#ed7953\"],[0.7777777777777778,\"#fb9f3a\"],[0.8888888888888888,\"#fdca26\"],[1.0,\"#f0f921\"]],\"sequentialminus\":[[0.0,\"#0d0887\"],[0.1111111111111111,\"#46039f\"],[0.2222222222222222,\"#7201a8\"],[0.3333333333333333,\"#9c179e\"],[0.4444444444444444,\"#bd3786\"],[0.5555555555555556,\"#d8576b\"],[0.6666666666666666,\"#ed7953\"],[0.7777777777777778,\"#fb9f3a\"],[0.8888888888888888,\"#fdca26\"],[1.0,\"#f0f921\"]],\"diverging\":[[0,\"#8e0152\"],[0.1,\"#c51b7d\"],[0.2,\"#de77ae\"],[0.3,\"#f1b6da\"],[0.4,\"#fde0ef\"],[0.5,\"#f7f7f7\"],[0.6,\"#e6f5d0\"],[0.7,\"#b8e186\"],[0.8,\"#7fbc41\"],[0.9,\"#4d9221\"],[1,\"#276419\"]]},\"xaxis\":{\"gridcolor\":\"white\",\"linecolor\":\"white\",\"ticks\":\"\",\"title\":{\"standoff\":15},\"zerolinecolor\":\"white\",\"automargin\":true,\"zerolinewidth\":2},\"yaxis\":{\"gridcolor\":\"white\",\"linecolor\":\"white\",\"ticks\":\"\",\"title\":{\"standoff\":15},\"zerolinecolor\":\"white\",\"automargin\":true,\"zerolinewidth\":2},\"scene\":{\"xaxis\":{\"backgroundcolor\":\"#E5ECF6\",\"gridcolor\":\"white\",\"linecolor\":\"white\",\"showbackground\":true,\"ticks\":\"\",\"zerolinecolor\":\"white\",\"gridwidth\":2},\"yaxis\":{\"backgroundcolor\":\"#E5ECF6\",\"gridcolor\":\"white\",\"linecolor\":\"white\",\"showbackground\":true,\"ticks\":\"\",\"zerolinecolor\":\"white\",\"gridwidth\":2},\"zaxis\":{\"backgroundcolor\":\"#E5ECF6\",\"gridcolor\":\"white\",\"linecolor\":\"white\",\"showbackground\":true,\"ticks\":\"\",\"zerolinecolor\":\"white\",\"gridwidth\":2}},\"shapedefaults\":{\"line\":{\"color\":\"#2a3f5f\"}},\"annotationdefaults\":{\"arrowcolor\":\"#2a3f5f\",\"arrowhead\":0,\"arrowwidth\":1},\"geo\":{\"bgcolor\":\"white\",\"landcolor\":\"#E5ECF6\",\"subunitcolor\":\"white\",\"showland\":true,\"showlakes\":true,\"lakecolor\":\"white\"},\"title\":{\"x\":0.05},\"mapbox\":{\"style\":\"light\"}}},\"xaxis\":{\"anchor\":\"y\",\"domain\":[0.0,1.0],\"title\":{\"text\":\"Source Language\"}},\"yaxis\":{\"anchor\":\"x\",\"domain\":[0.0,1.0],\"title\":{\"text\":\"Target Language\"}},\"legend\":{\"title\":{\"text\":\"Text Type\"},\"tracegroupgap\":0,\"itemsizing\":\"constant\"},\"title\":{\"text\":\"Hugging Face Translation Times by Source and Target Language with Text Type\"}},                        {\"responsive\": true}                    ).then(function(){\n",
       "                            \n",
       "var gd = document.getElementById('552e0265-9234-472b-a2d7-2dd047f4c7e7');\n",
       "var x = new MutationObserver(function (mutations, observer) {{\n",
       "        var display = window.getComputedStyle(gd).display;\n",
       "        if (!display || display === 'none') {{\n",
       "            console.log([gd, 'removed!']);\n",
       "            Plotly.purge(gd);\n",
       "            observer.disconnect();\n",
       "        }}\n",
       "}});\n",
       "\n",
       "// Listen for the removal of the full notebook cells\n",
       "var notebookContainer = gd.closest('#notebook-container');\n",
       "if (notebookContainer) {{\n",
       "    x.observe(notebookContainer, {childList: true});\n",
       "}}\n",
       "\n",
       "// Listen for the clearing of the current output cell\n",
       "var outputEl = gd.closest('.output');\n",
       "if (outputEl) {{\n",
       "    x.observe(outputEl, {childList: true});\n",
       "}}\n",
       "\n",
       "                        })                };                });            </script>        </div>"
      ]
     },
     "metadata": {},
     "output_type": "display_data"
    },
    {
     "data": {
      "application/vnd.plotly.v1+json": {
       "config": {
        "plotlyServerURL": "https://plot.ly"
       },
       "data": [
        {
         "customdata": [
          [
           1.3585360050201416,
           1.2379870414733887
          ],
          [
           13.740643978118896,
           1.316380262374878
          ],
          [
           1.1046462059020996,
           2.0283420085906982
          ],
          [
           1.2646098136901855,
           0.7441580295562744
          ],
          [
           1.4940011501312256,
           1.2444560527801514
          ],
          [
           1.139242172241211,
           1.5942959785461426
          ],
          [
           1.2553839683532715,
           0.7225539684295654
          ],
          [
           2.630890130996704,
           1.3782050609588623
          ],
          [
           2.0991649627685547,
           1.3806681632995605
          ],
          [
           1.322613000869751,
           1.3301572799682617
          ],
          [
           1.374389886856079,
           2.9502298831939697
          ],
          [
           1.6086070537567139,
           1.335433006286621
          ],
          [
           1.3883557319641113,
           1.2443571090698242
          ],
          [
           2.1974589824676514,
           1.4913959503173828
          ],
          [
           2.402592182159424,
           1.000349998474121
          ],
          [
           3.315403938293457,
           1.7514681816101074
          ],
          [
           1.2411401271820068,
           1.4466350078582764
          ],
          [
           2.498991012573242,
           0.6518137454986572
          ],
          [
           1.3208303451538086,
           1.269300937652588
          ],
          [
           1.2219188213348389,
           1.3310701847076416
          ],
          [
           1.468353033065796,
           1.4510631561279297
          ],
          [
           1.1260268688201904,
           3.1867992877960205
          ],
          [
           1.2564501762390137,
           0.7432858943939209
          ],
          [
           1.299926996231079,
           1.3885347843170166
          ],
          [
           1.6997742652893066,
           0.8337538242340088
          ],
          [
           1.7802999019622803,
           1.0132710933685303
          ],
          [
           1.0505709648132324,
           1.1377952098846436
          ],
          [
           3.4366421699523926,
           0.8027439117431641
          ],
          [
           0.8088362216949463,
           1.1905317306518555
          ],
          [
           1.2476017475128174,
           1.1755709648132324
          ],
          [
           1.3644249439239502,
           1.2019259929656982
          ],
          [
           1.4145750999450684,
           0.8293249607086182
          ],
          [
           1.491034746170044,
           1.055283784866333
          ],
          [
           1.1225769519805908,
           0.8219468593597412
          ],
          [
           1.3700709342956543,
           1.2132079601287842
          ],
          [
           1.6978182792663574,
           1.4774141311645508
          ],
          [
           1.1506881713867188,
           0.6419088840484619
          ],
          [
           1.610727310180664,
           1.3490979671478271
          ],
          [
           1.3388068675994873,
           1.3789091110229492
          ],
          [
           3.5965938568115234,
           0.9875130653381348
          ],
          [
           1.6343181133270264,
           1.623656988143921
          ],
          [
           1.4454882144927979,
           1.1870810985565186
          ]
         ],
         "hovertemplate": "Text Type=word<br>Source Language=%{x}<br>Target Language=%{y}<br>Gemini Translation Time (s)=%{customdata[1]}<br>HF Translation Time (s)=%{customdata[0]}<extra></extra>",
         "legendgroup": "word",
         "marker": {
          "color": "#636efa",
          "line": {
           "width": 2
          },
          "size": [
           1.2379870414733887,
           1.316380262374878,
           2.0283420085906982,
           0.7441580295562744,
           1.2444560527801514,
           1.5942959785461426,
           0.7225539684295654,
           1.3782050609588623,
           1.3806681632995605,
           1.3301572799682617,
           2.9502298831939697,
           1.335433006286621,
           1.2443571090698242,
           1.4913959503173828,
           1.000349998474121,
           1.7514681816101074,
           1.4466350078582764,
           0.6518137454986572,
           1.269300937652588,
           1.3310701847076416,
           1.4510631561279297,
           3.1867992877960205,
           0.7432858943939209,
           1.3885347843170166,
           0.8337538242340088,
           1.0132710933685303,
           1.1377952098846436,
           0.8027439117431641,
           1.1905317306518555,
           1.1755709648132324,
           1.2019259929656982,
           0.8293249607086182,
           1.055283784866333,
           0.8219468593597412,
           1.2132079601287842,
           1.4774141311645508,
           0.6419088840484619,
           1.3490979671478271,
           1.3789091110229492,
           0.9875130653381348,
           1.623656988143921,
           1.1870810985565186
          ],
          "sizemode": "area",
          "sizeref": 0.0007504599571228028,
          "symbol": "circle"
         },
         "mode": "markers",
         "name": "word",
         "orientation": "v",
         "showlegend": true,
         "type": "scatter",
         "x": [
          "English",
          "English",
          "English",
          "English",
          "English",
          "English",
          "Spanish",
          "Spanish",
          "Spanish",
          "Spanish",
          "Spanish",
          "Spanish",
          "Chinese",
          "Chinese",
          "Chinese",
          "Chinese",
          "Chinese",
          "Chinese",
          "Arabic",
          "Arabic",
          "Arabic",
          "Arabic",
          "Arabic",
          "Arabic",
          "Russian",
          "Russian",
          "Russian",
          "Russian",
          "Russian",
          "Russian",
          "German",
          "German",
          "German",
          "German",
          "German",
          "German",
          "French",
          "French",
          "French",
          "French",
          "French",
          "French"
         ],
         "xaxis": "x",
         "y": [
          "Spanish",
          "Chinese",
          "Arabic",
          "Russian",
          "German",
          "French",
          "English",
          "Chinese",
          "Arabic",
          "Russian",
          "German",
          "French",
          "English",
          "Spanish",
          "Arabic",
          "Russian",
          "German",
          "French",
          "English",
          "Spanish",
          "Chinese",
          "Russian",
          "German",
          "French",
          "English",
          "Spanish",
          "Chinese",
          "Arabic",
          "German",
          "French",
          "English",
          "Spanish",
          "Chinese",
          "Arabic",
          "Russian",
          "French",
          "English",
          "Spanish",
          "Chinese",
          "Arabic",
          "Russian",
          "German"
         ],
         "yaxis": "y"
        },
        {
         "customdata": [
          [
           0.2865791320800781,
           0.8984739780426025
          ],
          [
           0.22876715660095215,
           1.3084239959716797
          ],
          [
           0.2668418884277344,
           1.1488580703735352
          ],
          [
           0.21195077896118164,
           1.430616855621338
          ],
          [
           0.2397630214691162,
           1.6936511993408203
          ],
          [
           0.29642319679260254,
           2.8664419651031494
          ],
          [
           0.24301600456237793,
           0.7194807529449463
          ],
          [
           2.0359020233154297,
           1.5183520317077637
          ],
          [
           2.5022132396698,
           0.9719321727752686
          ],
          [
           0.3540501594543457,
           1.3655321598052979
          ],
          [
           0.31681108474731445,
           2.7571301460266113
          ],
          [
           0.2710847854614258,
           1.120973825454712
          ],
          [
           0.3995399475097656,
           1.629969835281372
          ],
          [
           1.0220363140106201,
           1.4996600151062012
          ],
          [
           2.0003702640533447,
           1.4192140102386475
          ],
          [
           0.9264540672302246,
           1.2350690364837646
          ],
          [
           0.248138427734375,
           1.0810019969940186
          ],
          [
           1.3942170143127441,
           1.6593141555786133
          ],
          [
           0.23713397979736328,
           1.3741400241851807
          ],
          [
           0.45336389541625977,
           2.6365370750427246
          ],
          [
           1.3538780212402344,
           1.4402518272399902
          ],
          [
           1.0349700450897217,
           2.5184152126312256
          ],
          [
           0.3743317127227783,
           1.2003870010375977
          ],
          [
           0.2761862277984619,
           1.0483617782592773
          ],
          [
           0.3680441379547119,
           0.6703588962554932
          ],
          [
           0.5595557689666748,
           1.1546642780303955
          ],
          [
           1.3514549732208252,
           0.7927978038787842
          ],
          [
           0.5098698139190674,
           1.0881547927856445
          ],
          [
           1.1121149063110352,
           0.9343860149383545
          ],
          [
           0.4336278438568115,
           1.238081932067871
          ],
          [
           0.3016219139099121,
           1.240849256515503
          ],
          [
           0.33475208282470703,
           1.099822759628296
          ],
          [
           0.18531394004821777,
           1.0637290477752686
          ],
          [
           4.330995321273804,
           1.4813592433929443
          ],
          [
           1.2256288528442383,
           0.8602187633514404
          ],
          [
           0.38873910903930664,
           0.8149418830871582
          ],
          [
           0.33710265159606934,
           1.552243947982788
          ],
          [
           0.8951599597930908,
           1.3144659996032715
          ],
          [
           0.9294121265411377,
           0.8887500762939453
          ],
          [
           0.28314971923828125,
           1.392383337020874
          ],
          [
           0.40846896171569824,
           1.0934021472930908
          ],
          [
           0.4187180995941162,
           1.3435871601104736
          ]
         ],
         "hovertemplate": "Text Type=sentence<br>Source Language=%{x}<br>Target Language=%{y}<br>Gemini Translation Time (s)=%{customdata[1]}<br>HF Translation Time (s)=%{customdata[0]}<extra></extra>",
         "legendgroup": "sentence",
         "marker": {
          "color": "#EF553B",
          "line": {
           "width": 2
          },
          "size": [
           0.8984739780426025,
           1.3084239959716797,
           1.1488580703735352,
           1.430616855621338,
           1.6936511993408203,
           2.8664419651031494,
           0.7194807529449463,
           1.5183520317077637,
           0.9719321727752686,
           1.3655321598052979,
           2.7571301460266113,
           1.120973825454712,
           1.629969835281372,
           1.4996600151062012,
           1.4192140102386475,
           1.2350690364837646,
           1.0810019969940186,
           1.6593141555786133,
           1.3741400241851807,
           2.6365370750427246,
           1.4402518272399902,
           2.5184152126312256,
           1.2003870010375977,
           1.0483617782592773,
           0.6703588962554932,
           1.1546642780303955,
           0.7927978038787842,
           1.0881547927856445,
           0.9343860149383545,
           1.238081932067871,
           1.240849256515503,
           1.099822759628296,
           1.0637290477752686,
           1.4813592433929443,
           0.8602187633514404,
           0.8149418830871582,
           1.552243947982788,
           1.3144659996032715,
           0.8887500762939453,
           1.392383337020874,
           1.0934021472930908,
           1.3435871601104736
          ],
          "sizemode": "area",
          "sizeref": 0.0007504599571228028,
          "symbol": "circle"
         },
         "mode": "markers",
         "name": "sentence",
         "orientation": "v",
         "showlegend": true,
         "type": "scatter",
         "x": [
          "English",
          "English",
          "English",
          "English",
          "English",
          "English",
          "Spanish",
          "Spanish",
          "Spanish",
          "Spanish",
          "Spanish",
          "Spanish",
          "Chinese",
          "Chinese",
          "Chinese",
          "Chinese",
          "Chinese",
          "Chinese",
          "Arabic",
          "Arabic",
          "Arabic",
          "Arabic",
          "Arabic",
          "Arabic",
          "Russian",
          "Russian",
          "Russian",
          "Russian",
          "Russian",
          "Russian",
          "German",
          "German",
          "German",
          "German",
          "German",
          "German",
          "French",
          "French",
          "French",
          "French",
          "French",
          "French"
         ],
         "xaxis": "x",
         "y": [
          "Spanish",
          "Chinese",
          "Arabic",
          "Russian",
          "German",
          "French",
          "English",
          "Chinese",
          "Arabic",
          "Russian",
          "German",
          "French",
          "English",
          "Spanish",
          "Arabic",
          "Russian",
          "German",
          "French",
          "English",
          "Spanish",
          "Chinese",
          "Russian",
          "German",
          "French",
          "English",
          "Spanish",
          "Chinese",
          "Arabic",
          "German",
          "French",
          "English",
          "Spanish",
          "Chinese",
          "Arabic",
          "Russian",
          "French",
          "English",
          "Spanish",
          "Chinese",
          "Arabic",
          "Russian",
          "German"
         ],
         "yaxis": "y"
        },
        {
         "customdata": [
          [
           0.803361177444458,
           1.082571029663086
          ],
          [
           0.6843557357788086,
           2.2611677646636963
          ],
          [
           0.9934122562408447,
           3.7522997856140137
          ],
          [
           0.7129669189453125,
           1.8011870384216309
          ],
          [
           1.4659051895141602,
           1.6602411270141602
          ],
          [
           1.1287760734558105,
           1.0392749309539795
          ],
          [
           0.7793700695037842,
           1.5199573040008545
          ],
          [
           1.2370860576629639,
           1.5052931308746338
          ],
          [
           3.2258729934692383,
           1.3251457214355469
          ],
          [
           1.077500820159912,
           1.9576070308685303
          ],
          [
           1.204503059387207,
           1.8921692371368408
          ],
          [
           1.1909446716308594,
           1.4141581058502197
          ],
          [
           0.6267950534820557,
           1.5506830215454102
          ],
          [
           1.2419509887695312,
           2.0946249961853027
          ],
          [
           1.6693220138549805,
           1.7023723125457764
          ],
          [
           3.25339412689209,
           2.876293182373047
          ],
          [
           0.5382981300354004,
           1.3290190696716309
          ],
          [
           1.6685988903045654,
           0.9705426692962646
          ],
          [
           0.6541798114776611,
           1.7403578758239746
          ],
          [
           1.7078211307525635,
           2.2919490337371826
          ],
          [
           2.8444862365722656,
           1.6835520267486572
          ],
          [
           1.7733790874481201,
           1.7189140319824219
          ],
          [
           0.7584409713745117,
           2.685771942138672
          ],
          [
           1.1362709999084473,
           1.1813201904296875
          ],
          [
           1.9286088943481445,
           1.7258391380310059
          ],
          [
           1.2246110439300537,
           1.4424922466278076
          ],
          [
           1.5411877632141113,
           1.34322190284729
          ],
          [
           2.07962703704834,
           1.5502395629882812
          ],
          [
           1.4001829624176025,
           1.3677849769592285
          ],
          [
           0.9930951595306396,
           1.5620880126953125
          ],
          [
           1.2487561702728271,
           0.888477087020874
          ],
          [
           1.4780189990997314,
           1.4125230312347412
          ],
          [
           1.4340059757232666,
           1.6429612636566162
          ],
          [
           4.725088119506836,
           1.605109691619873
          ],
          [
           1.8978078365325928,
           1.2338168621063232
          ],
          [
           1.1848080158233643,
           1.7072482109069824
          ],
          [
           0.7789719104766846,
           1.6627709865570068
          ],
          [
           1.6162447929382324,
           0.9638171195983887
          ],
          [
           1.9492690563201904,
           2.072402000427246
          ],
          [
           2.0985288619995117,
           1.1951820850372314
          ],
          [
           1.3011457920074463,
           1.1753621101379395
          ],
          [
           1.2787389755249023,
           1.5889167785644531
          ]
         ],
         "hovertemplate": "Text Type=paragraph<br>Source Language=%{x}<br>Target Language=%{y}<br>Gemini Translation Time (s)=%{customdata[1]}<br>HF Translation Time (s)=%{customdata[0]}<extra></extra>",
         "legendgroup": "paragraph",
         "marker": {
          "color": "#00cc96",
          "line": {
           "width": 2
          },
          "size": [
           1.082571029663086,
           2.2611677646636963,
           3.7522997856140137,
           1.8011870384216309,
           1.6602411270141602,
           1.0392749309539795,
           1.5199573040008545,
           1.5052931308746338,
           1.3251457214355469,
           1.9576070308685303,
           1.8921692371368408,
           1.4141581058502197,
           1.5506830215454102,
           2.0946249961853027,
           1.7023723125457764,
           2.876293182373047,
           1.3290190696716309,
           0.9705426692962646,
           1.7403578758239746,
           2.2919490337371826,
           1.6835520267486572,
           1.7189140319824219,
           2.685771942138672,
           1.1813201904296875,
           1.7258391380310059,
           1.4424922466278076,
           1.34322190284729,
           1.5502395629882812,
           1.3677849769592285,
           1.5620880126953125,
           0.888477087020874,
           1.4125230312347412,
           1.6429612636566162,
           1.605109691619873,
           1.2338168621063232,
           1.7072482109069824,
           1.6627709865570068,
           0.9638171195983887,
           2.072402000427246,
           1.1951820850372314,
           1.1753621101379395,
           1.5889167785644531
          ],
          "sizemode": "area",
          "sizeref": 0.0007504599571228028,
          "symbol": "circle"
         },
         "mode": "markers",
         "name": "paragraph",
         "orientation": "v",
         "showlegend": true,
         "type": "scatter",
         "x": [
          "English",
          "English",
          "English",
          "English",
          "English",
          "English",
          "Spanish",
          "Spanish",
          "Spanish",
          "Spanish",
          "Spanish",
          "Spanish",
          "Chinese",
          "Chinese",
          "Chinese",
          "Chinese",
          "Chinese",
          "Chinese",
          "Arabic",
          "Arabic",
          "Arabic",
          "Arabic",
          "Arabic",
          "Arabic",
          "Russian",
          "Russian",
          "Russian",
          "Russian",
          "Russian",
          "Russian",
          "German",
          "German",
          "German",
          "German",
          "German",
          "German",
          "French",
          "French",
          "French",
          "French",
          "French",
          "French"
         ],
         "xaxis": "x",
         "y": [
          "Spanish",
          "Chinese",
          "Arabic",
          "Russian",
          "German",
          "French",
          "English",
          "Chinese",
          "Arabic",
          "Russian",
          "German",
          "French",
          "English",
          "Spanish",
          "Arabic",
          "Russian",
          "German",
          "French",
          "English",
          "Spanish",
          "Chinese",
          "Russian",
          "German",
          "French",
          "English",
          "Spanish",
          "Chinese",
          "Arabic",
          "German",
          "French",
          "English",
          "Spanish",
          "Chinese",
          "Arabic",
          "Russian",
          "French",
          "English",
          "Spanish",
          "Chinese",
          "Arabic",
          "Russian",
          "German"
         ],
         "yaxis": "y"
        }
       ],
       "layout": {
        "legend": {
         "itemsizing": "constant",
         "title": {
          "text": "Text Type"
         },
         "tracegroupgap": 0
        },
        "template": {
         "data": {
          "bar": [
           {
            "error_x": {
             "color": "#2a3f5f"
            },
            "error_y": {
             "color": "#2a3f5f"
            },
            "marker": {
             "line": {
              "color": "#E5ECF6",
              "width": 0.5
             },
             "pattern": {
              "fillmode": "overlay",
              "size": 10,
              "solidity": 0.2
             }
            },
            "type": "bar"
           }
          ],
          "barpolar": [
           {
            "marker": {
             "line": {
              "color": "#E5ECF6",
              "width": 0.5
             },
             "pattern": {
              "fillmode": "overlay",
              "size": 10,
              "solidity": 0.2
             }
            },
            "type": "barpolar"
           }
          ],
          "carpet": [
           {
            "aaxis": {
             "endlinecolor": "#2a3f5f",
             "gridcolor": "white",
             "linecolor": "white",
             "minorgridcolor": "white",
             "startlinecolor": "#2a3f5f"
            },
            "baxis": {
             "endlinecolor": "#2a3f5f",
             "gridcolor": "white",
             "linecolor": "white",
             "minorgridcolor": "white",
             "startlinecolor": "#2a3f5f"
            },
            "type": "carpet"
           }
          ],
          "choropleth": [
           {
            "colorbar": {
             "outlinewidth": 0,
             "ticks": ""
            },
            "type": "choropleth"
           }
          ],
          "contour": [
           {
            "colorbar": {
             "outlinewidth": 0,
             "ticks": ""
            },
            "colorscale": [
             [
              0,
              "#0d0887"
             ],
             [
              0.1111111111111111,
              "#46039f"
             ],
             [
              0.2222222222222222,
              "#7201a8"
             ],
             [
              0.3333333333333333,
              "#9c179e"
             ],
             [
              0.4444444444444444,
              "#bd3786"
             ],
             [
              0.5555555555555556,
              "#d8576b"
             ],
             [
              0.6666666666666666,
              "#ed7953"
             ],
             [
              0.7777777777777778,
              "#fb9f3a"
             ],
             [
              0.8888888888888888,
              "#fdca26"
             ],
             [
              1,
              "#f0f921"
             ]
            ],
            "type": "contour"
           }
          ],
          "contourcarpet": [
           {
            "colorbar": {
             "outlinewidth": 0,
             "ticks": ""
            },
            "type": "contourcarpet"
           }
          ],
          "heatmap": [
           {
            "colorbar": {
             "outlinewidth": 0,
             "ticks": ""
            },
            "colorscale": [
             [
              0,
              "#0d0887"
             ],
             [
              0.1111111111111111,
              "#46039f"
             ],
             [
              0.2222222222222222,
              "#7201a8"
             ],
             [
              0.3333333333333333,
              "#9c179e"
             ],
             [
              0.4444444444444444,
              "#bd3786"
             ],
             [
              0.5555555555555556,
              "#d8576b"
             ],
             [
              0.6666666666666666,
              "#ed7953"
             ],
             [
              0.7777777777777778,
              "#fb9f3a"
             ],
             [
              0.8888888888888888,
              "#fdca26"
             ],
             [
              1,
              "#f0f921"
             ]
            ],
            "type": "heatmap"
           }
          ],
          "heatmapgl": [
           {
            "colorbar": {
             "outlinewidth": 0,
             "ticks": ""
            },
            "colorscale": [
             [
              0,
              "#0d0887"
             ],
             [
              0.1111111111111111,
              "#46039f"
             ],
             [
              0.2222222222222222,
              "#7201a8"
             ],
             [
              0.3333333333333333,
              "#9c179e"
             ],
             [
              0.4444444444444444,
              "#bd3786"
             ],
             [
              0.5555555555555556,
              "#d8576b"
             ],
             [
              0.6666666666666666,
              "#ed7953"
             ],
             [
              0.7777777777777778,
              "#fb9f3a"
             ],
             [
              0.8888888888888888,
              "#fdca26"
             ],
             [
              1,
              "#f0f921"
             ]
            ],
            "type": "heatmapgl"
           }
          ],
          "histogram": [
           {
            "marker": {
             "pattern": {
              "fillmode": "overlay",
              "size": 10,
              "solidity": 0.2
             }
            },
            "type": "histogram"
           }
          ],
          "histogram2d": [
           {
            "colorbar": {
             "outlinewidth": 0,
             "ticks": ""
            },
            "colorscale": [
             [
              0,
              "#0d0887"
             ],
             [
              0.1111111111111111,
              "#46039f"
             ],
             [
              0.2222222222222222,
              "#7201a8"
             ],
             [
              0.3333333333333333,
              "#9c179e"
             ],
             [
              0.4444444444444444,
              "#bd3786"
             ],
             [
              0.5555555555555556,
              "#d8576b"
             ],
             [
              0.6666666666666666,
              "#ed7953"
             ],
             [
              0.7777777777777778,
              "#fb9f3a"
             ],
             [
              0.8888888888888888,
              "#fdca26"
             ],
             [
              1,
              "#f0f921"
             ]
            ],
            "type": "histogram2d"
           }
          ],
          "histogram2dcontour": [
           {
            "colorbar": {
             "outlinewidth": 0,
             "ticks": ""
            },
            "colorscale": [
             [
              0,
              "#0d0887"
             ],
             [
              0.1111111111111111,
              "#46039f"
             ],
             [
              0.2222222222222222,
              "#7201a8"
             ],
             [
              0.3333333333333333,
              "#9c179e"
             ],
             [
              0.4444444444444444,
              "#bd3786"
             ],
             [
              0.5555555555555556,
              "#d8576b"
             ],
             [
              0.6666666666666666,
              "#ed7953"
             ],
             [
              0.7777777777777778,
              "#fb9f3a"
             ],
             [
              0.8888888888888888,
              "#fdca26"
             ],
             [
              1,
              "#f0f921"
             ]
            ],
            "type": "histogram2dcontour"
           }
          ],
          "mesh3d": [
           {
            "colorbar": {
             "outlinewidth": 0,
             "ticks": ""
            },
            "type": "mesh3d"
           }
          ],
          "parcoords": [
           {
            "line": {
             "colorbar": {
              "outlinewidth": 0,
              "ticks": ""
             }
            },
            "type": "parcoords"
           }
          ],
          "pie": [
           {
            "automargin": true,
            "type": "pie"
           }
          ],
          "scatter": [
           {
            "fillpattern": {
             "fillmode": "overlay",
             "size": 10,
             "solidity": 0.2
            },
            "type": "scatter"
           }
          ],
          "scatter3d": [
           {
            "line": {
             "colorbar": {
              "outlinewidth": 0,
              "ticks": ""
             }
            },
            "marker": {
             "colorbar": {
              "outlinewidth": 0,
              "ticks": ""
             }
            },
            "type": "scatter3d"
           }
          ],
          "scattercarpet": [
           {
            "marker": {
             "colorbar": {
              "outlinewidth": 0,
              "ticks": ""
             }
            },
            "type": "scattercarpet"
           }
          ],
          "scattergeo": [
           {
            "marker": {
             "colorbar": {
              "outlinewidth": 0,
              "ticks": ""
             }
            },
            "type": "scattergeo"
           }
          ],
          "scattergl": [
           {
            "marker": {
             "colorbar": {
              "outlinewidth": 0,
              "ticks": ""
             }
            },
            "type": "scattergl"
           }
          ],
          "scattermapbox": [
           {
            "marker": {
             "colorbar": {
              "outlinewidth": 0,
              "ticks": ""
             }
            },
            "type": "scattermapbox"
           }
          ],
          "scatterpolar": [
           {
            "marker": {
             "colorbar": {
              "outlinewidth": 0,
              "ticks": ""
             }
            },
            "type": "scatterpolar"
           }
          ],
          "scatterpolargl": [
           {
            "marker": {
             "colorbar": {
              "outlinewidth": 0,
              "ticks": ""
             }
            },
            "type": "scatterpolargl"
           }
          ],
          "scatterternary": [
           {
            "marker": {
             "colorbar": {
              "outlinewidth": 0,
              "ticks": ""
             }
            },
            "type": "scatterternary"
           }
          ],
          "surface": [
           {
            "colorbar": {
             "outlinewidth": 0,
             "ticks": ""
            },
            "colorscale": [
             [
              0,
              "#0d0887"
             ],
             [
              0.1111111111111111,
              "#46039f"
             ],
             [
              0.2222222222222222,
              "#7201a8"
             ],
             [
              0.3333333333333333,
              "#9c179e"
             ],
             [
              0.4444444444444444,
              "#bd3786"
             ],
             [
              0.5555555555555556,
              "#d8576b"
             ],
             [
              0.6666666666666666,
              "#ed7953"
             ],
             [
              0.7777777777777778,
              "#fb9f3a"
             ],
             [
              0.8888888888888888,
              "#fdca26"
             ],
             [
              1,
              "#f0f921"
             ]
            ],
            "type": "surface"
           }
          ],
          "table": [
           {
            "cells": {
             "fill": {
              "color": "#EBF0F8"
             },
             "line": {
              "color": "white"
             }
            },
            "header": {
             "fill": {
              "color": "#C8D4E3"
             },
             "line": {
              "color": "white"
             }
            },
            "type": "table"
           }
          ]
         },
         "layout": {
          "annotationdefaults": {
           "arrowcolor": "#2a3f5f",
           "arrowhead": 0,
           "arrowwidth": 1
          },
          "autotypenumbers": "strict",
          "coloraxis": {
           "colorbar": {
            "outlinewidth": 0,
            "ticks": ""
           }
          },
          "colorscale": {
           "diverging": [
            [
             0,
             "#8e0152"
            ],
            [
             0.1,
             "#c51b7d"
            ],
            [
             0.2,
             "#de77ae"
            ],
            [
             0.3,
             "#f1b6da"
            ],
            [
             0.4,
             "#fde0ef"
            ],
            [
             0.5,
             "#f7f7f7"
            ],
            [
             0.6,
             "#e6f5d0"
            ],
            [
             0.7,
             "#b8e186"
            ],
            [
             0.8,
             "#7fbc41"
            ],
            [
             0.9,
             "#4d9221"
            ],
            [
             1,
             "#276419"
            ]
           ],
           "sequential": [
            [
             0,
             "#0d0887"
            ],
            [
             0.1111111111111111,
             "#46039f"
            ],
            [
             0.2222222222222222,
             "#7201a8"
            ],
            [
             0.3333333333333333,
             "#9c179e"
            ],
            [
             0.4444444444444444,
             "#bd3786"
            ],
            [
             0.5555555555555556,
             "#d8576b"
            ],
            [
             0.6666666666666666,
             "#ed7953"
            ],
            [
             0.7777777777777778,
             "#fb9f3a"
            ],
            [
             0.8888888888888888,
             "#fdca26"
            ],
            [
             1,
             "#f0f921"
            ]
           ],
           "sequentialminus": [
            [
             0,
             "#0d0887"
            ],
            [
             0.1111111111111111,
             "#46039f"
            ],
            [
             0.2222222222222222,
             "#7201a8"
            ],
            [
             0.3333333333333333,
             "#9c179e"
            ],
            [
             0.4444444444444444,
             "#bd3786"
            ],
            [
             0.5555555555555556,
             "#d8576b"
            ],
            [
             0.6666666666666666,
             "#ed7953"
            ],
            [
             0.7777777777777778,
             "#fb9f3a"
            ],
            [
             0.8888888888888888,
             "#fdca26"
            ],
            [
             1,
             "#f0f921"
            ]
           ]
          },
          "colorway": [
           "#636efa",
           "#EF553B",
           "#00cc96",
           "#ab63fa",
           "#FFA15A",
           "#19d3f3",
           "#FF6692",
           "#B6E880",
           "#FF97FF",
           "#FECB52"
          ],
          "font": {
           "color": "#2a3f5f"
          },
          "geo": {
           "bgcolor": "white",
           "lakecolor": "white",
           "landcolor": "#E5ECF6",
           "showlakes": true,
           "showland": true,
           "subunitcolor": "white"
          },
          "hoverlabel": {
           "align": "left"
          },
          "hovermode": "closest",
          "mapbox": {
           "style": "light"
          },
          "paper_bgcolor": "white",
          "plot_bgcolor": "#E5ECF6",
          "polar": {
           "angularaxis": {
            "gridcolor": "white",
            "linecolor": "white",
            "ticks": ""
           },
           "bgcolor": "#E5ECF6",
           "radialaxis": {
            "gridcolor": "white",
            "linecolor": "white",
            "ticks": ""
           }
          },
          "scene": {
           "xaxis": {
            "backgroundcolor": "#E5ECF6",
            "gridcolor": "white",
            "gridwidth": 2,
            "linecolor": "white",
            "showbackground": true,
            "ticks": "",
            "zerolinecolor": "white"
           },
           "yaxis": {
            "backgroundcolor": "#E5ECF6",
            "gridcolor": "white",
            "gridwidth": 2,
            "linecolor": "white",
            "showbackground": true,
            "ticks": "",
            "zerolinecolor": "white"
           },
           "zaxis": {
            "backgroundcolor": "#E5ECF6",
            "gridcolor": "white",
            "gridwidth": 2,
            "linecolor": "white",
            "showbackground": true,
            "ticks": "",
            "zerolinecolor": "white"
           }
          },
          "shapedefaults": {
           "line": {
            "color": "#2a3f5f"
           }
          },
          "ternary": {
           "aaxis": {
            "gridcolor": "white",
            "linecolor": "white",
            "ticks": ""
           },
           "baxis": {
            "gridcolor": "white",
            "linecolor": "white",
            "ticks": ""
           },
           "bgcolor": "#E5ECF6",
           "caxis": {
            "gridcolor": "white",
            "linecolor": "white",
            "ticks": ""
           }
          },
          "title": {
           "x": 0.05
          },
          "xaxis": {
           "automargin": true,
           "gridcolor": "white",
           "linecolor": "white",
           "ticks": "",
           "title": {
            "standoff": 15
           },
           "zerolinecolor": "white",
           "zerolinewidth": 2
          },
          "yaxis": {
           "automargin": true,
           "gridcolor": "white",
           "linecolor": "white",
           "ticks": "",
           "title": {
            "standoff": 15
           },
           "zerolinecolor": "white",
           "zerolinewidth": 2
          }
         }
        },
        "title": {
         "text": "Gemini Translation Times by Source and Target Language with Text Type"
        },
        "xaxis": {
         "anchor": "y",
         "domain": [
          0,
          1
         ],
         "title": {
          "text": "Source Language"
         }
        },
        "yaxis": {
         "anchor": "x",
         "domain": [
          0,
          1
         ],
         "title": {
          "text": "Target Language"
         }
        }
       }
      },
      "text/html": [
       "<div>                            <div id=\"d5c458dc-d98c-414f-9f5c-71fa7a6c5713\" class=\"plotly-graph-div\" style=\"height:525px; width:100%;\"></div>            <script type=\"text/javascript\">                require([\"plotly\"], function(Plotly) {                    window.PLOTLYENV=window.PLOTLYENV || {};                                    if (document.getElementById(\"d5c458dc-d98c-414f-9f5c-71fa7a6c5713\")) {                    Plotly.newPlot(                        \"d5c458dc-d98c-414f-9f5c-71fa7a6c5713\",                        [{\"customdata\":[[1.3585360050201416,1.2379870414733887],[13.740643978118896,1.316380262374878],[1.1046462059020996,2.0283420085906982],[1.2646098136901855,0.7441580295562744],[1.4940011501312256,1.2444560527801514],[1.139242172241211,1.5942959785461426],[1.2553839683532715,0.7225539684295654],[2.630890130996704,1.3782050609588623],[2.0991649627685547,1.3806681632995605],[1.322613000869751,1.3301572799682617],[1.374389886856079,2.9502298831939697],[1.6086070537567139,1.335433006286621],[1.3883557319641113,1.2443571090698242],[2.1974589824676514,1.4913959503173828],[2.402592182159424,1.000349998474121],[3.315403938293457,1.7514681816101074],[1.2411401271820068,1.4466350078582764],[2.498991012573242,0.6518137454986572],[1.3208303451538086,1.269300937652588],[1.2219188213348389,1.3310701847076416],[1.468353033065796,1.4510631561279297],[1.1260268688201904,3.1867992877960205],[1.2564501762390137,0.7432858943939209],[1.299926996231079,1.3885347843170166],[1.6997742652893066,0.8337538242340088],[1.7802999019622803,1.0132710933685303],[1.0505709648132324,1.1377952098846436],[3.4366421699523926,0.8027439117431641],[0.8088362216949463,1.1905317306518555],[1.2476017475128174,1.1755709648132324],[1.3644249439239502,1.2019259929656982],[1.4145750999450684,0.8293249607086182],[1.491034746170044,1.055283784866333],[1.1225769519805908,0.8219468593597412],[1.3700709342956543,1.2132079601287842],[1.6978182792663574,1.4774141311645508],[1.1506881713867188,0.6419088840484619],[1.610727310180664,1.3490979671478271],[1.3388068675994873,1.3789091110229492],[3.5965938568115234,0.9875130653381348],[1.6343181133270264,1.623656988143921],[1.4454882144927979,1.1870810985565186]],\"hovertemplate\":\"Text Type=word\\u003cbr\\u003eSource Language=%{x}\\u003cbr\\u003eTarget Language=%{y}\\u003cbr\\u003eGemini Translation Time (s)=%{customdata[1]}\\u003cbr\\u003eHF Translation Time (s)=%{customdata[0]}\\u003cextra\\u003e\\u003c\\u002fextra\\u003e\",\"legendgroup\":\"word\",\"marker\":{\"color\":\"#636efa\",\"size\":[1.2379870414733887,1.316380262374878,2.0283420085906982,0.7441580295562744,1.2444560527801514,1.5942959785461426,0.7225539684295654,1.3782050609588623,1.3806681632995605,1.3301572799682617,2.9502298831939697,1.335433006286621,1.2443571090698242,1.4913959503173828,1.000349998474121,1.7514681816101074,1.4466350078582764,0.6518137454986572,1.269300937652588,1.3310701847076416,1.4510631561279297,3.1867992877960205,0.7432858943939209,1.3885347843170166,0.8337538242340088,1.0132710933685303,1.1377952098846436,0.8027439117431641,1.1905317306518555,1.1755709648132324,1.2019259929656982,0.8293249607086182,1.055283784866333,0.8219468593597412,1.2132079601287842,1.4774141311645508,0.6419088840484619,1.3490979671478271,1.3789091110229492,0.9875130653381348,1.623656988143921,1.1870810985565186],\"sizemode\":\"area\",\"sizeref\":0.0007504599571228028,\"symbol\":\"circle\",\"line\":{\"width\":2}},\"mode\":\"markers\",\"name\":\"word\",\"orientation\":\"v\",\"showlegend\":true,\"x\":[\"English\",\"English\",\"English\",\"English\",\"English\",\"English\",\"Spanish\",\"Spanish\",\"Spanish\",\"Spanish\",\"Spanish\",\"Spanish\",\"Chinese\",\"Chinese\",\"Chinese\",\"Chinese\",\"Chinese\",\"Chinese\",\"Arabic\",\"Arabic\",\"Arabic\",\"Arabic\",\"Arabic\",\"Arabic\",\"Russian\",\"Russian\",\"Russian\",\"Russian\",\"Russian\",\"Russian\",\"German\",\"German\",\"German\",\"German\",\"German\",\"German\",\"French\",\"French\",\"French\",\"French\",\"French\",\"French\"],\"xaxis\":\"x\",\"y\":[\"Spanish\",\"Chinese\",\"Arabic\",\"Russian\",\"German\",\"French\",\"English\",\"Chinese\",\"Arabic\",\"Russian\",\"German\",\"French\",\"English\",\"Spanish\",\"Arabic\",\"Russian\",\"German\",\"French\",\"English\",\"Spanish\",\"Chinese\",\"Russian\",\"German\",\"French\",\"English\",\"Spanish\",\"Chinese\",\"Arabic\",\"German\",\"French\",\"English\",\"Spanish\",\"Chinese\",\"Arabic\",\"Russian\",\"French\",\"English\",\"Spanish\",\"Chinese\",\"Arabic\",\"Russian\",\"German\"],\"yaxis\":\"y\",\"type\":\"scatter\"},{\"customdata\":[[0.2865791320800781,0.8984739780426025],[0.22876715660095215,1.3084239959716797],[0.2668418884277344,1.1488580703735352],[0.21195077896118164,1.430616855621338],[0.2397630214691162,1.6936511993408203],[0.29642319679260254,2.8664419651031494],[0.24301600456237793,0.7194807529449463],[2.0359020233154297,1.5183520317077637],[2.5022132396698,0.9719321727752686],[0.3540501594543457,1.3655321598052979],[0.31681108474731445,2.7571301460266113],[0.2710847854614258,1.120973825454712],[0.3995399475097656,1.629969835281372],[1.0220363140106201,1.4996600151062012],[2.0003702640533447,1.4192140102386475],[0.9264540672302246,1.2350690364837646],[0.248138427734375,1.0810019969940186],[1.3942170143127441,1.6593141555786133],[0.23713397979736328,1.3741400241851807],[0.45336389541625977,2.6365370750427246],[1.3538780212402344,1.4402518272399902],[1.0349700450897217,2.5184152126312256],[0.3743317127227783,1.2003870010375977],[0.2761862277984619,1.0483617782592773],[0.3680441379547119,0.6703588962554932],[0.5595557689666748,1.1546642780303955],[1.3514549732208252,0.7927978038787842],[0.5098698139190674,1.0881547927856445],[1.1121149063110352,0.9343860149383545],[0.4336278438568115,1.238081932067871],[0.3016219139099121,1.240849256515503],[0.33475208282470703,1.099822759628296],[0.18531394004821777,1.0637290477752686],[4.330995321273804,1.4813592433929443],[1.2256288528442383,0.8602187633514404],[0.38873910903930664,0.8149418830871582],[0.33710265159606934,1.552243947982788],[0.8951599597930908,1.3144659996032715],[0.9294121265411377,0.8887500762939453],[0.28314971923828125,1.392383337020874],[0.40846896171569824,1.0934021472930908],[0.4187180995941162,1.3435871601104736]],\"hovertemplate\":\"Text Type=sentence\\u003cbr\\u003eSource Language=%{x}\\u003cbr\\u003eTarget Language=%{y}\\u003cbr\\u003eGemini Translation Time (s)=%{customdata[1]}\\u003cbr\\u003eHF Translation Time (s)=%{customdata[0]}\\u003cextra\\u003e\\u003c\\u002fextra\\u003e\",\"legendgroup\":\"sentence\",\"marker\":{\"color\":\"#EF553B\",\"size\":[0.8984739780426025,1.3084239959716797,1.1488580703735352,1.430616855621338,1.6936511993408203,2.8664419651031494,0.7194807529449463,1.5183520317077637,0.9719321727752686,1.3655321598052979,2.7571301460266113,1.120973825454712,1.629969835281372,1.4996600151062012,1.4192140102386475,1.2350690364837646,1.0810019969940186,1.6593141555786133,1.3741400241851807,2.6365370750427246,1.4402518272399902,2.5184152126312256,1.2003870010375977,1.0483617782592773,0.6703588962554932,1.1546642780303955,0.7927978038787842,1.0881547927856445,0.9343860149383545,1.238081932067871,1.240849256515503,1.099822759628296,1.0637290477752686,1.4813592433929443,0.8602187633514404,0.8149418830871582,1.552243947982788,1.3144659996032715,0.8887500762939453,1.392383337020874,1.0934021472930908,1.3435871601104736],\"sizemode\":\"area\",\"sizeref\":0.0007504599571228028,\"symbol\":\"circle\",\"line\":{\"width\":2}},\"mode\":\"markers\",\"name\":\"sentence\",\"orientation\":\"v\",\"showlegend\":true,\"x\":[\"English\",\"English\",\"English\",\"English\",\"English\",\"English\",\"Spanish\",\"Spanish\",\"Spanish\",\"Spanish\",\"Spanish\",\"Spanish\",\"Chinese\",\"Chinese\",\"Chinese\",\"Chinese\",\"Chinese\",\"Chinese\",\"Arabic\",\"Arabic\",\"Arabic\",\"Arabic\",\"Arabic\",\"Arabic\",\"Russian\",\"Russian\",\"Russian\",\"Russian\",\"Russian\",\"Russian\",\"German\",\"German\",\"German\",\"German\",\"German\",\"German\",\"French\",\"French\",\"French\",\"French\",\"French\",\"French\"],\"xaxis\":\"x\",\"y\":[\"Spanish\",\"Chinese\",\"Arabic\",\"Russian\",\"German\",\"French\",\"English\",\"Chinese\",\"Arabic\",\"Russian\",\"German\",\"French\",\"English\",\"Spanish\",\"Arabic\",\"Russian\",\"German\",\"French\",\"English\",\"Spanish\",\"Chinese\",\"Russian\",\"German\",\"French\",\"English\",\"Spanish\",\"Chinese\",\"Arabic\",\"German\",\"French\",\"English\",\"Spanish\",\"Chinese\",\"Arabic\",\"Russian\",\"French\",\"English\",\"Spanish\",\"Chinese\",\"Arabic\",\"Russian\",\"German\"],\"yaxis\":\"y\",\"type\":\"scatter\"},{\"customdata\":[[0.803361177444458,1.082571029663086],[0.6843557357788086,2.2611677646636963],[0.9934122562408447,3.7522997856140137],[0.7129669189453125,1.8011870384216309],[1.4659051895141602,1.6602411270141602],[1.1287760734558105,1.0392749309539795],[0.7793700695037842,1.5199573040008545],[1.2370860576629639,1.5052931308746338],[3.2258729934692383,1.3251457214355469],[1.077500820159912,1.9576070308685303],[1.204503059387207,1.8921692371368408],[1.1909446716308594,1.4141581058502197],[0.6267950534820557,1.5506830215454102],[1.2419509887695312,2.0946249961853027],[1.6693220138549805,1.7023723125457764],[3.25339412689209,2.876293182373047],[0.5382981300354004,1.3290190696716309],[1.6685988903045654,0.9705426692962646],[0.6541798114776611,1.7403578758239746],[1.7078211307525635,2.2919490337371826],[2.8444862365722656,1.6835520267486572],[1.7733790874481201,1.7189140319824219],[0.7584409713745117,2.685771942138672],[1.1362709999084473,1.1813201904296875],[1.9286088943481445,1.7258391380310059],[1.2246110439300537,1.4424922466278076],[1.5411877632141113,1.34322190284729],[2.07962703704834,1.5502395629882812],[1.4001829624176025,1.3677849769592285],[0.9930951595306396,1.5620880126953125],[1.2487561702728271,0.888477087020874],[1.4780189990997314,1.4125230312347412],[1.4340059757232666,1.6429612636566162],[4.725088119506836,1.605109691619873],[1.8978078365325928,1.2338168621063232],[1.1848080158233643,1.7072482109069824],[0.7789719104766846,1.6627709865570068],[1.6162447929382324,0.9638171195983887],[1.9492690563201904,2.072402000427246],[2.0985288619995117,1.1951820850372314],[1.3011457920074463,1.1753621101379395],[1.2787389755249023,1.5889167785644531]],\"hovertemplate\":\"Text Type=paragraph\\u003cbr\\u003eSource Language=%{x}\\u003cbr\\u003eTarget Language=%{y}\\u003cbr\\u003eGemini Translation Time (s)=%{customdata[1]}\\u003cbr\\u003eHF Translation Time (s)=%{customdata[0]}\\u003cextra\\u003e\\u003c\\u002fextra\\u003e\",\"legendgroup\":\"paragraph\",\"marker\":{\"color\":\"#00cc96\",\"size\":[1.082571029663086,2.2611677646636963,3.7522997856140137,1.8011870384216309,1.6602411270141602,1.0392749309539795,1.5199573040008545,1.5052931308746338,1.3251457214355469,1.9576070308685303,1.8921692371368408,1.4141581058502197,1.5506830215454102,2.0946249961853027,1.7023723125457764,2.876293182373047,1.3290190696716309,0.9705426692962646,1.7403578758239746,2.2919490337371826,1.6835520267486572,1.7189140319824219,2.685771942138672,1.1813201904296875,1.7258391380310059,1.4424922466278076,1.34322190284729,1.5502395629882812,1.3677849769592285,1.5620880126953125,0.888477087020874,1.4125230312347412,1.6429612636566162,1.605109691619873,1.2338168621063232,1.7072482109069824,1.6627709865570068,0.9638171195983887,2.072402000427246,1.1951820850372314,1.1753621101379395,1.5889167785644531],\"sizemode\":\"area\",\"sizeref\":0.0007504599571228028,\"symbol\":\"circle\",\"line\":{\"width\":2}},\"mode\":\"markers\",\"name\":\"paragraph\",\"orientation\":\"v\",\"showlegend\":true,\"x\":[\"English\",\"English\",\"English\",\"English\",\"English\",\"English\",\"Spanish\",\"Spanish\",\"Spanish\",\"Spanish\",\"Spanish\",\"Spanish\",\"Chinese\",\"Chinese\",\"Chinese\",\"Chinese\",\"Chinese\",\"Chinese\",\"Arabic\",\"Arabic\",\"Arabic\",\"Arabic\",\"Arabic\",\"Arabic\",\"Russian\",\"Russian\",\"Russian\",\"Russian\",\"Russian\",\"Russian\",\"German\",\"German\",\"German\",\"German\",\"German\",\"German\",\"French\",\"French\",\"French\",\"French\",\"French\",\"French\"],\"xaxis\":\"x\",\"y\":[\"Spanish\",\"Chinese\",\"Arabic\",\"Russian\",\"German\",\"French\",\"English\",\"Chinese\",\"Arabic\",\"Russian\",\"German\",\"French\",\"English\",\"Spanish\",\"Arabic\",\"Russian\",\"German\",\"French\",\"English\",\"Spanish\",\"Chinese\",\"Russian\",\"German\",\"French\",\"English\",\"Spanish\",\"Chinese\",\"Arabic\",\"German\",\"French\",\"English\",\"Spanish\",\"Chinese\",\"Arabic\",\"Russian\",\"French\",\"English\",\"Spanish\",\"Chinese\",\"Arabic\",\"Russian\",\"German\"],\"yaxis\":\"y\",\"type\":\"scatter\"}],                        {\"template\":{\"data\":{\"histogram2dcontour\":[{\"type\":\"histogram2dcontour\",\"colorbar\":{\"outlinewidth\":0,\"ticks\":\"\"},\"colorscale\":[[0.0,\"#0d0887\"],[0.1111111111111111,\"#46039f\"],[0.2222222222222222,\"#7201a8\"],[0.3333333333333333,\"#9c179e\"],[0.4444444444444444,\"#bd3786\"],[0.5555555555555556,\"#d8576b\"],[0.6666666666666666,\"#ed7953\"],[0.7777777777777778,\"#fb9f3a\"],[0.8888888888888888,\"#fdca26\"],[1.0,\"#f0f921\"]]}],\"choropleth\":[{\"type\":\"choropleth\",\"colorbar\":{\"outlinewidth\":0,\"ticks\":\"\"}}],\"histogram2d\":[{\"type\":\"histogram2d\",\"colorbar\":{\"outlinewidth\":0,\"ticks\":\"\"},\"colorscale\":[[0.0,\"#0d0887\"],[0.1111111111111111,\"#46039f\"],[0.2222222222222222,\"#7201a8\"],[0.3333333333333333,\"#9c179e\"],[0.4444444444444444,\"#bd3786\"],[0.5555555555555556,\"#d8576b\"],[0.6666666666666666,\"#ed7953\"],[0.7777777777777778,\"#fb9f3a\"],[0.8888888888888888,\"#fdca26\"],[1.0,\"#f0f921\"]]}],\"heatmap\":[{\"type\":\"heatmap\",\"colorbar\":{\"outlinewidth\":0,\"ticks\":\"\"},\"colorscale\":[[0.0,\"#0d0887\"],[0.1111111111111111,\"#46039f\"],[0.2222222222222222,\"#7201a8\"],[0.3333333333333333,\"#9c179e\"],[0.4444444444444444,\"#bd3786\"],[0.5555555555555556,\"#d8576b\"],[0.6666666666666666,\"#ed7953\"],[0.7777777777777778,\"#fb9f3a\"],[0.8888888888888888,\"#fdca26\"],[1.0,\"#f0f921\"]]}],\"heatmapgl\":[{\"type\":\"heatmapgl\",\"colorbar\":{\"outlinewidth\":0,\"ticks\":\"\"},\"colorscale\":[[0.0,\"#0d0887\"],[0.1111111111111111,\"#46039f\"],[0.2222222222222222,\"#7201a8\"],[0.3333333333333333,\"#9c179e\"],[0.4444444444444444,\"#bd3786\"],[0.5555555555555556,\"#d8576b\"],[0.6666666666666666,\"#ed7953\"],[0.7777777777777778,\"#fb9f3a\"],[0.8888888888888888,\"#fdca26\"],[1.0,\"#f0f921\"]]}],\"contourcarpet\":[{\"type\":\"contourcarpet\",\"colorbar\":{\"outlinewidth\":0,\"ticks\":\"\"}}],\"contour\":[{\"type\":\"contour\",\"colorbar\":{\"outlinewidth\":0,\"ticks\":\"\"},\"colorscale\":[[0.0,\"#0d0887\"],[0.1111111111111111,\"#46039f\"],[0.2222222222222222,\"#7201a8\"],[0.3333333333333333,\"#9c179e\"],[0.4444444444444444,\"#bd3786\"],[0.5555555555555556,\"#d8576b\"],[0.6666666666666666,\"#ed7953\"],[0.7777777777777778,\"#fb9f3a\"],[0.8888888888888888,\"#fdca26\"],[1.0,\"#f0f921\"]]}],\"surface\":[{\"type\":\"surface\",\"colorbar\":{\"outlinewidth\":0,\"ticks\":\"\"},\"colorscale\":[[0.0,\"#0d0887\"],[0.1111111111111111,\"#46039f\"],[0.2222222222222222,\"#7201a8\"],[0.3333333333333333,\"#9c179e\"],[0.4444444444444444,\"#bd3786\"],[0.5555555555555556,\"#d8576b\"],[0.6666666666666666,\"#ed7953\"],[0.7777777777777778,\"#fb9f3a\"],[0.8888888888888888,\"#fdca26\"],[1.0,\"#f0f921\"]]}],\"mesh3d\":[{\"type\":\"mesh3d\",\"colorbar\":{\"outlinewidth\":0,\"ticks\":\"\"}}],\"scatter\":[{\"fillpattern\":{\"fillmode\":\"overlay\",\"size\":10,\"solidity\":0.2},\"type\":\"scatter\"}],\"parcoords\":[{\"type\":\"parcoords\",\"line\":{\"colorbar\":{\"outlinewidth\":0,\"ticks\":\"\"}}}],\"scatterpolargl\":[{\"type\":\"scatterpolargl\",\"marker\":{\"colorbar\":{\"outlinewidth\":0,\"ticks\":\"\"}}}],\"bar\":[{\"error_x\":{\"color\":\"#2a3f5f\"},\"error_y\":{\"color\":\"#2a3f5f\"},\"marker\":{\"line\":{\"color\":\"#E5ECF6\",\"width\":0.5},\"pattern\":{\"fillmode\":\"overlay\",\"size\":10,\"solidity\":0.2}},\"type\":\"bar\"}],\"scattergeo\":[{\"type\":\"scattergeo\",\"marker\":{\"colorbar\":{\"outlinewidth\":0,\"ticks\":\"\"}}}],\"scatterpolar\":[{\"type\":\"scatterpolar\",\"marker\":{\"colorbar\":{\"outlinewidth\":0,\"ticks\":\"\"}}}],\"histogram\":[{\"marker\":{\"pattern\":{\"fillmode\":\"overlay\",\"size\":10,\"solidity\":0.2}},\"type\":\"histogram\"}],\"scattergl\":[{\"type\":\"scattergl\",\"marker\":{\"colorbar\":{\"outlinewidth\":0,\"ticks\":\"\"}}}],\"scatter3d\":[{\"type\":\"scatter3d\",\"line\":{\"colorbar\":{\"outlinewidth\":0,\"ticks\":\"\"}},\"marker\":{\"colorbar\":{\"outlinewidth\":0,\"ticks\":\"\"}}}],\"scattermapbox\":[{\"type\":\"scattermapbox\",\"marker\":{\"colorbar\":{\"outlinewidth\":0,\"ticks\":\"\"}}}],\"scatterternary\":[{\"type\":\"scatterternary\",\"marker\":{\"colorbar\":{\"outlinewidth\":0,\"ticks\":\"\"}}}],\"scattercarpet\":[{\"type\":\"scattercarpet\",\"marker\":{\"colorbar\":{\"outlinewidth\":0,\"ticks\":\"\"}}}],\"carpet\":[{\"aaxis\":{\"endlinecolor\":\"#2a3f5f\",\"gridcolor\":\"white\",\"linecolor\":\"white\",\"minorgridcolor\":\"white\",\"startlinecolor\":\"#2a3f5f\"},\"baxis\":{\"endlinecolor\":\"#2a3f5f\",\"gridcolor\":\"white\",\"linecolor\":\"white\",\"minorgridcolor\":\"white\",\"startlinecolor\":\"#2a3f5f\"},\"type\":\"carpet\"}],\"table\":[{\"cells\":{\"fill\":{\"color\":\"#EBF0F8\"},\"line\":{\"color\":\"white\"}},\"header\":{\"fill\":{\"color\":\"#C8D4E3\"},\"line\":{\"color\":\"white\"}},\"type\":\"table\"}],\"barpolar\":[{\"marker\":{\"line\":{\"color\":\"#E5ECF6\",\"width\":0.5},\"pattern\":{\"fillmode\":\"overlay\",\"size\":10,\"solidity\":0.2}},\"type\":\"barpolar\"}],\"pie\":[{\"automargin\":true,\"type\":\"pie\"}]},\"layout\":{\"autotypenumbers\":\"strict\",\"colorway\":[\"#636efa\",\"#EF553B\",\"#00cc96\",\"#ab63fa\",\"#FFA15A\",\"#19d3f3\",\"#FF6692\",\"#B6E880\",\"#FF97FF\",\"#FECB52\"],\"font\":{\"color\":\"#2a3f5f\"},\"hovermode\":\"closest\",\"hoverlabel\":{\"align\":\"left\"},\"paper_bgcolor\":\"white\",\"plot_bgcolor\":\"#E5ECF6\",\"polar\":{\"bgcolor\":\"#E5ECF6\",\"angularaxis\":{\"gridcolor\":\"white\",\"linecolor\":\"white\",\"ticks\":\"\"},\"radialaxis\":{\"gridcolor\":\"white\",\"linecolor\":\"white\",\"ticks\":\"\"}},\"ternary\":{\"bgcolor\":\"#E5ECF6\",\"aaxis\":{\"gridcolor\":\"white\",\"linecolor\":\"white\",\"ticks\":\"\"},\"baxis\":{\"gridcolor\":\"white\",\"linecolor\":\"white\",\"ticks\":\"\"},\"caxis\":{\"gridcolor\":\"white\",\"linecolor\":\"white\",\"ticks\":\"\"}},\"coloraxis\":{\"colorbar\":{\"outlinewidth\":0,\"ticks\":\"\"}},\"colorscale\":{\"sequential\":[[0.0,\"#0d0887\"],[0.1111111111111111,\"#46039f\"],[0.2222222222222222,\"#7201a8\"],[0.3333333333333333,\"#9c179e\"],[0.4444444444444444,\"#bd3786\"],[0.5555555555555556,\"#d8576b\"],[0.6666666666666666,\"#ed7953\"],[0.7777777777777778,\"#fb9f3a\"],[0.8888888888888888,\"#fdca26\"],[1.0,\"#f0f921\"]],\"sequentialminus\":[[0.0,\"#0d0887\"],[0.1111111111111111,\"#46039f\"],[0.2222222222222222,\"#7201a8\"],[0.3333333333333333,\"#9c179e\"],[0.4444444444444444,\"#bd3786\"],[0.5555555555555556,\"#d8576b\"],[0.6666666666666666,\"#ed7953\"],[0.7777777777777778,\"#fb9f3a\"],[0.8888888888888888,\"#fdca26\"],[1.0,\"#f0f921\"]],\"diverging\":[[0,\"#8e0152\"],[0.1,\"#c51b7d\"],[0.2,\"#de77ae\"],[0.3,\"#f1b6da\"],[0.4,\"#fde0ef\"],[0.5,\"#f7f7f7\"],[0.6,\"#e6f5d0\"],[0.7,\"#b8e186\"],[0.8,\"#7fbc41\"],[0.9,\"#4d9221\"],[1,\"#276419\"]]},\"xaxis\":{\"gridcolor\":\"white\",\"linecolor\":\"white\",\"ticks\":\"\",\"title\":{\"standoff\":15},\"zerolinecolor\":\"white\",\"automargin\":true,\"zerolinewidth\":2},\"yaxis\":{\"gridcolor\":\"white\",\"linecolor\":\"white\",\"ticks\":\"\",\"title\":{\"standoff\":15},\"zerolinecolor\":\"white\",\"automargin\":true,\"zerolinewidth\":2},\"scene\":{\"xaxis\":{\"backgroundcolor\":\"#E5ECF6\",\"gridcolor\":\"white\",\"linecolor\":\"white\",\"showbackground\":true,\"ticks\":\"\",\"zerolinecolor\":\"white\",\"gridwidth\":2},\"yaxis\":{\"backgroundcolor\":\"#E5ECF6\",\"gridcolor\":\"white\",\"linecolor\":\"white\",\"showbackground\":true,\"ticks\":\"\",\"zerolinecolor\":\"white\",\"gridwidth\":2},\"zaxis\":{\"backgroundcolor\":\"#E5ECF6\",\"gridcolor\":\"white\",\"linecolor\":\"white\",\"showbackground\":true,\"ticks\":\"\",\"zerolinecolor\":\"white\",\"gridwidth\":2}},\"shapedefaults\":{\"line\":{\"color\":\"#2a3f5f\"}},\"annotationdefaults\":{\"arrowcolor\":\"#2a3f5f\",\"arrowhead\":0,\"arrowwidth\":1},\"geo\":{\"bgcolor\":\"white\",\"landcolor\":\"#E5ECF6\",\"subunitcolor\":\"white\",\"showland\":true,\"showlakes\":true,\"lakecolor\":\"white\"},\"title\":{\"x\":0.05},\"mapbox\":{\"style\":\"light\"}}},\"xaxis\":{\"anchor\":\"y\",\"domain\":[0.0,1.0],\"title\":{\"text\":\"Source Language\"}},\"yaxis\":{\"anchor\":\"x\",\"domain\":[0.0,1.0],\"title\":{\"text\":\"Target Language\"}},\"legend\":{\"title\":{\"text\":\"Text Type\"},\"tracegroupgap\":0,\"itemsizing\":\"constant\"},\"title\":{\"text\":\"Gemini Translation Times by Source and Target Language with Text Type\"}},                        {\"responsive\": true}                    ).then(function(){\n",
       "                            \n",
       "var gd = document.getElementById('d5c458dc-d98c-414f-9f5c-71fa7a6c5713');\n",
       "var x = new MutationObserver(function (mutations, observer) {{\n",
       "        var display = window.getComputedStyle(gd).display;\n",
       "        if (!display || display === 'none') {{\n",
       "            console.log([gd, 'removed!']);\n",
       "            Plotly.purge(gd);\n",
       "            observer.disconnect();\n",
       "        }}\n",
       "}});\n",
       "\n",
       "// Listen for the removal of the full notebook cells\n",
       "var notebookContainer = gd.closest('#notebook-container');\n",
       "if (notebookContainer) {{\n",
       "    x.observe(notebookContainer, {childList: true});\n",
       "}}\n",
       "\n",
       "// Listen for the clearing of the current output cell\n",
       "var outputEl = gd.closest('.output');\n",
       "if (outputEl) {{\n",
       "    x.observe(outputEl, {childList: true});\n",
       "}}\n",
       "\n",
       "                        })                };                });            </script>        </div>"
      ]
     },
     "metadata": {},
     "output_type": "display_data"
    }
   ],
   "source": [
    "import plotly.express as px\n",
    "\n",
    "# Gráfico de burbujas para comparar ambos modelos por idioma\n",
    "fig1 = px.scatter(df, \n",
    "                  x='Source Language', \n",
    "                  y='Target Language', \n",
    "                  size='HF Translation Time (s)', \n",
    "                  color='Text Type',\n",
    "                  hover_data={'Source Language': True, 'Target Language': True, 'HF Translation Time (s)': True, 'Gemini Translation Time (s)': True},\n",
    "                  title='Hugging Face Translation Times by Source and Target Language with Text Type',\n",
    "                  labels={'HF Translation Time (s)': 'HF Translation Time (s)', 'Source Language': 'Source Language', 'Target Language': 'Target Language'})\n",
    "\n",
    "fig1.update_traces(marker=dict(sizemode='area', sizeref=2.*max(df['HF Translation Time (s)'])/(100.**2), line_width=2))\n",
    "fig1.show()\n",
    "\n",
    "fig2 = px.scatter(df, \n",
    "                  x='Source Language', \n",
    "                  y='Target Language', \n",
    "                  size='Gemini Translation Time (s)', \n",
    "                  color='Text Type',\n",
    "                  hover_data={'Source Language': True, 'Target Language': True, 'HF Translation Time (s)': True, 'Gemini Translation Time (s)': True},\n",
    "                  title='Gemini Translation Times by Source and Target Language with Text Type',\n",
    "                  labels={'Gemini Translation Time (s)': 'Gemini Translation Time (s)', 'Source Language': 'Source Language', 'Target Language': 'Target Language'})\n",
    "\n",
    "fig2.update_traces(marker=dict(sizemode='area', sizeref=2.*max(df['Gemini Translation Time (s)'])/(100.**2), line_width=2))\n",
    "fig2.show()"
   ]
  },
  {
   "cell_type": "code",
   "execution_count": 67,
   "id": "fff10cf9",
   "metadata": {},
   "outputs": [
    {
     "data": {
      "application/vnd.plotly.v1+json": {
       "config": {
        "plotlyServerURL": "https://plot.ly"
       },
       "data": [
        {
         "customdata": [
          [
           "Spanish",
           1.3585360050201416
          ],
          [
           "Spanish",
           0.2865791320800781
          ],
          [
           "Spanish",
           0.803361177444458
          ],
          [
           "Chinese",
           13.740643978118896
          ],
          [
           "Chinese",
           0.22876715660095215
          ],
          [
           "Chinese",
           0.6843557357788086
          ],
          [
           "Arabic",
           1.1046462059020996
          ],
          [
           "Arabic",
           0.2668418884277344
          ],
          [
           "Arabic",
           0.9934122562408447
          ],
          [
           "Russian",
           1.2646098136901855
          ],
          [
           "Russian",
           0.21195077896118164
          ],
          [
           "Russian",
           0.7129669189453125
          ],
          [
           "German",
           1.4940011501312256
          ],
          [
           "German",
           0.2397630214691162
          ],
          [
           "German",
           1.4659051895141602
          ],
          [
           "French",
           1.139242172241211
          ],
          [
           "French",
           0.29642319679260254
          ],
          [
           "French",
           1.1287760734558105
          ],
          [
           "English",
           1.2553839683532715
          ],
          [
           "English",
           0.24301600456237793
          ],
          [
           "English",
           0.7793700695037842
          ],
          [
           "Chinese",
           2.630890130996704
          ],
          [
           "Chinese",
           2.0359020233154297
          ],
          [
           "Chinese",
           1.2370860576629639
          ],
          [
           "Arabic",
           2.0991649627685547
          ],
          [
           "Arabic",
           2.5022132396698
          ],
          [
           "Arabic",
           3.2258729934692383
          ],
          [
           "Russian",
           1.322613000869751
          ],
          [
           "Russian",
           0.3540501594543457
          ],
          [
           "Russian",
           1.077500820159912
          ],
          [
           "German",
           1.374389886856079
          ],
          [
           "German",
           0.31681108474731445
          ],
          [
           "German",
           1.204503059387207
          ],
          [
           "French",
           1.6086070537567139
          ],
          [
           "French",
           0.2710847854614258
          ],
          [
           "French",
           1.1909446716308594
          ],
          [
           "English",
           1.3883557319641113
          ],
          [
           "English",
           0.3995399475097656
          ],
          [
           "English",
           0.6267950534820557
          ],
          [
           "Spanish",
           2.1974589824676514
          ],
          [
           "Spanish",
           1.0220363140106201
          ],
          [
           "Spanish",
           1.2419509887695312
          ],
          [
           "Arabic",
           2.402592182159424
          ],
          [
           "Arabic",
           2.0003702640533447
          ],
          [
           "Arabic",
           1.6693220138549805
          ],
          [
           "Russian",
           3.315403938293457
          ],
          [
           "Russian",
           0.9264540672302246
          ],
          [
           "Russian",
           3.25339412689209
          ],
          [
           "German",
           1.2411401271820068
          ],
          [
           "German",
           0.248138427734375
          ],
          [
           "German",
           0.5382981300354004
          ],
          [
           "French",
           2.498991012573242
          ],
          [
           "French",
           1.3942170143127441
          ],
          [
           "French",
           1.6685988903045654
          ],
          [
           "English",
           1.3208303451538086
          ],
          [
           "English",
           0.23713397979736328
          ],
          [
           "English",
           0.6541798114776611
          ],
          [
           "Spanish",
           1.2219188213348389
          ],
          [
           "Spanish",
           0.45336389541625977
          ],
          [
           "Spanish",
           1.7078211307525635
          ],
          [
           "Chinese",
           1.468353033065796
          ],
          [
           "Chinese",
           1.3538780212402344
          ],
          [
           "Chinese",
           2.8444862365722656
          ],
          [
           "Russian",
           1.1260268688201904
          ],
          [
           "Russian",
           1.0349700450897217
          ],
          [
           "Russian",
           1.7733790874481201
          ],
          [
           "German",
           1.2564501762390137
          ],
          [
           "German",
           0.3743317127227783
          ],
          [
           "German",
           0.7584409713745117
          ],
          [
           "French",
           1.299926996231079
          ],
          [
           "French",
           0.2761862277984619
          ],
          [
           "French",
           1.1362709999084473
          ],
          [
           "English",
           1.6997742652893066
          ],
          [
           "English",
           0.3680441379547119
          ],
          [
           "English",
           1.9286088943481445
          ],
          [
           "Spanish",
           1.7802999019622803
          ],
          [
           "Spanish",
           0.5595557689666748
          ],
          [
           "Spanish",
           1.2246110439300537
          ],
          [
           "Chinese",
           1.0505709648132324
          ],
          [
           "Chinese",
           1.3514549732208252
          ],
          [
           "Chinese",
           1.5411877632141113
          ],
          [
           "Arabic",
           3.4366421699523926
          ],
          [
           "Arabic",
           0.5098698139190674
          ],
          [
           "Arabic",
           2.07962703704834
          ],
          [
           "German",
           0.8088362216949463
          ],
          [
           "German",
           1.1121149063110352
          ],
          [
           "German",
           1.4001829624176025
          ],
          [
           "French",
           1.2476017475128174
          ],
          [
           "French",
           0.4336278438568115
          ],
          [
           "French",
           0.9930951595306396
          ],
          [
           "English",
           1.3644249439239502
          ],
          [
           "English",
           0.3016219139099121
          ],
          [
           "English",
           1.2487561702728271
          ],
          [
           "Spanish",
           1.4145750999450684
          ],
          [
           "Spanish",
           0.33475208282470703
          ],
          [
           "Spanish",
           1.4780189990997314
          ],
          [
           "Chinese",
           1.491034746170044
          ],
          [
           "Chinese",
           0.18531394004821777
          ],
          [
           "Chinese",
           1.4340059757232666
          ],
          [
           "Arabic",
           1.1225769519805908
          ],
          [
           "Arabic",
           4.330995321273804
          ],
          [
           "Arabic",
           4.725088119506836
          ],
          [
           "Russian",
           1.3700709342956543
          ],
          [
           "Russian",
           1.2256288528442383
          ],
          [
           "Russian",
           1.8978078365325928
          ],
          [
           "French",
           1.6978182792663574
          ],
          [
           "French",
           0.38873910903930664
          ],
          [
           "French",
           1.1848080158233643
          ],
          [
           "English",
           1.1506881713867188
          ],
          [
           "English",
           0.33710265159606934
          ],
          [
           "English",
           0.7789719104766846
          ],
          [
           "Spanish",
           1.610727310180664
          ],
          [
           "Spanish",
           0.8951599597930908
          ],
          [
           "Spanish",
           1.6162447929382324
          ],
          [
           "Chinese",
           1.3388068675994873
          ],
          [
           "Chinese",
           0.9294121265411377
          ],
          [
           "Chinese",
           1.9492690563201904
          ],
          [
           "Arabic",
           3.5965938568115234
          ],
          [
           "Arabic",
           0.28314971923828125
          ],
          [
           "Arabic",
           2.0985288619995117
          ],
          [
           "Russian",
           1.6343181133270264
          ],
          [
           "Russian",
           0.40846896171569824
          ],
          [
           "Russian",
           1.3011457920074463
          ],
          [
           "German",
           1.4454882144927979
          ],
          [
           "German",
           0.4187180995941162
          ],
          [
           "German",
           1.2787389755249023
          ]
         ],
         "hovertemplate": "Model=HF Translation Time (s)<br>Text Type=%{x}<br>Source Language=%{y}<br>Translation Time (s)=%{customdata[1]}<br>Target Language=%{customdata[0]}<extra></extra>",
         "legendgroup": "HF Translation Time (s)",
         "marker": {
          "color": "#636efa",
          "line": {
           "width": 2
          },
          "size": [
           1.3585360050201416,
           0.2865791320800781,
           0.803361177444458,
           13.740643978118896,
           0.22876715660095215,
           0.6843557357788086,
           1.1046462059020996,
           0.2668418884277344,
           0.9934122562408447,
           1.2646098136901855,
           0.21195077896118164,
           0.7129669189453125,
           1.4940011501312256,
           0.2397630214691162,
           1.4659051895141602,
           1.139242172241211,
           0.29642319679260254,
           1.1287760734558105,
           1.2553839683532715,
           0.24301600456237793,
           0.7793700695037842,
           2.630890130996704,
           2.0359020233154297,
           1.2370860576629639,
           2.0991649627685547,
           2.5022132396698,
           3.2258729934692383,
           1.322613000869751,
           0.3540501594543457,
           1.077500820159912,
           1.374389886856079,
           0.31681108474731445,
           1.204503059387207,
           1.6086070537567139,
           0.2710847854614258,
           1.1909446716308594,
           1.3883557319641113,
           0.3995399475097656,
           0.6267950534820557,
           2.1974589824676514,
           1.0220363140106201,
           1.2419509887695312,
           2.402592182159424,
           2.0003702640533447,
           1.6693220138549805,
           3.315403938293457,
           0.9264540672302246,
           3.25339412689209,
           1.2411401271820068,
           0.248138427734375,
           0.5382981300354004,
           2.498991012573242,
           1.3942170143127441,
           1.6685988903045654,
           1.3208303451538086,
           0.23713397979736328,
           0.6541798114776611,
           1.2219188213348389,
           0.45336389541625977,
           1.7078211307525635,
           1.468353033065796,
           1.3538780212402344,
           2.8444862365722656,
           1.1260268688201904,
           1.0349700450897217,
           1.7733790874481201,
           1.2564501762390137,
           0.3743317127227783,
           0.7584409713745117,
           1.299926996231079,
           0.2761862277984619,
           1.1362709999084473,
           1.6997742652893066,
           0.3680441379547119,
           1.9286088943481445,
           1.7802999019622803,
           0.5595557689666748,
           1.2246110439300537,
           1.0505709648132324,
           1.3514549732208252,
           1.5411877632141113,
           3.4366421699523926,
           0.5098698139190674,
           2.07962703704834,
           0.8088362216949463,
           1.1121149063110352,
           1.4001829624176025,
           1.2476017475128174,
           0.4336278438568115,
           0.9930951595306396,
           1.3644249439239502,
           0.3016219139099121,
           1.2487561702728271,
           1.4145750999450684,
           0.33475208282470703,
           1.4780189990997314,
           1.491034746170044,
           0.18531394004821777,
           1.4340059757232666,
           1.1225769519805908,
           4.330995321273804,
           4.725088119506836,
           1.3700709342956543,
           1.2256288528442383,
           1.8978078365325928,
           1.6978182792663574,
           0.38873910903930664,
           1.1848080158233643,
           1.1506881713867188,
           0.33710265159606934,
           0.7789719104766846,
           1.610727310180664,
           0.8951599597930908,
           1.6162447929382324,
           1.3388068675994873,
           0.9294121265411377,
           1.9492690563201904,
           3.5965938568115234,
           0.28314971923828125,
           2.0985288619995117,
           1.6343181133270264,
           0.40846896171569824,
           1.3011457920074463,
           1.4454882144927979,
           0.4187180995941162,
           1.2787389755249023
          ],
          "sizemode": "area",
          "sizeref": 0.0027481287956237794,
          "symbol": "circle"
         },
         "mode": "markers",
         "name": "HF Translation Time (s)",
         "orientation": "v",
         "showlegend": true,
         "type": "scatter",
         "x": [
          "word",
          "sentence",
          "paragraph",
          "word",
          "sentence",
          "paragraph",
          "word",
          "sentence",
          "paragraph",
          "word",
          "sentence",
          "paragraph",
          "word",
          "sentence",
          "paragraph",
          "word",
          "sentence",
          "paragraph",
          "word",
          "sentence",
          "paragraph",
          "word",
          "sentence",
          "paragraph",
          "word",
          "sentence",
          "paragraph",
          "word",
          "sentence",
          "paragraph",
          "word",
          "sentence",
          "paragraph",
          "word",
          "sentence",
          "paragraph",
          "word",
          "sentence",
          "paragraph",
          "word",
          "sentence",
          "paragraph",
          "word",
          "sentence",
          "paragraph",
          "word",
          "sentence",
          "paragraph",
          "word",
          "sentence",
          "paragraph",
          "word",
          "sentence",
          "paragraph",
          "word",
          "sentence",
          "paragraph",
          "word",
          "sentence",
          "paragraph",
          "word",
          "sentence",
          "paragraph",
          "word",
          "sentence",
          "paragraph",
          "word",
          "sentence",
          "paragraph",
          "word",
          "sentence",
          "paragraph",
          "word",
          "sentence",
          "paragraph",
          "word",
          "sentence",
          "paragraph",
          "word",
          "sentence",
          "paragraph",
          "word",
          "sentence",
          "paragraph",
          "word",
          "sentence",
          "paragraph",
          "word",
          "sentence",
          "paragraph",
          "word",
          "sentence",
          "paragraph",
          "word",
          "sentence",
          "paragraph",
          "word",
          "sentence",
          "paragraph",
          "word",
          "sentence",
          "paragraph",
          "word",
          "sentence",
          "paragraph",
          "word",
          "sentence",
          "paragraph",
          "word",
          "sentence",
          "paragraph",
          "word",
          "sentence",
          "paragraph",
          "word",
          "sentence",
          "paragraph",
          "word",
          "sentence",
          "paragraph",
          "word",
          "sentence",
          "paragraph",
          "word",
          "sentence",
          "paragraph"
         ],
         "xaxis": "x",
         "y": [
          "English",
          "English",
          "English",
          "English",
          "English",
          "English",
          "English",
          "English",
          "English",
          "English",
          "English",
          "English",
          "English",
          "English",
          "English",
          "English",
          "English",
          "English",
          "Spanish",
          "Spanish",
          "Spanish",
          "Spanish",
          "Spanish",
          "Spanish",
          "Spanish",
          "Spanish",
          "Spanish",
          "Spanish",
          "Spanish",
          "Spanish",
          "Spanish",
          "Spanish",
          "Spanish",
          "Spanish",
          "Spanish",
          "Spanish",
          "Chinese",
          "Chinese",
          "Chinese",
          "Chinese",
          "Chinese",
          "Chinese",
          "Chinese",
          "Chinese",
          "Chinese",
          "Chinese",
          "Chinese",
          "Chinese",
          "Chinese",
          "Chinese",
          "Chinese",
          "Chinese",
          "Chinese",
          "Chinese",
          "Arabic",
          "Arabic",
          "Arabic",
          "Arabic",
          "Arabic",
          "Arabic",
          "Arabic",
          "Arabic",
          "Arabic",
          "Arabic",
          "Arabic",
          "Arabic",
          "Arabic",
          "Arabic",
          "Arabic",
          "Arabic",
          "Arabic",
          "Arabic",
          "Russian",
          "Russian",
          "Russian",
          "Russian",
          "Russian",
          "Russian",
          "Russian",
          "Russian",
          "Russian",
          "Russian",
          "Russian",
          "Russian",
          "Russian",
          "Russian",
          "Russian",
          "Russian",
          "Russian",
          "Russian",
          "German",
          "German",
          "German",
          "German",
          "German",
          "German",
          "German",
          "German",
          "German",
          "German",
          "German",
          "German",
          "German",
          "German",
          "German",
          "German",
          "German",
          "German",
          "French",
          "French",
          "French",
          "French",
          "French",
          "French",
          "French",
          "French",
          "French",
          "French",
          "French",
          "French",
          "French",
          "French",
          "French",
          "French",
          "French",
          "French"
         ],
         "yaxis": "y"
        },
        {
         "customdata": [
          [
           "Spanish",
           1.2379870414733887
          ],
          [
           "Spanish",
           0.8984739780426025
          ],
          [
           "Spanish",
           1.082571029663086
          ],
          [
           "Chinese",
           1.316380262374878
          ],
          [
           "Chinese",
           1.3084239959716797
          ],
          [
           "Chinese",
           2.2611677646636963
          ],
          [
           "Arabic",
           2.0283420085906982
          ],
          [
           "Arabic",
           1.1488580703735352
          ],
          [
           "Arabic",
           3.7522997856140137
          ],
          [
           "Russian",
           0.7441580295562744
          ],
          [
           "Russian",
           1.430616855621338
          ],
          [
           "Russian",
           1.8011870384216309
          ],
          [
           "German",
           1.2444560527801514
          ],
          [
           "German",
           1.6936511993408203
          ],
          [
           "German",
           1.6602411270141602
          ],
          [
           "French",
           1.5942959785461426
          ],
          [
           "French",
           2.8664419651031494
          ],
          [
           "French",
           1.0392749309539795
          ],
          [
           "English",
           0.7225539684295654
          ],
          [
           "English",
           0.7194807529449463
          ],
          [
           "English",
           1.5199573040008545
          ],
          [
           "Chinese",
           1.3782050609588623
          ],
          [
           "Chinese",
           1.5183520317077637
          ],
          [
           "Chinese",
           1.5052931308746338
          ],
          [
           "Arabic",
           1.3806681632995605
          ],
          [
           "Arabic",
           0.9719321727752686
          ],
          [
           "Arabic",
           1.3251457214355469
          ],
          [
           "Russian",
           1.3301572799682617
          ],
          [
           "Russian",
           1.3655321598052979
          ],
          [
           "Russian",
           1.9576070308685303
          ],
          [
           "German",
           2.9502298831939697
          ],
          [
           "German",
           2.7571301460266113
          ],
          [
           "German",
           1.8921692371368408
          ],
          [
           "French",
           1.335433006286621
          ],
          [
           "French",
           1.120973825454712
          ],
          [
           "French",
           1.4141581058502197
          ],
          [
           "English",
           1.2443571090698242
          ],
          [
           "English",
           1.629969835281372
          ],
          [
           "English",
           1.5506830215454102
          ],
          [
           "Spanish",
           1.4913959503173828
          ],
          [
           "Spanish",
           1.4996600151062012
          ],
          [
           "Spanish",
           2.0946249961853027
          ],
          [
           "Arabic",
           1.000349998474121
          ],
          [
           "Arabic",
           1.4192140102386475
          ],
          [
           "Arabic",
           1.7023723125457764
          ],
          [
           "Russian",
           1.7514681816101074
          ],
          [
           "Russian",
           1.2350690364837646
          ],
          [
           "Russian",
           2.876293182373047
          ],
          [
           "German",
           1.4466350078582764
          ],
          [
           "German",
           1.0810019969940186
          ],
          [
           "German",
           1.3290190696716309
          ],
          [
           "French",
           0.6518137454986572
          ],
          [
           "French",
           1.6593141555786133
          ],
          [
           "French",
           0.9705426692962646
          ],
          [
           "English",
           1.269300937652588
          ],
          [
           "English",
           1.3741400241851807
          ],
          [
           "English",
           1.7403578758239746
          ],
          [
           "Spanish",
           1.3310701847076416
          ],
          [
           "Spanish",
           2.6365370750427246
          ],
          [
           "Spanish",
           2.2919490337371826
          ],
          [
           "Chinese",
           1.4510631561279297
          ],
          [
           "Chinese",
           1.4402518272399902
          ],
          [
           "Chinese",
           1.6835520267486572
          ],
          [
           "Russian",
           3.1867992877960205
          ],
          [
           "Russian",
           2.5184152126312256
          ],
          [
           "Russian",
           1.7189140319824219
          ],
          [
           "German",
           0.7432858943939209
          ],
          [
           "German",
           1.2003870010375977
          ],
          [
           "German",
           2.685771942138672
          ],
          [
           "French",
           1.3885347843170166
          ],
          [
           "French",
           1.0483617782592773
          ],
          [
           "French",
           1.1813201904296875
          ],
          [
           "English",
           0.8337538242340088
          ],
          [
           "English",
           0.6703588962554932
          ],
          [
           "English",
           1.7258391380310059
          ],
          [
           "Spanish",
           1.0132710933685303
          ],
          [
           "Spanish",
           1.1546642780303955
          ],
          [
           "Spanish",
           1.4424922466278076
          ],
          [
           "Chinese",
           1.1377952098846436
          ],
          [
           "Chinese",
           0.7927978038787842
          ],
          [
           "Chinese",
           1.34322190284729
          ],
          [
           "Arabic",
           0.8027439117431641
          ],
          [
           "Arabic",
           1.0881547927856445
          ],
          [
           "Arabic",
           1.5502395629882812
          ],
          [
           "German",
           1.1905317306518555
          ],
          [
           "German",
           0.9343860149383545
          ],
          [
           "German",
           1.3677849769592285
          ],
          [
           "French",
           1.1755709648132324
          ],
          [
           "French",
           1.238081932067871
          ],
          [
           "French",
           1.5620880126953125
          ],
          [
           "English",
           1.2019259929656982
          ],
          [
           "English",
           1.240849256515503
          ],
          [
           "English",
           0.888477087020874
          ],
          [
           "Spanish",
           0.8293249607086182
          ],
          [
           "Spanish",
           1.099822759628296
          ],
          [
           "Spanish",
           1.4125230312347412
          ],
          [
           "Chinese",
           1.055283784866333
          ],
          [
           "Chinese",
           1.0637290477752686
          ],
          [
           "Chinese",
           1.6429612636566162
          ],
          [
           "Arabic",
           0.8219468593597412
          ],
          [
           "Arabic",
           1.4813592433929443
          ],
          [
           "Arabic",
           1.605109691619873
          ],
          [
           "Russian",
           1.2132079601287842
          ],
          [
           "Russian",
           0.8602187633514404
          ],
          [
           "Russian",
           1.2338168621063232
          ],
          [
           "French",
           1.4774141311645508
          ],
          [
           "French",
           0.8149418830871582
          ],
          [
           "French",
           1.7072482109069824
          ],
          [
           "English",
           0.6419088840484619
          ],
          [
           "English",
           1.552243947982788
          ],
          [
           "English",
           1.6627709865570068
          ],
          [
           "Spanish",
           1.3490979671478271
          ],
          [
           "Spanish",
           1.3144659996032715
          ],
          [
           "Spanish",
           0.9638171195983887
          ],
          [
           "Chinese",
           1.3789091110229492
          ],
          [
           "Chinese",
           0.8887500762939453
          ],
          [
           "Chinese",
           2.072402000427246
          ],
          [
           "Arabic",
           0.9875130653381348
          ],
          [
           "Arabic",
           1.392383337020874
          ],
          [
           "Arabic",
           1.1951820850372314
          ],
          [
           "Russian",
           1.623656988143921
          ],
          [
           "Russian",
           1.0934021472930908
          ],
          [
           "Russian",
           1.1753621101379395
          ],
          [
           "German",
           1.1870810985565186
          ],
          [
           "German",
           1.3435871601104736
          ],
          [
           "German",
           1.5889167785644531
          ]
         ],
         "hovertemplate": "Model=Gemini Translation Time (s)<br>Text Type=%{x}<br>Source Language=%{y}<br>Translation Time (s)=%{customdata[1]}<br>Target Language=%{customdata[0]}<extra></extra>",
         "legendgroup": "Gemini Translation Time (s)",
         "marker": {
          "color": "#EF553B",
          "line": {
           "width": 2
          },
          "size": [
           1.2379870414733887,
           0.8984739780426025,
           1.082571029663086,
           1.316380262374878,
           1.3084239959716797,
           2.2611677646636963,
           2.0283420085906982,
           1.1488580703735352,
           3.7522997856140137,
           0.7441580295562744,
           1.430616855621338,
           1.8011870384216309,
           1.2444560527801514,
           1.6936511993408203,
           1.6602411270141602,
           1.5942959785461426,
           2.8664419651031494,
           1.0392749309539795,
           0.7225539684295654,
           0.7194807529449463,
           1.5199573040008545,
           1.3782050609588623,
           1.5183520317077637,
           1.5052931308746338,
           1.3806681632995605,
           0.9719321727752686,
           1.3251457214355469,
           1.3301572799682617,
           1.3655321598052979,
           1.9576070308685303,
           2.9502298831939697,
           2.7571301460266113,
           1.8921692371368408,
           1.335433006286621,
           1.120973825454712,
           1.4141581058502197,
           1.2443571090698242,
           1.629969835281372,
           1.5506830215454102,
           1.4913959503173828,
           1.4996600151062012,
           2.0946249961853027,
           1.000349998474121,
           1.4192140102386475,
           1.7023723125457764,
           1.7514681816101074,
           1.2350690364837646,
           2.876293182373047,
           1.4466350078582764,
           1.0810019969940186,
           1.3290190696716309,
           0.6518137454986572,
           1.6593141555786133,
           0.9705426692962646,
           1.269300937652588,
           1.3741400241851807,
           1.7403578758239746,
           1.3310701847076416,
           2.6365370750427246,
           2.2919490337371826,
           1.4510631561279297,
           1.4402518272399902,
           1.6835520267486572,
           3.1867992877960205,
           2.5184152126312256,
           1.7189140319824219,
           0.7432858943939209,
           1.2003870010375977,
           2.685771942138672,
           1.3885347843170166,
           1.0483617782592773,
           1.1813201904296875,
           0.8337538242340088,
           0.6703588962554932,
           1.7258391380310059,
           1.0132710933685303,
           1.1546642780303955,
           1.4424922466278076,
           1.1377952098846436,
           0.7927978038787842,
           1.34322190284729,
           0.8027439117431641,
           1.0881547927856445,
           1.5502395629882812,
           1.1905317306518555,
           0.9343860149383545,
           1.3677849769592285,
           1.1755709648132324,
           1.238081932067871,
           1.5620880126953125,
           1.2019259929656982,
           1.240849256515503,
           0.888477087020874,
           0.8293249607086182,
           1.099822759628296,
           1.4125230312347412,
           1.055283784866333,
           1.0637290477752686,
           1.6429612636566162,
           0.8219468593597412,
           1.4813592433929443,
           1.605109691619873,
           1.2132079601287842,
           0.8602187633514404,
           1.2338168621063232,
           1.4774141311645508,
           0.8149418830871582,
           1.7072482109069824,
           0.6419088840484619,
           1.552243947982788,
           1.6627709865570068,
           1.3490979671478271,
           1.3144659996032715,
           0.9638171195983887,
           1.3789091110229492,
           0.8887500762939453,
           2.072402000427246,
           0.9875130653381348,
           1.392383337020874,
           1.1951820850372314,
           1.623656988143921,
           1.0934021472930908,
           1.1753621101379395,
           1.1870810985565186,
           1.3435871601104736,
           1.5889167785644531
          ],
          "sizemode": "area",
          "sizeref": 0.0027481287956237794,
          "symbol": "circle"
         },
         "mode": "markers",
         "name": "Gemini Translation Time (s)",
         "orientation": "v",
         "showlegend": true,
         "type": "scatter",
         "x": [
          "word",
          "sentence",
          "paragraph",
          "word",
          "sentence",
          "paragraph",
          "word",
          "sentence",
          "paragraph",
          "word",
          "sentence",
          "paragraph",
          "word",
          "sentence",
          "paragraph",
          "word",
          "sentence",
          "paragraph",
          "word",
          "sentence",
          "paragraph",
          "word",
          "sentence",
          "paragraph",
          "word",
          "sentence",
          "paragraph",
          "word",
          "sentence",
          "paragraph",
          "word",
          "sentence",
          "paragraph",
          "word",
          "sentence",
          "paragraph",
          "word",
          "sentence",
          "paragraph",
          "word",
          "sentence",
          "paragraph",
          "word",
          "sentence",
          "paragraph",
          "word",
          "sentence",
          "paragraph",
          "word",
          "sentence",
          "paragraph",
          "word",
          "sentence",
          "paragraph",
          "word",
          "sentence",
          "paragraph",
          "word",
          "sentence",
          "paragraph",
          "word",
          "sentence",
          "paragraph",
          "word",
          "sentence",
          "paragraph",
          "word",
          "sentence",
          "paragraph",
          "word",
          "sentence",
          "paragraph",
          "word",
          "sentence",
          "paragraph",
          "word",
          "sentence",
          "paragraph",
          "word",
          "sentence",
          "paragraph",
          "word",
          "sentence",
          "paragraph",
          "word",
          "sentence",
          "paragraph",
          "word",
          "sentence",
          "paragraph",
          "word",
          "sentence",
          "paragraph",
          "word",
          "sentence",
          "paragraph",
          "word",
          "sentence",
          "paragraph",
          "word",
          "sentence",
          "paragraph",
          "word",
          "sentence",
          "paragraph",
          "word",
          "sentence",
          "paragraph",
          "word",
          "sentence",
          "paragraph",
          "word",
          "sentence",
          "paragraph",
          "word",
          "sentence",
          "paragraph",
          "word",
          "sentence",
          "paragraph",
          "word",
          "sentence",
          "paragraph",
          "word",
          "sentence",
          "paragraph"
         ],
         "xaxis": "x",
         "y": [
          "English",
          "English",
          "English",
          "English",
          "English",
          "English",
          "English",
          "English",
          "English",
          "English",
          "English",
          "English",
          "English",
          "English",
          "English",
          "English",
          "English",
          "English",
          "Spanish",
          "Spanish",
          "Spanish",
          "Spanish",
          "Spanish",
          "Spanish",
          "Spanish",
          "Spanish",
          "Spanish",
          "Spanish",
          "Spanish",
          "Spanish",
          "Spanish",
          "Spanish",
          "Spanish",
          "Spanish",
          "Spanish",
          "Spanish",
          "Chinese",
          "Chinese",
          "Chinese",
          "Chinese",
          "Chinese",
          "Chinese",
          "Chinese",
          "Chinese",
          "Chinese",
          "Chinese",
          "Chinese",
          "Chinese",
          "Chinese",
          "Chinese",
          "Chinese",
          "Chinese",
          "Chinese",
          "Chinese",
          "Arabic",
          "Arabic",
          "Arabic",
          "Arabic",
          "Arabic",
          "Arabic",
          "Arabic",
          "Arabic",
          "Arabic",
          "Arabic",
          "Arabic",
          "Arabic",
          "Arabic",
          "Arabic",
          "Arabic",
          "Arabic",
          "Arabic",
          "Arabic",
          "Russian",
          "Russian",
          "Russian",
          "Russian",
          "Russian",
          "Russian",
          "Russian",
          "Russian",
          "Russian",
          "Russian",
          "Russian",
          "Russian",
          "Russian",
          "Russian",
          "Russian",
          "Russian",
          "Russian",
          "Russian",
          "German",
          "German",
          "German",
          "German",
          "German",
          "German",
          "German",
          "German",
          "German",
          "German",
          "German",
          "German",
          "German",
          "German",
          "German",
          "German",
          "German",
          "German",
          "French",
          "French",
          "French",
          "French",
          "French",
          "French",
          "French",
          "French",
          "French",
          "French",
          "French",
          "French",
          "French",
          "French",
          "French",
          "French",
          "French",
          "French"
         ],
         "yaxis": "y"
        }
       ],
       "layout": {
        "legend": {
         "itemsizing": "constant",
         "title": {
          "text": "Model"
         },
         "tracegroupgap": 0
        },
        "template": {
         "data": {
          "bar": [
           {
            "error_x": {
             "color": "#2a3f5f"
            },
            "error_y": {
             "color": "#2a3f5f"
            },
            "marker": {
             "line": {
              "color": "#E5ECF6",
              "width": 0.5
             },
             "pattern": {
              "fillmode": "overlay",
              "size": 10,
              "solidity": 0.2
             }
            },
            "type": "bar"
           }
          ],
          "barpolar": [
           {
            "marker": {
             "line": {
              "color": "#E5ECF6",
              "width": 0.5
             },
             "pattern": {
              "fillmode": "overlay",
              "size": 10,
              "solidity": 0.2
             }
            },
            "type": "barpolar"
           }
          ],
          "carpet": [
           {
            "aaxis": {
             "endlinecolor": "#2a3f5f",
             "gridcolor": "white",
             "linecolor": "white",
             "minorgridcolor": "white",
             "startlinecolor": "#2a3f5f"
            },
            "baxis": {
             "endlinecolor": "#2a3f5f",
             "gridcolor": "white",
             "linecolor": "white",
             "minorgridcolor": "white",
             "startlinecolor": "#2a3f5f"
            },
            "type": "carpet"
           }
          ],
          "choropleth": [
           {
            "colorbar": {
             "outlinewidth": 0,
             "ticks": ""
            },
            "type": "choropleth"
           }
          ],
          "contour": [
           {
            "colorbar": {
             "outlinewidth": 0,
             "ticks": ""
            },
            "colorscale": [
             [
              0,
              "#0d0887"
             ],
             [
              0.1111111111111111,
              "#46039f"
             ],
             [
              0.2222222222222222,
              "#7201a8"
             ],
             [
              0.3333333333333333,
              "#9c179e"
             ],
             [
              0.4444444444444444,
              "#bd3786"
             ],
             [
              0.5555555555555556,
              "#d8576b"
             ],
             [
              0.6666666666666666,
              "#ed7953"
             ],
             [
              0.7777777777777778,
              "#fb9f3a"
             ],
             [
              0.8888888888888888,
              "#fdca26"
             ],
             [
              1,
              "#f0f921"
             ]
            ],
            "type": "contour"
           }
          ],
          "contourcarpet": [
           {
            "colorbar": {
             "outlinewidth": 0,
             "ticks": ""
            },
            "type": "contourcarpet"
           }
          ],
          "heatmap": [
           {
            "colorbar": {
             "outlinewidth": 0,
             "ticks": ""
            },
            "colorscale": [
             [
              0,
              "#0d0887"
             ],
             [
              0.1111111111111111,
              "#46039f"
             ],
             [
              0.2222222222222222,
              "#7201a8"
             ],
             [
              0.3333333333333333,
              "#9c179e"
             ],
             [
              0.4444444444444444,
              "#bd3786"
             ],
             [
              0.5555555555555556,
              "#d8576b"
             ],
             [
              0.6666666666666666,
              "#ed7953"
             ],
             [
              0.7777777777777778,
              "#fb9f3a"
             ],
             [
              0.8888888888888888,
              "#fdca26"
             ],
             [
              1,
              "#f0f921"
             ]
            ],
            "type": "heatmap"
           }
          ],
          "heatmapgl": [
           {
            "colorbar": {
             "outlinewidth": 0,
             "ticks": ""
            },
            "colorscale": [
             [
              0,
              "#0d0887"
             ],
             [
              0.1111111111111111,
              "#46039f"
             ],
             [
              0.2222222222222222,
              "#7201a8"
             ],
             [
              0.3333333333333333,
              "#9c179e"
             ],
             [
              0.4444444444444444,
              "#bd3786"
             ],
             [
              0.5555555555555556,
              "#d8576b"
             ],
             [
              0.6666666666666666,
              "#ed7953"
             ],
             [
              0.7777777777777778,
              "#fb9f3a"
             ],
             [
              0.8888888888888888,
              "#fdca26"
             ],
             [
              1,
              "#f0f921"
             ]
            ],
            "type": "heatmapgl"
           }
          ],
          "histogram": [
           {
            "marker": {
             "pattern": {
              "fillmode": "overlay",
              "size": 10,
              "solidity": 0.2
             }
            },
            "type": "histogram"
           }
          ],
          "histogram2d": [
           {
            "colorbar": {
             "outlinewidth": 0,
             "ticks": ""
            },
            "colorscale": [
             [
              0,
              "#0d0887"
             ],
             [
              0.1111111111111111,
              "#46039f"
             ],
             [
              0.2222222222222222,
              "#7201a8"
             ],
             [
              0.3333333333333333,
              "#9c179e"
             ],
             [
              0.4444444444444444,
              "#bd3786"
             ],
             [
              0.5555555555555556,
              "#d8576b"
             ],
             [
              0.6666666666666666,
              "#ed7953"
             ],
             [
              0.7777777777777778,
              "#fb9f3a"
             ],
             [
              0.8888888888888888,
              "#fdca26"
             ],
             [
              1,
              "#f0f921"
             ]
            ],
            "type": "histogram2d"
           }
          ],
          "histogram2dcontour": [
           {
            "colorbar": {
             "outlinewidth": 0,
             "ticks": ""
            },
            "colorscale": [
             [
              0,
              "#0d0887"
             ],
             [
              0.1111111111111111,
              "#46039f"
             ],
             [
              0.2222222222222222,
              "#7201a8"
             ],
             [
              0.3333333333333333,
              "#9c179e"
             ],
             [
              0.4444444444444444,
              "#bd3786"
             ],
             [
              0.5555555555555556,
              "#d8576b"
             ],
             [
              0.6666666666666666,
              "#ed7953"
             ],
             [
              0.7777777777777778,
              "#fb9f3a"
             ],
             [
              0.8888888888888888,
              "#fdca26"
             ],
             [
              1,
              "#f0f921"
             ]
            ],
            "type": "histogram2dcontour"
           }
          ],
          "mesh3d": [
           {
            "colorbar": {
             "outlinewidth": 0,
             "ticks": ""
            },
            "type": "mesh3d"
           }
          ],
          "parcoords": [
           {
            "line": {
             "colorbar": {
              "outlinewidth": 0,
              "ticks": ""
             }
            },
            "type": "parcoords"
           }
          ],
          "pie": [
           {
            "automargin": true,
            "type": "pie"
           }
          ],
          "scatter": [
           {
            "fillpattern": {
             "fillmode": "overlay",
             "size": 10,
             "solidity": 0.2
            },
            "type": "scatter"
           }
          ],
          "scatter3d": [
           {
            "line": {
             "colorbar": {
              "outlinewidth": 0,
              "ticks": ""
             }
            },
            "marker": {
             "colorbar": {
              "outlinewidth": 0,
              "ticks": ""
             }
            },
            "type": "scatter3d"
           }
          ],
          "scattercarpet": [
           {
            "marker": {
             "colorbar": {
              "outlinewidth": 0,
              "ticks": ""
             }
            },
            "type": "scattercarpet"
           }
          ],
          "scattergeo": [
           {
            "marker": {
             "colorbar": {
              "outlinewidth": 0,
              "ticks": ""
             }
            },
            "type": "scattergeo"
           }
          ],
          "scattergl": [
           {
            "marker": {
             "colorbar": {
              "outlinewidth": 0,
              "ticks": ""
             }
            },
            "type": "scattergl"
           }
          ],
          "scattermapbox": [
           {
            "marker": {
             "colorbar": {
              "outlinewidth": 0,
              "ticks": ""
             }
            },
            "type": "scattermapbox"
           }
          ],
          "scatterpolar": [
           {
            "marker": {
             "colorbar": {
              "outlinewidth": 0,
              "ticks": ""
             }
            },
            "type": "scatterpolar"
           }
          ],
          "scatterpolargl": [
           {
            "marker": {
             "colorbar": {
              "outlinewidth": 0,
              "ticks": ""
             }
            },
            "type": "scatterpolargl"
           }
          ],
          "scatterternary": [
           {
            "marker": {
             "colorbar": {
              "outlinewidth": 0,
              "ticks": ""
             }
            },
            "type": "scatterternary"
           }
          ],
          "surface": [
           {
            "colorbar": {
             "outlinewidth": 0,
             "ticks": ""
            },
            "colorscale": [
             [
              0,
              "#0d0887"
             ],
             [
              0.1111111111111111,
              "#46039f"
             ],
             [
              0.2222222222222222,
              "#7201a8"
             ],
             [
              0.3333333333333333,
              "#9c179e"
             ],
             [
              0.4444444444444444,
              "#bd3786"
             ],
             [
              0.5555555555555556,
              "#d8576b"
             ],
             [
              0.6666666666666666,
              "#ed7953"
             ],
             [
              0.7777777777777778,
              "#fb9f3a"
             ],
             [
              0.8888888888888888,
              "#fdca26"
             ],
             [
              1,
              "#f0f921"
             ]
            ],
            "type": "surface"
           }
          ],
          "table": [
           {
            "cells": {
             "fill": {
              "color": "#EBF0F8"
             },
             "line": {
              "color": "white"
             }
            },
            "header": {
             "fill": {
              "color": "#C8D4E3"
             },
             "line": {
              "color": "white"
             }
            },
            "type": "table"
           }
          ]
         },
         "layout": {
          "annotationdefaults": {
           "arrowcolor": "#2a3f5f",
           "arrowhead": 0,
           "arrowwidth": 1
          },
          "autotypenumbers": "strict",
          "coloraxis": {
           "colorbar": {
            "outlinewidth": 0,
            "ticks": ""
           }
          },
          "colorscale": {
           "diverging": [
            [
             0,
             "#8e0152"
            ],
            [
             0.1,
             "#c51b7d"
            ],
            [
             0.2,
             "#de77ae"
            ],
            [
             0.3,
             "#f1b6da"
            ],
            [
             0.4,
             "#fde0ef"
            ],
            [
             0.5,
             "#f7f7f7"
            ],
            [
             0.6,
             "#e6f5d0"
            ],
            [
             0.7,
             "#b8e186"
            ],
            [
             0.8,
             "#7fbc41"
            ],
            [
             0.9,
             "#4d9221"
            ],
            [
             1,
             "#276419"
            ]
           ],
           "sequential": [
            [
             0,
             "#0d0887"
            ],
            [
             0.1111111111111111,
             "#46039f"
            ],
            [
             0.2222222222222222,
             "#7201a8"
            ],
            [
             0.3333333333333333,
             "#9c179e"
            ],
            [
             0.4444444444444444,
             "#bd3786"
            ],
            [
             0.5555555555555556,
             "#d8576b"
            ],
            [
             0.6666666666666666,
             "#ed7953"
            ],
            [
             0.7777777777777778,
             "#fb9f3a"
            ],
            [
             0.8888888888888888,
             "#fdca26"
            ],
            [
             1,
             "#f0f921"
            ]
           ],
           "sequentialminus": [
            [
             0,
             "#0d0887"
            ],
            [
             0.1111111111111111,
             "#46039f"
            ],
            [
             0.2222222222222222,
             "#7201a8"
            ],
            [
             0.3333333333333333,
             "#9c179e"
            ],
            [
             0.4444444444444444,
             "#bd3786"
            ],
            [
             0.5555555555555556,
             "#d8576b"
            ],
            [
             0.6666666666666666,
             "#ed7953"
            ],
            [
             0.7777777777777778,
             "#fb9f3a"
            ],
            [
             0.8888888888888888,
             "#fdca26"
            ],
            [
             1,
             "#f0f921"
            ]
           ]
          },
          "colorway": [
           "#636efa",
           "#EF553B",
           "#00cc96",
           "#ab63fa",
           "#FFA15A",
           "#19d3f3",
           "#FF6692",
           "#B6E880",
           "#FF97FF",
           "#FECB52"
          ],
          "font": {
           "color": "#2a3f5f"
          },
          "geo": {
           "bgcolor": "white",
           "lakecolor": "white",
           "landcolor": "#E5ECF6",
           "showlakes": true,
           "showland": true,
           "subunitcolor": "white"
          },
          "hoverlabel": {
           "align": "left"
          },
          "hovermode": "closest",
          "mapbox": {
           "style": "light"
          },
          "paper_bgcolor": "white",
          "plot_bgcolor": "#E5ECF6",
          "polar": {
           "angularaxis": {
            "gridcolor": "white",
            "linecolor": "white",
            "ticks": ""
           },
           "bgcolor": "#E5ECF6",
           "radialaxis": {
            "gridcolor": "white",
            "linecolor": "white",
            "ticks": ""
           }
          },
          "scene": {
           "xaxis": {
            "backgroundcolor": "#E5ECF6",
            "gridcolor": "white",
            "gridwidth": 2,
            "linecolor": "white",
            "showbackground": true,
            "ticks": "",
            "zerolinecolor": "white"
           },
           "yaxis": {
            "backgroundcolor": "#E5ECF6",
            "gridcolor": "white",
            "gridwidth": 2,
            "linecolor": "white",
            "showbackground": true,
            "ticks": "",
            "zerolinecolor": "white"
           },
           "zaxis": {
            "backgroundcolor": "#E5ECF6",
            "gridcolor": "white",
            "gridwidth": 2,
            "linecolor": "white",
            "showbackground": true,
            "ticks": "",
            "zerolinecolor": "white"
           }
          },
          "shapedefaults": {
           "line": {
            "color": "#2a3f5f"
           }
          },
          "ternary": {
           "aaxis": {
            "gridcolor": "white",
            "linecolor": "white",
            "ticks": ""
           },
           "baxis": {
            "gridcolor": "white",
            "linecolor": "white",
            "ticks": ""
           },
           "bgcolor": "#E5ECF6",
           "caxis": {
            "gridcolor": "white",
            "linecolor": "white",
            "ticks": ""
           }
          },
          "title": {
           "x": 0.05
          },
          "xaxis": {
           "automargin": true,
           "gridcolor": "white",
           "linecolor": "white",
           "ticks": "",
           "title": {
            "standoff": 15
           },
           "zerolinecolor": "white",
           "zerolinewidth": 2
          },
          "yaxis": {
           "automargin": true,
           "gridcolor": "white",
           "linecolor": "white",
           "ticks": "",
           "title": {
            "standoff": 15
           },
           "zerolinecolor": "white",
           "zerolinewidth": 2
          }
         }
        },
        "title": {
         "text": "Comparison of Translation Times Between Hugging Face and Gemini"
        },
        "xaxis": {
         "anchor": "y",
         "domain": [
          0,
          1
         ],
         "title": {
          "text": "Text Type"
         }
        },
        "yaxis": {
         "anchor": "x",
         "domain": [
          0,
          1
         ],
         "title": {
          "text": "Source Language"
         }
        }
       }
      },
      "text/html": [
       "<div>                            <div id=\"27ab1fbb-1793-42aa-8b01-f92b7355ce27\" class=\"plotly-graph-div\" style=\"height:525px; width:100%;\"></div>            <script type=\"text/javascript\">                require([\"plotly\"], function(Plotly) {                    window.PLOTLYENV=window.PLOTLYENV || {};                                    if (document.getElementById(\"27ab1fbb-1793-42aa-8b01-f92b7355ce27\")) {                    Plotly.newPlot(                        \"27ab1fbb-1793-42aa-8b01-f92b7355ce27\",                        [{\"customdata\":[[\"Spanish\",1.3585360050201416],[\"Spanish\",0.2865791320800781],[\"Spanish\",0.803361177444458],[\"Chinese\",13.740643978118896],[\"Chinese\",0.22876715660095215],[\"Chinese\",0.6843557357788086],[\"Arabic\",1.1046462059020996],[\"Arabic\",0.2668418884277344],[\"Arabic\",0.9934122562408447],[\"Russian\",1.2646098136901855],[\"Russian\",0.21195077896118164],[\"Russian\",0.7129669189453125],[\"German\",1.4940011501312256],[\"German\",0.2397630214691162],[\"German\",1.4659051895141602],[\"French\",1.139242172241211],[\"French\",0.29642319679260254],[\"French\",1.1287760734558105],[\"English\",1.2553839683532715],[\"English\",0.24301600456237793],[\"English\",0.7793700695037842],[\"Chinese\",2.630890130996704],[\"Chinese\",2.0359020233154297],[\"Chinese\",1.2370860576629639],[\"Arabic\",2.0991649627685547],[\"Arabic\",2.5022132396698],[\"Arabic\",3.2258729934692383],[\"Russian\",1.322613000869751],[\"Russian\",0.3540501594543457],[\"Russian\",1.077500820159912],[\"German\",1.374389886856079],[\"German\",0.31681108474731445],[\"German\",1.204503059387207],[\"French\",1.6086070537567139],[\"French\",0.2710847854614258],[\"French\",1.1909446716308594],[\"English\",1.3883557319641113],[\"English\",0.3995399475097656],[\"English\",0.6267950534820557],[\"Spanish\",2.1974589824676514],[\"Spanish\",1.0220363140106201],[\"Spanish\",1.2419509887695312],[\"Arabic\",2.402592182159424],[\"Arabic\",2.0003702640533447],[\"Arabic\",1.6693220138549805],[\"Russian\",3.315403938293457],[\"Russian\",0.9264540672302246],[\"Russian\",3.25339412689209],[\"German\",1.2411401271820068],[\"German\",0.248138427734375],[\"German\",0.5382981300354004],[\"French\",2.498991012573242],[\"French\",1.3942170143127441],[\"French\",1.6685988903045654],[\"English\",1.3208303451538086],[\"English\",0.23713397979736328],[\"English\",0.6541798114776611],[\"Spanish\",1.2219188213348389],[\"Spanish\",0.45336389541625977],[\"Spanish\",1.7078211307525635],[\"Chinese\",1.468353033065796],[\"Chinese\",1.3538780212402344],[\"Chinese\",2.8444862365722656],[\"Russian\",1.1260268688201904],[\"Russian\",1.0349700450897217],[\"Russian\",1.7733790874481201],[\"German\",1.2564501762390137],[\"German\",0.3743317127227783],[\"German\",0.7584409713745117],[\"French\",1.299926996231079],[\"French\",0.2761862277984619],[\"French\",1.1362709999084473],[\"English\",1.6997742652893066],[\"English\",0.3680441379547119],[\"English\",1.9286088943481445],[\"Spanish\",1.7802999019622803],[\"Spanish\",0.5595557689666748],[\"Spanish\",1.2246110439300537],[\"Chinese\",1.0505709648132324],[\"Chinese\",1.3514549732208252],[\"Chinese\",1.5411877632141113],[\"Arabic\",3.4366421699523926],[\"Arabic\",0.5098698139190674],[\"Arabic\",2.07962703704834],[\"German\",0.8088362216949463],[\"German\",1.1121149063110352],[\"German\",1.4001829624176025],[\"French\",1.2476017475128174],[\"French\",0.4336278438568115],[\"French\",0.9930951595306396],[\"English\",1.3644249439239502],[\"English\",0.3016219139099121],[\"English\",1.2487561702728271],[\"Spanish\",1.4145750999450684],[\"Spanish\",0.33475208282470703],[\"Spanish\",1.4780189990997314],[\"Chinese\",1.491034746170044],[\"Chinese\",0.18531394004821777],[\"Chinese\",1.4340059757232666],[\"Arabic\",1.1225769519805908],[\"Arabic\",4.330995321273804],[\"Arabic\",4.725088119506836],[\"Russian\",1.3700709342956543],[\"Russian\",1.2256288528442383],[\"Russian\",1.8978078365325928],[\"French\",1.6978182792663574],[\"French\",0.38873910903930664],[\"French\",1.1848080158233643],[\"English\",1.1506881713867188],[\"English\",0.33710265159606934],[\"English\",0.7789719104766846],[\"Spanish\",1.610727310180664],[\"Spanish\",0.8951599597930908],[\"Spanish\",1.6162447929382324],[\"Chinese\",1.3388068675994873],[\"Chinese\",0.9294121265411377],[\"Chinese\",1.9492690563201904],[\"Arabic\",3.5965938568115234],[\"Arabic\",0.28314971923828125],[\"Arabic\",2.0985288619995117],[\"Russian\",1.6343181133270264],[\"Russian\",0.40846896171569824],[\"Russian\",1.3011457920074463],[\"German\",1.4454882144927979],[\"German\",0.4187180995941162],[\"German\",1.2787389755249023]],\"hovertemplate\":\"Model=HF Translation Time (s)\\u003cbr\\u003eText Type=%{x}\\u003cbr\\u003eSource Language=%{y}\\u003cbr\\u003eTranslation Time (s)=%{customdata[1]}\\u003cbr\\u003eTarget Language=%{customdata[0]}\\u003cextra\\u003e\\u003c\\u002fextra\\u003e\",\"legendgroup\":\"HF Translation Time (s)\",\"marker\":{\"color\":\"#636efa\",\"size\":[1.3585360050201416,0.2865791320800781,0.803361177444458,13.740643978118896,0.22876715660095215,0.6843557357788086,1.1046462059020996,0.2668418884277344,0.9934122562408447,1.2646098136901855,0.21195077896118164,0.7129669189453125,1.4940011501312256,0.2397630214691162,1.4659051895141602,1.139242172241211,0.29642319679260254,1.1287760734558105,1.2553839683532715,0.24301600456237793,0.7793700695037842,2.630890130996704,2.0359020233154297,1.2370860576629639,2.0991649627685547,2.5022132396698,3.2258729934692383,1.322613000869751,0.3540501594543457,1.077500820159912,1.374389886856079,0.31681108474731445,1.204503059387207,1.6086070537567139,0.2710847854614258,1.1909446716308594,1.3883557319641113,0.3995399475097656,0.6267950534820557,2.1974589824676514,1.0220363140106201,1.2419509887695312,2.402592182159424,2.0003702640533447,1.6693220138549805,3.315403938293457,0.9264540672302246,3.25339412689209,1.2411401271820068,0.248138427734375,0.5382981300354004,2.498991012573242,1.3942170143127441,1.6685988903045654,1.3208303451538086,0.23713397979736328,0.6541798114776611,1.2219188213348389,0.45336389541625977,1.7078211307525635,1.468353033065796,1.3538780212402344,2.8444862365722656,1.1260268688201904,1.0349700450897217,1.7733790874481201,1.2564501762390137,0.3743317127227783,0.7584409713745117,1.299926996231079,0.2761862277984619,1.1362709999084473,1.6997742652893066,0.3680441379547119,1.9286088943481445,1.7802999019622803,0.5595557689666748,1.2246110439300537,1.0505709648132324,1.3514549732208252,1.5411877632141113,3.4366421699523926,0.5098698139190674,2.07962703704834,0.8088362216949463,1.1121149063110352,1.4001829624176025,1.2476017475128174,0.4336278438568115,0.9930951595306396,1.3644249439239502,0.3016219139099121,1.2487561702728271,1.4145750999450684,0.33475208282470703,1.4780189990997314,1.491034746170044,0.18531394004821777,1.4340059757232666,1.1225769519805908,4.330995321273804,4.725088119506836,1.3700709342956543,1.2256288528442383,1.8978078365325928,1.6978182792663574,0.38873910903930664,1.1848080158233643,1.1506881713867188,0.33710265159606934,0.7789719104766846,1.610727310180664,0.8951599597930908,1.6162447929382324,1.3388068675994873,0.9294121265411377,1.9492690563201904,3.5965938568115234,0.28314971923828125,2.0985288619995117,1.6343181133270264,0.40846896171569824,1.3011457920074463,1.4454882144927979,0.4187180995941162,1.2787389755249023],\"sizemode\":\"area\",\"sizeref\":0.0027481287956237794,\"symbol\":\"circle\",\"line\":{\"width\":2}},\"mode\":\"markers\",\"name\":\"HF Translation Time (s)\",\"orientation\":\"v\",\"showlegend\":true,\"x\":[\"word\",\"sentence\",\"paragraph\",\"word\",\"sentence\",\"paragraph\",\"word\",\"sentence\",\"paragraph\",\"word\",\"sentence\",\"paragraph\",\"word\",\"sentence\",\"paragraph\",\"word\",\"sentence\",\"paragraph\",\"word\",\"sentence\",\"paragraph\",\"word\",\"sentence\",\"paragraph\",\"word\",\"sentence\",\"paragraph\",\"word\",\"sentence\",\"paragraph\",\"word\",\"sentence\",\"paragraph\",\"word\",\"sentence\",\"paragraph\",\"word\",\"sentence\",\"paragraph\",\"word\",\"sentence\",\"paragraph\",\"word\",\"sentence\",\"paragraph\",\"word\",\"sentence\",\"paragraph\",\"word\",\"sentence\",\"paragraph\",\"word\",\"sentence\",\"paragraph\",\"word\",\"sentence\",\"paragraph\",\"word\",\"sentence\",\"paragraph\",\"word\",\"sentence\",\"paragraph\",\"word\",\"sentence\",\"paragraph\",\"word\",\"sentence\",\"paragraph\",\"word\",\"sentence\",\"paragraph\",\"word\",\"sentence\",\"paragraph\",\"word\",\"sentence\",\"paragraph\",\"word\",\"sentence\",\"paragraph\",\"word\",\"sentence\",\"paragraph\",\"word\",\"sentence\",\"paragraph\",\"word\",\"sentence\",\"paragraph\",\"word\",\"sentence\",\"paragraph\",\"word\",\"sentence\",\"paragraph\",\"word\",\"sentence\",\"paragraph\",\"word\",\"sentence\",\"paragraph\",\"word\",\"sentence\",\"paragraph\",\"word\",\"sentence\",\"paragraph\",\"word\",\"sentence\",\"paragraph\",\"word\",\"sentence\",\"paragraph\",\"word\",\"sentence\",\"paragraph\",\"word\",\"sentence\",\"paragraph\",\"word\",\"sentence\",\"paragraph\",\"word\",\"sentence\",\"paragraph\"],\"xaxis\":\"x\",\"y\":[\"English\",\"English\",\"English\",\"English\",\"English\",\"English\",\"English\",\"English\",\"English\",\"English\",\"English\",\"English\",\"English\",\"English\",\"English\",\"English\",\"English\",\"English\",\"Spanish\",\"Spanish\",\"Spanish\",\"Spanish\",\"Spanish\",\"Spanish\",\"Spanish\",\"Spanish\",\"Spanish\",\"Spanish\",\"Spanish\",\"Spanish\",\"Spanish\",\"Spanish\",\"Spanish\",\"Spanish\",\"Spanish\",\"Spanish\",\"Chinese\",\"Chinese\",\"Chinese\",\"Chinese\",\"Chinese\",\"Chinese\",\"Chinese\",\"Chinese\",\"Chinese\",\"Chinese\",\"Chinese\",\"Chinese\",\"Chinese\",\"Chinese\",\"Chinese\",\"Chinese\",\"Chinese\",\"Chinese\",\"Arabic\",\"Arabic\",\"Arabic\",\"Arabic\",\"Arabic\",\"Arabic\",\"Arabic\",\"Arabic\",\"Arabic\",\"Arabic\",\"Arabic\",\"Arabic\",\"Arabic\",\"Arabic\",\"Arabic\",\"Arabic\",\"Arabic\",\"Arabic\",\"Russian\",\"Russian\",\"Russian\",\"Russian\",\"Russian\",\"Russian\",\"Russian\",\"Russian\",\"Russian\",\"Russian\",\"Russian\",\"Russian\",\"Russian\",\"Russian\",\"Russian\",\"Russian\",\"Russian\",\"Russian\",\"German\",\"German\",\"German\",\"German\",\"German\",\"German\",\"German\",\"German\",\"German\",\"German\",\"German\",\"German\",\"German\",\"German\",\"German\",\"German\",\"German\",\"German\",\"French\",\"French\",\"French\",\"French\",\"French\",\"French\",\"French\",\"French\",\"French\",\"French\",\"French\",\"French\",\"French\",\"French\",\"French\",\"French\",\"French\",\"French\"],\"yaxis\":\"y\",\"type\":\"scatter\"},{\"customdata\":[[\"Spanish\",1.2379870414733887],[\"Spanish\",0.8984739780426025],[\"Spanish\",1.082571029663086],[\"Chinese\",1.316380262374878],[\"Chinese\",1.3084239959716797],[\"Chinese\",2.2611677646636963],[\"Arabic\",2.0283420085906982],[\"Arabic\",1.1488580703735352],[\"Arabic\",3.7522997856140137],[\"Russian\",0.7441580295562744],[\"Russian\",1.430616855621338],[\"Russian\",1.8011870384216309],[\"German\",1.2444560527801514],[\"German\",1.6936511993408203],[\"German\",1.6602411270141602],[\"French\",1.5942959785461426],[\"French\",2.8664419651031494],[\"French\",1.0392749309539795],[\"English\",0.7225539684295654],[\"English\",0.7194807529449463],[\"English\",1.5199573040008545],[\"Chinese\",1.3782050609588623],[\"Chinese\",1.5183520317077637],[\"Chinese\",1.5052931308746338],[\"Arabic\",1.3806681632995605],[\"Arabic\",0.9719321727752686],[\"Arabic\",1.3251457214355469],[\"Russian\",1.3301572799682617],[\"Russian\",1.3655321598052979],[\"Russian\",1.9576070308685303],[\"German\",2.9502298831939697],[\"German\",2.7571301460266113],[\"German\",1.8921692371368408],[\"French\",1.335433006286621],[\"French\",1.120973825454712],[\"French\",1.4141581058502197],[\"English\",1.2443571090698242],[\"English\",1.629969835281372],[\"English\",1.5506830215454102],[\"Spanish\",1.4913959503173828],[\"Spanish\",1.4996600151062012],[\"Spanish\",2.0946249961853027],[\"Arabic\",1.000349998474121],[\"Arabic\",1.4192140102386475],[\"Arabic\",1.7023723125457764],[\"Russian\",1.7514681816101074],[\"Russian\",1.2350690364837646],[\"Russian\",2.876293182373047],[\"German\",1.4466350078582764],[\"German\",1.0810019969940186],[\"German\",1.3290190696716309],[\"French\",0.6518137454986572],[\"French\",1.6593141555786133],[\"French\",0.9705426692962646],[\"English\",1.269300937652588],[\"English\",1.3741400241851807],[\"English\",1.7403578758239746],[\"Spanish\",1.3310701847076416],[\"Spanish\",2.6365370750427246],[\"Spanish\",2.2919490337371826],[\"Chinese\",1.4510631561279297],[\"Chinese\",1.4402518272399902],[\"Chinese\",1.6835520267486572],[\"Russian\",3.1867992877960205],[\"Russian\",2.5184152126312256],[\"Russian\",1.7189140319824219],[\"German\",0.7432858943939209],[\"German\",1.2003870010375977],[\"German\",2.685771942138672],[\"French\",1.3885347843170166],[\"French\",1.0483617782592773],[\"French\",1.1813201904296875],[\"English\",0.8337538242340088],[\"English\",0.6703588962554932],[\"English\",1.7258391380310059],[\"Spanish\",1.0132710933685303],[\"Spanish\",1.1546642780303955],[\"Spanish\",1.4424922466278076],[\"Chinese\",1.1377952098846436],[\"Chinese\",0.7927978038787842],[\"Chinese\",1.34322190284729],[\"Arabic\",0.8027439117431641],[\"Arabic\",1.0881547927856445],[\"Arabic\",1.5502395629882812],[\"German\",1.1905317306518555],[\"German\",0.9343860149383545],[\"German\",1.3677849769592285],[\"French\",1.1755709648132324],[\"French\",1.238081932067871],[\"French\",1.5620880126953125],[\"English\",1.2019259929656982],[\"English\",1.240849256515503],[\"English\",0.888477087020874],[\"Spanish\",0.8293249607086182],[\"Spanish\",1.099822759628296],[\"Spanish\",1.4125230312347412],[\"Chinese\",1.055283784866333],[\"Chinese\",1.0637290477752686],[\"Chinese\",1.6429612636566162],[\"Arabic\",0.8219468593597412],[\"Arabic\",1.4813592433929443],[\"Arabic\",1.605109691619873],[\"Russian\",1.2132079601287842],[\"Russian\",0.8602187633514404],[\"Russian\",1.2338168621063232],[\"French\",1.4774141311645508],[\"French\",0.8149418830871582],[\"French\",1.7072482109069824],[\"English\",0.6419088840484619],[\"English\",1.552243947982788],[\"English\",1.6627709865570068],[\"Spanish\",1.3490979671478271],[\"Spanish\",1.3144659996032715],[\"Spanish\",0.9638171195983887],[\"Chinese\",1.3789091110229492],[\"Chinese\",0.8887500762939453],[\"Chinese\",2.072402000427246],[\"Arabic\",0.9875130653381348],[\"Arabic\",1.392383337020874],[\"Arabic\",1.1951820850372314],[\"Russian\",1.623656988143921],[\"Russian\",1.0934021472930908],[\"Russian\",1.1753621101379395],[\"German\",1.1870810985565186],[\"German\",1.3435871601104736],[\"German\",1.5889167785644531]],\"hovertemplate\":\"Model=Gemini Translation Time (s)\\u003cbr\\u003eText Type=%{x}\\u003cbr\\u003eSource Language=%{y}\\u003cbr\\u003eTranslation Time (s)=%{customdata[1]}\\u003cbr\\u003eTarget Language=%{customdata[0]}\\u003cextra\\u003e\\u003c\\u002fextra\\u003e\",\"legendgroup\":\"Gemini Translation Time (s)\",\"marker\":{\"color\":\"#EF553B\",\"size\":[1.2379870414733887,0.8984739780426025,1.082571029663086,1.316380262374878,1.3084239959716797,2.2611677646636963,2.0283420085906982,1.1488580703735352,3.7522997856140137,0.7441580295562744,1.430616855621338,1.8011870384216309,1.2444560527801514,1.6936511993408203,1.6602411270141602,1.5942959785461426,2.8664419651031494,1.0392749309539795,0.7225539684295654,0.7194807529449463,1.5199573040008545,1.3782050609588623,1.5183520317077637,1.5052931308746338,1.3806681632995605,0.9719321727752686,1.3251457214355469,1.3301572799682617,1.3655321598052979,1.9576070308685303,2.9502298831939697,2.7571301460266113,1.8921692371368408,1.335433006286621,1.120973825454712,1.4141581058502197,1.2443571090698242,1.629969835281372,1.5506830215454102,1.4913959503173828,1.4996600151062012,2.0946249961853027,1.000349998474121,1.4192140102386475,1.7023723125457764,1.7514681816101074,1.2350690364837646,2.876293182373047,1.4466350078582764,1.0810019969940186,1.3290190696716309,0.6518137454986572,1.6593141555786133,0.9705426692962646,1.269300937652588,1.3741400241851807,1.7403578758239746,1.3310701847076416,2.6365370750427246,2.2919490337371826,1.4510631561279297,1.4402518272399902,1.6835520267486572,3.1867992877960205,2.5184152126312256,1.7189140319824219,0.7432858943939209,1.2003870010375977,2.685771942138672,1.3885347843170166,1.0483617782592773,1.1813201904296875,0.8337538242340088,0.6703588962554932,1.7258391380310059,1.0132710933685303,1.1546642780303955,1.4424922466278076,1.1377952098846436,0.7927978038787842,1.34322190284729,0.8027439117431641,1.0881547927856445,1.5502395629882812,1.1905317306518555,0.9343860149383545,1.3677849769592285,1.1755709648132324,1.238081932067871,1.5620880126953125,1.2019259929656982,1.240849256515503,0.888477087020874,0.8293249607086182,1.099822759628296,1.4125230312347412,1.055283784866333,1.0637290477752686,1.6429612636566162,0.8219468593597412,1.4813592433929443,1.605109691619873,1.2132079601287842,0.8602187633514404,1.2338168621063232,1.4774141311645508,0.8149418830871582,1.7072482109069824,0.6419088840484619,1.552243947982788,1.6627709865570068,1.3490979671478271,1.3144659996032715,0.9638171195983887,1.3789091110229492,0.8887500762939453,2.072402000427246,0.9875130653381348,1.392383337020874,1.1951820850372314,1.623656988143921,1.0934021472930908,1.1753621101379395,1.1870810985565186,1.3435871601104736,1.5889167785644531],\"sizemode\":\"area\",\"sizeref\":0.0027481287956237794,\"symbol\":\"circle\",\"line\":{\"width\":2}},\"mode\":\"markers\",\"name\":\"Gemini Translation Time (s)\",\"orientation\":\"v\",\"showlegend\":true,\"x\":[\"word\",\"sentence\",\"paragraph\",\"word\",\"sentence\",\"paragraph\",\"word\",\"sentence\",\"paragraph\",\"word\",\"sentence\",\"paragraph\",\"word\",\"sentence\",\"paragraph\",\"word\",\"sentence\",\"paragraph\",\"word\",\"sentence\",\"paragraph\",\"word\",\"sentence\",\"paragraph\",\"word\",\"sentence\",\"paragraph\",\"word\",\"sentence\",\"paragraph\",\"word\",\"sentence\",\"paragraph\",\"word\",\"sentence\",\"paragraph\",\"word\",\"sentence\",\"paragraph\",\"word\",\"sentence\",\"paragraph\",\"word\",\"sentence\",\"paragraph\",\"word\",\"sentence\",\"paragraph\",\"word\",\"sentence\",\"paragraph\",\"word\",\"sentence\",\"paragraph\",\"word\",\"sentence\",\"paragraph\",\"word\",\"sentence\",\"paragraph\",\"word\",\"sentence\",\"paragraph\",\"word\",\"sentence\",\"paragraph\",\"word\",\"sentence\",\"paragraph\",\"word\",\"sentence\",\"paragraph\",\"word\",\"sentence\",\"paragraph\",\"word\",\"sentence\",\"paragraph\",\"word\",\"sentence\",\"paragraph\",\"word\",\"sentence\",\"paragraph\",\"word\",\"sentence\",\"paragraph\",\"word\",\"sentence\",\"paragraph\",\"word\",\"sentence\",\"paragraph\",\"word\",\"sentence\",\"paragraph\",\"word\",\"sentence\",\"paragraph\",\"word\",\"sentence\",\"paragraph\",\"word\",\"sentence\",\"paragraph\",\"word\",\"sentence\",\"paragraph\",\"word\",\"sentence\",\"paragraph\",\"word\",\"sentence\",\"paragraph\",\"word\",\"sentence\",\"paragraph\",\"word\",\"sentence\",\"paragraph\",\"word\",\"sentence\",\"paragraph\",\"word\",\"sentence\",\"paragraph\"],\"xaxis\":\"x\",\"y\":[\"English\",\"English\",\"English\",\"English\",\"English\",\"English\",\"English\",\"English\",\"English\",\"English\",\"English\",\"English\",\"English\",\"English\",\"English\",\"English\",\"English\",\"English\",\"Spanish\",\"Spanish\",\"Spanish\",\"Spanish\",\"Spanish\",\"Spanish\",\"Spanish\",\"Spanish\",\"Spanish\",\"Spanish\",\"Spanish\",\"Spanish\",\"Spanish\",\"Spanish\",\"Spanish\",\"Spanish\",\"Spanish\",\"Spanish\",\"Chinese\",\"Chinese\",\"Chinese\",\"Chinese\",\"Chinese\",\"Chinese\",\"Chinese\",\"Chinese\",\"Chinese\",\"Chinese\",\"Chinese\",\"Chinese\",\"Chinese\",\"Chinese\",\"Chinese\",\"Chinese\",\"Chinese\",\"Chinese\",\"Arabic\",\"Arabic\",\"Arabic\",\"Arabic\",\"Arabic\",\"Arabic\",\"Arabic\",\"Arabic\",\"Arabic\",\"Arabic\",\"Arabic\",\"Arabic\",\"Arabic\",\"Arabic\",\"Arabic\",\"Arabic\",\"Arabic\",\"Arabic\",\"Russian\",\"Russian\",\"Russian\",\"Russian\",\"Russian\",\"Russian\",\"Russian\",\"Russian\",\"Russian\",\"Russian\",\"Russian\",\"Russian\",\"Russian\",\"Russian\",\"Russian\",\"Russian\",\"Russian\",\"Russian\",\"German\",\"German\",\"German\",\"German\",\"German\",\"German\",\"German\",\"German\",\"German\",\"German\",\"German\",\"German\",\"German\",\"German\",\"German\",\"German\",\"German\",\"German\",\"French\",\"French\",\"French\",\"French\",\"French\",\"French\",\"French\",\"French\",\"French\",\"French\",\"French\",\"French\",\"French\",\"French\",\"French\",\"French\",\"French\",\"French\"],\"yaxis\":\"y\",\"type\":\"scatter\"}],                        {\"template\":{\"data\":{\"histogram2dcontour\":[{\"type\":\"histogram2dcontour\",\"colorbar\":{\"outlinewidth\":0,\"ticks\":\"\"},\"colorscale\":[[0.0,\"#0d0887\"],[0.1111111111111111,\"#46039f\"],[0.2222222222222222,\"#7201a8\"],[0.3333333333333333,\"#9c179e\"],[0.4444444444444444,\"#bd3786\"],[0.5555555555555556,\"#d8576b\"],[0.6666666666666666,\"#ed7953\"],[0.7777777777777778,\"#fb9f3a\"],[0.8888888888888888,\"#fdca26\"],[1.0,\"#f0f921\"]]}],\"choropleth\":[{\"type\":\"choropleth\",\"colorbar\":{\"outlinewidth\":0,\"ticks\":\"\"}}],\"histogram2d\":[{\"type\":\"histogram2d\",\"colorbar\":{\"outlinewidth\":0,\"ticks\":\"\"},\"colorscale\":[[0.0,\"#0d0887\"],[0.1111111111111111,\"#46039f\"],[0.2222222222222222,\"#7201a8\"],[0.3333333333333333,\"#9c179e\"],[0.4444444444444444,\"#bd3786\"],[0.5555555555555556,\"#d8576b\"],[0.6666666666666666,\"#ed7953\"],[0.7777777777777778,\"#fb9f3a\"],[0.8888888888888888,\"#fdca26\"],[1.0,\"#f0f921\"]]}],\"heatmap\":[{\"type\":\"heatmap\",\"colorbar\":{\"outlinewidth\":0,\"ticks\":\"\"},\"colorscale\":[[0.0,\"#0d0887\"],[0.1111111111111111,\"#46039f\"],[0.2222222222222222,\"#7201a8\"],[0.3333333333333333,\"#9c179e\"],[0.4444444444444444,\"#bd3786\"],[0.5555555555555556,\"#d8576b\"],[0.6666666666666666,\"#ed7953\"],[0.7777777777777778,\"#fb9f3a\"],[0.8888888888888888,\"#fdca26\"],[1.0,\"#f0f921\"]]}],\"heatmapgl\":[{\"type\":\"heatmapgl\",\"colorbar\":{\"outlinewidth\":0,\"ticks\":\"\"},\"colorscale\":[[0.0,\"#0d0887\"],[0.1111111111111111,\"#46039f\"],[0.2222222222222222,\"#7201a8\"],[0.3333333333333333,\"#9c179e\"],[0.4444444444444444,\"#bd3786\"],[0.5555555555555556,\"#d8576b\"],[0.6666666666666666,\"#ed7953\"],[0.7777777777777778,\"#fb9f3a\"],[0.8888888888888888,\"#fdca26\"],[1.0,\"#f0f921\"]]}],\"contourcarpet\":[{\"type\":\"contourcarpet\",\"colorbar\":{\"outlinewidth\":0,\"ticks\":\"\"}}],\"contour\":[{\"type\":\"contour\",\"colorbar\":{\"outlinewidth\":0,\"ticks\":\"\"},\"colorscale\":[[0.0,\"#0d0887\"],[0.1111111111111111,\"#46039f\"],[0.2222222222222222,\"#7201a8\"],[0.3333333333333333,\"#9c179e\"],[0.4444444444444444,\"#bd3786\"],[0.5555555555555556,\"#d8576b\"],[0.6666666666666666,\"#ed7953\"],[0.7777777777777778,\"#fb9f3a\"],[0.8888888888888888,\"#fdca26\"],[1.0,\"#f0f921\"]]}],\"surface\":[{\"type\":\"surface\",\"colorbar\":{\"outlinewidth\":0,\"ticks\":\"\"},\"colorscale\":[[0.0,\"#0d0887\"],[0.1111111111111111,\"#46039f\"],[0.2222222222222222,\"#7201a8\"],[0.3333333333333333,\"#9c179e\"],[0.4444444444444444,\"#bd3786\"],[0.5555555555555556,\"#d8576b\"],[0.6666666666666666,\"#ed7953\"],[0.7777777777777778,\"#fb9f3a\"],[0.8888888888888888,\"#fdca26\"],[1.0,\"#f0f921\"]]}],\"mesh3d\":[{\"type\":\"mesh3d\",\"colorbar\":{\"outlinewidth\":0,\"ticks\":\"\"}}],\"scatter\":[{\"fillpattern\":{\"fillmode\":\"overlay\",\"size\":10,\"solidity\":0.2},\"type\":\"scatter\"}],\"parcoords\":[{\"type\":\"parcoords\",\"line\":{\"colorbar\":{\"outlinewidth\":0,\"ticks\":\"\"}}}],\"scatterpolargl\":[{\"type\":\"scatterpolargl\",\"marker\":{\"colorbar\":{\"outlinewidth\":0,\"ticks\":\"\"}}}],\"bar\":[{\"error_x\":{\"color\":\"#2a3f5f\"},\"error_y\":{\"color\":\"#2a3f5f\"},\"marker\":{\"line\":{\"color\":\"#E5ECF6\",\"width\":0.5},\"pattern\":{\"fillmode\":\"overlay\",\"size\":10,\"solidity\":0.2}},\"type\":\"bar\"}],\"scattergeo\":[{\"type\":\"scattergeo\",\"marker\":{\"colorbar\":{\"outlinewidth\":0,\"ticks\":\"\"}}}],\"scatterpolar\":[{\"type\":\"scatterpolar\",\"marker\":{\"colorbar\":{\"outlinewidth\":0,\"ticks\":\"\"}}}],\"histogram\":[{\"marker\":{\"pattern\":{\"fillmode\":\"overlay\",\"size\":10,\"solidity\":0.2}},\"type\":\"histogram\"}],\"scattergl\":[{\"type\":\"scattergl\",\"marker\":{\"colorbar\":{\"outlinewidth\":0,\"ticks\":\"\"}}}],\"scatter3d\":[{\"type\":\"scatter3d\",\"line\":{\"colorbar\":{\"outlinewidth\":0,\"ticks\":\"\"}},\"marker\":{\"colorbar\":{\"outlinewidth\":0,\"ticks\":\"\"}}}],\"scattermapbox\":[{\"type\":\"scattermapbox\",\"marker\":{\"colorbar\":{\"outlinewidth\":0,\"ticks\":\"\"}}}],\"scatterternary\":[{\"type\":\"scatterternary\",\"marker\":{\"colorbar\":{\"outlinewidth\":0,\"ticks\":\"\"}}}],\"scattercarpet\":[{\"type\":\"scattercarpet\",\"marker\":{\"colorbar\":{\"outlinewidth\":0,\"ticks\":\"\"}}}],\"carpet\":[{\"aaxis\":{\"endlinecolor\":\"#2a3f5f\",\"gridcolor\":\"white\",\"linecolor\":\"white\",\"minorgridcolor\":\"white\",\"startlinecolor\":\"#2a3f5f\"},\"baxis\":{\"endlinecolor\":\"#2a3f5f\",\"gridcolor\":\"white\",\"linecolor\":\"white\",\"minorgridcolor\":\"white\",\"startlinecolor\":\"#2a3f5f\"},\"type\":\"carpet\"}],\"table\":[{\"cells\":{\"fill\":{\"color\":\"#EBF0F8\"},\"line\":{\"color\":\"white\"}},\"header\":{\"fill\":{\"color\":\"#C8D4E3\"},\"line\":{\"color\":\"white\"}},\"type\":\"table\"}],\"barpolar\":[{\"marker\":{\"line\":{\"color\":\"#E5ECF6\",\"width\":0.5},\"pattern\":{\"fillmode\":\"overlay\",\"size\":10,\"solidity\":0.2}},\"type\":\"barpolar\"}],\"pie\":[{\"automargin\":true,\"type\":\"pie\"}]},\"layout\":{\"autotypenumbers\":\"strict\",\"colorway\":[\"#636efa\",\"#EF553B\",\"#00cc96\",\"#ab63fa\",\"#FFA15A\",\"#19d3f3\",\"#FF6692\",\"#B6E880\",\"#FF97FF\",\"#FECB52\"],\"font\":{\"color\":\"#2a3f5f\"},\"hovermode\":\"closest\",\"hoverlabel\":{\"align\":\"left\"},\"paper_bgcolor\":\"white\",\"plot_bgcolor\":\"#E5ECF6\",\"polar\":{\"bgcolor\":\"#E5ECF6\",\"angularaxis\":{\"gridcolor\":\"white\",\"linecolor\":\"white\",\"ticks\":\"\"},\"radialaxis\":{\"gridcolor\":\"white\",\"linecolor\":\"white\",\"ticks\":\"\"}},\"ternary\":{\"bgcolor\":\"#E5ECF6\",\"aaxis\":{\"gridcolor\":\"white\",\"linecolor\":\"white\",\"ticks\":\"\"},\"baxis\":{\"gridcolor\":\"white\",\"linecolor\":\"white\",\"ticks\":\"\"},\"caxis\":{\"gridcolor\":\"white\",\"linecolor\":\"white\",\"ticks\":\"\"}},\"coloraxis\":{\"colorbar\":{\"outlinewidth\":0,\"ticks\":\"\"}},\"colorscale\":{\"sequential\":[[0.0,\"#0d0887\"],[0.1111111111111111,\"#46039f\"],[0.2222222222222222,\"#7201a8\"],[0.3333333333333333,\"#9c179e\"],[0.4444444444444444,\"#bd3786\"],[0.5555555555555556,\"#d8576b\"],[0.6666666666666666,\"#ed7953\"],[0.7777777777777778,\"#fb9f3a\"],[0.8888888888888888,\"#fdca26\"],[1.0,\"#f0f921\"]],\"sequentialminus\":[[0.0,\"#0d0887\"],[0.1111111111111111,\"#46039f\"],[0.2222222222222222,\"#7201a8\"],[0.3333333333333333,\"#9c179e\"],[0.4444444444444444,\"#bd3786\"],[0.5555555555555556,\"#d8576b\"],[0.6666666666666666,\"#ed7953\"],[0.7777777777777778,\"#fb9f3a\"],[0.8888888888888888,\"#fdca26\"],[1.0,\"#f0f921\"]],\"diverging\":[[0,\"#8e0152\"],[0.1,\"#c51b7d\"],[0.2,\"#de77ae\"],[0.3,\"#f1b6da\"],[0.4,\"#fde0ef\"],[0.5,\"#f7f7f7\"],[0.6,\"#e6f5d0\"],[0.7,\"#b8e186\"],[0.8,\"#7fbc41\"],[0.9,\"#4d9221\"],[1,\"#276419\"]]},\"xaxis\":{\"gridcolor\":\"white\",\"linecolor\":\"white\",\"ticks\":\"\",\"title\":{\"standoff\":15},\"zerolinecolor\":\"white\",\"automargin\":true,\"zerolinewidth\":2},\"yaxis\":{\"gridcolor\":\"white\",\"linecolor\":\"white\",\"ticks\":\"\",\"title\":{\"standoff\":15},\"zerolinecolor\":\"white\",\"automargin\":true,\"zerolinewidth\":2},\"scene\":{\"xaxis\":{\"backgroundcolor\":\"#E5ECF6\",\"gridcolor\":\"white\",\"linecolor\":\"white\",\"showbackground\":true,\"ticks\":\"\",\"zerolinecolor\":\"white\",\"gridwidth\":2},\"yaxis\":{\"backgroundcolor\":\"#E5ECF6\",\"gridcolor\":\"white\",\"linecolor\":\"white\",\"showbackground\":true,\"ticks\":\"\",\"zerolinecolor\":\"white\",\"gridwidth\":2},\"zaxis\":{\"backgroundcolor\":\"#E5ECF6\",\"gridcolor\":\"white\",\"linecolor\":\"white\",\"showbackground\":true,\"ticks\":\"\",\"zerolinecolor\":\"white\",\"gridwidth\":2}},\"shapedefaults\":{\"line\":{\"color\":\"#2a3f5f\"}},\"annotationdefaults\":{\"arrowcolor\":\"#2a3f5f\",\"arrowhead\":0,\"arrowwidth\":1},\"geo\":{\"bgcolor\":\"white\",\"landcolor\":\"#E5ECF6\",\"subunitcolor\":\"white\",\"showland\":true,\"showlakes\":true,\"lakecolor\":\"white\"},\"title\":{\"x\":0.05},\"mapbox\":{\"style\":\"light\"}}},\"xaxis\":{\"anchor\":\"y\",\"domain\":[0.0,1.0],\"title\":{\"text\":\"Text Type\"}},\"yaxis\":{\"anchor\":\"x\",\"domain\":[0.0,1.0],\"title\":{\"text\":\"Source Language\"}},\"legend\":{\"title\":{\"text\":\"Model\"},\"tracegroupgap\":0,\"itemsizing\":\"constant\"},\"title\":{\"text\":\"Comparison of Translation Times Between Hugging Face and Gemini\"}},                        {\"responsive\": true}                    ).then(function(){\n",
       "                            \n",
       "var gd = document.getElementById('27ab1fbb-1793-42aa-8b01-f92b7355ce27');\n",
       "var x = new MutationObserver(function (mutations, observer) {{\n",
       "        var display = window.getComputedStyle(gd).display;\n",
       "        if (!display || display === 'none') {{\n",
       "            console.log([gd, 'removed!']);\n",
       "            Plotly.purge(gd);\n",
       "            observer.disconnect();\n",
       "        }}\n",
       "}});\n",
       "\n",
       "// Listen for the removal of the full notebook cells\n",
       "var notebookContainer = gd.closest('#notebook-container');\n",
       "if (notebookContainer) {{\n",
       "    x.observe(notebookContainer, {childList: true});\n",
       "}}\n",
       "\n",
       "// Listen for the clearing of the current output cell\n",
       "var outputEl = gd.closest('.output');\n",
       "if (outputEl) {{\n",
       "    x.observe(outputEl, {childList: true});\n",
       "}}\n",
       "\n",
       "                        })                };                });            </script>        </div>"
      ]
     },
     "metadata": {},
     "output_type": "display_data"
    }
   ],
   "source": [
    "import plotly.express as px\n",
    "\n",
    "# Combinar las traducciones de ambos modelos para la comparación global\n",
    "df_melted_model = pd.melt(df, \n",
    "                          id_vars=['Source Language', 'Target Language', 'Text Type'], \n",
    "                          value_vars=['HF Translation Time (s)', 'Gemini Translation Time (s)'], \n",
    "                          var_name='Model', \n",
    "                          value_name='Translation Time (s)')\n",
    "\n",
    "# Gráfico de burbujas para comparar ambos modelos en general\n",
    "fig3 = px.scatter(df_melted_model, \n",
    "                  x='Text Type', \n",
    "                  y='Source Language', \n",
    "                  size='Translation Time (s)', \n",
    "                  color='Model',\n",
    "                  hover_data={'Source Language': True, 'Target Language': True, 'Translation Time (s)': True},\n",
    "                  title='Comparison of Translation Times Between Hugging Face and Gemini',\n",
    "                  labels={'Translation Time (s)': 'Translation Time (s)', 'Text Type': 'Text Type', 'Source Language': 'Source Language'})\n",
    "\n",
    "fig3.update_traces(marker=dict(sizemode='area', sizeref=2.*max(df_melted_model['Translation Time (s)'])/(100.**2), line_width=2))\n",
    "fig3.show()"
   ]
  },
  {
   "cell_type": "code",
   "execution_count": 68,
   "id": "7afccdc9",
   "metadata": {},
   "outputs": [
    {
     "data": {
      "application/vnd.plotly.v1+json": {
       "config": {
        "plotlyServerURL": "https://plot.ly"
       },
       "data": [
        {
         "customdata": [
          [
           1.647064895856948
          ],
          [
           1.3468187252680461
          ],
          [
           1.2890447264625913
          ]
         ],
         "hovertemplate": "Model=%{y}<br>Text Type=%{x}<br>Average Translation Time (s)=%{customdata[0]}<extra></extra>",
         "legendgroup": "Gemini Translation Time (s)",
         "marker": {
          "color": "#636efa",
          "line": {
           "width": 2
          },
          "size": [
           1.647064895856948,
           1.3468187252680461,
           1.2890447264625913
          ],
          "sizemode": "area",
          "sizeref": 0.00038281440621330625,
          "symbol": "circle"
         },
         "mode": "markers",
         "name": "Gemini Translation Time (s)",
         "orientation": "v",
         "showlegend": true,
         "type": "scatter",
         "x": [
          "paragraph",
          "sentence",
          "word"
         ],
         "xaxis": "x",
         "y": [
          "Gemini Translation Time (s)",
          "Gemini Translation Time (s)",
          "Gemini Translation Time (s)"
         ],
         "yaxis": "y"
        },
        {
         "customdata": [
          [
           1.488944995970953
          ],
          [
           0.7463750612168085
          ],
          [
           1.9140720310665311
          ]
         ],
         "hovertemplate": "Model=%{y}<br>Text Type=%{x}<br>Average Translation Time (s)=%{customdata[0]}<extra></extra>",
         "legendgroup": "HF Translation Time (s)",
         "marker": {
          "color": "#EF553B",
          "line": {
           "width": 2
          },
          "size": [
           1.488944995970953,
           0.7463750612168085,
           1.9140720310665311
          ],
          "sizemode": "area",
          "sizeref": 0.00038281440621330625,
          "symbol": "circle"
         },
         "mode": "markers",
         "name": "HF Translation Time (s)",
         "orientation": "v",
         "showlegend": true,
         "type": "scatter",
         "x": [
          "paragraph",
          "sentence",
          "word"
         ],
         "xaxis": "x",
         "y": [
          "HF Translation Time (s)",
          "HF Translation Time (s)",
          "HF Translation Time (s)"
         ],
         "yaxis": "y"
        }
       ],
       "layout": {
        "legend": {
         "itemsizing": "constant",
         "title": {
          "text": "Model"
         },
         "tracegroupgap": 0
        },
        "template": {
         "data": {
          "bar": [
           {
            "error_x": {
             "color": "#2a3f5f"
            },
            "error_y": {
             "color": "#2a3f5f"
            },
            "marker": {
             "line": {
              "color": "#E5ECF6",
              "width": 0.5
             },
             "pattern": {
              "fillmode": "overlay",
              "size": 10,
              "solidity": 0.2
             }
            },
            "type": "bar"
           }
          ],
          "barpolar": [
           {
            "marker": {
             "line": {
              "color": "#E5ECF6",
              "width": 0.5
             },
             "pattern": {
              "fillmode": "overlay",
              "size": 10,
              "solidity": 0.2
             }
            },
            "type": "barpolar"
           }
          ],
          "carpet": [
           {
            "aaxis": {
             "endlinecolor": "#2a3f5f",
             "gridcolor": "white",
             "linecolor": "white",
             "minorgridcolor": "white",
             "startlinecolor": "#2a3f5f"
            },
            "baxis": {
             "endlinecolor": "#2a3f5f",
             "gridcolor": "white",
             "linecolor": "white",
             "minorgridcolor": "white",
             "startlinecolor": "#2a3f5f"
            },
            "type": "carpet"
           }
          ],
          "choropleth": [
           {
            "colorbar": {
             "outlinewidth": 0,
             "ticks": ""
            },
            "type": "choropleth"
           }
          ],
          "contour": [
           {
            "colorbar": {
             "outlinewidth": 0,
             "ticks": ""
            },
            "colorscale": [
             [
              0,
              "#0d0887"
             ],
             [
              0.1111111111111111,
              "#46039f"
             ],
             [
              0.2222222222222222,
              "#7201a8"
             ],
             [
              0.3333333333333333,
              "#9c179e"
             ],
             [
              0.4444444444444444,
              "#bd3786"
             ],
             [
              0.5555555555555556,
              "#d8576b"
             ],
             [
              0.6666666666666666,
              "#ed7953"
             ],
             [
              0.7777777777777778,
              "#fb9f3a"
             ],
             [
              0.8888888888888888,
              "#fdca26"
             ],
             [
              1,
              "#f0f921"
             ]
            ],
            "type": "contour"
           }
          ],
          "contourcarpet": [
           {
            "colorbar": {
             "outlinewidth": 0,
             "ticks": ""
            },
            "type": "contourcarpet"
           }
          ],
          "heatmap": [
           {
            "colorbar": {
             "outlinewidth": 0,
             "ticks": ""
            },
            "colorscale": [
             [
              0,
              "#0d0887"
             ],
             [
              0.1111111111111111,
              "#46039f"
             ],
             [
              0.2222222222222222,
              "#7201a8"
             ],
             [
              0.3333333333333333,
              "#9c179e"
             ],
             [
              0.4444444444444444,
              "#bd3786"
             ],
             [
              0.5555555555555556,
              "#d8576b"
             ],
             [
              0.6666666666666666,
              "#ed7953"
             ],
             [
              0.7777777777777778,
              "#fb9f3a"
             ],
             [
              0.8888888888888888,
              "#fdca26"
             ],
             [
              1,
              "#f0f921"
             ]
            ],
            "type": "heatmap"
           }
          ],
          "heatmapgl": [
           {
            "colorbar": {
             "outlinewidth": 0,
             "ticks": ""
            },
            "colorscale": [
             [
              0,
              "#0d0887"
             ],
             [
              0.1111111111111111,
              "#46039f"
             ],
             [
              0.2222222222222222,
              "#7201a8"
             ],
             [
              0.3333333333333333,
              "#9c179e"
             ],
             [
              0.4444444444444444,
              "#bd3786"
             ],
             [
              0.5555555555555556,
              "#d8576b"
             ],
             [
              0.6666666666666666,
              "#ed7953"
             ],
             [
              0.7777777777777778,
              "#fb9f3a"
             ],
             [
              0.8888888888888888,
              "#fdca26"
             ],
             [
              1,
              "#f0f921"
             ]
            ],
            "type": "heatmapgl"
           }
          ],
          "histogram": [
           {
            "marker": {
             "pattern": {
              "fillmode": "overlay",
              "size": 10,
              "solidity": 0.2
             }
            },
            "type": "histogram"
           }
          ],
          "histogram2d": [
           {
            "colorbar": {
             "outlinewidth": 0,
             "ticks": ""
            },
            "colorscale": [
             [
              0,
              "#0d0887"
             ],
             [
              0.1111111111111111,
              "#46039f"
             ],
             [
              0.2222222222222222,
              "#7201a8"
             ],
             [
              0.3333333333333333,
              "#9c179e"
             ],
             [
              0.4444444444444444,
              "#bd3786"
             ],
             [
              0.5555555555555556,
              "#d8576b"
             ],
             [
              0.6666666666666666,
              "#ed7953"
             ],
             [
              0.7777777777777778,
              "#fb9f3a"
             ],
             [
              0.8888888888888888,
              "#fdca26"
             ],
             [
              1,
              "#f0f921"
             ]
            ],
            "type": "histogram2d"
           }
          ],
          "histogram2dcontour": [
           {
            "colorbar": {
             "outlinewidth": 0,
             "ticks": ""
            },
            "colorscale": [
             [
              0,
              "#0d0887"
             ],
             [
              0.1111111111111111,
              "#46039f"
             ],
             [
              0.2222222222222222,
              "#7201a8"
             ],
             [
              0.3333333333333333,
              "#9c179e"
             ],
             [
              0.4444444444444444,
              "#bd3786"
             ],
             [
              0.5555555555555556,
              "#d8576b"
             ],
             [
              0.6666666666666666,
              "#ed7953"
             ],
             [
              0.7777777777777778,
              "#fb9f3a"
             ],
             [
              0.8888888888888888,
              "#fdca26"
             ],
             [
              1,
              "#f0f921"
             ]
            ],
            "type": "histogram2dcontour"
           }
          ],
          "mesh3d": [
           {
            "colorbar": {
             "outlinewidth": 0,
             "ticks": ""
            },
            "type": "mesh3d"
           }
          ],
          "parcoords": [
           {
            "line": {
             "colorbar": {
              "outlinewidth": 0,
              "ticks": ""
             }
            },
            "type": "parcoords"
           }
          ],
          "pie": [
           {
            "automargin": true,
            "type": "pie"
           }
          ],
          "scatter": [
           {
            "fillpattern": {
             "fillmode": "overlay",
             "size": 10,
             "solidity": 0.2
            },
            "type": "scatter"
           }
          ],
          "scatter3d": [
           {
            "line": {
             "colorbar": {
              "outlinewidth": 0,
              "ticks": ""
             }
            },
            "marker": {
             "colorbar": {
              "outlinewidth": 0,
              "ticks": ""
             }
            },
            "type": "scatter3d"
           }
          ],
          "scattercarpet": [
           {
            "marker": {
             "colorbar": {
              "outlinewidth": 0,
              "ticks": ""
             }
            },
            "type": "scattercarpet"
           }
          ],
          "scattergeo": [
           {
            "marker": {
             "colorbar": {
              "outlinewidth": 0,
              "ticks": ""
             }
            },
            "type": "scattergeo"
           }
          ],
          "scattergl": [
           {
            "marker": {
             "colorbar": {
              "outlinewidth": 0,
              "ticks": ""
             }
            },
            "type": "scattergl"
           }
          ],
          "scattermapbox": [
           {
            "marker": {
             "colorbar": {
              "outlinewidth": 0,
              "ticks": ""
             }
            },
            "type": "scattermapbox"
           }
          ],
          "scatterpolar": [
           {
            "marker": {
             "colorbar": {
              "outlinewidth": 0,
              "ticks": ""
             }
            },
            "type": "scatterpolar"
           }
          ],
          "scatterpolargl": [
           {
            "marker": {
             "colorbar": {
              "outlinewidth": 0,
              "ticks": ""
             }
            },
            "type": "scatterpolargl"
           }
          ],
          "scatterternary": [
           {
            "marker": {
             "colorbar": {
              "outlinewidth": 0,
              "ticks": ""
             }
            },
            "type": "scatterternary"
           }
          ],
          "surface": [
           {
            "colorbar": {
             "outlinewidth": 0,
             "ticks": ""
            },
            "colorscale": [
             [
              0,
              "#0d0887"
             ],
             [
              0.1111111111111111,
              "#46039f"
             ],
             [
              0.2222222222222222,
              "#7201a8"
             ],
             [
              0.3333333333333333,
              "#9c179e"
             ],
             [
              0.4444444444444444,
              "#bd3786"
             ],
             [
              0.5555555555555556,
              "#d8576b"
             ],
             [
              0.6666666666666666,
              "#ed7953"
             ],
             [
              0.7777777777777778,
              "#fb9f3a"
             ],
             [
              0.8888888888888888,
              "#fdca26"
             ],
             [
              1,
              "#f0f921"
             ]
            ],
            "type": "surface"
           }
          ],
          "table": [
           {
            "cells": {
             "fill": {
              "color": "#EBF0F8"
             },
             "line": {
              "color": "white"
             }
            },
            "header": {
             "fill": {
              "color": "#C8D4E3"
             },
             "line": {
              "color": "white"
             }
            },
            "type": "table"
           }
          ]
         },
         "layout": {
          "annotationdefaults": {
           "arrowcolor": "#2a3f5f",
           "arrowhead": 0,
           "arrowwidth": 1
          },
          "autotypenumbers": "strict",
          "coloraxis": {
           "colorbar": {
            "outlinewidth": 0,
            "ticks": ""
           }
          },
          "colorscale": {
           "diverging": [
            [
             0,
             "#8e0152"
            ],
            [
             0.1,
             "#c51b7d"
            ],
            [
             0.2,
             "#de77ae"
            ],
            [
             0.3,
             "#f1b6da"
            ],
            [
             0.4,
             "#fde0ef"
            ],
            [
             0.5,
             "#f7f7f7"
            ],
            [
             0.6,
             "#e6f5d0"
            ],
            [
             0.7,
             "#b8e186"
            ],
            [
             0.8,
             "#7fbc41"
            ],
            [
             0.9,
             "#4d9221"
            ],
            [
             1,
             "#276419"
            ]
           ],
           "sequential": [
            [
             0,
             "#0d0887"
            ],
            [
             0.1111111111111111,
             "#46039f"
            ],
            [
             0.2222222222222222,
             "#7201a8"
            ],
            [
             0.3333333333333333,
             "#9c179e"
            ],
            [
             0.4444444444444444,
             "#bd3786"
            ],
            [
             0.5555555555555556,
             "#d8576b"
            ],
            [
             0.6666666666666666,
             "#ed7953"
            ],
            [
             0.7777777777777778,
             "#fb9f3a"
            ],
            [
             0.8888888888888888,
             "#fdca26"
            ],
            [
             1,
             "#f0f921"
            ]
           ],
           "sequentialminus": [
            [
             0,
             "#0d0887"
            ],
            [
             0.1111111111111111,
             "#46039f"
            ],
            [
             0.2222222222222222,
             "#7201a8"
            ],
            [
             0.3333333333333333,
             "#9c179e"
            ],
            [
             0.4444444444444444,
             "#bd3786"
            ],
            [
             0.5555555555555556,
             "#d8576b"
            ],
            [
             0.6666666666666666,
             "#ed7953"
            ],
            [
             0.7777777777777778,
             "#fb9f3a"
            ],
            [
             0.8888888888888888,
             "#fdca26"
            ],
            [
             1,
             "#f0f921"
            ]
           ]
          },
          "colorway": [
           "#636efa",
           "#EF553B",
           "#00cc96",
           "#ab63fa",
           "#FFA15A",
           "#19d3f3",
           "#FF6692",
           "#B6E880",
           "#FF97FF",
           "#FECB52"
          ],
          "font": {
           "color": "#2a3f5f"
          },
          "geo": {
           "bgcolor": "white",
           "lakecolor": "white",
           "landcolor": "#E5ECF6",
           "showlakes": true,
           "showland": true,
           "subunitcolor": "white"
          },
          "hoverlabel": {
           "align": "left"
          },
          "hovermode": "closest",
          "mapbox": {
           "style": "light"
          },
          "paper_bgcolor": "white",
          "plot_bgcolor": "#E5ECF6",
          "polar": {
           "angularaxis": {
            "gridcolor": "white",
            "linecolor": "white",
            "ticks": ""
           },
           "bgcolor": "#E5ECF6",
           "radialaxis": {
            "gridcolor": "white",
            "linecolor": "white",
            "ticks": ""
           }
          },
          "scene": {
           "xaxis": {
            "backgroundcolor": "#E5ECF6",
            "gridcolor": "white",
            "gridwidth": 2,
            "linecolor": "white",
            "showbackground": true,
            "ticks": "",
            "zerolinecolor": "white"
           },
           "yaxis": {
            "backgroundcolor": "#E5ECF6",
            "gridcolor": "white",
            "gridwidth": 2,
            "linecolor": "white",
            "showbackground": true,
            "ticks": "",
            "zerolinecolor": "white"
           },
           "zaxis": {
            "backgroundcolor": "#E5ECF6",
            "gridcolor": "white",
            "gridwidth": 2,
            "linecolor": "white",
            "showbackground": true,
            "ticks": "",
            "zerolinecolor": "white"
           }
          },
          "shapedefaults": {
           "line": {
            "color": "#2a3f5f"
           }
          },
          "ternary": {
           "aaxis": {
            "gridcolor": "white",
            "linecolor": "white",
            "ticks": ""
           },
           "baxis": {
            "gridcolor": "white",
            "linecolor": "white",
            "ticks": ""
           },
           "bgcolor": "#E5ECF6",
           "caxis": {
            "gridcolor": "white",
            "linecolor": "white",
            "ticks": ""
           }
          },
          "title": {
           "x": 0.05
          },
          "xaxis": {
           "automargin": true,
           "gridcolor": "white",
           "linecolor": "white",
           "ticks": "",
           "title": {
            "standoff": 15
           },
           "zerolinecolor": "white",
           "zerolinewidth": 2
          },
          "yaxis": {
           "automargin": true,
           "gridcolor": "white",
           "linecolor": "white",
           "ticks": "",
           "title": {
            "standoff": 15
           },
           "zerolinecolor": "white",
           "zerolinewidth": 2
          }
         }
        },
        "title": {
         "text": "Average Translation Time by Model and Text Type"
        },
        "xaxis": {
         "anchor": "y",
         "domain": [
          0,
          1
         ],
         "title": {
          "text": "Text Type"
         }
        },
        "yaxis": {
         "anchor": "x",
         "categoryarray": [
          "HF Translation Time (s)",
          "Gemini Translation Time (s)"
         ],
         "categoryorder": "array",
         "domain": [
          0,
          1
         ],
         "title": {
          "text": "Model"
         }
        }
       }
      },
      "text/html": [
       "<div>                            <div id=\"0f22186a-473c-4234-9901-368cb99b3756\" class=\"plotly-graph-div\" style=\"height:525px; width:100%;\"></div>            <script type=\"text/javascript\">                require([\"plotly\"], function(Plotly) {                    window.PLOTLYENV=window.PLOTLYENV || {};                                    if (document.getElementById(\"0f22186a-473c-4234-9901-368cb99b3756\")) {                    Plotly.newPlot(                        \"0f22186a-473c-4234-9901-368cb99b3756\",                        [{\"customdata\":[[1.647064895856948],[1.3468187252680461],[1.2890447264625913]],\"hovertemplate\":\"Model=%{y}\\u003cbr\\u003eText Type=%{x}\\u003cbr\\u003eAverage Translation Time (s)=%{customdata[0]}\\u003cextra\\u003e\\u003c\\u002fextra\\u003e\",\"legendgroup\":\"Gemini Translation Time (s)\",\"marker\":{\"color\":\"#636efa\",\"size\":[1.647064895856948,1.3468187252680461,1.2890447264625913],\"sizemode\":\"area\",\"sizeref\":0.00038281440621330625,\"symbol\":\"circle\",\"line\":{\"width\":2}},\"mode\":\"markers\",\"name\":\"Gemini Translation Time (s)\",\"orientation\":\"v\",\"showlegend\":true,\"x\":[\"paragraph\",\"sentence\",\"word\"],\"xaxis\":\"x\",\"y\":[\"Gemini Translation Time (s)\",\"Gemini Translation Time (s)\",\"Gemini Translation Time (s)\"],\"yaxis\":\"y\",\"type\":\"scatter\"},{\"customdata\":[[1.488944995970953],[0.7463750612168085],[1.9140720310665311]],\"hovertemplate\":\"Model=%{y}\\u003cbr\\u003eText Type=%{x}\\u003cbr\\u003eAverage Translation Time (s)=%{customdata[0]}\\u003cextra\\u003e\\u003c\\u002fextra\\u003e\",\"legendgroup\":\"HF Translation Time (s)\",\"marker\":{\"color\":\"#EF553B\",\"size\":[1.488944995970953,0.7463750612168085,1.9140720310665311],\"sizemode\":\"area\",\"sizeref\":0.00038281440621330625,\"symbol\":\"circle\",\"line\":{\"width\":2}},\"mode\":\"markers\",\"name\":\"HF Translation Time (s)\",\"orientation\":\"v\",\"showlegend\":true,\"x\":[\"paragraph\",\"sentence\",\"word\"],\"xaxis\":\"x\",\"y\":[\"HF Translation Time (s)\",\"HF Translation Time (s)\",\"HF Translation Time (s)\"],\"yaxis\":\"y\",\"type\":\"scatter\"}],                        {\"template\":{\"data\":{\"histogram2dcontour\":[{\"type\":\"histogram2dcontour\",\"colorbar\":{\"outlinewidth\":0,\"ticks\":\"\"},\"colorscale\":[[0.0,\"#0d0887\"],[0.1111111111111111,\"#46039f\"],[0.2222222222222222,\"#7201a8\"],[0.3333333333333333,\"#9c179e\"],[0.4444444444444444,\"#bd3786\"],[0.5555555555555556,\"#d8576b\"],[0.6666666666666666,\"#ed7953\"],[0.7777777777777778,\"#fb9f3a\"],[0.8888888888888888,\"#fdca26\"],[1.0,\"#f0f921\"]]}],\"choropleth\":[{\"type\":\"choropleth\",\"colorbar\":{\"outlinewidth\":0,\"ticks\":\"\"}}],\"histogram2d\":[{\"type\":\"histogram2d\",\"colorbar\":{\"outlinewidth\":0,\"ticks\":\"\"},\"colorscale\":[[0.0,\"#0d0887\"],[0.1111111111111111,\"#46039f\"],[0.2222222222222222,\"#7201a8\"],[0.3333333333333333,\"#9c179e\"],[0.4444444444444444,\"#bd3786\"],[0.5555555555555556,\"#d8576b\"],[0.6666666666666666,\"#ed7953\"],[0.7777777777777778,\"#fb9f3a\"],[0.8888888888888888,\"#fdca26\"],[1.0,\"#f0f921\"]]}],\"heatmap\":[{\"type\":\"heatmap\",\"colorbar\":{\"outlinewidth\":0,\"ticks\":\"\"},\"colorscale\":[[0.0,\"#0d0887\"],[0.1111111111111111,\"#46039f\"],[0.2222222222222222,\"#7201a8\"],[0.3333333333333333,\"#9c179e\"],[0.4444444444444444,\"#bd3786\"],[0.5555555555555556,\"#d8576b\"],[0.6666666666666666,\"#ed7953\"],[0.7777777777777778,\"#fb9f3a\"],[0.8888888888888888,\"#fdca26\"],[1.0,\"#f0f921\"]]}],\"heatmapgl\":[{\"type\":\"heatmapgl\",\"colorbar\":{\"outlinewidth\":0,\"ticks\":\"\"},\"colorscale\":[[0.0,\"#0d0887\"],[0.1111111111111111,\"#46039f\"],[0.2222222222222222,\"#7201a8\"],[0.3333333333333333,\"#9c179e\"],[0.4444444444444444,\"#bd3786\"],[0.5555555555555556,\"#d8576b\"],[0.6666666666666666,\"#ed7953\"],[0.7777777777777778,\"#fb9f3a\"],[0.8888888888888888,\"#fdca26\"],[1.0,\"#f0f921\"]]}],\"contourcarpet\":[{\"type\":\"contourcarpet\",\"colorbar\":{\"outlinewidth\":0,\"ticks\":\"\"}}],\"contour\":[{\"type\":\"contour\",\"colorbar\":{\"outlinewidth\":0,\"ticks\":\"\"},\"colorscale\":[[0.0,\"#0d0887\"],[0.1111111111111111,\"#46039f\"],[0.2222222222222222,\"#7201a8\"],[0.3333333333333333,\"#9c179e\"],[0.4444444444444444,\"#bd3786\"],[0.5555555555555556,\"#d8576b\"],[0.6666666666666666,\"#ed7953\"],[0.7777777777777778,\"#fb9f3a\"],[0.8888888888888888,\"#fdca26\"],[1.0,\"#f0f921\"]]}],\"surface\":[{\"type\":\"surface\",\"colorbar\":{\"outlinewidth\":0,\"ticks\":\"\"},\"colorscale\":[[0.0,\"#0d0887\"],[0.1111111111111111,\"#46039f\"],[0.2222222222222222,\"#7201a8\"],[0.3333333333333333,\"#9c179e\"],[0.4444444444444444,\"#bd3786\"],[0.5555555555555556,\"#d8576b\"],[0.6666666666666666,\"#ed7953\"],[0.7777777777777778,\"#fb9f3a\"],[0.8888888888888888,\"#fdca26\"],[1.0,\"#f0f921\"]]}],\"mesh3d\":[{\"type\":\"mesh3d\",\"colorbar\":{\"outlinewidth\":0,\"ticks\":\"\"}}],\"scatter\":[{\"fillpattern\":{\"fillmode\":\"overlay\",\"size\":10,\"solidity\":0.2},\"type\":\"scatter\"}],\"parcoords\":[{\"type\":\"parcoords\",\"line\":{\"colorbar\":{\"outlinewidth\":0,\"ticks\":\"\"}}}],\"scatterpolargl\":[{\"type\":\"scatterpolargl\",\"marker\":{\"colorbar\":{\"outlinewidth\":0,\"ticks\":\"\"}}}],\"bar\":[{\"error_x\":{\"color\":\"#2a3f5f\"},\"error_y\":{\"color\":\"#2a3f5f\"},\"marker\":{\"line\":{\"color\":\"#E5ECF6\",\"width\":0.5},\"pattern\":{\"fillmode\":\"overlay\",\"size\":10,\"solidity\":0.2}},\"type\":\"bar\"}],\"scattergeo\":[{\"type\":\"scattergeo\",\"marker\":{\"colorbar\":{\"outlinewidth\":0,\"ticks\":\"\"}}}],\"scatterpolar\":[{\"type\":\"scatterpolar\",\"marker\":{\"colorbar\":{\"outlinewidth\":0,\"ticks\":\"\"}}}],\"histogram\":[{\"marker\":{\"pattern\":{\"fillmode\":\"overlay\",\"size\":10,\"solidity\":0.2}},\"type\":\"histogram\"}],\"scattergl\":[{\"type\":\"scattergl\",\"marker\":{\"colorbar\":{\"outlinewidth\":0,\"ticks\":\"\"}}}],\"scatter3d\":[{\"type\":\"scatter3d\",\"line\":{\"colorbar\":{\"outlinewidth\":0,\"ticks\":\"\"}},\"marker\":{\"colorbar\":{\"outlinewidth\":0,\"ticks\":\"\"}}}],\"scattermapbox\":[{\"type\":\"scattermapbox\",\"marker\":{\"colorbar\":{\"outlinewidth\":0,\"ticks\":\"\"}}}],\"scatterternary\":[{\"type\":\"scatterternary\",\"marker\":{\"colorbar\":{\"outlinewidth\":0,\"ticks\":\"\"}}}],\"scattercarpet\":[{\"type\":\"scattercarpet\",\"marker\":{\"colorbar\":{\"outlinewidth\":0,\"ticks\":\"\"}}}],\"carpet\":[{\"aaxis\":{\"endlinecolor\":\"#2a3f5f\",\"gridcolor\":\"white\",\"linecolor\":\"white\",\"minorgridcolor\":\"white\",\"startlinecolor\":\"#2a3f5f\"},\"baxis\":{\"endlinecolor\":\"#2a3f5f\",\"gridcolor\":\"white\",\"linecolor\":\"white\",\"minorgridcolor\":\"white\",\"startlinecolor\":\"#2a3f5f\"},\"type\":\"carpet\"}],\"table\":[{\"cells\":{\"fill\":{\"color\":\"#EBF0F8\"},\"line\":{\"color\":\"white\"}},\"header\":{\"fill\":{\"color\":\"#C8D4E3\"},\"line\":{\"color\":\"white\"}},\"type\":\"table\"}],\"barpolar\":[{\"marker\":{\"line\":{\"color\":\"#E5ECF6\",\"width\":0.5},\"pattern\":{\"fillmode\":\"overlay\",\"size\":10,\"solidity\":0.2}},\"type\":\"barpolar\"}],\"pie\":[{\"automargin\":true,\"type\":\"pie\"}]},\"layout\":{\"autotypenumbers\":\"strict\",\"colorway\":[\"#636efa\",\"#EF553B\",\"#00cc96\",\"#ab63fa\",\"#FFA15A\",\"#19d3f3\",\"#FF6692\",\"#B6E880\",\"#FF97FF\",\"#FECB52\"],\"font\":{\"color\":\"#2a3f5f\"},\"hovermode\":\"closest\",\"hoverlabel\":{\"align\":\"left\"},\"paper_bgcolor\":\"white\",\"plot_bgcolor\":\"#E5ECF6\",\"polar\":{\"bgcolor\":\"#E5ECF6\",\"angularaxis\":{\"gridcolor\":\"white\",\"linecolor\":\"white\",\"ticks\":\"\"},\"radialaxis\":{\"gridcolor\":\"white\",\"linecolor\":\"white\",\"ticks\":\"\"}},\"ternary\":{\"bgcolor\":\"#E5ECF6\",\"aaxis\":{\"gridcolor\":\"white\",\"linecolor\":\"white\",\"ticks\":\"\"},\"baxis\":{\"gridcolor\":\"white\",\"linecolor\":\"white\",\"ticks\":\"\"},\"caxis\":{\"gridcolor\":\"white\",\"linecolor\":\"white\",\"ticks\":\"\"}},\"coloraxis\":{\"colorbar\":{\"outlinewidth\":0,\"ticks\":\"\"}},\"colorscale\":{\"sequential\":[[0.0,\"#0d0887\"],[0.1111111111111111,\"#46039f\"],[0.2222222222222222,\"#7201a8\"],[0.3333333333333333,\"#9c179e\"],[0.4444444444444444,\"#bd3786\"],[0.5555555555555556,\"#d8576b\"],[0.6666666666666666,\"#ed7953\"],[0.7777777777777778,\"#fb9f3a\"],[0.8888888888888888,\"#fdca26\"],[1.0,\"#f0f921\"]],\"sequentialminus\":[[0.0,\"#0d0887\"],[0.1111111111111111,\"#46039f\"],[0.2222222222222222,\"#7201a8\"],[0.3333333333333333,\"#9c179e\"],[0.4444444444444444,\"#bd3786\"],[0.5555555555555556,\"#d8576b\"],[0.6666666666666666,\"#ed7953\"],[0.7777777777777778,\"#fb9f3a\"],[0.8888888888888888,\"#fdca26\"],[1.0,\"#f0f921\"]],\"diverging\":[[0,\"#8e0152\"],[0.1,\"#c51b7d\"],[0.2,\"#de77ae\"],[0.3,\"#f1b6da\"],[0.4,\"#fde0ef\"],[0.5,\"#f7f7f7\"],[0.6,\"#e6f5d0\"],[0.7,\"#b8e186\"],[0.8,\"#7fbc41\"],[0.9,\"#4d9221\"],[1,\"#276419\"]]},\"xaxis\":{\"gridcolor\":\"white\",\"linecolor\":\"white\",\"ticks\":\"\",\"title\":{\"standoff\":15},\"zerolinecolor\":\"white\",\"automargin\":true,\"zerolinewidth\":2},\"yaxis\":{\"gridcolor\":\"white\",\"linecolor\":\"white\",\"ticks\":\"\",\"title\":{\"standoff\":15},\"zerolinecolor\":\"white\",\"automargin\":true,\"zerolinewidth\":2},\"scene\":{\"xaxis\":{\"backgroundcolor\":\"#E5ECF6\",\"gridcolor\":\"white\",\"linecolor\":\"white\",\"showbackground\":true,\"ticks\":\"\",\"zerolinecolor\":\"white\",\"gridwidth\":2},\"yaxis\":{\"backgroundcolor\":\"#E5ECF6\",\"gridcolor\":\"white\",\"linecolor\":\"white\",\"showbackground\":true,\"ticks\":\"\",\"zerolinecolor\":\"white\",\"gridwidth\":2},\"zaxis\":{\"backgroundcolor\":\"#E5ECF6\",\"gridcolor\":\"white\",\"linecolor\":\"white\",\"showbackground\":true,\"ticks\":\"\",\"zerolinecolor\":\"white\",\"gridwidth\":2}},\"shapedefaults\":{\"line\":{\"color\":\"#2a3f5f\"}},\"annotationdefaults\":{\"arrowcolor\":\"#2a3f5f\",\"arrowhead\":0,\"arrowwidth\":1},\"geo\":{\"bgcolor\":\"white\",\"landcolor\":\"#E5ECF6\",\"subunitcolor\":\"white\",\"showland\":true,\"showlakes\":true,\"lakecolor\":\"white\"},\"title\":{\"x\":0.05},\"mapbox\":{\"style\":\"light\"}}},\"xaxis\":{\"anchor\":\"y\",\"domain\":[0.0,1.0],\"title\":{\"text\":\"Text Type\"}},\"yaxis\":{\"anchor\":\"x\",\"domain\":[0.0,1.0],\"title\":{\"text\":\"Model\"},\"categoryorder\":\"array\",\"categoryarray\":[\"HF Translation Time (s)\",\"Gemini Translation Time (s)\"]},\"legend\":{\"title\":{\"text\":\"Model\"},\"tracegroupgap\":0,\"itemsizing\":\"constant\"},\"title\":{\"text\":\"Average Translation Time by Model and Text Type\"}},                        {\"responsive\": true}                    ).then(function(){\n",
       "                            \n",
       "var gd = document.getElementById('0f22186a-473c-4234-9901-368cb99b3756');\n",
       "var x = new MutationObserver(function (mutations, observer) {{\n",
       "        var display = window.getComputedStyle(gd).display;\n",
       "        if (!display || display === 'none') {{\n",
       "            console.log([gd, 'removed!']);\n",
       "            Plotly.purge(gd);\n",
       "            observer.disconnect();\n",
       "        }}\n",
       "}});\n",
       "\n",
       "// Listen for the removal of the full notebook cells\n",
       "var notebookContainer = gd.closest('#notebook-container');\n",
       "if (notebookContainer) {{\n",
       "    x.observe(notebookContainer, {childList: true});\n",
       "}}\n",
       "\n",
       "// Listen for the clearing of the current output cell\n",
       "var outputEl = gd.closest('.output');\n",
       "if (outputEl) {{\n",
       "    x.observe(outputEl, {childList: true});\n",
       "}}\n",
       "\n",
       "                        })                };                });            </script>        </div>"
      ]
     },
     "metadata": {},
     "output_type": "display_data"
    }
   ],
   "source": [
    "import plotly.express as px\n",
    "\n",
    "# Calcular los tiempos de traducción promedio por modelo y tipo de texto\n",
    "df_avg_time = df_melted_model.groupby(['Text Type', 'Model']).agg({'Translation Time (s)': 'mean'}).reset_index()\n",
    "\n",
    "# Gráfico de burbujas para el tiempo promedio de un modelo por tipo de texto\n",
    "fig4 = px.scatter(df_avg_time, \n",
    "                  x='Text Type', \n",
    "                  y='Model', \n",
    "                  size='Translation Time (s)', \n",
    "                  color='Model',\n",
    "                  hover_data={'Text Type': True, 'Translation Time (s)': True},\n",
    "                  title='Average Translation Time by Model and Text Type',\n",
    "                  labels={'Translation Time (s)': 'Average Translation Time (s)', 'Text Type': 'Text Type', 'Model': 'Model'})\n",
    "\n",
    "fig4.update_traces(marker=dict(sizemode='area', sizeref=2.*max(df_avg_time['Translation Time (s)'])/(100.**2), line_width=2))\n",
    "fig4.show()"
   ]
  }
 ],
 "metadata": {
  "kernelspec": {
   "display_name": "Python 3 (ipykernel)",
   "language": "python",
   "name": "python3"
  },
  "language_info": {
   "codemirror_mode": {
    "name": "ipython",
    "version": 3
   },
   "file_extension": ".py",
   "mimetype": "text/x-python",
   "name": "python",
   "nbconvert_exporter": "python",
   "pygments_lexer": "ipython3",
   "version": "3.11.3"
  }
 },
 "nbformat": 4,
 "nbformat_minor": 5
}
